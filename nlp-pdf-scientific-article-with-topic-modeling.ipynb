{
 "cells": [
  {
   "cell_type": "code",
   "execution_count": 1,
   "id": "95bcc7ec",
   "metadata": {
    "_cell_guid": "b1076dfc-b9ad-4769-8c92-a6c4dae69d19",
    "_uuid": "8f2839f25d086af736a60e9eeb907d3b93b6e0e5",
    "execution": {
     "iopub.execute_input": "2022-12-14T12:46:12.777711Z",
     "iopub.status.busy": "2022-12-14T12:46:12.777201Z",
     "iopub.status.idle": "2022-12-14T12:46:12.805842Z",
     "shell.execute_reply": "2022-12-14T12:46:12.805019Z"
    },
    "papermill": {
     "duration": 0.046074,
     "end_time": "2022-12-14T12:46:12.808451",
     "exception": false,
     "start_time": "2022-12-14T12:46:12.762377",
     "status": "completed"
    },
    "tags": []
   },
   "outputs": [
    {
     "name": "stdout",
     "output_type": "stream",
     "text": [
      "/kaggle/input/article1/Diagnosis_of_Chronic_Kidney_Disease_Using_EffectiveClassification.pdf\n",
      "/kaggle/input/janatahack-independence-day-2020-ml-hackathon/sample_submission.csv\n",
      "/kaggle/input/janatahack-independence-day-2020-ml-hackathon/train.csv\n",
      "/kaggle/input/janatahack-independence-day-2020-ml-hackathon/test.csv\n"
     ]
    }
   ],
   "source": [
    "# This Python 3 environment comes with many helpful analytics libraries installed\n",
    "# It is defined by the kaggle/python Docker image: https://github.com/kaggle/docker-python\n",
    "# For example, here's several helpful packages to load\n",
    "\n",
    "import numpy as np # linear algebra\n",
    "import pandas as pd # data processing, CSV file I/O (e.g. pd.read_csv)\n",
    "\n",
    "# Input data files are available in the read-only \"../input/\" directory\n",
    "# For example, running this (by clicking run or pressing Shift+Enter) will list all files under the input directory\n",
    "\n",
    "import os\n",
    "for dirname, _, filenames in os.walk('/kaggle/input'):\n",
    "    for filename in filenames:\n",
    "        print(os.path.join(dirname, filename))\n",
    "\n",
    "# You can write up to 20GB to the current directory (/kaggle/working/) that gets preserved as output when you create a version using \"Save & Run All\" \n",
    "# You can also write temporary files to /kaggle/temp/, but they won't be saved outside of the current session"
   ]
  },
  {
   "cell_type": "markdown",
   "id": "35696d8a",
   "metadata": {
    "papermill": {
     "duration": 0.012297,
     "end_time": "2022-12-14T12:46:12.831792",
     "exception": false,
     "start_time": "2022-12-14T12:46:12.819495",
     "status": "completed"
    },
    "tags": []
   },
   "source": [
    "**Tokenization: Split the text into sentences and the sentences into words. Lowercase the words and remove punctuation.\n",
    "Words that have fewer than 3 characters are removed.\n",
    "All stopwords are removed.\n",
    "Words are lemmatized — words in third person are changed to first person and verbs in past and future tenses are changed into present.\n",
    "Words are stemmed — words are reduced to their root form.**"
   ]
  },
  {
   "cell_type": "code",
   "execution_count": 2,
   "id": "92309d14",
   "metadata": {
    "execution": {
     "iopub.execute_input": "2022-12-14T12:46:12.855550Z",
     "iopub.status.busy": "2022-12-14T12:46:12.854905Z",
     "iopub.status.idle": "2022-12-14T12:46:27.182103Z",
     "shell.execute_reply": "2022-12-14T12:46:27.181209Z"
    },
    "papermill": {
     "duration": 14.34271,
     "end_time": "2022-12-14T12:46:27.185147",
     "exception": false,
     "start_time": "2022-12-14T12:46:12.842437",
     "status": "completed"
    },
    "tags": []
   },
   "outputs": [
    {
     "name": "stdout",
     "output_type": "stream",
     "text": [
      "Collecting PyPDF2\r\n",
      "  Downloading pypdf2-2.12.1-py3-none-any.whl (222 kB)\r\n",
      "\u001b[2K     \u001b[90m━━━━━━━━━━━━━━━━━━━━━━━━━━━━━━━━━━━━━\u001b[0m \u001b[32m222.8/222.8 kB\u001b[0m \u001b[31m484.7 kB/s\u001b[0m eta \u001b[36m0:00:00\u001b[0m\r\n",
      "\u001b[?25hRequirement already satisfied: typing_extensions>=3.10.0.0 in /opt/conda/lib/python3.7/site-packages (from PyPDF2) (4.4.0)\r\n",
      "Installing collected packages: PyPDF2\r\n",
      "Successfully installed PyPDF2-2.12.1\r\n",
      "\u001b[33mWARNING: Running pip as the 'root' user can result in broken permissions and conflicting behaviour with the system package manager. It is recommended to use a virtual environment instead: https://pip.pypa.io/warnings/venv\u001b[0m\u001b[33m\r\n",
      "\u001b[0mNote: you may need to restart the kernel to use updated packages.\n"
     ]
    }
   ],
   "source": [
    "pip install PyPDF2\n"
   ]
  },
  {
   "cell_type": "code",
   "execution_count": 3,
   "id": "a09fd075",
   "metadata": {
    "execution": {
     "iopub.execute_input": "2022-12-14T12:46:27.212472Z",
     "iopub.status.busy": "2022-12-14T12:46:27.212075Z",
     "iopub.status.idle": "2022-12-14T12:46:27.318119Z",
     "shell.execute_reply": "2022-12-14T12:46:27.316947Z"
    },
    "papermill": {
     "duration": 0.122065,
     "end_time": "2022-12-14T12:46:27.320700",
     "exception": false,
     "start_time": "2022-12-14T12:46:27.198635",
     "status": "completed"
    },
    "tags": []
   },
   "outputs": [],
   "source": [
    "import PyPDF2\n",
    "f = open('/kaggle/input/article1/Diagnosis_of_Chronic_Kidney_Disease_Using_EffectiveClassification.pdf','rb')\n",
    "pdf_reader = PyPDF2.PdfFileReader(f)"
   ]
  },
  {
   "cell_type": "markdown",
   "id": "d473c388",
   "metadata": {
    "papermill": {
     "duration": 0.012225,
     "end_time": "2022-12-14T12:46:27.345364",
     "exception": false,
     "start_time": "2022-12-14T12:46:27.333139",
     "status": "completed"
    },
    "tags": []
   },
   "source": [
    "detect the number of pages in the document "
   ]
  },
  {
   "cell_type": "code",
   "execution_count": 4,
   "id": "fc4d5a6f",
   "metadata": {
    "execution": {
     "iopub.execute_input": "2022-12-14T12:46:27.370950Z",
     "iopub.status.busy": "2022-12-14T12:46:27.370505Z",
     "iopub.status.idle": "2022-12-14T12:46:27.387383Z",
     "shell.execute_reply": "2022-12-14T12:46:27.386118Z"
    },
    "papermill": {
     "duration": 0.032404,
     "end_time": "2022-12-14T12:46:27.389592",
     "exception": false,
     "start_time": "2022-12-14T12:46:27.357188",
     "status": "completed"
    },
    "tags": []
   },
   "outputs": [
    {
     "data": {
      "text/plain": [
       "10"
      ]
     },
     "execution_count": 4,
     "metadata": {},
     "output_type": "execute_result"
    }
   ],
   "source": [
    "total_pages=pdf_reader.numPages\n",
    "total_pages"
   ]
  },
  {
   "cell_type": "code",
   "execution_count": 5,
   "id": "2fa8b3ef",
   "metadata": {
    "execution": {
     "iopub.execute_input": "2022-12-14T12:46:27.415348Z",
     "iopub.status.busy": "2022-12-14T12:46:27.414952Z",
     "iopub.status.idle": "2022-12-14T12:46:27.422038Z",
     "shell.execute_reply": "2022-12-14T12:46:27.420960Z"
    },
    "papermill": {
     "duration": 0.022676,
     "end_time": "2022-12-14T12:46:27.424199",
     "exception": false,
     "start_time": "2022-12-14T12:46:27.401523",
     "status": "completed"
    },
    "tags": []
   },
   "outputs": [
    {
     "data": {
      "text/plain": [
       "<PyPDF2._page._VirtualList at 0x7f61b912dd90>"
      ]
     },
     "execution_count": 5,
     "metadata": {},
     "output_type": "execute_result"
    }
   ],
   "source": [
    "pdf_reader.pages"
   ]
  },
  {
   "cell_type": "markdown",
   "id": "c019d8f5",
   "metadata": {
    "papermill": {
     "duration": 0.011846,
     "end_time": "2022-12-14T12:46:27.448127",
     "exception": false,
     "start_time": "2022-12-14T12:46:27.436281",
     "status": "completed"
    },
    "tags": []
   },
   "source": [
    "first page contenent"
   ]
  },
  {
   "cell_type": "code",
   "execution_count": 6,
   "id": "7d7d0fef",
   "metadata": {
    "execution": {
     "iopub.execute_input": "2022-12-14T12:46:27.474865Z",
     "iopub.status.busy": "2022-12-14T12:46:27.473785Z",
     "iopub.status.idle": "2022-12-14T12:46:27.534967Z",
     "shell.execute_reply": "2022-12-14T12:46:27.533865Z"
    },
    "papermill": {
     "duration": 0.077212,
     "end_time": "2022-12-14T12:46:27.537397",
     "exception": false,
     "start_time": "2022-12-14T12:46:27.460185",
     "status": "completed"
    },
    "tags": []
   },
   "outputs": [
    {
     "name": "stdout",
     "output_type": "stream",
     "text": [
      "['Research', 'Article', 'DiagnosisofChronicKidneyDiseaseUsingEffectiveClassification', 'Algorithms', 'and', 'Recursive', 'Feature', 'Elimination', 'Techniques', 'Ebrahime', 'Mohammed', 'Senan', ',1Mosleh', 'Hmoud', 'Al-Adhaileh', ',2', 'Fawaz', 'Waselallah', 'Alsaade', ',3Theyazn', 'H.', 'H.', 'Aldhyani', ',4Ahmed', 'Abdullah', 'Alqarni', ',5', 'Nizar', 'Alsharif,6M.', 'Irfan', 'Uddin', ',7Ahmed', 'H.', 'Alahmadi', ',8Mukti', 'E', 'Jadhav,9', 'and', 'Mohammed', 'Y.', 'Alzahrani', '5', '1Department', 'of', 'Computer', 'Science', 'and', 'Information', 'Technology,', 'Dr.', 'Babasaheb', 'Ambedkar', 'Marathwada', 'University,', 'Aurangabad,', 'India', '2Deanship', 'of', 'E-learning', 'and', 'Distance', 'Education,', 'Hofuf,', 'King', 'Faial', 'University', 'Saudi', 'Arabia,', 'Hofuf,', 'Saudi', 'Arabia', '3College', 'of', 'Computer', 'Sciences', 'and', 'Information', 'Technology,', 'King', 'Faisal', 'University,', 'Hofuf,', 'Saudi', 'Arabia', '4Community', 'College', 'of', 'Abqaiq,', 'King', 'Faisal', 'University,', 'P.O.', 'Box', '400,', 'Hofuf,', 'Al-Ahsa', '31982,', 'Saudi', 'Arabia', '5Department', 'of', 'Computer', 'Sciences', 'and', 'Information', 'Technology,', 'Albaha', 'University,', 'Al', 'Bahah,', 'Saudi', 'Arabia', '6Department', 'of', 'Computer', 'Engineering', 'and', 'Science,', 'Albaha', 'University,', 'Al', 'Bahah,', 'Saudi', 'Arabia', '7Institute', 'of', 'Computing,', 'Kohat', 'University', 'of', 'Science', 'and', 'Technology,', 'Kohat,', 'Pakistan', '8Department', 'of', 'Computer', 'Science', 'and', 'Information,', 'Taibah', 'University,', 'Medina,', 'Saudi', 'Arabia', '9Shri', 'Shivaji', 'Science', 'and', 'Arts', 'College,', 'Chikhli', 'District,', 'Buldana,', 'India', 'Correspondence', 'should', 'be', 'addressed', 'to', 'Ebrahime', 'Mohammed', 'Senan;', 'senan1710@gmail.com', 'Received', '8', 'April', '2021;', 'Revised', '12', 'May', '2021;', 'Accepted', '20', 'May', '2021;', 'Published', '9', 'June', '2021', 'Academic', 'Editor:', 'Dilbag', 'Singh', 'Copyright', '©2021', 'Ebrahime', 'Mohammed', 'Senan', 'et', 'al.', 'xZ_his', 'is', 'an', 'open', 'access', 'article', 'distributed', 'under', 'the', 'Creative', 'Commons', 'Attribution', 'License,', 'which', 'permits', 'unrestricted', 'use,', 'distribution,', 'and', 'reproduction', 'in', 'any', 'medium,', 'provided', 'the', 'original', 'work', 'is', 'properly', 'cited.', 'Chronic', 'kidney', 'disease', '(CKD)', 'is', 'among', 'the', 'top', '20', 'causes', 'of', 'death', 'worldwide', 'and', 'aﬀects', 'approximately', '10%', 'of', 'the', 'world', 'adult', 'population.', 'CKD', 'is', 'a', 'disorder', 'that', 'disrupts', 'normal', 'kidney', 'function.', 'Due', 'to', 'the', 'increasing', 'number', 'of', 'people', 'with', 'CKD,', 'eﬀective', 'predictionmeasuresfortheearlydiagnosisofCKDarerequired.xZ_henoveltyofthisstudyliesindevelopingthediagnosissystemtodetect', 'chronic', 'kidney', 'diseases.', 'xZ_his', 'study', 'assists', 'experts', 'in', 'exploring', 'preventive', 'measures', 'for', 'CKD', 'through', 'early', 'diagnosis', 'using', 'machine', 'learning', 'techniques.', 'xZ_his', 'study', 'focused', 'on', 'evaluating', 'a', 'dataset', 'collected', 'from', '400', 'patients', 'containing', '24', 'features.', 'xZ_he', 'mean', 'and', 'mode', 'statistical', 'analysis', 'methods', 'were', 'used', 'to', 'replace', 'the', 'missing', 'numerical', 'and', 'the', 'nominal', 'values.', 'To', 'choose', 'the', 'most', 'important', 'features,', 'RecursiveFeatureElimination(RFE)wasapplied.Fourclassiﬁcationalgorithmsappliedinthisstudyweresupportvectormachine(SVM),', 'k-nearest', 'neighbors', '(KNN),', 'decision', 'tree,', 'and', 'random', 'forest.', 'All', 'the', 'classiﬁcation', 'algorithms', 'achieved', 'promising', 'performance.', 'xZ_he', 'random', 'forest', 'algorithmoutperformed', 'all', 'other', 'appliedalgorithms,', 'reaching', 'an', 'accuracy,precision,', 'recall,and', 'F1-score', 'of100%for', 'all', 'measures.CKDisaseriouslife-threateningdisease,withhighratesofmorbidityandmortality.xZ_herefore,artiﬁcialintelligencetechniques', 'areofgreatimportanceintheearlydetectionofCKD.xZ_hesetechniquesaresupportiveofexpertsanddoctorsinearlydiagnosistoavoid', 'developing', 'kidney', 'failure.', '1.Introduction', 'Chronic', 'kidney', 'disease', '(CKD)', 'has', 'received', 'much', 'attention', 'duetoitshighmortalityrate.Chronicdiseaseshavebecomeaconcernthreateningdevelopingcountries,accordingtotheWorld', 'Health', 'Organization', '(WHO)', '[1].', 'CKD', 'is', 'a', 'kidneydisorder', 'treatable', 'in', 'its', 'early', 'stages,', 'but', 'it', 'causes', 'kidneyfailure', 'in', 'its', 'late', 'stages.', 'In', '2016,', 'chronic', 'kidney', 'diseasecausedthedeathof753millionpeopleworldwide,wherethenumber', 'of', 'males', 'died', 'was', '336', 'million,', 'while', 'the', 'number', 'offemalesdiedwas417million[2].Itiscalled“chronic”diseasebecause', 'the', 'kidney', 'disease', 'begins', 'gradually', 'and', 'lasts', 'for', 'aHindawi', 'Journal', 'of', 'Healthcare', 'Engineering', 'Volume', '2021,', 'Article', 'ID', '1004767,', '10', 'pages', 'https://doi.org/10.1155/2021/1004767']\n"
     ]
    }
   ],
   "source": [
    "print(pdf_reader.getPage(0).extractText().split())"
   ]
  },
  {
   "cell_type": "markdown",
   "id": "6ac41592",
   "metadata": {
    "papermill": {
     "duration": 0.011833,
     "end_time": "2022-12-14T12:46:27.561434",
     "exception": false,
     "start_time": "2022-12-14T12:46:27.549601",
     "status": "completed"
    },
    "tags": []
   },
   "source": [
    "show the document contenent uncleaned "
   ]
  },
  {
   "cell_type": "code",
   "execution_count": 7,
   "id": "5c39c674",
   "metadata": {
    "execution": {
     "iopub.execute_input": "2022-12-14T12:46:27.587829Z",
     "iopub.status.busy": "2022-12-14T12:46:27.587186Z",
     "iopub.status.idle": "2022-12-14T12:46:27.993541Z",
     "shell.execute_reply": "2022-12-14T12:46:27.992402Z"
    },
    "papermill": {
     "duration": 0.425838,
     "end_time": "2022-12-14T12:46:27.999393",
     "exception": false,
     "start_time": "2022-12-14T12:46:27.573555",
     "status": "completed"
    },
    "tags": []
   },
   "outputs": [
    {
     "name": "stdout",
     "output_type": "stream",
     "text": [
      "[0, 'Research Article\\nDiagnosisofChronicKidneyDiseaseUsingEffectiveClassification\\nAlgorithms and Recursive Feature Elimination Techniques\\nEbrahime Mohammed Senan\\n ,1Mosleh Hmoud Al-Adhaileh\\n ,2\\nFawaz Waselallah Alsaade\\n ,3Theyazn H. H. Aldhyani\\n ,4Ahmed Abdullah Alqarni\\n ,5\\nNizar Alsharif,6M. Irfan Uddin\\n ,7Ahmed H. Alahmadi\\n ,8Mukti E Jadhav,9\\nand Mohammed Y. Alzahrani\\n5\\n1Department of Computer Science and Information Technology, Dr. Babasaheb Ambedkar Marathwada University,\\nAurangabad, India\\n2Deanship of E-learning and Distance Education, Hofuf, King Faial University Saudi Arabia, Hofuf, Saudi Arabia\\n3College of Computer Sciences and Information Technology, King Faisal University, Hofuf, Saudi Arabia\\n4Community College of Abqaiq, King Faisal University, P.O. Box 400, Hofuf, Al-Ahsa 31982, Saudi Arabia\\n5Department of Computer Sciences and Information Technology, Albaha University, Al Bahah, Saudi Arabia\\n6Department of Computer Engineering and Science, Albaha University, Al Bahah, Saudi Arabia\\n7Institute of Computing, Kohat University of Science and Technology, Kohat, Pakistan\\n8Department of Computer Science and Information, Taibah University, Medina, Saudi Arabia\\n9Shri Shivaji Science and Arts College, Chikhli District, Buldana, India\\nCorrespondence should be addressed to Ebrahime Mohammed Senan; senan1710@gmail.com\\nReceived 8 April 2021; Revised 12 May 2021; Accepted 20 May 2021; Published 9 June 2021\\nAcademic Editor:\\nDilbag Singh\\nCopyright ©2021 Ebrahime Mohammed Senan et al. xZ_his is an open access article distributed under the Creative Commons\\nAttribution License, which permits unrestricted use, distribution, and reproduction in any medium, provided the original work is\\nproperly cited.\\nChronic kidney disease (CKD) is among the top 20 causes of death worldwide and aﬀects approximately 10% of the world adult\\npopulation. CKD is a disorder that disrupts normal kidney function. Due to the increasing number of people with CKD, eﬀective\\npredictionmeasuresfortheearlydiagnosisofCKDarerequired.xZ_henoveltyofthisstudyliesindevelopingthediagnosissystemtodetect\\nchronic kidney diseases. xZ_his study assists experts in exploring preventive measures for CKD through early diagnosis using machine\\nlearning techniques. xZ_his study focused on evaluating a dataset collected from 400 patients containing 24 features. xZ_he mean and mode\\nstatistical analysis methods were used to replace the missing numerical and the nominal values. To choose the most important features,\\nRecursiveFeatureElimination(RFE)wasapplied.Fourclassiﬁcationalgorithmsappliedinthisstudyweresupportvectormachine(SVM),\\nk-nearest neighbors (KNN), decision tree, and random forest. All the classiﬁcation algorithms achieved promising performance. xZ_he\\nrandom forest algorithmoutperformed all other appliedalgorithms, reaching an accuracy,precision, recall,and F1-score of100%for all\\nmeasures.CKDisaseriouslife-threateningdisease,withhighratesofmorbidityandmortality.xZ_herefore,artiﬁcialintelligencetechniques\\nareofgreatimportanceintheearlydetectionofCKD.xZ_hesetechniquesaresupportiveofexpertsanddoctorsinearlydiagnosistoavoid\\ndeveloping kidney failure.\\n1.Introduction\\nChronic kidney disease (CKD) has received much attention\\nduetoitshighmortalityrate.Chronicdiseaseshavebecomeaconcernthreateningdevelopingcountries,accordingtotheWorld Health Organization (WHO) [1]. CKD is a kidneydisorder treatable in its early stages, but it causes kidneyfailure in its late stages. In 2016, chronic kidney diseasecausedthedeathof753millionpeopleworldwide,wherethenumber of males died was 336 million, while the number offemalesdiedwas417million[2].Itiscalled“chronic”diseasebecause the kidney disease begins gradually and lasts for aHindawi\\nJournal of Healthcare Engineering\\nVolume 2021, Article ID 1004767, 10 pages\\nhttps://doi.org/10.1155/2021/1004767', 'long time, which aﬀects the functioning of the urinary\\nsystem. xZ_he accumulation of waste products in the bloodleads to the emergence of other health problems, which areassociated with several symptoms such as high and lowbloodpressure,diabetes,nervedamage,andboneproblems,which lead to cardiovascular disease. Risk factors for CKD\\npatientsincludediabetes,bloodpressure,andcardiovascular\\ndisease (CVD) [3]. CKD patients suﬀer from side eﬀects,especially in the late stages, which damage the nervous andimmunesystem.Indevelopingcountries,patientsmayreachthe late stages, so they must undergo dialysis or kidneytransplantation. Medical experts determine kidney diseasethrough glomerular ﬁltration rate (GFR), which describeskidney function. GFR is based on information such as age,blood test, gender, and other factors suﬀered by the patient[4].RegardingtheGFRvalue,doctorscanclassifyCKDintoﬁve stages. Table 1 shows the diﬀerent stages of kidney\\ndisease development with GFR levels.\\nEarly diagnosis and treatment of chronic kidney\\ndisease will prevent its progression to kidney failure. xZ_he\\nbestwaytotreatchronickidneydiseaseistodiagnoseitintheearlystages,butdiscoveringitinitslatestageswillleadto kidney failure, which requires continuous dialysis orkidney transplantation to maintain a normal life. In themedical diagnosis of chronic kidney disease, two medicaltests are used to detect CKD, which are by a blood test tocheck the glomerular ﬁltrate or by a urine test to checkalbumin.Duetotheincreasingnumberofchronickidneypatients,thescarcityofspecialistphysicians,andthehigh\\ncosts of diagnosis and treatment, especially in developing\\ncountries, there is a need for computer-assisted diag-nostics to help physicians and radiologists in supportingtheir diagnostic decisions. Artiﬁcial intelligence tech-niqueshaveplayedaroleinthehealthsectorandmedicalimage processing, where machine learning and deeplearning techniques have been applied in the processes ofdisease prediction and disease diagnosis in the earlystages. Artiﬁcial intelligence (ANN) approaches haveplayedabasicroleintheearlydiagnosisofCKD.Machinelearning algorithms are used for the early diagnosis of\\nCKD.xZ_heANNandSVMalgorithmsareamongthemost\\nwidely used technologies. xZ_hese technologies have greatadvantagesindiagnosingseveralﬁelds,includingmedicaldiagnosis.xZ_heANNalgorithmworkslikehumanneurons,whichcanlearnhowtooperateonceproperlytrained,andits ability to generalize and solve future problems (testdata) [5]. However, SVM algorithm depends on experi-ence and examples to assign labels to the class. SVM al-gorithmbasicallyseparatesthedatabyalinethatachievesthe maximum distance between the class data [6]. Manyfactors aﬀect kidney performance, which induce CKD,\\nlike diabetes, blood pressure, heart disease, some kind of\\nfood, and family history. Figure 1 presents some factorsaﬀecting chronic kidney disease.\\nPujari et al. [7] presented a system for detecting the\\nstages of CKD through ultrasonography (USG) images. xZ_healgorithm works to identify ﬁbrotic cases during diﬀerentperiods. Ahmed et al. [8] proposed a fuzzy expert system todetermine whether the urinary system is good or bad.Khampariaetal.[9]studiedastackedautoencodermodeltoextract the characteristics of CKD and used Softmax toclassify the ﬁnal class. Kim et al. [10] proposed a geneticalgorithm (GA) based on neural networks in which theweight vectors were optimized by GA to train NN. xZ_hesystem surpasses traditional neural networks for CKD di-\\nagnosis.Vasquez-Moralesetal.[11]presentedamodelbased\\non neural networks to predict whether a person is at risk ofdeveloping CKD. Almansour et al. [12] diagnosed a CKDdataset using ANN and SVM algorithms. ANN and SVMreached an accuracy of 99.75% and 97.75%, respectively.Rady and Anwar [13] applied probabilistic neural networks(PNN),multilayerperceptron(MLP),SVM,andradialbasisfunction (RBF) algorithms to diagnose CKD dataset. xZ_hePNN algorithm outperformed the MLP, SVM, and RBFalgorithms. Kunwar et al. [14] applied two algo-rithms—naiveBayesandartiﬁcialneuralnetworks(ANN)—\\nto diagnose a UCI dataset for CKD. Naive Bayes algorithm\\noutperformed ANN. xZ_he accuracy of the naive Bayes al-gorithm was 100%, while the ANN accuracy was 72.73%.Wibawa et al. [15] applied correlation-based feature selec-tion(CFS) for featureselection,and AdaBoostfor ensemblelearning was applied to improve CKD diagnosis. xZ_he KNN,naive Bayes, and SVM algorithms were applied for CKDdataset diagnosis. xZ_heir system achieved the best accuracywhen implementing a hybrid between KNN with CFS andAdaBoost by 98.1%. Avci etal. [16] used WEKAsoftware todiagnosetheUCIdatasetforCKD.xZ_hedatasetwasevaluatedusing NB, K-Star, SVM, and J48 classiﬁers. xZ_he J48 algo-\\nrithm outperformed the rest of the algorithms with an ac-\\ncuracyof99%.Chiuetal.[17]builtintelligencemodelsusingneural network algorithms to classify CKD. xZ_he modelsincluded a back-propagation network (BPN), generalizedfeedforwardneuralnetworks(GRNN),andmodularneuralnetwork(MNN)fortheearlydetectionofCKD.xZ_heauthorsproposed hybrid models between the GA and the threementioned models. Shrivas et al. [18] applied the UnionBased Feature Selection Technique (UBFST) to choose themost important features. xZ_he selected features were diag-nosedbyseveraltechniquesofmachinelearning.xZ_heaimof\\nthe study was to reduce diagnostic time and obtain high\\ndiagnosticaccuracy.Kunwaretal.[14]usedArtiﬁcialNeuralNetwork (ANN) and Naive Bayes to evaluate a UCI datasetof 400 patients. xZ_he experiment was implemented withRapidMinertool.NaiveBayesreachedadiagnosticaccuracyof 100% better than ANN, which reached a diagnostic ac-curacyof72.73%.Elhosenyetal.[19]presentedasystemforhealthcare to diagnose CKD through Density Based FeatureSelection (DFS) and also a method of Ant Colony Opti-mization. DFS removes unrelated features that have weakassociation with the target feature. Abdelaziz et al. [20]\\npresentedhealthcareservice(HCS)system,applyingParallel\\nParticle Swarm Optimization (PPSO), to optimize selectionof Virtual Machines (VMs). xZ_hen, a new model with linearregression (LR) and neural network (NN) was applied toevaluatetheperformanceoftheirVMsfordiagnosingCKD.Xiong et al. [21] proposed the Las Vegas Wrapper FeatureSelection method (LVW-FS) to extract the most importantvital features. Ravizza et al. [22] applied a model to test2 JournalofHealthcareEngineering', 'diabetes related to chronic kidney disease. To reduce the\\ndimensions of high data, the Chi-Square statistical methodwas applied. xZ_he model predicts the state of the kidneythroughsomefeaturessuchasglucose,age,rateofalbumin,etc. Sara et al. [23] applied two methods, namely, HybridWrapper and Filter-Based FS (HWFFS) and Feature Se-lection (FS), to reduce the dimensions of the dataset andselect the features associated with CKD strongly. xZ_he fea-tures extracted from the two methods were then combined,and the hybrid features were classiﬁed by using SVMclassiﬁer.\\nxZ_he contribution of the current study lies in using Re-\\ncursive Feature Elimination (RFE) technique with machinelearning algorithms to develop system for detecting chronickidney diseases. xZ_he contributions of this paper are sum-marized as follows:\\n(i) We used integrated model to select the most sig-\\nniﬁcant representative features by using the Re-cursive Feature Elimination (RFE) algorithm\\n(ii) Four machine learning algorithms, namely, SVM,\\nKNN,DecisionTree,andRandomForest,wereusedto diagnose CKD with promising accuracy\\n(iii) Highlyeﬃcientmachinelearningtechniquesforthe\\ndiagnosis of chronic kidney disease can be popu-larized with the help of expert physicians\\n2.Materials and Methods\\nA series of experiments were conducted using machinelearningalgorithms:SVM,KNN,decisiontree,andrandomforest to evaluate CKD dataset. Figure 2 shows the generalstructure of CKD diagnosis in this paper. In preprocessing,the mean method was used to compute the missing nu-merical values, and the mode method was used to computethe missing nominal values. xZ_he features of importanceassociated with the features of importance for CKD diag-nosis were selected using the RFE algorithm. xZ_hese selectedfeatureswerefedintoclassiﬁersfordiseasediagnosis.Inthisstudy, four classiﬁers were applied to diagnose CKD: SVM,KNN, decision tree, and random forest. All classiﬁersshowedpromisingresultsfordiagnosingadatasetintoCKDor a normal kidney.\\n2.1. Dataset. xZ_he CKD dataset was collected from 400 pa-\\ntients from the University of California, Irvine Machine\\nLearning Repository[24]. xZ_he dataset comprises 24 featuresdividedinto11numericfeaturesand13categoricalfeatures,\\nin addition to the class features, such as “ckd” and “notckd”\\nfor classiﬁcation. Features include age, blood pressure,speciﬁcgravity,albumin,sugar,redbloodcells,puscell,puscell clumps, bacteria, blood glucose random, blood urea,serum creatinine, sodium, potassium, hemoglobin, packedcell volume, white blood cell count, red blood cell count,hypertension, diabetes mellitus, coronary artery disease,appetite, pedal edema, and anemia. xZ_he diagnostic classcontains two values: ckd and notckd. All features containedmissing values except for the diagnostic feature. xZ_he datasetisunbalancedbecauseitcontains250casesof“ckd”classby\\n62.5% and 150 cases of “notckd” by 37.5%.\\n2.2.Preprocessing. xZ_he datasetcontainedoutliersand noise,\\nso it must be cleaned up in a preprocessing stage. xZ_he\\nDiabetesFactors aﬀecting chronic\\nkidney disease\\nHigh blood\\npressure\\nHeart problems or\\nstrokeObesityFamily\\nhistorySmokingAge\\nFigure1: Factors aﬀecting chronic kidney disease.Table1: xZ_he stages of development of CKD.\\nStage DescriptionGlomerular ﬁltration rate (GFR) (mL/min/\\n1.73 m2)Treatment stage\\n1 Kidney function is normal ≥90 Observation, blood pressure control\\n2 Kidney damage is mild 60–89Observation, blood pressure control and risk\\nfactors\\n3Kidney damage is\\nmoderate30–59Observation, blood pressure control and risk\\nfactors\\n4 Kidney damage is severe 15–29 Planning for end-stage renal failure\\n5 Established kidney failure ≤15 Treatment choicesJournalofHealthcareEngineering 3', 'preprocessing stage included estimating missing values and\\neliminating noise, such as outliers, normalization, and\\nchecking of unbalanced data. Some measurements may bemissed when patients are undergoing tests, thereby causingmissing values. xZ_he dataset contained 158 completed in-stances,andtheremaininginstanceshadmissingvalues.xZ_hesimplest method to handle missing values is to ignore therecord,butitisinappropriatewithsmalldataset.Wecanusealgorithms to compute missing values instead of removingrecords. xZ_he missing values for numerical features can becomputed through one of the statistical measures, suchas mean, median, and standard deviation. However, the\\nmissing values of nominal features can be computed using\\nthe mode method, in which the missing value is replacedbythemostcommonvalueofthefeatures.Inthisstudy,themissing numerical features were replaced by the meanmethod, and a mode method was applied to replace themissing nominal features. Table 2 shows the statisticalanalysis of the dataset, such as mean and standard devi-ation; max and min were introduced for the numericalfeatures in the dataset. Table 3 shows statistical analysis ofnumerical feature. While numerical features are the valuesthat can be measured and have two types, either separate\\nor continuous.\\n2.3.FeaturesSelection. After computing the missing values,\\nidentifying the important features having a strong and\\npositive correlation with features of importance for diseasediagnosis is required. Extracting the vector features elimi-nates useless features for prediction and those that are ir-\\nrelevant, which prevents the construction of a robust\\ndiagnostic model [25]. In this study, we used the RFEmethod to extract the most important features of a pre-diction.xZ_heRecursiveFeatureElimination(RFE)algorithmisverypopular duetoitsease ofuseand conﬁgurationsandits eﬀectiveness in selecting features in training datasetsrelevant to predicting target variables and eliminating weakfeatures. xZ_he RFE method is used to select the most sig-niﬁcantfeaturesbyﬁndinghighcorrelationbetweenspeciﬁcfeatures and target (labels). Table 4 shows the mostsigniﬁcant features according to RFE; it is noted that al-\\nbumin feature has highest correction (17.99%), featured by\\n14.34%, then the packed cell volume feature by 12.91%, andthe serum creatinine feature by 12.09%. RFECV plots thenumber of features in the dataset along with a cross-vali-dated score and visualizes the selected features is presentedin Figure 3.\\n2.4.Classiﬁcation. Dataminingtechniqueshavebeenused\\nto deﬁne new and understandable patterns to construct\\nclassiﬁcationtemplates[26].Supervisedandunsupervisedlearning techniques require the construction of modelsbased on prior analysis and are used in medical andclinical diagnostics for classiﬁcation and regression [27].FourpopularmachinelearningalgorithmsusedareSVM,KNN, decision tree, and random forest, which give thebestdiagnosticresults.Machinelearningtechniquesworkto build predictive/classiﬁcation models through twostages:thetrainingphase,inwhichamodelisconstructed\\nfrom a set of training data with the expected outputs, and\\nthe validation stage, which estimates the quality of thetrained models from the validation dataset without theexpectedoutput.Allalgorithmsaresupervisedalgorithmsthat are used to solve classiﬁcation and regressionproblems.\\n2.4.1. Support Vector Machine Classiﬁer. xZ_he SVM algo-\\nrithm primarily creates a line to separate the dataset into\\nclasses, enabling it to decide the test data into whichclassesitbelongs.xZ_helineordecisionboundaryiscalledahyperplane.xZ_healgorithmworksontwotypes:linearandnonlinear.LinearSVMisusedwhenthedatasetcomprisestwo classes and is separable. When the dataset is insep-arable, a nonlinear SVM is applied, where the algorithmconverts the original coordinate area into a separablespace. xZ_here can be multiple hyperplanes, and the besthyperplane is chosen with the max margin between datapoints. xZ_he dataset closest to the hyperplane is called a\\nsupport vector.\\nDataset\\nof CKDPreprocessingFeatures\\nselection\\nEvaluation\\nperformance of CKDNot\\nCKDCKDSVM KNNDecision\\ntreeRandom\\nforestClassification\\nFigure2: xZ_he proposed system for the diagnosis of CKD.4 JournalofHealthcareEngineering', 'K X, X′ \\x00 \\U0010ff01 �exp −X−X′��������\\n2\\n2σ2⎛⎝ ⎞⎠, (1)\\nwhere X, X′are input data and ‖X−X′‖2indicates the\\nbetweenthebetweentheinputfeatures. σisafreeparameter.\\nxZ_he Radial Basis Function (RBF) was employed for classi-\\nﬁcation data.\\n2.4.2. k-Nearest Neighbour Classiﬁer. xZ_he KNN algorithm\\nworks on the similarity between new and stored data\\npoints (training points) and classiﬁes the new test pointinto the most similar class among the available classes.xZ_heKNNalgorithmisnonparametric,anditiscalledthelazy learning algorithm, meaning that it does not learnfrom the training dataset, but rather stores the trainingdataset. When classifying the new dataset (test data), itclassiﬁes the new data based on the value of k, where it\\nuses the Euclidean distance to measure the distance\\nbetween the new point and the stored training points.\\nxZ_henewpointisclassiﬁedintoaclasswiththemaximumnumber of neighbors. xZ_he Euclidean distance function(Di) was applied to ﬁnd the nearest neighbored in fea-tures vector.\\nD\\ni������������������ �\\nx1−x2 \\x00 \\U0010ff01 +y1−y2 \\x00 \\U0010ff012\\U0010ff71\\n, (2)\\nwherex1,x2,y1, andy2are variables for input data.\\n2.4.3. Decision Tree Classiﬁer. A decision tree algorithm is\\nbasedonatreestructure.xZ_herootnoderepresentstheentire\\ndataset, the internal nodes represent the features, the\\nbranches represent the decision rules, and the leaf noderepresents the outcome. A decision tree contains two typesofnodes:adecisionnode,havingadditionalbranches,andaleaf node, lacking additional branches. Decisions are per-formed following the given features. xZ_he decision treecompares the feature in the root node with the features’record (real dataset), and based on the comparison, thealgorithmtakesthedecisionandmovestothenextnode.xZ_healgorithmcomparesthefeaturesinthesecondnodewiththefeatures in the subnodes, and the process continues until it\\nreaches the leaf node.\\n2.4.4. Random Forest Classiﬁer. xZ_he random forest algo-\\nrithmworksaccordingtotheprincipleofensemblelearning\\nby combining several classiﬁers to improve model perfor-mance and solve a complex problem. By the name of the\\nalgorithm, it is a classiﬁer that contains some decision trees\\nonsubsetsofthedataset,andanaverageistakentoimprovetheprediction.Insteadofrelyingonasingledecisiontreeforthe prediction process, the random forest algorithm takespredictions from each decision tree and relies on the ma-jorityvotetomakethedecisiontopredicttheﬁnaloutcome.Table2: Statistical analysis of the dataset of numerical features.\\nFeatures MeanStandard\\ndeviationMax Min\\nAge 51.483 17.21 90 2\\nBloodglucoserandom 148.037 76.583 490 22\\nSerum creatinine 3.072 4.512 76 0.4\\nBlood pressure 76.469 13.756 180 50\\nBlood urea 57.426 49.987 391 1.5\\nPotassium 4.627 2.92 47 2.5\\nPacked cell volume 38.884 8.762 54 9\\nSodium 137.529 9.908 163 4.5\\nHemoglobin 12.526 2.815 17.8 3.1White blood cell\\ncount8406.12 2823.35 26400 2200\\nRed blood cell count 4.707 0.89 8 2.1\\nTable3: Statistical analysis of the dataset of nominal features.\\nFeatures Label Count\\nAlbumin0 245\\n1 44\\n2 43\\n3 43\\n4 24\\n5 1\\nSpeciﬁc gravity1.005 7\\n1.01 84\\n1.015 75\\n1.02 153\\n1.025 81\\nSugar0 339\\n1 13\\n2 18\\n3 14\\n4 13\\n5 3\\nPus cellNormal 324\\nAbnormal 76\\nRed blood cellsNormal 353\\nAbnormal 47\\nBacteriaPresent 22\\nNot present 378\\nPus cell clumpsPresent 42\\nNot present 358\\nDiabetes mellitusYes 137\\nNo 263\\nHypertensionYes 147\\nNo 253\\nEdemaYes 76\\nNo 324\\nCoronary artery diseaseYes 34\\nNo 366\\nAnemiaYes 60\\nNo 340\\nAppetiteGood 318\\nPoor 82JournalofHealthcareEngineering 5', 'xZ_he more tree numbers, the higher the accuracy, and this\\nprevents the overﬁtting problem. Since the algorithm con-tains some decision trees to predict the class of a dataset,some trees may predict the correct output while others maynot. xZ_herefore, there are two assumptions for the high ac-curacy of a prediction. First, the feature variable mustcontain actual values for the algorithm to predict accurateresults instead of guessing. Second, the correlation betweenthe predictions of each tree should be very low. xZ_herefore,there are two assumptions for a high accuracy of a pre-diction.First,thefeaturevariablemustcontainactualvalues\\nso that the algorithm can predict accurate results instead of\\nguessing.Second,thecorrelationbetweenthepredictionsofeach tree should be very low.\\nPseudocode of Random forest tree is as follows:\\n(i) Find the number of trees for generating, e.g., K.\\n(ii) When k(1<k<K):(iii) FeaturevectorΘ\\nKisgenerated,ΘKrepresentsinput\\ndata generated from creating tree samples\\n(iv) At this step, construct tree - h(x,ΘK)\\n(v) Employing any Decision Tree Algorithm\\n(vi) At this step, each tree casts 1 vote for class y\\n(vii) xZ_he class yis classiﬁed by choosing the class with\\nmaximum votes\\n3.Experiment Environment Setup\\nxZ_his section presents the results of the developing system.\\n3.1.Environment Setup. xZ_he system has been developed by\\nusing diﬀerent environments. Table 5 shows the environ-\\nment setup of the developing system.Table4: xZ_he importance of predictive variables in diagnosing CKD.\\nFeatures Priority ratio (%)\\nal 17.99\\nhemo 14.34\\npcv 12.91\\nsc 12.09\\nrc 7.51\\nbu 6.56\\nsg 6.08\\npcv 5.60\\nhtn 4.64\\nbgr 3.48\\ndm 3.20\\npe 1.25\\nwc 1.01\\nsod 0.92\\nrbc 0.91\\nbp 0.39\\nsu 0.35\\nappet 0.28\\nba 0.18\\nage 0.18\\ncad 0.09\\npcc 0.06\\npot 0.00\\nane 0.00\\n0.9650.9700.9750.9800.9850.9900.995Cross validation score\\n(no. of corret classifications)\\n5 1 01 52 02 5 0\\nNumber of features selected\\nFigure3: Number of features vs. cross-validated score.6 JournalofHealthcareEngineering', 'Table5: Environment setup of the proposed system.\\nResource Details\\nCPU Core i5 Gen6\\nRAM 8GB\\nGPU 4GB\\nSoftware Python\\nTable6: Splitting dataset.\\nDataset Numbers\\nTraining 300 patients\\nTesting and validation 100 patients\\nTable7: Results of diagnosing CKD using four machine learning algorithms.\\nClassiﬁers SVM KNN Decision tree Random forest\\nAccuracy % 96.67 98.33 99.17 100.00\\nPrecision % 92.00 100.00 100.00 100.00\\nRecall % 94.74 97.37 98.68 100.00\\nF1-score% 97.30 98.67 99.34 100.00\\n0.16\\n–0.19\\n0.12\\n0.22\\n0.24 0.16\\n0.19 0.200.22 –0.30 0.27\\n0.38\\n0.450.720.17\\n0.15–0.37\\n–0.31\\n0.40 0.220.14\\n0.11 0.59 0.13 –0.36\\n0.12 –0.46 –0.13 –0.27 –0.32 –0.69 0.10 0.41\\n0.08 0.13 0.22 0.07 0.36 0.33 0.06 –0.07\\n–0.31 –0.63 –0.22 –0.31 –0.61 –0.400.10\\n0.37 –0.13\\n–0.40 0.38 –0.16–0.01 0.01 –0.11–0.40 0.34 –0.160.90\\n–0.17–0.80–0.20–0.79 –0.16–0.19 0.60\\n–0.33 –0.61 –0.24 –0.30 –0.61 –0.24 0.60\\n0.03 0.23 0.18 0.15 0.05 0.12 –0.24\\n–0.26 –0.57 –0.24 –0.28 –0.58 –0.27 –0.58–0.47 0.16–0.220.9\\n0.6\\n0.3\\n0.0\\n–0.3\\n–0.6Corr\\nelations between different predictors\\nAge\\nBlood_pressure\\nSpecific_gravity\\nAlbumin\\nSugar\\nBlood_glucose_random\\nBlood_urea\\nSerum_creatinine\\nSodium\\nPotassium\\nHaemoglobin\\nPacked_cell_volume\\nWhite_blood_cell_count\\nRed_blood_cell_count\\nAge\\nBlood_pressure\\nSpecific_gravity\\nAlbumin\\nSugar\\nBlood_glucose_random\\nBlood_urea\\nSerum_creatinine\\nSodium\\nPotassium\\nHaemoglobin\\nPacked_cell_volume\\nWhite_blood_cell_count\\nRed_blood_cell_count\\nFigure4: Correlation between diﬀerent features.JournalofHealthcareEngineering 7', '3.2. Evaluation Metrics. Evaluation metrics were used to\\nevaluatetheperformanceofthefourclassiﬁers.Oneofthese\\nmeasures is through the confusion matrix, from which theaccuracy, precision, recall, and F1-score are extracted bycomputingthecorrectlyclassiﬁedsamples(TPandTN)andthe incorrectly classiﬁed samples (FP and FN), as shown inthe following equations [28]:\\naccuracy �\\nTN+TP\\nTN+TP+FN+FP∗100%, (3)\\nprecision �TP\\nTP+FP∗100%, (4)\\nrecall �TP\\nTP+FN∗100%, (5)\\nF1−score �2∗precision∗recall\\nprecision∗recall∗100, (6)where TN is True Negative, TP is True Positive, FN is FalseNegative, and FP is False Positive.\\n3.3.SplittingDataset. xZ_he dataset was divided into 75% for\\ntrainingand25fortestingandvalidation.Table6showsthe\\nsplitting data.\\n4.Results\\nxZ_he random forest algorithm classiﬁed all positive andnegative samples correctly, as positive samples were cor-rectly classiﬁed 250 samples (TP), and all negative samples(TN) were classiﬁed for 150 samples correctly. While theSVM,KNN,andDecisionTreealgorithmsratedthepositive(TP) samples by 94.74%, 97.37%, and 98.68%, respectively,that is, with an error (TN) 5.26%, 2.63%, and 1.32%, re-spectively.Table6showstheresultsobtainedfromthefourclassiﬁers. xZ_he random forest algorithm outperformed therest of the classiﬁers, reaching an accuracy, precision,Table8: Comparison of the performance of our proposed system with previous studies.\\nPrevious studies Accuracy % Precision % Recall % F1-score %\\nHore et al. [29] 92.54 85.71 96 90.56\\nVasquez-Morales et al. [11] 92 93 90 91\\nRady and Anwar [13] 95.84 84.06 93.55 88.55\\nElhoseny et al. [19] 85 88 88\\nOgunleye and Wang [30] 96.8 87 93\\nKhan et al. [31] 95.75 96.2 95.8 95.8\\nChittora et al. [32] 90.73 83.34 93 88.05\\nJongbo et al. [33] 89.2 97.72 97.8\\nHarimoorthy and xZ_hangavelu [34] 66.3 65.9 65.9\\nProposed model (random forest) 100 100 100 100\\nProposed model (decision tree) 99.34 98.68 100 99.17\\nProposed model (KNN) 98.33 100 97.37 98.67\\nProposed model (SVM) 97.3 94.74 92 96.67\\n100\\n90\\n8070605040302010\\n0\\nAccuracy %\\nPrecision %Recall %\\nF1 score %Hore et al. [22]\\nVasquez et al. [23]\\nRady et al. [24]\\nElhoseny et al. [25]\\nOgunleye [26]\\nKhan et al. [27]\\nChittora et al. [28]\\nJongbo et al. [29]\\nHarimoorthy et al.\\nProposed model (random...)\\nProposed model (decision...)\\nProposed model (KNN)\\nProposed model (SVM)\\nFigure5: Comparison of system’s performance on diagnostic accuracy in the two datasets.8 JournalofHealthcareEngineering', 'recall, and F1-score of 100% for all measures. It was fol-\\nlowed by the decision tree algorithm, which reached theaccuracy, precision, recall, and F1-score with a score of99.17%, 100%, 98.68%, and 99.34%,respectively. xZ_hen, theKNN algorithm came up with accuracy, precision, recall,and F1-score of 98.33%, 100% 97.37%, and 98.67%, re-\\nspectively.Finally,theSVMaccuracy,precision,recall,and\\nF1-score algorithm scored 96.67%, 92%, 94.74%, and97.30%, respectively.\\nxZ_heperformance oftheproposedsystemswasevaluated\\nthroughseveralpreviousrelatedstudies,asshowninTable7.It is noted that the existing studies have obtained the lowestaccuracy;theaccuracyrangesofexistingstudiesarebetween96.8% and 66.3%, while the proposed system has obtainedaccuracyof100%withrandomforesttreemethod.Finally,itis observed that the proposed has optimal results comparedwith existing systems.\\nTwenty-four numerical and nominal features were in-\\ntroducedfrom400patientswithCKD.Duetotheneglectofsome tests for some patients, some computation methodswere applied to solve this problem. To solve the missingnumerical values, mean method was used; for missingnominal values, the mode method was used. As Figure 4shows a correlation between diﬀerent features, the ﬁgureshows positive and negative correlation. xZ_here is a positivecorrelation, for example, between speciﬁc gravity with redblood cell count, packed cell volume, and hemoglobin;between sugar with blood glucose random; between bloodurea and serum creatinine; and between hemoglobin with\\nredbloodcellcountandpackedcellvolume.xZ_hereisalsoa\\nnegative correlation, for example, between albumin andblood urea with red blood cell count, packed cell volume,and hemoglobin and between serum creatinine andsodium.\\n4.1.ResultsandDiscussion. xZ_he dataset is randomly divided\\ninto75%fortrainingand25%fortestingandvalidation.xZ_he\\nRecursive Feature Elimination method was presented toselecttheirrelevantsubsetfeatures.xZ_hen,theselectfeatureswere processed by employing classiﬁers for diagnosis ofCKD. A comparative analysis between the proposed systemand existing approaches is presented in Table 8. It is notedthattheproposedsystemhasachievedpromisingresults.Wehave used RFE algorithm for ﬁnding the best relationshipsbetween each feature with the target features and works toprioritize the features and give each feature a percentage\\nbased on the correlation with the target feature. Figure 5\\ndisplays the performance of the proposed system againstexisting systems, where the accuracy in the existing systemsreached a ratio between 95.84% and 66.3%, while the ac-curacy of our systems reached between 100% by randomforest and 97.3% by SVM.\\n5.Conclusion\\nxZ_his study provided insight into the diagnosis of CKDpatients to tackle their condition and receive treatment intheearlystagesofthedisease.xZ_hedatasetwascollectedfrom400 patients containing 24 features.xZ_he dataset was dividedinto 75% training and 25% testing and validation. xZ_hedatasetwasprocessedtoremoveoutliersandreplacemissingnumerical and nominal values using mean and mode sta-tistical measures, respectively. xZ_he RFE algorithm was ap-plied to select the most strongly representative features of\\nCKD. Selected features were fed into classiﬁcation algo-\\nrithms: SVM, KNN, decision tree, and random forest. xZ_heparameters of all classiﬁers were tuned to perform the bestclassiﬁcation, so all algorithms reached promising results.xZ_he random forest algorithm outperformed all other algo-rithms,achievinganaccuracy,precision,recall,andF1-scoreof 100% for all measures. xZ_he system was examined andevaluated through multiclass statistical analysis, and theempiricalresultsofSVM,KNN,anddecisiontreealgorithmsfoundsigniﬁcantvaluesof96.67%,98.33%,and99.17%withrespect to accuracy metric.\\nData Availability\\nData were collected from UCI Machine Learning Reposi-\\ntory, School of Information and Computer Science, Uni-\\nversityofCalifornia,Irvine,CA,USA(http://archive.ics.uci.edu/ml).\\nConflicts of Interest\\nxZ_he authors declare that they have no conﬂicts of interestregarding the publication of this paper.\\nReferences\\n[1] World Health Organization, Preventing Chronic Disease: A\\nVital Investment, WHO, Geneva, Switzerland, 2005.\\n[2] B.Bikbov, N.Perico,and G.Remuzzi,“Disparitiesinchronic\\nkidney disease prevalence amongmales and females in 195\\ncountries:analysisoftheglobalburdenofdisease2016study,”\\nNephron, vol. 139, no. 4, pp. 313–318, 2018.\\n[3] Z.Chen,X.Zhang,andZ.Zhang,“Clinicalriskassessmentof\\npatientswithchronickidneydiseasebyusingclinicaldataandmultivariate models,” International Urology and Nephrology,\\nvol. 48, no. 12, pp. 2069–2075, 2016.\\n[4]Glomerular Filtration Rate (GFR), National Kidney Foun-\\ndation, New York, NY, USA, 2020, https://www.kidney.org/\\natoz/content/gfr.\\n[5] T. H. Aldhyani, A. S. Alshebami, and M. Y. Alzahrani, “Soft\\ncomputing model to predict chronic diseases,” Information\\nScience and Engineering, vol. 36, no. 2, pp. 365–376, 2020.\\n[6] T. S. Furey, N. Cristianini, N. Duﬀy, D. W. Bednarski,\\nM. Schummer, and D. Haussler, “Support vector machineclassiﬁcation and validation of cancer tissue samples using\\nmicroarray expression data,” Bioinformatics, vol. 16, no. 10,\\npp. 906–914, 2000.\\n[7] R.M.PujariandV.D.Hajare,“Analysisofultrasoundimages\\nfor identiﬁcation of Chronic Kidney Disease stages,” inProceedings of the 2014 First International Conference on\\nNetworks&SoftComputing(ICNSC2014),pp.380–383,IEEE,\\nGuntur, India, August 2014.\\n[8] S. Ahmed, M. T. Kabir, N. T. Mahmood, and R. M. Rahman,\\n“Diagnosis of kidney disease using fuzzy expert system,” in\\nProceedings of the 8th International Conference on Software,\\nKnowledge, Information Management and ApplicationsJournalofHealthcareEngineering 9', '(SKIMA 2014), pp.1–8, IEEE, Dhaka, Bangladesh, December\\n2014.\\n[9] A. Khamparia, G. Saini, B. Pandey, S. Tiwari, D. Gupta, and\\nA. Khanna, “KDSAE: chronic kidney disease classiﬁcation\\nwith multimedia data learning using deep stacked autoen-\\ncoder network,” Multimedia Tools and Applications, vol. 79,\\nno. 47-48, pp. 35425–35440, 2019.\\n[10] D. -H. Kim and S. -Y. Ye, “Classiﬁcation of chronic kidney\\ndisease in sonography using the GLCM and artiﬁcial neuralnetwork,” Diagnostics, vol. 11, no. 5, p. 864, 2021.\\n[11] G. R. Vasquez-Morales, S. M. Martinez-Monterrubio,\\nP. Moreno-Ger, and J. A. Recio-Garcia, “Explainable pre-diction of chronic renal disease in the Colombian population\\nusing neural networks and case-based reasoning,” IEEE Ac-\\ncess, vol. 7, pp. 152900–152910, 2019.\\n[12] N. A. Almansour, H. F. Syed, N. R. Khayat, R. K. Altheeb,\\nR.E.Juri,andJ.Alhiyaﬁ,“Neuralnetworkandsupportvectormachine for the prediction of chronic kidney disease: a\\ncomparative study,” Computers in Biology and Medicine,\\nvol. 109, pp. 101–111, 2019.\\n[13] E. H. A. Rady and A. S. Anwar, “Prediction of kidney disease\\nstagesusingdataminingalgorithms,” InformaticsinMedicine\\nUnlocked, vol. 15, Article ID 100178, 2019.\\n[14] V.Kunwar,K.Chandel,A.S.Sabitha,andA.Bansal,“Chronic\\nkidney disease analysis using data mining classiﬁcation\\ntechniques,” in Proceedings of the 2016 6th International\\nConference-Cloud System and Big Data Engineering (Con-ﬂuence), pp. 300–305, IEEE, Noida, India, January 2016.\\n[15] M. S. Wibawa, I. M. D. Maysanjaya, and I. M. A. W. Putra,\\n“Boosted classiﬁer and features selection for enhancing\\nchronic kidney disease diagnose,” in Proceedings of the 2017\\n5th international conference on cyber and IT service man-agement (CITSM), pp. 1–6, IEEE, Denpasar, Indonesia, Au-\\ngust 2017.\\n[16] E. Avci, S. Karakus, O. Ozmen, and D. Avci, “Performance\\ncomparison of some classiﬁers on chronic kidney disease\\ndata,”inProceedingsofthe20186thInternationalSymposium\\non Digital Forensic and Security (ISDFS), pp. 1–4, IEEE,Antalya, Turkey, March 2018.\\n[17] R. K. Chiu, R. Y. Chen, S. A. Wang, Y. C. Chang, and\\nL. C. Chen, “Intelligent systems developed for the early de-\\ntection of chronic kidney disease,” Advances in Artiﬁcial\\nNeural Systems, vol. 2013, 2013.\\n[18] A. K. Shrivas, S. K. Sahu, and H. S. Hota, “Classiﬁcation of\\nchronic kidney disease with proposed union based feature\\nselection technique,” SSRN Electronic Journal, vol. 26, 2018.\\n[19] M. Elhoseny, K. Shankar, and J. Uthayakumar, “Intelligent\\ndiagnostic prediction and classiﬁcation system for chronic\\nkidneydisease,” ScientiﬁcReports,vol.9,no.1,pp.1–14,2019.\\n[20] A. Abdelaziz, M. Elhoseny, A. S. Salama, and A. M. Riad, “A\\nmachinelearningmodelforimprovinghealthcareserviceson\\ncloud computing environment,” Measurement, vol. 119,\\npp. 117–128, 2018.\\n[21] C. Z. Xiong, M. Su, Z. Jiang, and W. Jiang, “Prediction of\\nhemodialysis timing based on LVW feature selection andensemblelearning,” JournalofMedicalSystems,vol.43,no.1,\\npp. 1–8, 2019.\\n[22] S.Ravizza,T.Huschto,A.Adamovetal.,“Predictingtheearly\\nrisk of chronic kidney disease in patients with diabetes usingreal-world data,” Nature Medicine, vol. 25, no. 1, pp. 57–59,\\n2019.\\n[23] S. B. V. Sara and K. Kalaiselvi, “Ensemble swarm behaviour\\nbased feature selection and support vector machine classiﬁerfor chronic kidney disease prediction,” International Journal\\nof Engineering & Technology, vol. 7, no. 2, p. 190, 2018.\\n[24] D. Dua and C. Graﬀ, UCI Machine Learning Repository,\\nUniversityofCalifornia,SchoolofInformationandComputer\\nScience, Irvine, CA, USA, 2019, http://archive.ics.uci.edu/ml.\\n[25] L. N. Sanchez-Pinto, L. R. Venable, J. Fahrenbach, and\\nM. M. Churpek, “Comparison of variable selection methods\\nfor clinical predictive modeling,” International Journal of\\nMedical Informatics, vol. 116, pp. 10–17, 2018.\\n[26] T. H. Aldhyani, A. S. Alshebami, and M. Y. Alzahrani, “Soft\\nclusteringforenhancingthediagnosisofchronicdiseasesover\\nmachine learning algorithms,” Healthcare Engineering,\\nvol. 16, Article ID 4984967, 2020.\\n[27] J.Joshi,R.Doshi,andJ.Patel,“Diagnosisandprognosisbreast\\ncancer using classiﬁcation rules,” International Journal of\\nEngineering Research and General Science, vol. 2, no. 6,\\npp. 315–323, 2014.\\n[28] E. M. Senan and M. E. Jadhav, “Analysis of dermoscopy\\nimagesbyusingABCDruleforearlydetectionofskincancer,”\\nGlobal Transitions Proceedings, vol. 2, no. 1, 2021.\\n[29] S. Hore, S. Chatterjee, R. K. Shaw, N. Dey, and J. Virmani,\\n“Detection of chronic kidney disease: a NN-GA-based ap-\\nproach,” in Proceedings of the Nature Inspired Computing,\\npp. 109–115, Springer, Singapore, December 2018.\\n[30] A. Ogunleye and Q. G. Wang, “XGBoost model for chronic\\nkidney disease diagnosis,” IEEE/ACM Transactions on\\nComputational Biology and Bioinformatics, vol. 17, no. 6,\\npp. 2131–2140, 2019.\\n[31] B. Khan, R. Naseem, F. Muhammad, G. Abbas, and S. Kim,\\n“An empirical evaluation of machine learning techniques for\\nchronic kidney disease prophecy,” IEEE Access, vol. 8,\\npp. 55012–55022, 2020.\\n[32] P. Chittora, S. Chaurasia, P. Chakrabarti et al., “Prediction of\\nchronickidneydisease-amachinelearningperspective,” IEEE\\nAccess, vol. 9, pp. 17312–17334, 2021.\\n[33] O. A. Jongbo, A. O. Adetunmbi, R. B. Ogunrinde, and\\nB. Badeji-Ajisafe, “Development of an ensemble approach to\\nchronic kidney disease diagnosis,” Scientiﬁc African, vol. 8,\\nArticle ID e00456, 2020.\\n[34] K. Harimoorthy and M. xZ_hangavelu, “Multi-disease predic-\\ntion model using improved SVM-radial bias technique inhealthcare monitoring system,” Journal of Ambient Intelli-\\ngence and Humanized Computing, vol. 1, 2020.10 JournalofHealthcareEngineering']\n"
     ]
    }
   ],
   "source": [
    "f = open('/kaggle/input/article1/Diagnosis_of_Chronic_Kidney_Disease_Using_EffectiveClassification.pdf','rb')\n",
    "\n",
    "# List of every page's text.\n",
    "# The index will correspond to the page number.\n",
    "pdf_text = [0]  # zero is a placehoder to make page 1 = index 1\n",
    "\n",
    "pdf_reader = PyPDF2.PdfFileReader(f)\n",
    "\n",
    "for p in range(pdf_reader.numPages):\n",
    "    \n",
    "    page = pdf_reader.getPage(p)\n",
    "    \n",
    "    pdf_text.append(page.extractText())\n",
    "\n",
    "f.close()\n",
    "\n",
    "print(pdf_text)\n"
   ]
  },
  {
   "cell_type": "code",
   "execution_count": 8,
   "id": "44336218",
   "metadata": {
    "execution": {
     "iopub.execute_input": "2022-12-14T12:46:28.032252Z",
     "iopub.status.busy": "2022-12-14T12:46:28.031514Z",
     "iopub.status.idle": "2022-12-14T12:46:28.039993Z",
     "shell.execute_reply": "2022-12-14T12:46:28.038777Z"
    },
    "papermill": {
     "duration": 0.025647,
     "end_time": "2022-12-14T12:46:28.042320",
     "exception": false,
     "start_time": "2022-12-14T12:46:28.016673",
     "status": "completed"
    },
    "tags": []
   },
   "outputs": [
    {
     "data": {
      "text/plain": [
       "{'/CreationDate': \"D:20210608191356+05'30'\",\n",
       " '/Creator': 'Aspose Ltd.',\n",
       " '/ModDate': 'D:20210609042501Z',\n",
       " '/Producer': 'Aspose.Pdf for .NET 10.1.0; modified using iTextSharp™ 5.4.0 ©2000-2012 1T3XT BVBA (AGPL-version)'}"
      ]
     },
     "execution_count": 8,
     "metadata": {},
     "output_type": "execute_result"
    }
   ],
   "source": [
    "pdf_reader.getDocumentInfo()"
   ]
  },
  {
   "cell_type": "markdown",
   "id": "2d612a03",
   "metadata": {
    "papermill": {
     "duration": 0.016003,
     "end_time": "2022-12-14T12:46:28.075418",
     "exception": false,
     "start_time": "2022-12-14T12:46:28.059415",
     "status": "completed"
    },
    "tags": []
   },
   "source": [
    "install useful libaries to clean our document, tokenize ,lemmatize "
   ]
  },
  {
   "cell_type": "code",
   "execution_count": 9,
   "id": "821dfaf5",
   "metadata": {
    "execution": {
     "iopub.execute_input": "2022-12-14T12:46:28.110958Z",
     "iopub.status.busy": "2022-12-14T12:46:28.110170Z",
     "iopub.status.idle": "2022-12-14T12:46:44.110216Z",
     "shell.execute_reply": "2022-12-14T12:46:44.109202Z"
    },
    "papermill": {
     "duration": 16.019768,
     "end_time": "2022-12-14T12:46:44.112878",
     "exception": false,
     "start_time": "2022-12-14T12:46:28.093110",
     "status": "completed"
    },
    "tags": []
   },
   "outputs": [
    {
     "name": "stdout",
     "output_type": "stream",
     "text": [
      "Collecting autocorrect\r\n",
      "  Downloading autocorrect-2.6.1.tar.gz (622 kB)\r\n",
      "\u001b[2K     \u001b[90m━━━━━━━━━━━━━━━━━━━━━━━━━━━━━━━━━━━━━\u001b[0m \u001b[32m622.8/622.8 kB\u001b[0m \u001b[31m860.4 kB/s\u001b[0m eta \u001b[36m0:00:00\u001b[0m\r\n",
      "\u001b[?25h  Preparing metadata (setup.py) ... \u001b[?25l-\b \bdone\r\n",
      "\u001b[?25hBuilding wheels for collected packages: autocorrect\r\n",
      "  Building wheel for autocorrect (setup.py) ... \u001b[?25l-\b \b\\\b \bdone\r\n",
      "\u001b[?25h  Created wheel for autocorrect: filename=autocorrect-2.6.1-py3-none-any.whl size=622382 sha256=ac85cdad56270614f017e0d347a6b687c4dcfaf9d8503adc628ef04add4fd03a\r\n",
      "  Stored in directory: /root/.cache/pip/wheels/54/d4/37/8244101ad50b0f7d9bffd93ce58ed7991ee1753b290923934b\r\n",
      "Successfully built autocorrect\r\n",
      "Installing collected packages: autocorrect\r\n",
      "Successfully installed autocorrect-2.6.1\r\n",
      "\u001b[33mWARNING: Running pip as the 'root' user can result in broken permissions and conflicting behaviour with the system package manager. It is recommended to use a virtual environment instead: https://pip.pypa.io/warnings/venv\u001b[0m\u001b[33m\r\n",
      "\u001b[0m"
     ]
    }
   ],
   "source": [
    "!pip install autocorrect\n",
    "import nltk\n",
    "import re\n",
    "import string\n",
    "from nltk.corpus import stopwords, brown\n",
    "from nltk.tokenize import word_tokenize, sent_tokenize, RegexpTokenizer\n",
    "from nltk.stem import WordNetLemmatizer\n",
    "from autocorrect import spell"
   ]
  },
  {
   "cell_type": "markdown",
   "id": "4bfa35dd",
   "metadata": {
    "papermill": {
     "duration": 0.0138,
     "end_time": "2022-12-14T12:46:44.141313",
     "exception": false,
     "start_time": "2022-12-14T12:46:44.127513",
     "status": "completed"
    },
    "tags": []
   },
   "source": [
    "extract text"
   ]
  },
  {
   "cell_type": "code",
   "execution_count": 10,
   "id": "616a0e6b",
   "metadata": {
    "execution": {
     "iopub.execute_input": "2022-12-14T12:46:44.171759Z",
     "iopub.status.busy": "2022-12-14T12:46:44.171285Z",
     "iopub.status.idle": "2022-12-14T12:46:44.535256Z",
     "shell.execute_reply": "2022-12-14T12:46:44.533996Z"
    },
    "papermill": {
     "duration": 0.382625,
     "end_time": "2022-12-14T12:46:44.538085",
     "exception": false,
     "start_time": "2022-12-14T12:46:44.155460",
     "status": "completed"
    },
    "tags": []
   },
   "outputs": [],
   "source": [
    "\n",
    "count = 0\n",
    "text  = ''\n",
    "\n",
    "# Lets loop through, to read each page from the pdf file\n",
    "while(count < total_pages):\n",
    "    # Get the specified number of pages in the document\n",
    "    mani_page  = pdf_reader.getPage(count)\n",
    "    # Process the next page\n",
    "    count += 1\n",
    "    # Extract the text from the page\n",
    "    text += mani_page.extractText()\n",
    "    \n"
   ]
  },
  {
   "cell_type": "code",
   "execution_count": 11,
   "id": "6e1410b6",
   "metadata": {
    "execution": {
     "iopub.execute_input": "2022-12-14T12:46:44.568456Z",
     "iopub.status.busy": "2022-12-14T12:46:44.568040Z",
     "iopub.status.idle": "2022-12-14T12:46:44.573704Z",
     "shell.execute_reply": "2022-12-14T12:46:44.572746Z"
    },
    "papermill": {
     "duration": 0.023505,
     "end_time": "2022-12-14T12:46:44.576149",
     "exception": false,
     "start_time": "2022-12-14T12:46:44.552644",
     "status": "completed"
    },
    "tags": []
   },
   "outputs": [],
   "source": [
    "if text != '':\n",
    "    text = text\n",
    "    \n",
    "else:\n",
    "    textract.process(open_filename, method='tesseract', encoding='utf-8', langauge='eng' ) \n"
   ]
  },
  {
   "cell_type": "markdown",
   "id": "e2e1fe45",
   "metadata": {
    "papermill": {
     "duration": 0.013848,
     "end_time": "2022-12-14T12:46:44.604210",
     "exception": false,
     "start_time": "2022-12-14T12:46:44.590362",
     "status": "completed"
    },
    "tags": []
   },
   "source": [
    "converting to lowercase"
   ]
  },
  {
   "cell_type": "code",
   "execution_count": 12,
   "id": "e94594dc",
   "metadata": {
    "execution": {
     "iopub.execute_input": "2022-12-14T12:46:44.634499Z",
     "iopub.status.busy": "2022-12-14T12:46:44.634075Z",
     "iopub.status.idle": "2022-12-14T12:54:20.870328Z",
     "shell.execute_reply": "2022-12-14T12:54:20.869240Z"
    },
    "papermill": {
     "duration": 456.254756,
     "end_time": "2022-12-14T12:54:20.873092",
     "exception": false,
     "start_time": "2022-12-14T12:46:44.618336",
     "status": "completed"
    },
    "tags": []
   },
   "outputs": [],
   "source": [
    "from autocorrect import Speller\n",
    "from nltk.tokenize import word_tokenize\n",
    "\n",
    "\n",
    "def to_lower(text):\n",
    "\n",
    "    \"\"\"\n",
    "    Converting text to lower case as in, converting \"Hello\" to  \"hello\" or \"HELLO\" to \"hello\".\n",
    "    \"\"\"\n",
    "    \n",
    "    # Specll check the words\n",
    "    spell  = Speller(lang='en')\n",
    "    \n",
    "    texts = spell(text)\n",
    "    \n",
    "    return ' '.join([w.lower() for w in word_tokenize(text)])\n",
    "\n",
    "lower_case = to_lower(text)\n"
   ]
  },
  {
   "cell_type": "markdown",
   "id": "36933ae4",
   "metadata": {
    "papermill": {
     "duration": 0.013896,
     "end_time": "2022-12-14T12:54:20.902129",
     "exception": false,
     "start_time": "2022-12-14T12:54:20.888233",
     "status": "completed"
    },
    "tags": []
   },
   "source": [
    "clean the text using tokenize(Tokenization: Split the text into sentences and the sentences into words) then Lowercase the words and remove punctuation. All stopwords are removed. "
   ]
  },
  {
   "cell_type": "code",
   "execution_count": 13,
   "id": "794ba133",
   "metadata": {
    "execution": {
     "iopub.execute_input": "2022-12-14T12:54:20.932285Z",
     "iopub.status.busy": "2022-12-14T12:54:20.931828Z",
     "iopub.status.idle": "2022-12-14T12:54:20.941381Z",
     "shell.execute_reply": "2022-12-14T12:54:20.940096Z"
    },
    "papermill": {
     "duration": 0.027253,
     "end_time": "2022-12-14T12:54:20.943572",
     "exception": false,
     "start_time": "2022-12-14T12:54:20.916319",
     "status": "completed"
    },
    "tags": []
   },
   "outputs": [],
   "source": [
    "def clean_text(lower_case):\n",
    "    # split text phrases into words\n",
    "    words  = nltk.word_tokenize(lower_case)\n",
    "    \n",
    "    \n",
    "    # Create a list of all the punctuations we wish to remove\n",
    "    punctuations = ['.', ',', '/', '!', '?', ';', ':', '(',')', '[',']', '-', '_', '%']\n",
    "    \n",
    "    # Remove all the special characters\n",
    "    punctuations = re.sub(r'\\W', ' ', str(lower_case))\n",
    "    \n",
    "    # Initialize the stopwords variable, which is a list of words ('and', 'the', 'i', 'yourself', 'is') that do not hold much values as key words\n",
    "    stop_words  = stopwords.words('english')\n",
    "    \n",
    "    # Getting rid of all the words that contain numbers in them\n",
    "    w_num = re.sub('\\w*\\d\\w*', '', lower_case).strip()\n",
    "    \n",
    "    # remove all single characters\n",
    "    lower_case = re.sub(r'\\s+[a-zA-Z]\\s+', ' ', lower_case)\n",
    "    \n",
    "    # Substituting multiple spaces with single space\n",
    "    lower_case = re.sub(r'\\s+', ' ', lower_case, flags=re.I)\n",
    "    \n",
    "    # Removing prefixed 'b'\n",
    "    lower_case = re.sub(r'^b\\s+', '', lower_case)\n",
    "    \n",
    "    \n",
    "    \n",
    "    # Removing non-english characters\n",
    "    lower_case = re.sub(r'^b\\s+', '', lower_case)\n",
    "    \n",
    "    # Return keywords which are not in stop words \n",
    "    keywords = [word for word in words if not word in stop_words  and word in punctuations and  word in w_num]\n",
    "    \n",
    "    return keywords\n"
   ]
  },
  {
   "cell_type": "markdown",
   "id": "e5609dfe",
   "metadata": {
    "papermill": {
     "duration": 0.013696,
     "end_time": "2022-12-14T12:54:20.971243",
     "exception": false,
     "start_time": "2022-12-14T12:54:20.957547",
     "status": "completed"
    },
    "tags": []
   },
   "source": [
    "Words are lemmatized — words in third person are changed to first person and verbs in past and future tenses are changed into present. Words are stemmed — words are reduced to their root form."
   ]
  },
  {
   "cell_type": "code",
   "execution_count": 14,
   "id": "e4ff3abc",
   "metadata": {
    "execution": {
     "iopub.execute_input": "2022-12-14T12:54:21.001851Z",
     "iopub.status.busy": "2022-12-14T12:54:21.001296Z",
     "iopub.status.idle": "2022-12-14T12:54:21.709477Z",
     "shell.execute_reply": "2022-12-14T12:54:21.708440Z"
    },
    "papermill": {
     "duration": 0.726969,
     "end_time": "2022-12-14T12:54:21.712563",
     "exception": false,
     "start_time": "2022-12-14T12:54:20.985594",
     "status": "completed"
    },
    "tags": []
   },
   "outputs": [
    {
     "name": "stderr",
     "output_type": "stream",
     "text": [
      "[nltk_data] Downloading package omw-1.4 to /usr/share/nltk_data...\n"
     ]
    }
   ],
   "source": [
    "nltk.download('omw-1.4')\n",
    "# Lemmatize the words\n",
    "wordnet_lemmatizer = WordNetLemmatizer()\n",
    "\n"
   ]
  },
  {
   "cell_type": "code",
   "execution_count": 15,
   "id": "f441deec",
   "metadata": {
    "execution": {
     "iopub.execute_input": "2022-12-14T12:54:21.743016Z",
     "iopub.status.busy": "2022-12-14T12:54:21.742564Z",
     "iopub.status.idle": "2022-12-14T12:54:23.881428Z",
     "shell.execute_reply": "2022-12-14T12:54:23.880623Z"
    },
    "papermill": {
     "duration": 2.157413,
     "end_time": "2022-12-14T12:54:23.884408",
     "exception": false,
     "start_time": "2022-12-14T12:54:21.726995",
     "status": "completed"
    },
    "tags": []
   },
   "outputs": [
    {
     "name": "stdout",
     "output_type": "stream",
     "text": [
      "research article diagnosisofchronickidneydiseaseusingeffectiveclassification algorithm recursive feature elimination technique ebrahime mohammed senan hmoud fawaz waselallah alsaade aldhyani abdullah alqarni nizar irfan uddin alahmadi e mohammed alzahrani computer science information technology babasaheb ambedkar marathwada university aurangabad india distance education hofuf king faial university saudi arabia hofuf saudi arabia computer science information technology king faisal university hofuf saudi arabia college abqaiq king faisal university box hofuf saudi arabia computer science information technology albaha university al bahah saudi arabia computer engineering science albaha university al bahah saudi arabia computing kohat university science technology kohat pakistan computer science information taibah university medina saudi arabia shivaji science art college chikhli district buldana india correspondence addressed ebrahime mohammed senan received april revised may accepted may published june academic editor dilbag singh copyright ebrahime mohammed senan et al this open access article distributed creative common attribution license permit unrestricted use distribution reproduction medium provided original work properly cited chronic kidney disease ckd among top cause death worldwide aﬀects approximately world adult population ckd disorder disrupts normal kidney function due increasing number people ckd eﬀective chronic kidney disease this study assist expert exploring preventive measure ckd early diagnosis using machine learning technique this study focused evaluating dataset collected patient containing feature the mean mode statistical analysis method used replace missing numerical nominal value choose important feature recursivefeatureelimination rfe svm neighbor knn decision tree random forest classiﬁcation algorithm achieved promising performance the random forest algorithmoutperformed appliedalgorithms reaching accuracy precision recall artiﬁcialintelligencetechniques developing kidney failure chronic kidney disease ckd received much attention accordingtotheworld health organization ckd kidneydisorder treatable early stage cause kidneyfailure late stage chronic kidney wherethenumber male died million number chronic diseasebecause kidney disease begin gradually last ahindawi journal healthcare engineering volume article id page http time aﬀects functioning urinary system the accumulation waste product bloodleads emergence health problem areassociated several symptom high lowbloodpressure diabetes nervedamage andboneproblems lead cardiovascular disease risk factor ckd patientsincludediabetes bloodpressure andcardiovascular disease cvd ckd patient suﬀer side eﬀects especially late stage damage nervous patientsmayreachthe late stage must undergo dialysis kidneytransplantation medical expert determine kidney diseasethrough glomerular ﬁltration rate gfr describeskidney function gfr based information age blood test gender factor suﬀered patient doctorscanclassifyckdintoﬁve stage table show diﬀerent stage kidney disease development gfr level early diagnosis treatment chronic kidney disease prevent progression kidney failure the bestwaytotreatchronickidneydiseaseistodiagnoseitintheearlystages butdiscoveringitinitslatestageswillleadto kidney failure requires continuous dialysis orkidney transplantation maintain normal life themedical diagnosis chronic kidney disease two medicaltests used detect ckd blood test tocheck glomerular ﬁltrate urine test thescarcityofspecialistphysicians andthehigh cost diagnosis treatment especially developing country need help physician radiologist supportingtheir diagnostic decision artiﬁcial intelligence processing machine learning deeplearning technique applied process ofdisease prediction disease diagnosis earlystages artiﬁcial intelligence ann approach algorithm used early diagnosis widely used technology these technology greatadvantagesindiagnosingseveralﬁelds whichcanlearnhowtooperateonceproperlytrained andits ability generalize solve future problem testdata however svm algorithm depends example assign label class svm maximum distance class data manyfactors aﬀect kidney performance induce ckd like diabetes blood pressure heart disease kind food family history figure present factorsaﬀecting chronic kidney disease pujari et al presented system detecting stage ckd ultrasonography usg image thealgorithm work identify ﬁbrotic case diﬀerentperiods ahmed et al proposed fuzzy expert system todetermine whether urinary system good studiedastackedautoencodermodeltoextract characteristic ckd used softmax toclassify ﬁnal class kim et al proposed geneticalgorithm ga based neural network theweight vector optimized ga train nn thesystem surpasses traditional neural network ckd presentedamodelbased neural network predict whether person risk ofdeveloping ckd almansour et al diagnosed ckddataset using ann svm algorithm ann svmreached accuracy anwar applied probabilistic neural network pnn multilayerperceptron mlp svm andradialbasisfunction rbf algorithm diagnose ckd dataset thepnn algorithm outperformed mlp svm rbfalgorithms kunwar et al applied two ann diagnose uci dataset ckd naive bayes algorithm outperformed ann the accuracy naive bayes ann accuracy et al applied feature cf featureselection adaboostfor ensemblelearning applied improve ckd diagnosis the knn naive bayes svm algorithm applied ckddataset diagnosis their system achieved best accuracywhen implementing hybrid knn cf andadaboost avci etal used wekasoftware nb svm classiﬁers the rithm outperformed rest algorithm builtintelligencemodelsusingneural network algorithm classify ckd the modelsincluded network bpn generalizedfeedforwardneuralnetworks grnn andmodularneuralnetwork mnn hybrid model ga threementioned model shrivas et al applied unionbased feature selection technique ubfst choose themost important feature the selected feature study reduce diagnostic time obtain high usedartiﬁcialneuralnetwork ann naive bayes evaluate uci datasetof patient the experiment implemented better ann reached diagnostic presentedasystemforhealthcare diagnose ckd density based featureselection dfs also method ant colony dfs remove unrelated feature weakassociation target feature abdelaziz et al presentedhealthcareservice hcs system applyingparallel particle swarm optimization ppso optimize selectionof virtual machine vms then new model linearregression lr neural network nn applied et al proposed la vega wrapper featureselection method extract importantvital feature ravizza et al applied model journalofhealthcareengineeringdiabetes related chronic kidney disease reduce dimension high data statistical methodwas applied the model predicts state kidneythroughsomefeaturessuchasglucose age rateofalbumin etc sara et al applied two method namely hybridwrapper f hwffs feature f reduce dimension dataset andselect feature associated ckd strongly the extracted two method combined hybrid feature classiﬁed using svmclassiﬁer the contribution current study lie using cursive feature elimination rfe technique machinelearning algorithm develop system detecting chronickidney disease the contribution paper follows used integrated model select niﬁcant representative feature using feature elimination rfe algorithm ii four machine learning algorithm namely svm knn decisiontree andrandomforest wereusedto diagnose ckd promising accuracy iii highlyeﬃcientmachinelearningtechniquesforthe diagnosis chronic kidney disease help expert physician method series experiment conducted using machinelearningalgorithms svm knn decisiontree andrandomforest evaluate ckd dataset figure show generalstructure ckd diagnosis paper preprocessing mean method used compute missing value mode method used computethe missing nominal value the feature importanceassociated feature importance ckd selected using rfe algorithm these four classiﬁers applied diagnose ckd svm knn decision tree random forest classiﬁersshowedpromisingresultsfordiagnosingadatasetintockdor normal kidney dataset the ckd dataset collected tients university california irvine machine learning repository the dataset comprises addition class feature ckd notckd classiﬁcation feature include age blood pressure speciﬁcgravity albumin sugar redbloodcells puscell puscell clump bacteria blood glucose random blood urea serum creatinine sodium potassium hemoglobin packedcell volume white blood cell count red blood cell count hypertension diabetes mellitus coronary artery disease appetite pedal edema anemia the diagnostic classcontains two value ckd notckd feature containedmissing value except diagnostic feature the ckd classby case notckd the datasetcontainedoutliersand noise must cleaned preprocessing stage the diabetesfactors aﬀecting chronic kidney disease high blood pressure heart problem strokeobesityfamily historysmokingage factor aﬀecting chronic kidney the stage development ckd stage descriptionglomerular ﬁltration rate gfr treatment stage kidney function normal observation blood pressure control kidney damage mild blood pressure control risk factor damage blood pressure control risk factor kidney damage severe planning renal failure established kidney failure treatment choicesjournalofhealthcareengineering stage included estimating missing value eliminating noise outlier normalization checking unbalanced data measurement may bemissed patient undergoing test thereby causingmissing value the dataset contained completed method handle missing value ignore therecord compute missing value instead removingrecords the missing value numerical feature becomputed one statistical measure suchas mean median standard deviation however missing value nominal feature computed using mode method missing value themissing numerical feature replaced meanmethod mode method applied replace themissing nominal feature table show statisticalanalysis dataset mean standard max min introduced numericalfeatures dataset table show statistical analysis ofnumerical feature numerical feature valuesthat measured two type either separate continuous computing missing value identifying important feature strong positive correlation feature importance diseasediagnosis required extracting vector feature useless feature prediction relevant prevents construction robust diagnostic model study used rfemethod extract important feature rfe algorithmisverypopular duetoitsease ofuseand conﬁgurationsandits eﬀectiveness selecting feature training datasetsrelevant predicting target variable eliminating weakfeatures the rfe method used select target label table show mostsigniﬁcant feature according rfe noted bumin feature highest correction featured packed cell volume feature andthe serum creatinine feature rfecv plot thenumber feature dataset along score visualizes selected feature presentedin figure dataminingtechniqueshavebeenused deﬁne new understandable pattern construct classiﬁcationtemplates technique require construction modelsbased prior analysis used medical andclinical diagnostics classiﬁcation regression knn decision tree random forest give build model twostages thetrainingphase inwhichamodelisconstructed set training data expected output validation stage estimate quality thetrained model validation dataset without used solve classiﬁcation regressionproblems support vector machine classiﬁer the svm rithm primarily creates line separate dataset class enabling decide test data class separable dataset nonlinear svm applied algorithmconverts original coordinate area separablespace there multiple hyperplanes besthyperplane chosen max margin datapoints the dataset closest hyperplane called support vector dataset ckdpreprocessingfeatures selection evaluation performance ckdnot ckdckdsvm knndecision treerandom forestclassification the proposed system diagnosis journalofhealthcareengineeringk x x input data betweenthebetweentheinputfeatures σisafreeparameter the radial basis function rbf employed ﬁcation data neighbour classiﬁer the knn algorithm work similarity new stored data point training point classiﬁes new test pointinto similar class among available anditiscalledthelazy learning algorithm meaning learnfrom training dataset rather store trainingdataset classifying new dataset test data itclassiﬁes new data based value k us euclidean distance measure distance new point stored training point thenewpointisclassiﬁedintoaclasswiththemaximumnumber neighbor the euclidean distance function di applied ﬁnd nearest neighbored vector variable input data decision tree classiﬁer decision tree algorithm dataset internal node represent feature branch represent decision rule leaf noderepresents outcome decision tree contains two typesofnodes adecisionnode havingadditionalbranches andaleaf node lacking additional branch decision following given feature the decision treecompares feature root node feature record real dataset based comparison subnodes process continues reach leaf node random forest classiﬁer the random forest rithmworksaccordingtotheprincipleofensemblelearning combining several classiﬁers improve model solve complex problem name algorithm classiﬁer contains decision tree onsubsetsofthedataset prediction process random forest algorithm takespredictions decision tree relies statistical analysis dataset numerical feature feature meanstandard deviationmax min age bloodglucoserandom serum creatinine blood pressure blood urea potassium packed cell volume sodium hemoglobin blood cell red blood cell count statistical analysis dataset nominal feature feature label count speciﬁc pu cellnormal abnormal red blood cellsnormal abnormal bacteriapresent present pu cell clumpspresent present diabetes mellitusyes hypertensionyes edemayes coronary artery diseaseyes anemiayes appetitegood poor tree number higher accuracy prevents overﬁtting problem since algorithm decision tree predict class dataset tree may predict correct output others maynot therefore two assumption high prediction first feature variable mustcontain actual value algorithm predict accurateresults instead guessing second correlation betweenthe prediction tree low therefore two assumption high accuracy thefeaturevariablemustcontainactualvalues algorithm predict accurate result instead thecorrelationbetweenthepredictionsofeach tree low pseudocode random forest tree follows find number tree generating ii k k k iii featurevectorθ kisgenerated θkrepresentsinput data generated creating tree sample iv step construct tree h x θk v employing decision tree algorithm vi step tree cast vote class vii the class yi classiﬁed choosing class maximum vote environment setup this section present result developing system setup the system developed using diﬀerent environment table show ment setup developing the importance predictive variable diagnosing ckd feature priority ratio al hemo pcv sc rc bu sg pcv htn bgr dm pe wc sod rbc bp su appet ba age cad pcc pot ane validation score corret classification number feature selected number feature environment setup proposed system resource detail cpu core ram gpu software python splitting dataset dataset number training patient testing validation patient result diagnosing ckd using four machine learning algorithm classiﬁers svm knn decision tree random forest accuracy precision recall elation different predictor age blood_pressure specific_gravity albumin sugar blood_glucose_random blood_urea serum_creatinine sodium potassium haemoglobin packed_cell_volume white_blood_cell_count red_blood_cell_count age blood_pressure specific_gravity albumin sugar blood_glucose_random blood_urea serum_creatinine sodium potassium haemoglobin packed_cell_volume white_blood_cell_count red_blood_cell_count correlation diﬀerent evaluation metric evaluation metric used measure confusion matrix theaccuracy precision recall extracted bycomputingthecorrectlyclassiﬁedsamples tpandtn andthe incorrectly classiﬁed sample fp fn shown inthe following equation accuracy precision recall tn true negative tp true positive fn falsenegative fp false positive the dataset divided splitting data the random forest algorithm classiﬁed positive andnegative sample correctly positive sample classiﬁed sample tp negative sample tn classiﬁed sample correctly thesvm knn anddecisiontreealgorithmsratedthepositive tp sample respectively error tn the random forest algorithm outperformed therest classiﬁers reaching accuracy precision comparison performance proposed system previous study previous study accuracy precision recall hore et al et al rady anwar elhoseny et al ogunleye wang khan et al chittora et al jongbo et al harimoorthy thangavelu proposed model random forest proposed model decision tree proposed model knn proposed model svm accuracy precision recall score hore et al vasquez et al rady et al elhoseny et al ogunleye khan et al chittora et al jongbo et al harimoorthy et al proposed model random proposed model decision proposed model knn proposed model svm comparison system performance diagnostic accuracy two journalofhealthcareengineeringrecall measure lowed decision tree algorithm reached theaccuracy precision recall score respectively then theknn algorithm came accuracy precision recall thesvmaccuracy precision recall algorithm scored respectively theperformance oftheproposedsystemswasevaluated throughseveralpreviousrelatedstudies noted existing study obtained lowestaccuracy proposed system itis observed proposed optimal result comparedwith existing system numerical nominal feature test patient computation methodswere applied solve problem solve missingnumerical value mean method used missingnominal value mode method used figure correlation diﬀerent feature ﬁgureshows positive negative correlation there positivecorrelation example speciﬁc gravity redblood cell count packed cell volume hemoglobin sugar blood glucose random bloodurea serum creatinine hemoglobin negative correlation example albumin andblood urea red blood cell count packed cell volume hemoglobin serum creatinine andsodium the dataset randomly divided recursive feature elimination method presented theselectfeatureswere processed employing classiﬁers diagnosis ofckd comparative analysis proposed systemand existing approach presented table used rfe algorithm ﬁnding best relationshipsbetween feature target feature work toprioritize feature give feature percentage based correlation target feature figure display performance proposed system againstexisting system accuracy existing systemsreached ratio system reached randomforest svm this study provided insight diagnosis ckdpatients tackle condition receive treatment patient containing dataset dividedinto training testing validation thedatasetwasprocessedtoremoveoutliersandreplacemissingnumerical nominal value using mean mode measure respectively the rfe algorithm select strongly representative feature ckd selected feature fed classiﬁcation rithms svm knn decision tree random forest theparameters classiﬁers tuned perform bestclassiﬁcation algorithm reached promising random forest algorithm outperformed achievinganaccuracy precision recall measure the system examined andevaluated multiclass statistical analysis theempiricalresultsofsvm knn withrespect accuracy metric data availability data collected uci machine learning tory school information computer science versityofcalifornia irvine ca usa http conflict interest the author declare conﬂicts interestregarding publication paper reference world health organization preventing chronic disease vital investment geneva switzerland disparitiesinchronic kidney disease prevalence amongmales female country nephron vol pp clinicalriskassessmentof patientswithchronickidneydiseasebyusingclinicaldataandmultivariate model international urology nephrology vol pp glomerular filtration rate gfr national kidney dation new york ny usa http aldhyani alshebami alzahrani soft computing model predict chronic disease information science engineering vol pp furey cristianini duﬀy bednarski schummer haussler support vector machineclassiﬁcation validation cancer tissue sample using microarray expression data bioinformatics vol pp analysisofultrasoundimages identiﬁcation chronic kidney disease stage inproceedings first international conference network softcomputing ieee guntur india august ahmed kabir mahmood rahman diagnosis kidney disease using fuzzy expert system proceeding international conference software knowledge information management applicationsjournalofhealthcareengineering skima ieee dhaka bangladesh december khamparia saini pandey tiwari gupta khanna kdsae chronic kidney disease classiﬁcation multimedia data learning using deep stacked coder network multimedia tool application vol pp kim ye classiﬁcation chronic kidney disease sonography using glcm artiﬁcial neuralnetwork diagnostics vol j explainable chronic renal disease colombian population using neural network reasoning ieee ce vol pp almansour syed khayat altheeb neuralnetworkandsupportvectormachine prediction chronic kidney disease comparative study computer biology medicine vol pp rady anwar prediction kidney disease stagesusingdataminingalgorithms informaticsinmedicine unlocked vol article id chronic kidney disease analysis using data mining classiﬁcation technique proceeding international system big data engineering pp ieee noida india january wibawa maysanjaya putra boosted classiﬁer feature selection enhancing chronic kidney disease diagnose proceeding international conference cyber service citsm pp ieee denpasar indonesia gust avci karakus ozmen avci performance comparison classiﬁers chronic kidney disease data digital forensic security isdfs pp ieee antalya turkey march chiu chen wang chang chen intelligent system developed early tection chronic kidney disease advance artiﬁcial neural system vol shrivas sahu hota classiﬁcation chronic kidney disease proposed union based feature selection technique ssrn electronic journal vol elhoseny shankar uthayakumar intelligent diagnostic prediction classiﬁcation system chronic kidneydisease scientiﬁcreports abdelaziz elhoseny salama riad machinelearningmodelforimprovinghealthcareserviceson cloud computing environment measurement vol pp xiong su jiang jiang prediction hemodialysis timing based lvw feature selection andensemblelearning journalofmedicalsystems pp predictingtheearly risk chronic kidney disease patient diabetes data nature medicine vol pp sara kalaiselvi ensemble swarm behaviour based feature selection support vector machine classiﬁerfor chronic kidney disease prediction international journal engineering technology vol dua graﬀ uci machine learning repository universityofcalifornia schoolofinformationandcomputer science irvine ca usa http venable fahrenbach churpek comparison variable selection method clinical predictive modeling international journal medical informatics vol pp aldhyani alshebami alzahrani soft clusteringforenhancingthediagnosisofchronicdiseasesover machine learning algorithm healthcare engineering vol article id diagnosisandprognosisbreast cancer using classiﬁcation rule international journal engineering research general science vol pp senan jadhav analysis dermoscopy imagesbyusingabcdruleforearlydetectionofskincancer global transition proceeding vol hore chatterjee shaw dey virmani detection chronic kidney disease proach proceeding nature inspired computing pp springer singapore december ogunleye wang xgboost model chronic kidney disease diagnosis transaction computational biology bioinformatics vol pp khan naseem muhammad abbas kim empirical evaluation machine learning technique chronic kidney disease prophecy ieee access vol pp chittora chaurasia chakrabarti et al prediction ieee access vol pp jongbo adetunmbi ogunrinde development ensemble approach chronic kidney disease diagnosis scientiﬁc african vol article id harimoorthy thangavelu tion model using improved bias technique inhealthcare monitoring system journal ambient gence humanized computing vol journalofhealthcareengineering\n"
     ]
    }
   ],
   "source": [
    "lemmatized_word = [wordnet_lemmatizer.lemmatize(word) for word in clean_text(lower_case)]\n",
    "\n",
    "# lets print out the output from our function above and see how the data looks like\n",
    "clean_data = ' '.join(lemmatized_word)\n",
    "\n",
    "clean_data=clean_data.replace('xz_','t')\n",
    "print(clean_data)"
   ]
  },
  {
   "cell_type": "code",
   "execution_count": 16,
   "id": "8ecb8710",
   "metadata": {
    "execution": {
     "iopub.execute_input": "2022-12-14T12:54:23.918296Z",
     "iopub.status.busy": "2022-12-14T12:54:23.917665Z",
     "iopub.status.idle": "2022-12-14T12:54:23.942100Z",
     "shell.execute_reply": "2022-12-14T12:54:23.940973Z"
    },
    "papermill": {
     "duration": 0.044321,
     "end_time": "2022-12-14T12:54:23.944524",
     "exception": false,
     "start_time": "2022-12-14T12:54:23.900203",
     "status": "completed"
    },
    "tags": []
   },
   "outputs": [
    {
     "data": {
      "text/html": [
       "<div>\n",
       "<style scoped>\n",
       "    .dataframe tbody tr th:only-of-type {\n",
       "        vertical-align: middle;\n",
       "    }\n",
       "\n",
       "    .dataframe tbody tr th {\n",
       "        vertical-align: top;\n",
       "    }\n",
       "\n",
       "    .dataframe thead th {\n",
       "        text-align: right;\n",
       "    }\n",
       "</style>\n",
       "<table border=\"1\" class=\"dataframe\">\n",
       "  <thead>\n",
       "    <tr style=\"text-align: right;\">\n",
       "      <th></th>\n",
       "      <th>script</th>\n",
       "    </tr>\n",
       "  </thead>\n",
       "  <tbody>\n",
       "    <tr>\n",
       "      <th>index</th>\n",
       "      <td>research article diagnosisofchronickidneydisea...</td>\n",
       "    </tr>\n",
       "  </tbody>\n",
       "</table>\n",
       "</div>"
      ],
      "text/plain": [
       "                                                  script\n",
       "index  research article diagnosisofchronickidneydisea..."
      ]
     },
     "execution_count": 16,
     "metadata": {},
     "output_type": "execute_result"
    }
   ],
   "source": [
    "import pandas as pd\n",
    "df = pd.DataFrame([clean_data])\n",
    "df.columns = ['script']\n",
    "df.index = ['index']\n",
    "df"
   ]
  },
  {
   "cell_type": "markdown",
   "id": "87ae8ca6",
   "metadata": {
    "papermill": {
     "duration": 0.014239,
     "end_time": "2022-12-14T12:54:23.973585",
     "exception": false,
     "start_time": "2022-12-14T12:54:23.959346",
     "status": "completed"
    },
    "tags": []
   },
   "source": [
    "transforming our data into a bag of words"
   ]
  },
  {
   "cell_type": "code",
   "execution_count": 17,
   "id": "e7769b8f",
   "metadata": {
    "execution": {
     "iopub.execute_input": "2022-12-14T12:54:24.005202Z",
     "iopub.status.busy": "2022-12-14T12:54:24.004674Z",
     "iopub.status.idle": "2022-12-14T12:54:24.020922Z",
     "shell.execute_reply": "2022-12-14T12:54:24.019804Z"
    },
    "papermill": {
     "duration": 0.034729,
     "end_time": "2022-12-14T12:54:24.023364",
     "exception": false,
     "start_time": "2022-12-14T12:54:23.988635",
     "status": "completed"
    },
    "tags": []
   },
   "outputs": [],
   "source": [
    "#  Counting the occurrences of tokens and building a sparse matrix of documents x tokens.\n",
    "from sklearn.feature_extraction.text import CountVectorizer\n",
    "import numpy as np\n",
    "\n",
    "corpus = df.script\n",
    "vect = CountVectorizer(stop_words='english')\n",
    "\n",
    "# Transforms the data into a bag of words\n",
    "data_vect = vect.fit_transform(corpus)"
   ]
  },
  {
   "cell_type": "markdown",
   "id": "95773488",
   "metadata": {
    "papermill": {
     "duration": 0.014356,
     "end_time": "2022-12-14T12:54:24.052449",
     "exception": false,
     "start_time": "2022-12-14T12:54:24.038093",
     "status": "completed"
    },
    "tags": []
   },
   "source": [
    "extract the features(nbre of unique words in the text)"
   ]
  },
  {
   "cell_type": "code",
   "execution_count": 18,
   "id": "723078b6",
   "metadata": {
    "execution": {
     "iopub.execute_input": "2022-12-14T12:54:24.083775Z",
     "iopub.status.busy": "2022-12-14T12:54:24.082650Z",
     "iopub.status.idle": "2022-12-14T12:54:24.100193Z",
     "shell.execute_reply": "2022-12-14T12:54:24.098872Z"
    },
    "papermill": {
     "duration": 0.035797,
     "end_time": "2022-12-14T12:54:24.102668",
     "exception": false,
     "start_time": "2022-12-14T12:54:24.066871",
     "status": "completed"
    },
    "tags": []
   },
   "outputs": [
    {
     "name": "stderr",
     "output_type": "stream",
     "text": [
      "/opt/conda/lib/python3.7/site-packages/sklearn/utils/deprecation.py:87: FutureWarning: Function get_feature_names is deprecated; get_feature_names is deprecated in 1.0 and will be removed in 1.2. Please use get_feature_names_out instead.\n",
      "  warnings.warn(msg, category=FutureWarning)\n"
     ]
    },
    {
     "data": {
      "text/html": [
       "<div>\n",
       "<style scoped>\n",
       "    .dataframe tbody tr th:only-of-type {\n",
       "        vertical-align: middle;\n",
       "    }\n",
       "\n",
       "    .dataframe tbody tr th {\n",
       "        vertical-align: top;\n",
       "    }\n",
       "\n",
       "    .dataframe thead th {\n",
       "        text-align: right;\n",
       "    }\n",
       "</style>\n",
       "<table border=\"1\" class=\"dataframe\">\n",
       "  <thead>\n",
       "    <tr style=\"text-align: right;\">\n",
       "      <th></th>\n",
       "      <th>index</th>\n",
       "    </tr>\n",
       "  </thead>\n",
       "  <tbody>\n",
       "    <tr>\n",
       "      <th>abbas</th>\n",
       "      <td>1</td>\n",
       "    </tr>\n",
       "    <tr>\n",
       "      <th>abdelaziz</th>\n",
       "      <td>2</td>\n",
       "    </tr>\n",
       "    <tr>\n",
       "      <th>abdullah</th>\n",
       "      <td>1</td>\n",
       "    </tr>\n",
       "    <tr>\n",
       "      <th>ability</th>\n",
       "      <td>1</td>\n",
       "    </tr>\n",
       "    <tr>\n",
       "      <th>abnormal</th>\n",
       "      <td>2</td>\n",
       "    </tr>\n",
       "    <tr>\n",
       "      <th>...</th>\n",
       "      <td>...</td>\n",
       "    </tr>\n",
       "    <tr>\n",
       "      <th>ﬁltrate</th>\n",
       "      <td>1</td>\n",
       "    </tr>\n",
       "    <tr>\n",
       "      <th>ﬁltration</th>\n",
       "      <td>2</td>\n",
       "    </tr>\n",
       "    <tr>\n",
       "      <th>ﬁnal</th>\n",
       "      <td>1</td>\n",
       "    </tr>\n",
       "    <tr>\n",
       "      <th>ﬁnd</th>\n",
       "      <td>1</td>\n",
       "    </tr>\n",
       "    <tr>\n",
       "      <th>ﬁnding</th>\n",
       "      <td>1</td>\n",
       "    </tr>\n",
       "  </tbody>\n",
       "</table>\n",
       "<p>1129 rows × 1 columns</p>\n",
       "</div>"
      ],
      "text/plain": [
       "           index\n",
       "abbas          1\n",
       "abdelaziz      2\n",
       "abdullah       1\n",
       "ability        1\n",
       "abnormal       2\n",
       "...          ...\n",
       "ﬁltrate        1\n",
       "ﬁltration      2\n",
       "ﬁnal           1\n",
       "ﬁnd            1\n",
       "ﬁnding         1\n",
       "\n",
       "[1129 rows x 1 columns]"
      ]
     },
     "execution_count": 18,
     "metadata": {},
     "output_type": "execute_result"
    }
   ],
   "source": [
    "feature_names = vect.get_feature_names()\n",
    "data_vect_feat = pd.DataFrame(data_vect.toarray(), columns=feature_names)\n",
    "data_vect_feat.index = df.index\n",
    "data_vect_feat.T#c'est une serie et non pas un tableau\n"
   ]
  },
  {
   "cell_type": "markdown",
   "id": "eff088e1",
   "metadata": {
    "papermill": {
     "duration": 0.017067,
     "end_time": "2022-12-14T12:54:24.135449",
     "exception": false,
     "start_time": "2022-12-14T12:54:24.118382",
     "status": "completed"
    },
    "tags": []
   },
   "source": [
    "getting the most frequent 1000 words "
   ]
  },
  {
   "cell_type": "code",
   "execution_count": 19,
   "id": "02c3954b",
   "metadata": {
    "execution": {
     "iopub.execute_input": "2022-12-14T12:54:24.169595Z",
     "iopub.status.busy": "2022-12-14T12:54:24.169156Z",
     "iopub.status.idle": "2022-12-14T12:54:24.339968Z",
     "shell.execute_reply": "2022-12-14T12:54:24.338641Z"
    },
    "papermill": {
     "duration": 0.191373,
     "end_time": "2022-12-14T12:54:24.342663",
     "exception": false,
     "start_time": "2022-12-14T12:54:24.151290",
     "status": "completed"
    },
    "tags": []
   },
   "outputs": [
    {
     "name": "stdout",
     "output_type": "stream",
     "text": [
      "key index, value [('feature', 66), ('kidney', 43), ('disease', 38), ('algorithm', 35), ('ckd', 33), ('chronic', 31), ('al', 30), ('dataset', 29), ('et', 27), ('vol', 23), ('tree', 23), ('model', 22), ('data', 21), ('pp', 19), ('decision', 19), ('blood', 19), ('proposed', 19), ('using', 19), ('svm', 18), ('value', 18), ('used', 17), ('random', 17), ('applied', 16), ('accuracy', 16), ('diagnosis', 16), ('method', 16), ('knn', 14), ('forest', 14), ('stage', 14), ('machine', 12), ('class', 11), ('classiﬁcation', 11), ('learning', 11), ('prediction', 11), ('cell', 11), ('science', 11), ('precision', 11), ('missing', 10), ('recall', 10), ('patient', 10), ('study', 10), ('technique', 10), ('network', 10), ('university', 9), ('analysis', 9), ('rfe', 9), ('based', 9), ('sample', 9), ('ieee', 8), ('ann', 8), ('test', 8), ('diagnostic', 8), ('information', 8), ('international', 8), ('new', 8), ('classiﬁers', 8), ('engineering', 7), ('pressure', 7), ('performance', 7), ('technology', 7), ('training', 7), ('arabia', 7), ('vector', 7), ('neural', 7), ('age', 7), ('correlation', 7), ('selection', 7), ('measure', 7), ('number', 7), ('computer', 7), ('statistical', 7), ('saudi', 7), ('nominal', 7), ('mode', 6), ('article', 6), ('count', 6), ('diagnose', 6), ('positive', 6), ('mean', 6), ('predict', 6), ('numerical', 6), ('high', 6), ('computing', 6), ('problem', 6), ('validation', 6), ('classiﬁed', 6), ('classiﬁer', 6), ('table', 6), ('journal', 6), ('volume', 6), ('variable', 5), ('selected', 5), ('failure', 5), ('gfr', 5), ('factor', 5), ('outperformed', 5), ('hemoglobin', 5), ('serum', 5), ('figure', 5), ('early', 5), ('distance', 5), ('risk', 5), ('expert', 5), ('comparison', 5), ('solve', 5), ('proceeding', 5), ('function', 5), ('treatment', 5), ('creatinine', 5), ('target', 5), ('diabetes', 5), ('setup', 4), ('damage', 4), ('elhoseny', 4), ('senan', 4), ('reached', 4), ('developing', 4), ('red', 4), ('respectively', 4), ('score', 4), ('evaluation', 4), ('environment', 4), ('diﬀerent', 4), ('sugar', 4), ('support', 4), ('result', 4), ('elimination', 4), ('existing', 4), ('sodium', 4), ('potassium', 4), ('hofuf', 4), ('important', 4), ('work', 4), ('india', 4), ('node', 4), ('artiﬁcial', 4), ('point', 4), ('normal', 4), ('negative', 4), ('albumin', 4), ('present', 4), ('uci', 4), ('bayes', 4), ('mohammed', 4), ('http', 4), ('packed', 4), ('naive', 4), ('id', 4), ('instead', 3), ('king', 3), ('select', 3), ('reduce', 3), ('collected', 3), ('chittora', 3), ('ebrahime', 3), ('example', 3), ('kim', 3), ('notckd', 3), ('late', 3), ('conference', 3), ('khan', 3), ('urea', 3), ('approach', 3), ('aldhyani', 3), ('development', 3), ('irvine', 3), ('label', 3), ('anwar', 3), ('ogunleye', 3), ('jongbo', 3), ('paper', 3), ('alzahrani', 3), ('usa', 3), ('wang', 3), ('control', 3), ('medical', 3), ('glomerular', 3), ('rady', 3), ('avci', 3), ('rate', 3), ('ga', 3), ('tn', 3), ('presented', 3), ('metric', 3), ('harimoorthy', 3), ('promising', 3), ('access', 3), ('importance', 3), ('featureselection', 3), ('hore', 3), ('health', 3), ('tp', 3), ('hybrid', 3), ('process', 3), ('sara', 2), ('mlp', 2), ('divided', 2), ('december', 2), ('rithm', 2), ('rule', 2), ('leaf', 2), ('low', 2), ('shrivas', 2), ('nature', 2), ('decisiontree', 2), ('noted', 2), ('min', 2), ('kohat', 2), ('nn', 2), ('dfs', 2), ('measurement', 2), ('developed', 2), ('maximum', 2), ('max', 2), ('diagnosing', 2), ('medicine', 2), ('noise', 2), ('detecting', 2), ('separate', 2), ('serum_creatinine', 2), ('neighbor', 2), ('diagnostics', 2), ('dialysis', 2), ('dimension', 2), ('previous', 2), ('repository', 2), ('organization', 2), ('original', 2), ('improve', 2), ('faisal', 2), ('received', 2), ('reaching', 2), ('predictive', 2), ('fn', 2), ('following', 2), ('follows', 2), ('rbf', 2), ('iii', 2), ('fp', 2), ('ii', 2), ('ratio', 2), ('fuzzy', 2), ('preprocessing', 2), ('puscell', 2), ('glucose', 2), ('pu', 2), ('provided', 2), ('haemoglobin', 2), ('heart', 2), ('help', 2), ('prevents', 2), ('recursive', 2), ('red_blood_cell_count', 2), ('extracted', 2), ('ensemble', 2), ('output', 2), ('research', 2), ('packed_cell_volume', 2), ('eliminating', 2), ('employing', 2), ('representative', 2), ('abdelaziz', 2), ('jiang', 2), ('represent', 2), ('pcv', 2), ('physician', 2), ('extract', 2), ('intelligent', 2), ('replace', 2), ('especially', 2), ('renal', 2), ('intelligence', 2), ('euclidean', 2), ('evaluate', 2), ('input', 2), ('experiment', 2), ('population', 2), ('healthcare', 2), ('multimedia', 2), ('themissing', 2), ('thangavelu', 2), ('world', 2), ('cause', 2), ('ckddataset', 2), ('testing', 2), ('step', 2), ('vote', 2), ('construct', 2), ('assumption', 2), ('construction', 2), ('standard', 2), ('ca', 2), ('containing', 2), ('aﬀecting', 2), ('contains', 2), ('stored', 2), ('compute', 2), ('aﬀects', 2), ('alshebami', 2), ('swarm', 2), ('college', 2), ('almansour', 2), ('time', 2), ('artery', 2), ('comparative', 2), ('albaha', 2), ('branch', 2), ('cancer', 2), ('su', 2), ('ahmed', 2), ('case', 2), ('white_blood_cell_count', 2), ('strongly', 2), ('achieved', 2), ('theaccuracy', 2), ('continuous', 2), ('speciﬁc', 2), ('chen', 2), ('best', 2), ('soft', 2), ('andrandomforest', 2), ('abnormal', 2), ('ﬁltration', 2), ('software', 2), ('choose', 2), ('country', 2), ('bahah', 2), ('specific_gravity', 2), ('andthe', 2), ('cf', 2), ('correctly', 2), ('true', 2), ('urinary', 2), ('blood_glucose_random', 2), ('blood_urea', 2), ('bioinformatics', 2), ('blood_pressure', 2), ('coronary', 2), ('splitting', 2), ('contribution', 2), ('biology', 2), ('urology', 1), ('permit', 1), ('page', 1), ('patientswithchronickidneydiseasebyusingclinicaldataandmultivariate', 1), ('usg', 1), ('perform', 1), ('percentage', 1), ('use', 1), ('person', 1), ('patientsmayreachthe', 1), ('patientsincludediabetes', 1), ('pakistan', 1), ('pandey', 1), ('pedal', 1), ('valuesthat', 1), ('particle', 1), ('pe', 1), ('useless', 1), ('uthayakumar', 1), ('usedartiﬁcialneuralnetwork', 1), ('pattern', 1), ('pcc', 1), ('people', 1), ('skima', 1), ('urine', 1), ('planning', 1), ('ubfst', 1), ('predictingtheearly', 1), ('typesofnodes', 1), ('predictor', 1), ('predicts', 1), ('type', 1), ('twostages', 1), ('turkey', 1), ('tuned', 1), ('presentedamodelbased', 1), ('treerandom', 1), ('presentedasystemforhealthcare', 1), ('presentedhealthcareservice', 1), ('presentedin', 1), ('treecompares', 1), ('prevalence', 1), ('treatable', 1), ('predicting', 1), ('uddin', 1), ('ultrasonography', 1), ('poor', 1), ('unrestricted', 1), ('unrelated', 1), ('plot', 1), ('unlocked', 1), ('pnn', 1), ('universityofcalifornia', 1), ('pointinto', 1), ('unionbased', 1), ('unbalanced', 1), ('union', 1), ('understandable', 1), ('packedcell', 1), ('pot', 1), ('undergoing', 1), ('undergo', 1), ('ppso', 1), ('positivecorrelation', 1), ('vms', 1), ('vasquez', 1), ('worldwide', 1), ('nervous', 1), ('yi', 1), ('ye', 1), ('neuralnetwork', 1), ('xiong', 1), ('neuralnetworkandsupportvectormachine', 1), ('xgboost', 1), ('wrapper', 1), ('nizar', 1), ('nephron', 1), ('niﬁcant', 1), ('withrespect', 1), ('widely', 1), ('noderepresents', 1), ('wibawa', 1), ('noida', 1), ('white', 1), ('nonlinear', 1), ('nervedamage', 1), ('york', 1), ('vega', 1), ('nb', 1), ('multiple', 1), ('mustcontain', 1), ('ﬁnd', 1), ('ﬁnal', 1), ('naseem', 1), ('national', 1), ('ﬁltrate', 1), ('ﬁgureshows', 1), ('nearest', 1), ('nephrology', 1), ('ﬁcation', 1), ('need', 1), ('ﬁbrotic', 1), ('σisafreeparameter', 1), ('θkrepresentsinput', 1), ('neighbored', 1), ('θk', 1), ('neighbour', 1), ('whichcanlearnhowtooperateonceproperlytrained', 1), ('normalization', 1), ('wherethenumber', 1), ('virtual', 1), ('optimization', 1), ('waselallah', 1), ('optimize', 1), ('optimized', 1), ('preventing', 1), ('vital', 1), ('visualizes', 1), ('orkidney', 1), ('outcome', 1), ('wereusedto', 1), ('virmani', 1), ('outlier', 1), ('vii', 1), ('vi', 1), ('overﬁtting', 1), ('ozmen', 1), ('versityofcalifornia', 1), ('venable', 1), ('waste', 1), ('optimal', 1), ('wc', 1), ('open', 1), ('wekasoftware', 1), ('numericalfeatures', 1), ('ny', 1), ('observation', 1), ('observed', 1), ('obtain', 1), ('obtained', 1), ('ofckd', 1), ('ofdeveloping', 1), ('weakfeatures', 1), ('ofdisease', 1), ('ofnumerical', 1), ('oftheproposedsystemswasevaluated', 1), ('ofuseand', 1), ('weakassociation', 1), ('ogunrinde', 1), ('onsubsetsofthedataset', 1), ('prevent', 1), ('processing', 1), ('transplantation', 1), ('supportingtheir', 1), ('rest', 1), ('suﬀered', 1), ('suﬀer', 1), ('revised', 1), ('surpasses', 1), ('rfecv', 1), ('rfemethod', 1), ('riad', 1), ('suchas', 1), ('relevant', 1), ('rithms', 1), ('subnodes', 1), ('rithmworksaccordingtotheprincipleofensemblelearning', 1), ('robust', 1), ('root', 1), ('studiedastackedautoencodermodeltoextract', 1), ('sahu', 1), ('saini', 1), ('svmclassiﬁer', 1), ('resource', 1), ('svmreached', 1), ('requires', 1), ('relies', 1), ('remove', 1), ('removingrecords', 1), ('testdata', 1), ('replaced', 1), ('tection', 1), ('takespredictions', 1), ('taibah', 1), ('tackle', 1), ('systemsreached', 1), ('systemand', 1), ('symptom', 1), ('reproduction', 1), ('require', 1), ('required', 1), ('syed', 1), ('switzerland', 1), ('salama', 1), ('strong', 1), ('sc', 1), ('separable', 1), ('speciﬁcgravity', 1), ('series', 1), ('service', 1), ('set', 1), ('severe', 1), ('sonography', 1), ('sg', 1), ('shankar', 1), ('shaw', 1), ('shivaji', 1), ('shown', 1), ('softmax', 1), ('softcomputing', 1), ('similar', 1), ('similarity', 1), ('sod', 1), ('singapore', 1), ('separablespace', 1), ('selectionof', 1), ('strokeobesityfamily', 1), ('springer', 1), ('school', 1), ('schoolofinformationandcomputer', 1), ('schummer', 1), ('multilayerperceptron', 1), ('store', 1), ('statisticalanalysis', 1), ('scientiﬁc', 1), ('scientiﬁcreports', 1), ('state', 1), ('scored', 1), ('second', 1), ('section', 1), ('security', 1), ('stagesusingdataminingalgorithms', 1), ('selecting', 1), ('stacked', 1), ('ssrn', 1), ('thealgorithm', 1), ('thecorrelationbetweenthepredictionsofeach', 1), ('preventive', 1), ('tion', 1), ('toclassify', 1), ('tocheck', 1), ('pseudocode', 1), ('tiwari', 1), ('publication', 1), ('published', 1), ('pujari', 1), ('tissue', 1), ('putra', 1), ('relationshipsbetween', 1), ('python', 1), ('timing', 1), ('quality', 1), ('radial', 1), ('radiologist', 1), ('rahman', 1), ('ram', 1), ('tients', 1), ('prophecy', 1), ('properly', 1), ('todetermine', 1), ('progression', 1), ('transition', 1), ('transaction', 1), ('trainingdataset', 1), ('primarily', 1), ('prior', 1), ('priority', 1), ('proach', 1), ('probabilistic', 1), ('train', 1), ('traditional', 1), ('tpandtn', 1), ('tory', 1), ('processed', 1), ('singh', 1), ('toprioritize', 1), ('product', 1), ('tool', 1), ('randomforest', 1), ('randomly', 1), ('throughseveralpreviousrelatedstudies', 1), ('receive', 1), ('theperformance', 1), ('theparameters', 1), ('thenumber', 1), ('recursivefeatureelimination', 1), ('thenewpointisclassiﬁedintoaclasswiththemaximumnumber', 1), ('themost', 1), ('redblood', 1), ('redbloodcells', 1), ('themedical', 1), ('theknn', 1), ('reference', 1), ('regression', 1), ('regressionproblems', 1), ('thefeaturevariablemustcontainactualvalues', 1), ('related', 1), ('theempiricalresultsofsvm', 1), ('thedatasetwasprocessedtoremoveoutliersandreplacemissingnumerical', 1), ('record', 1), ('thepnn', 1), ('threementioned', 1), ('therecord', 1), ('theweight', 1), ('rateofalbumin', 1), ('ravizza', 1), ('thetrainingphase', 1), ('thetrained', 1), ('rbc', 1), ('thesystem', 1), ('thesvmaccuracy', 1), ('rbfalgorithms', 1), ('thesvm', 1), ('rc', 1), ('reach', 1), ('theselectfeatureswere', 1), ('thescarcityofspecialistphysicians', 1), ('real', 1), ('therest', 1), ('reasoning', 1), ('abbas', 1), ('kdsae', 1), ('multiclass', 1), ('cloud', 1), ('classcontains', 1), ('classification', 1), ('classify', 1), ('classifying', 1), ('classiﬁcationtemplates', 1), ('classiﬁerfor', 1), ('classiﬁersshowedpromisingresultsfordiagnosingadatasetintockdor', 1), ('classiﬁes', 1), ('cleaned', 1), ('clinical', 1), ('clinicalriskassessmentof', 1), ('closest', 1), ('clump', 1), ('bycomputingthecorrectlyclassiﬁedsamples', 1), ('clumpspresent', 1), ('clusteringforenhancingthediagnosisofchronicdiseasesover', 1), ('coder', 1), ('colombian', 1), ('colony', 1), ('combined', 1), ('combining', 1), ('common', 1), ('comparedwith', 1), ('completed', 1), ('complex', 1), ('comprises', 1), ('classby', 1), ('ckdpreprocessingfeatures', 1), ('ckdpatients', 1), ('ckdnot', 1), ('california', 1), ('called', 1), ('came', 1), ('cardiovascular', 1), ('cast', 1), ('causingmissing', 1), ('ce', 1), ('cellnormal', 1), ('cellsnormal', 1), ('chakrabarti', 1), ('chang', 1), ('characteristic', 1), ('chatterjee', 1), ('chaurasia', 1), ('checking', 1), ('chikhli', 1), ('chiu', 1), ('choicesjournalofhealthcareengineering', 1), ('choosing', 1), ('chosen', 1), ('chronickidney', 1), ('churpek', 1), ('cited', 1), ('citsm', 1), ('ckdckdsvm', 1), ('computation', 1), ('computational', 1), ('computed', 1), ('datapoints', 1), ('datasetof', 1), ('datasetsrelevant', 1), ('dation', 1), ('death', 1), ('decide', 1), ('declare', 1), ('deep', 1), ('deeplearning', 1), ('denpasar', 1), ('density', 1), ('depends', 1), ('dermoscopy', 1), ('describeskidney', 1), ('descriptionglomerular', 1), ('detect', 1), ('detection', 1), ('determine', 1), ('develop', 1), ('deviation', 1), ('deviationmax', 1), ('dey', 1), ('deﬁne', 1), ('dhaka', 1), ('di', 1), ('diabetesfactors', 1), ('datasetcontainedoutliersand', 1), ('dataminingtechniqueshavebeenused', 1), ('computethe', 1), ('cyber', 1), ('condition', 1), ('conducted', 1), ('conflict', 1), ('confusion', 1), ('contained', 1), ('containedmissing', 1), ('continues', 1), ('conﬁgurationsandits', 1), ('conﬂicts', 1), ('coordinate', 1), ('copyright', 1), ('core', 1), ('correct', 1), ('correction', 1), ('correspondence', 1), ('corret', 1), ('cost', 1), ('cpu', 1), ('creates', 1), ('creating', 1), ('creative', 1), ('cristianini', 1), ('current', 1), ('cursive', 1), ('cvd', 1), ('cad', 1), ('butdiscoveringitinitslatestageswillleadto', 1), ('muhammad', 1), ('anddecisiontreealgorithmsratedthepositive', 1), ('alsaade', 1), ('altheeb', 1), ('ambedkar', 1), ('ambient', 1), ('amongmales', 1), ('analysisofultrasoundimages', 1), ('andadaboost', 1), ('andaleaf', 1), ('andblood', 1), ('andboneproblems', 1), ('andcardiovascular', 1), ('andclinical', 1), ('andensemblelearning', 1), ('bumin', 1), ('andevaluated', 1), ('anditiscalledthelazy', 1), ('andits', 1), ('andmodularneuralnetwork', 1), ('andnegative', 1), ('andradialbasisfunction', 1), ('andselect', 1), ('andsodium', 1), ('andthehigh', 1), ('ane', 1), ('anemia', 1), ('anemiayes', 1), ('alqarni', 1), ('algorithmoutperformed', 1), ('algorithmisverypopular', 1), ('algorithmconverts', 1), ('abdullah', 1), ('ability', 1), ('abqaiq', 1), ('academic', 1), ('accepted', 1), ('according', 1), ('accordingtotheworld', 1), ('accumulation', 1), ('accuracywhen', 1), ('accurate', 1), ('accurateresults', 1), ('achievinganaccuracy', 1), ('actual', 1), ('adaboostfor', 1), ('addition', 1), ('additional', 1), ('addressed', 1), ('adecisionnode', 1), ('adetunmbi', 1), ('adult', 1), ('advance', 1), ('african', 1), ('againstexisting', 1), ('ahindawi', 1), ('alahmadi', 1), ('ant', 1), ('antalya', 1), ('appet', 1), ('basis', 1), ('bednarski', 1), ('begin', 1), ('behaviour', 1), ('bemissed', 1), ('bestclassiﬁcation', 1), ('besthyperplane', 1), ('bestwaytotreatchronickidneydiseaseistodiagnoseitintheearlystages', 1), ('better', 1), ('betweenthe', 1), ('betweenthebetweentheinputfeatures', 1), ('bgr', 1), ('bias', 1), ('big', 1), ('bloodglucoserandom', 1), ('bloodleads', 1), ('bloodpressure', 1), ('bloodurea', 1), ('boosted', 1), ('box', 1), ('bp', 1), ('bpn', 1), ('bu', 1), ('build', 1), ('builtintelligencemodelsusingneural', 1), ('buldana', 1), ('becomputed', 1), ('bangladesh', 1), ('appetite', 1), ('bacteriapresent', 1), ('appetitegood', 1), ('application', 1), ('applicationsjournalofhealthcareengineering', 1), ('appliedalgorithms', 1), ('applyingparallel', 1), ('approximately', 1), ('april', 1), ('area', 1), ('areassociated', 1), ('art', 1), ('artiﬁcialintelligencetechniques', 1), ('assign', 1), ('assist', 1), ('associated', 1), ('attention', 1), ('attribution', 1), ('august', 1), ('aurangabad', 1), ('author', 1), ('availability', 1), ('available', 1), ('aﬀect', 1), ('ba', 1), ('babasaheb', 1), ('bacteria', 1), ('diagnosed', 1), ('diagnosisandprognosisbreast', 1), ('diagnosisofchronickidneydiseaseusingeffectiveclassification', 1), ('kabir', 1), ('isdfs', 1), ('itclassiﬁes', 1), ('itis', 1), ('iv', 1), ('jadhav', 1), ('january', 1), ('journalofhealthcareengineering', 1), ('journalofhealthcareengineeringdiabetes', 1), ('journalofhealthcareengineeringk', 1), ('journalofhealthcareengineeringrecall', 1), ('journalofmedicalsystems', 1), ('june', 1), ('kalaiselvi', 1), ('died', 1), ('karakus', 1), ('khamparia', 1), ('khanna', 1), ('khayat', 1), ('kidneydisease', 1), ('kidneydisorder', 1), ('kidneyfailure', 1), ('kidneythroughsomefeaturessuchasglucose', 1), ('kidneytransplantation', 1), ('kind', 1), ('kisgenerated', 1), ('knndecision', 1), ('irfan', 1), ('inwhichamodelisconstructed', 1), ('investment', 1), ('introduced', 1), ('identiﬁcation', 1), ('ignore', 1), ('image', 1), ('imagesbyusingabcdruleforearlydetectionofskincancer', 1), ('implemented', 1), ('implementing', 1), ('importanceassociated', 1), ('importantvital', 1), ('improved', 1), ('include', 1), ('included', 1), ('incorrectly', 1), ('increasing', 1), ('indonesia', 1), ('induce', 1), ('informatics', 1), ('informaticsinmedicine', 1), ('inhealthcare', 1), ('inproceedings', 1), ('insight', 1), ('inspired', 1), ('integrated', 1), ('interestregarding', 1), ('internal', 1), ('inthe', 1), ('knowledge', 1), ('kunwar', 1), ('la', 1), ('maynot', 1), ('meaning', 1), ('meanmethod', 1), ('meanstandard', 1), ('measured', 1), ('median', 1), ('medicaltests', 1), ('medina', 1), ('medium', 1), ('mellitus', 1), ('mellitusyes', 1), ('ment', 1), ('methodswere', 1), ('methodwas', 1), ('microarray', 1), ('mild', 1), ('million', 1), ('mining', 1), ('missingnominal', 1), ('missingnumerical', 1), ('mnn', 1), ('modeling', 1), ('modelsbased', 1), ('modelsincluded', 1), ('monitoring', 1), ('mostsigniﬁcant', 1), ('maysanjaya', 1), ('matrix', 1), ('lacking', 1), ('margin', 1), ('lead', 1), ('learnfrom', 1), ('level', 1), ('license', 1), ('lie', 1), ('life', 1), ('like', 1), ('line', 1), ('linearregression', 1), ('lowbloodpressure', 1), ('lowed', 1), ('lowestaccuracy', 1), ('lr', 1), ('lvw', 1), ('machineclassiﬁcation', 1), ('machinelearning', 1), ('machinelearningalgorithms', 1), ('machinelearningmodelforimprovinghealthcareserviceson', 1), ('mahmood', 1), ('maintain', 1), ('male', 1), ('management', 1), ('manyfactors', 1), ('marathwada', 1), ('march', 1), ('identifying', 1), ('identify', 1), ('hypertensionyes', 1), ('electronic', 1), ('empirical', 1), ('employed', 1), ('enabling', 1), ('enhancing', 1), ('ensemblelearning', 1), ('equation', 1), ('error', 1), ('established', 1), ('estimate', 1), ('estimating', 1), ('etal', 1), ('evaluating', 1), ('examined', 1), ('expected', 1), ('explainable', 1), ('exploring', 1), ('expression', 1), ('extracting', 1), ('eﬀective', 1), ('eﬀectiveness', 1), ('eﬀects', 1), ('factorsaﬀecting', 1), ('fahrenbach', 1), ('faial', 1), ('false', 1), ('emergence', 1), ('elation', 1), ('family', 1), ('education', 1), ('different', 1), ('digital', 1), ('dilbag', 1), ('diseasebecause', 1), ('diseasediagnosis', 1), ('diseasethrough', 1), ('diseaseyes', 1), ('disorder', 1), ('disparitiesinchronic', 1), ('display', 1), ('disrupts', 1), ('distributed', 1), ('distribution', 1), ('district', 1), ('dividedinto', 1), ('diﬀerentperiods', 1), ('dm', 1), ('doctorscanclassifyckdintoﬁve', 1), ('dua', 1), ('duetoitsease', 1), ('duﬀy', 1), ('earlystages', 1), ('edema', 1), ('edemayes', 1), ('editor', 1), ('falsenegative', 1), ('fawaz', 1), ('hypertension', 1), ('gravity', 1), ('greatadvantagesindiagnosingseveralﬁelds', 1), ('grnn', 1), ('guessing', 1), ('guntur', 1), ('gupta', 1), ('gust', 1), ('handle', 1), ('haussler', 1), ('havingadditionalbranches', 1), ('hcs', 1), ('hemo', 1), ('hemodialysis', 1), ('higher', 1), ('highest', 1), ('highlyeﬃcientmachinelearningtechniquesforthe', 1), ('history', 1), ('historysmokingage', 1), ('hmoud', 1), ('hota', 1), ('htn', 1), ('humanized', 1), ('hwffs', 1), ('hybridwrapper', 1), ('hyperplane', 1), ('hyperplanes', 1), ('graﬀ', 1), ('gradually', 1), ('featured', 1), ('gpu', 1), ('featurevectorθ', 1), ('fed', 1), ('female', 1), ('filtration', 1), ('focused', 1), ('food', 1), ('forensic', 1), ('forestclassification', 1), ('functioning', 1), ('furey', 1), ('future', 1), ('gence', 1), ('gender', 1), ('general', 1), ('generalize', 1), ('generalizedfeedforwardneuralnetworks', 1), ('generalstructure', 1), ('generated', 1), ('generating', 1), ('geneticalgorithm', 1), ('geneva', 1), ('given', 1), ('glcm', 1), ('global', 1), ('good', 1), ('ﬁnding', 1)] \n"
     ]
    }
   ],
   "source": [
    "#avoir les 1000 mots les plus fréquents\n",
    "data = data_vect_feat.transpose()\n",
    "import matplotlib.pyplot as plt\n",
    "import seaborn as sn\n",
    "\n",
    "# Find the top 1000 words written in the data\n",
    "top_dict = {}\n",
    "for c in data.columns:\n",
    "    top = data[c].sort_values(ascending=False)\n",
    "    top_dict[c]= list(zip(top.index, top.values))\n",
    "\n",
    "    \n",
    "for x in list(top_dict)[0:100]:\n",
    "    print(\"key {}, value {} \".format(x,  top_dict[x]))"
   ]
  },
  {
   "cell_type": "code",
   "execution_count": 20,
   "id": "6f660679",
   "metadata": {
    "execution": {
     "iopub.execute_input": "2022-12-14T12:54:24.376442Z",
     "iopub.status.busy": "2022-12-14T12:54:24.375983Z",
     "iopub.status.idle": "2022-12-14T12:54:24.383382Z",
     "shell.execute_reply": "2022-12-14T12:54:24.382342Z"
    },
    "papermill": {
     "duration": 0.027387,
     "end_time": "2022-12-14T12:54:24.386006",
     "exception": false,
     "start_time": "2022-12-14T12:54:24.358619",
     "status": "completed"
    },
    "tags": []
   },
   "outputs": [
    {
     "name": "stdout",
     "output_type": "stream",
     "text": [
      "['feature', 'kidney', 'disease', 'algorithm', 'ckd', 'chronic', 'al', 'dataset', 'et', 'vol']\n"
     ]
    }
   ],
   "source": [
    "# Look at the most common top words --> add them to the stop word list\n",
    "from collections import Counter\n",
    "\n",
    "# Let's first pull out the top 100 words \n",
    "words = []\n",
    "for president in data:\n",
    "    top = [word for (word, count) in top_dict[president]]\n",
    "    for t in top:\n",
    "        words.append(t)\n",
    "\n",
    "print(words[:10])"
   ]
  },
  {
   "cell_type": "markdown",
   "id": "4424da3d",
   "metadata": {
    "papermill": {
     "duration": 0.015506,
     "end_time": "2022-12-14T12:54:24.417425",
     "exception": false,
     "start_time": "2022-12-14T12:54:24.401919",
     "status": "completed"
    },
    "tags": []
   },
   "source": [
    "Topic modeling using LDA\n",
    "Topic modeling can be seen as a type of statistical modeling for discovering the abstract 'topics' that are presented in a myriad of documents (it can be a single document). A topic is considered as a collection of prevalent keywords that are typical representatives. Its through keywords in which one determines what the topic is all about.\n",
    "\n",
    "What is LDA?\n",
    "→  Latent Dirichlet Allocation(LDA) is a popular algorithm for topic modeling with excellent implementations in the Python’s gensimpackage. We will therefore use LDA to classify text in our document to a particular topic. I works by building a topic per document model and words per topic model, from Dirichlet distribution models in statistics"
   ]
  },
  {
   "cell_type": "markdown",
   "id": "9720e0ba",
   "metadata": {
    "papermill": {
     "duration": 0.015248,
     "end_time": "2022-12-14T12:54:24.448341",
     "exception": false,
     "start_time": "2022-12-14T12:54:24.433093",
     "status": "completed"
    },
    "tags": []
   },
   "source": [
    "downloading useful libaries for topic modelling"
   ]
  },
  {
   "cell_type": "code",
   "execution_count": 21,
   "id": "98747e63",
   "metadata": {
    "execution": {
     "iopub.execute_input": "2022-12-14T12:54:24.481394Z",
     "iopub.status.busy": "2022-12-14T12:54:24.480965Z",
     "iopub.status.idle": "2022-12-14T12:54:24.875207Z",
     "shell.execute_reply": "2022-12-14T12:54:24.874007Z"
    },
    "papermill": {
     "duration": 0.414239,
     "end_time": "2022-12-14T12:54:24.878120",
     "exception": false,
     "start_time": "2022-12-14T12:54:24.463881",
     "status": "completed"
    },
    "tags": []
   },
   "outputs": [
    {
     "name": "stderr",
     "output_type": "stream",
     "text": [
      "/opt/conda/lib/python3.7/site-packages/past/types/oldstr.py:36: DeprecationWarning: invalid escape sequence \\d\n",
      "  \"\"\"\n",
      "/opt/conda/lib/python3.7/site-packages/past/builtins/misc.py:45: DeprecationWarning: the imp module is deprecated in favour of importlib; see the module's documentation for alternative uses\n",
      "  from imp import reload\n"
     ]
    }
   ],
   "source": [
    "# Gensim\n",
    "import gensim\n",
    "import gensim.corpora as corpora\n",
    "from gensim.utils import simple_preprocess\n",
    "from gensim.models import CoherenceModel\n",
    "\n",
    "# Plotting tools\n",
    "import pyLDAvis\n",
    "#import graphlab as gl\n",
    "#import pyLDAvis.graphlab\n",
    "import pyLDAvis.gensim  # don't skip this\n",
    "\n",
    "# Enable logging for gensim - optional\n",
    "import logging\n",
    "logging.basicConfig(format='%(asctime)s : %(levelname)s : %(message)s', level=logging.ERROR)"
   ]
  },
  {
   "cell_type": "code",
   "execution_count": 22,
   "id": "8187c398",
   "metadata": {
    "execution": {
     "iopub.execute_input": "2022-12-14T12:54:24.912787Z",
     "iopub.status.busy": "2022-12-14T12:54:24.912400Z",
     "iopub.status.idle": "2022-12-14T12:55:14.842833Z",
     "shell.execute_reply": "2022-12-14T12:55:14.841624Z"
    },
    "papermill": {
     "duration": 49.951657,
     "end_time": "2022-12-14T12:55:14.845557",
     "exception": false,
     "start_time": "2022-12-14T12:54:24.893900",
     "status": "completed"
    },
    "tags": []
   },
   "outputs": [
    {
     "name": "stdout",
     "output_type": "stream",
     "text": [
      "Collecting gensim==3.6.0\r\n",
      "  Downloading gensim-3.6.0.tar.gz (23.1 MB)\r\n",
      "\u001b[2K     \u001b[90m━━━━━━━━━━━━━━━━━━━━━━━━━━━━━━━━━━━━━━━━\u001b[0m \u001b[32m23.1/23.1 MB\u001b[0m \u001b[31m13.8 MB/s\u001b[0m eta \u001b[36m0:00:00\u001b[0m\r\n",
      "\u001b[?25h  Preparing metadata (setup.py) ... \u001b[?25l-\b \b\\\b \bdone\r\n",
      "\u001b[?25hRequirement already satisfied: numpy>=1.11.3 in /opt/conda/lib/python3.7/site-packages (from gensim==3.6.0) (1.21.6)\r\n",
      "Requirement already satisfied: scipy>=0.18.1 in /opt/conda/lib/python3.7/site-packages (from gensim==3.6.0) (1.7.3)\r\n",
      "Requirement already satisfied: six>=1.5.0 in /opt/conda/lib/python3.7/site-packages (from gensim==3.6.0) (1.15.0)\r\n",
      "Requirement already satisfied: smart_open>=1.2.1 in /opt/conda/lib/python3.7/site-packages (from gensim==3.6.0) (5.2.1)\r\n",
      "Building wheels for collected packages: gensim\r\n",
      "  Building wheel for gensim (setup.py) ... \u001b[?25l-\b \b\\\b \b|\b \b/\b \b-\b \b\\\b \b|\b \b/\b \b-\b \b\\\b \b|\b \b/\b \b-\b \b\\\b \b|\b \b/\b \b-\b \b\\\b \b|\b \b/\b \b-\b \b\\\b \b|\b \b/\b \b-\b \b\\\b \b|\b \b/\b \b-\b \b\\\b \b|\b \b/\b \b-\b \b\\\b \b|\b \bdone\r\n",
      "\u001b[?25h  Created wheel for gensim: filename=gensim-3.6.0-cp37-cp37m-linux_x86_64.whl size=24613028 sha256=d28502ff250f6fdd94bd2120d21b766e9da06af8669381054a473e53ed52bd2f\r\n",
      "  Stored in directory: /root/.cache/pip/wheels/53/c8/f9/afb722099bdb5d73e5807019ce1512fd065502ccc15ea2b5bd\r\n",
      "Successfully built gensim\r\n",
      "Installing collected packages: gensim\r\n",
      "  Attempting uninstall: gensim\r\n",
      "    Found existing installation: gensim 4.0.1\r\n",
      "    Uninstalling gensim-4.0.1:\r\n",
      "      Successfully uninstalled gensim-4.0.1\r\n",
      "\u001b[31mERROR: pip's dependency resolver does not currently take into account all the packages that are installed. This behaviour is the source of the following dependency conflicts.\r\n",
      "scattertext 0.1.7 requires gensim>=4.0.0, but you have gensim 3.6.0 which is incompatible.\u001b[0m\u001b[31m\r\n",
      "\u001b[0mSuccessfully installed gensim-3.6.0\r\n",
      "\u001b[33mWARNING: Running pip as the 'root' user can result in broken permissions and conflicting behaviour with the system package manager. It is recommended to use a virtual environment instead: https://pip.pypa.io/warnings/venv\u001b[0m\u001b[33m\r\n",
      "\u001b[0m\r\n",
      "Usage:   \r\n",
      "  pip install [options] <requirement specifier> [package-index-options] ...\r\n",
      "  pip install [options] -r <requirements file> [package-index-options] ...\r\n",
      "  pip install [options] [-e] <vcs project url> ...\r\n",
      "  pip install [options] [-e] <local project path> ...\r\n",
      "  pip install [options] <archive url/path> ...\r\n",
      "\r\n",
      "no such option: -m\r\n"
     ]
    }
   ],
   "source": [
    "!pip3 install gensim==3.6.0\n",
    "\n",
    "!pip install -m spacy download en\n",
    "\n"
   ]
  },
  {
   "cell_type": "markdown",
   "id": "1b1709b4",
   "metadata": {
    "papermill": {
     "duration": 0.020947,
     "end_time": "2022-12-14T12:55:14.887744",
     "exception": false,
     "start_time": "2022-12-14T12:55:14.866797",
     "status": "completed"
    },
    "tags": []
   },
   "source": [
    "summarize the text"
   ]
  },
  {
   "cell_type": "code",
   "execution_count": 23,
   "id": "431e5852",
   "metadata": {
    "execution": {
     "iopub.execute_input": "2022-12-14T12:55:14.932422Z",
     "iopub.status.busy": "2022-12-14T12:55:14.931966Z",
     "iopub.status.idle": "2022-12-14T12:55:15.620059Z",
     "shell.execute_reply": "2022-12-14T12:55:15.619197Z"
    },
    "papermill": {
     "duration": 0.713616,
     "end_time": "2022-12-14T12:55:15.622509",
     "exception": false,
     "start_time": "2022-12-14T12:55:14.908893",
     "status": "completed"
    },
    "tags": []
   },
   "outputs": [
    {
     "name": "stdout",
     "output_type": "stream",
     "text": [
      "h. aldhyani ,4ahmed abdullah alqarni ,5 nizar alsharif,6m .\n",
      "chronic kidney disease ( ckd ) is among the top 20 causes of death worldwide and aﬀects approximately 10 % of the world adult population .\n",
      "due to the increasing number of people with ckd , eﬀective predictionmeasuresfortheearlydiagnosisofckdarerequired.xz_henoveltyofthisstudyliesindevelopingthediagnosissystemtodetect chronic kidney diseases .\n",
      "xz_his study assists experts in exploring preventive measures for ckd through early diagnosis using machine learning techniques .\n",
      "to choose the most important features , recursivefeatureelimination ( rfe ) wasapplied.fourclassiﬁcationalgorithmsappliedinthisstudyweresupportvectormachine ( svm ) , k-nearest neighbors ( knn ) , decision tree , and random forest .\n",
      "xz_he random forest algorithmoutperformed all other appliedalgorithms , reaching an accuracy , precision , recall , and f1-score of100 % for all measures.ckdisaseriouslife-threateningdisease , withhighratesofmorbidityandmortality.xz_herefore , artiﬁcialintelligencetechniques areofgreatimportanceintheearlydetectionofckd.xz_hesetechniquesaresupportiveofexpertsanddoctorsinearlydiagnosistoavoid developing kidney failure .\n",
      "1.introduction chronic kidney disease ( ckd ) has received much attention duetoitshighmortalityrate.chronicdiseaseshavebecomeaconcernthreateningdevelopingcountries , accordingtotheworld health organization ( who ) [ 1 ] .\n",
      "table 1 shows the diﬀerent stages of kidney disease development with gfr levels .\n",
      "in themedical diagnosis of chronic kidney disease , two medicaltests are used to detect ckd , which are by a blood test tocheck the glomerular ﬁltrate or by a urine test to checkalbumin.duetotheincreasingnumberofchronickidneypatients , thescarcityofspecialistphysicians , andthehigh costs of diagnosis and treatment , especially in developing countries , there is a need for computer-assisted diag-nostics to help physicians and radiologists in supportingtheir diagnostic decisions .\n",
      "artiﬁcial intelligence tech-niqueshaveplayedaroleinthehealthsectorandmedicalimage processing , where machine learning and deeplearning techniques have been applied in the processes ofdisease prediction and disease diagnosis in the earlystages .\n",
      "artiﬁcial intelligence ( ann ) approaches haveplayedabasicroleintheearlydiagnosisofckd.machinelearning algorithms are used for the early diagnosis of ckd.xz_heannandsvmalgorithmsareamongthemost widely used technologies .\n",
      "ann and svmreached an accuracy of 99.75 % and 97.75 % , respectively.rady and anwar [ 13 ] applied probabilistic neural networks ( pnn ) , multilayerperceptron ( mlp ) , svm , andradialbasisfunction ( rbf ) algorithms to diagnose ckd dataset .\n",
      "[ 14 ] applied two algo-rithms—naivebayesandartiﬁcialneuralnetworks ( ann ) — to diagnose a uci dataset for ckd .\n",
      "xz_he knn , naive bayes , and svm algorithms were applied for ckddataset diagnosis .\n",
      "[ 22 ] applied a model to test2 journalofhealthcareengineeringdiabetes related to chronic kidney disease .\n",
      "[ 23 ] applied two methods , namely , hybridwrapper and filter-based fs ( hwffs ) and feature se-lection ( fs ) , to reduce the dimensions of the dataset andselect the features associated with ckd strongly .\n",
      "xz_he contribution of the current study lies in using re- cursive feature elimination ( rfe ) technique with machinelearning algorithms to develop system for detecting chronickidney diseases .\n",
      "xz_he contributions of this paper are sum-marized as follows : ( i ) we used integrated model to select the most sig- niﬁcant representative features by using the re-cursive feature elimination ( rfe ) algorithm ( ii ) four machine learning algorithms , namely , svm , knn , decisiontree , andrandomforest , wereusedto diagnose ckd with promising accuracy ( iii ) highlyeﬃcientmachinelearningtechniquesforthe diagnosis of chronic kidney disease can be popu-larized with the help of expert physicians 2.materials and methods a series of experiments were conducted using machinelearningalgorithms : svm , knn , decisiontree , andrandomforest to evaluate ckd dataset .\n",
      "xz_he features of importanceassociated with the features of importance for ckd diag-nosis were selected using the rfe algorithm .\n",
      "xz_hese selectedfeatureswerefedintoclassiﬁersfordiseasediagnosis.inthisstudy , four classiﬁers were applied to diagnose ckd : svm , knn , decision tree , and random forest .\n",
      "xz_he dataset comprises 24 featuresdividedinto11numericfeaturesand13categoricalfeatures , in addition to the class features , such as “ ckd ” and “ notckd ” for classiﬁcation .\n",
      "in this study , we used the rfemethod to extract the most important features of a pre-diction.xz_herecursivefeatureelimination ( rfe ) algorithmisverypopular duetoitsease ofuseand conﬁgurationsandits eﬀectiveness in selecting features in training datasetsrelevant to predicting target variables and eliminating weakfeatures .\n",
      "dataminingtechniqueshavebeenused to deﬁne new and understandable patterns to construct classiﬁcationtemplates [ 26 ] .supervisedandunsupervisedlearning techniques require the construction of modelsbased on prior analysis and are used in medical andclinical diagnostics for classiﬁcation and regression [ 27 ] .fourpopularmachinelearningalgorithmsusedaresvm , knn , decision tree , and random forest , which give thebestdiagnosticresults.machinelearningtechniquesworkto build predictive/classiﬁcation models through twostages : thetrainingphase , inwhichamodelisconstructed from a set of training data with the expected outputs , and the validation stage , which estimates the quality of thetrained models from the validation dataset without theexpectedoutput.allalgorithmsaresupervisedalgorithmsthat are used to solve classiﬁcation and regressionproblems .\n",
      "dataset of ckdpreprocessingfeatures selection evaluation performance of ckdnot ckdckdsvm knndecision treerandom forestclassification figure2 : xz_he proposed system for the diagnosis of ckd.4 journalofhealthcareengineeringk x , x′ \u0000 􏼁 �exp −x−x′�������� 2 2σ2⎛⎝ ⎞⎠ , ( 1 ) where x , x′are input data and ‖x−x′‖2indicates the betweenthebetweentheinputfeatures .\n",
      "xz_he knn algorithm works on the similarity between new and stored data points ( training points ) and classiﬁes the new test pointinto the most similar class among the available classes.xz_heknnalgorithmisnonparametric , anditiscalledthelazy learning algorithm , meaning that it does not learnfrom the training dataset , but rather stores the trainingdataset .\n",
      "by the name of the algorithm , it is a classiﬁer that contains some decision trees onsubsetsofthedataset , andanaverageistakentoimprovetheprediction.insteadofrelyingonasingledecisiontreeforthe prediction process , the random forest algorithm takespredictions from each decision tree and relies on the ma-jorityvotetomakethedecisiontopredicttheﬁnaloutcome.table2 : statistical analysis of the dataset of numerical features .\n",
      "( ii ) when k ( 1 < k < k ) : ( iii ) featurevectorθ kisgenerated , θkrepresentsinput data generated from creating tree samples ( iv ) at this step , construct tree - h ( x , θk ) ( v ) employing any decision tree algorithm ( vi ) at this step , each tree casts 1 vote for class y ( vii ) xz_he class yis classiﬁed by choosing the class with maximum votes 3.experiment environment setup xz_his section presents the results of the developing system .\n",
      "table 5 shows the environ- ment setup of the developing system.table4 : xz_he importance of predictive variables in diagnosing ckd .\n",
      "dataset numbers training 300 patients testing and validation 100 patients table7 : results of diagnosing ckd using four machine learning algorithms .\n",
      "classiﬁers svm knn decision tree random forest accuracy % 96.67 98.33 99.17 100.00 precision % 92.00 100.00 100.00 100.00 recall % 94.74 97.37 98.68 100.00 f1-score % 97.30 98.67 99.34 100.00 0.16 –0.19 0.12 0.22 0.24 0.16 0.19 0.200.22 –0.30 0.27 0.38 0.450.720.17 0.15–0.37 –0.31 0.40 0.220.14 0.11 0.59 0.13 –0.36 0.12 –0.46 –0.13 –0.27 –0.32 –0.69 0.10 0.41 0.08 0.13 0.22 0.07 0.36 0.33 0.06 –0.07 –0.31 –0.63 –0.22 –0.31 –0.61 –0.400.10 0.37 –0.13 –0.40 0.38 –0.16–0.01 0.01 –0.11–0.40 0.34 –0.160.90 –0.17–0.80–0.20–0.79 –0.16–0.19 0.60 –0.33 –0.61 –0.24 –0.30 –0.61 –0.24 0.60 0.03 0.23 0.18 0.15 0.05 0.12 –0.24 –0.26 –0.57 –0.24 –0.28 –0.58 –0.27 –0.58–0.47 0.16–0.220.9 0.6 0.3 0.0 –0.3 –0.6corr elations between different predictors age blood_pressure specific_gravity albumin sugar blood_glucose_random blood_urea serum_creatinine sodium potassium haemoglobin packed_cell_volume white_blood_cell_count red_blood_cell_count age blood_pressure specific_gravity albumin sugar blood_glucose_random blood_urea serum_creatinine sodium potassium haemoglobin packed_cell_volume white_blood_cell_count red_blood_cell_count figure4 : correlation between diﬀerent features.journalofhealthcareengineering 73.2 .\n",
      "xz_he random forest algorithm outperformed therest of the classiﬁers , reaching an accuracy , precision , table8 : comparison of the performance of our proposed system with previous studies .\n",
      "[ 33 ] 89.2 97.72 97.8 harimoorthy and xz_hangavelu [ 34 ] 66.3 65.9 65.9 proposed model ( random forest ) 100 100 100 100 proposed model ( decision tree ) 99.34 98.68 100 99.17 proposed model ( knn ) 98.33 100 97.37 98.67 proposed model ( svm ) 97.3 94.74 92 96.67 100 90 8070605040302010 0 accuracy % precision % recall % f1 score % hore et al .\n",
      ") proposed model ( knn ) proposed model ( svm ) figure5 : comparison of system ’ s performance on diagnostic accuracy in the two datasets.8 journalofhealthcareengineeringrecall , and f1-score of 100 % for all measures .\n",
      "twenty-four numerical and nominal features were in- troducedfrom400patientswithckd.duetotheneglectofsome tests for some patients , some computation methodswere applied to solve this problem .\n",
      "xz_he dataset is randomly divided into75 % fortrainingand25 % fortestingandvalidation.xz_he recursive feature elimination method was presented toselecttheirrelevantsubsetfeatures.xz_hen , theselectfeatureswere processed by employing classiﬁers for diagnosis ofckd .\n",
      "xz_he rfe algorithm was ap-plied to select the most strongly representative features of ckd .\n",
      "selected features were fed into classiﬁcation algo- rithms : svm , knn , decision tree , and random forest .\n",
      "xz_heparameters of all classiﬁers were tuned to perform the bestclassiﬁcation , so all algorithms reached promising results.xz_he random forest algorithm outperformed all other algo-rithms , achievinganaccuracy , precision , recall , andf1-scoreof 100 % for all measures .\n",
      "y. alzahrani , “ soft computing model to predict chronic diseases , ” information science and engineering , vol .\n",
      "[ 7 ] r.m.pujariandv.d.hajare , “ analysisofultrasoundimages for identiﬁcation of chronic kidney disease stages , ” inproceedings of the 2014 first international conference on networks & softcomputing ( icnsc2014 ) , pp.380–383 , ieee , guntur , india , august 2014 .\n",
      "m. rahman , “ diagnosis of kidney disease using fuzzy expert system , ” in proceedings of the 8th international conference on software , knowledge , information management and applicationsjournalofhealthcareengineering 9 ( skima 2014 ) , pp.1–8 , ieee , dhaka , bangladesh , december 2014 .\n",
      "khanna , “ kdsae : chronic kidney disease classiﬁcation with multimedia data learning using deep stacked autoen- coder network , ” multimedia tools and applications , vol .\n",
      "ye , “ classiﬁcation of chronic kidney disease in sonography using the glcm and artiﬁcial neuralnetwork , ” diagnostics , vol .\n",
      "a. recio-garcia , “ explainable pre-diction of chronic renal disease in the colombian population using neural networks and case-based reasoning , ” ieee ac- cess , vol .\n",
      "k. altheeb , r.e.juri , andj.alhiyaﬁ , “ neuralnetworkandsupportvectormachine for the prediction of chronic kidney disease : a comparative study , ” computers in biology and medicine , vol .\n",
      "s. anwar , “ prediction of kidney disease stagesusingdataminingalgorithms , ” informaticsinmedicine unlocked , vol .\n",
      "[ 14 ] v.kunwar , k.chandel , a.s.sabitha , anda.bansal , “ chronic kidney disease analysis using data mining classiﬁcation techniques , ” in proceedings of the 2016 6th international conference-cloud system and big data engineering ( con-ﬂuence ) , pp .\n",
      "w. putra , “ boosted classiﬁer and features selection for enhancing chronic kidney disease diagnose , ” in proceedings of the 2017 5th international conference on cyber and it service man-agement ( citsm ) , pp .\n",
      "avci , “ performance comparison of some classiﬁers on chronic kidney disease data , ” inproceedingsofthe20186thinternationalsymposium on digital forensic and security ( isdfs ) , pp .\n",
      "c. chen , “ intelligent systems developed for the early de- tection of chronic kidney disease , ” advances in artiﬁcial neural systems , vol .\n",
      "s. hota , “ classiﬁcation of chronic kidney disease with proposed union based feature selection technique , ” ssrn electronic journal , vol .\n",
      "uthayakumar , “ intelligent diagnostic prediction and classiﬁcation system for chronic kidneydisease , ” scientiﬁcreports , vol.9 , no.1 , pp.1–14,2019 .\n",
      "jiang , “ prediction of hemodialysis timing based on lvw feature selection andensemblelearning , ” journalofmedicalsystems , vol.43 , no.1 , pp .\n",
      ", “ predictingtheearly risk of chronic kidney disease in patients with diabetes usingreal-world data , ” nature medicine , vol .\n",
      "kalaiselvi , “ ensemble swarm behaviour based feature selection and support vector machine classiﬁerfor chronic kidney disease prediction , ” international journal of engineering & technology , vol .\n",
      "m. churpek , “ comparison of variable selection methods for clinical predictive modeling , ” international journal of medical informatics , vol .\n",
      "y. alzahrani , “ soft clusteringforenhancingthediagnosisofchronicdiseasesover machine learning algorithms , ” healthcare engineering , vol .\n",
      "virmani , “ detection of chronic kidney disease : a nn-ga-based ap- proach , ” in proceedings of the nature inspired computing , pp .\n",
      "g. wang , “ xgboost model for chronic kidney disease diagnosis , ” ieee/acm transactions on computational biology and bioinformatics , vol .\n",
      "kim , “ an empirical evaluation of machine learning techniques for chronic kidney disease prophecy , ” ieee access , vol .\n",
      "badeji-ajisafe , “ development of an ensemble approach to chronic kidney disease diagnosis , ” scientiﬁc african , vol .\n"
     ]
    }
   ],
   "source": [
    "from gensim.summarization.summarizer import summarize\n",
    "# Print out our summarized text of the document which was converted to lower case, remember we could have opted to remove stopwords as well.\n",
    "\n",
    "print(summarize(lower_case))\n",
    "data  = []\n",
    "data.append(clean_text(lower_case))"
   ]
  },
  {
   "cell_type": "markdown",
   "id": "5a863f07",
   "metadata": {
    "papermill": {
     "duration": 0.021853,
     "end_time": "2022-12-14T12:55:15.667005",
     "exception": false,
     "start_time": "2022-12-14T12:55:15.645152",
     "status": "completed"
    },
    "tags": []
   },
   "source": [
    "this time we are using spacy for lemmatization last time we used nltk"
   ]
  },
  {
   "cell_type": "code",
   "execution_count": 24,
   "id": "e89f0b27",
   "metadata": {
    "execution": {
     "iopub.execute_input": "2022-12-14T12:55:15.716568Z",
     "iopub.status.busy": "2022-12-14T12:55:15.715525Z",
     "iopub.status.idle": "2022-12-14T12:55:26.384787Z",
     "shell.execute_reply": "2022-12-14T12:55:26.383703Z"
    },
    "papermill": {
     "duration": 10.698541,
     "end_time": "2022-12-14T12:55:26.387499",
     "exception": false,
     "start_time": "2022-12-14T12:55:15.688958",
     "status": "completed"
    },
    "tags": []
   },
   "outputs": [
    {
     "name": "stderr",
     "output_type": "stream",
     "text": [
      "/opt/conda/lib/python3.7/site-packages/tensorflow/python/framework/dtypes.py:585: DeprecationWarning: `np.object` is a deprecated alias for the builtin `object`. To silence this warning, use `object` by itself. Doing this will not modify any behavior and is safe. \n",
      "Deprecated in NumPy 1.20; for more details and guidance: https://numpy.org/devdocs/release/1.20.0-notes.html#deprecations\n",
      "  np.object,\n",
      "/opt/conda/lib/python3.7/site-packages/tensorflow/python/framework/dtypes.py:627: DeprecationWarning: `np.object` is a deprecated alias for the builtin `object`. To silence this warning, use `object` by itself. Doing this will not modify any behavior and is safe. \n",
      "Deprecated in NumPy 1.20; for more details and guidance: https://numpy.org/devdocs/release/1.20.0-notes.html#deprecations\n",
      "  np.object,\n",
      "/opt/conda/lib/python3.7/site-packages/tensorflow/python/framework/dtypes.py:637: DeprecationWarning: `np.bool` is a deprecated alias for the builtin `bool`. To silence this warning, use `bool` by itself. Doing this will not modify any behavior and is safe. If you specifically wanted the numpy scalar type, use `np.bool_` here.\n",
      "Deprecated in NumPy 1.20; for more details and guidance: https://numpy.org/devdocs/release/1.20.0-notes.html#deprecations\n",
      "  np.bool,\n",
      "/opt/conda/lib/python3.7/site-packages/tensorflow/python/framework/tensor_util.py:108: DeprecationWarning: `np.object` is a deprecated alias for the builtin `object`. To silence this warning, use `object` by itself. Doing this will not modify any behavior and is safe. \n",
      "Deprecated in NumPy 1.20; for more details and guidance: https://numpy.org/devdocs/release/1.20.0-notes.html#deprecations\n",
      "  np.object:\n",
      "/opt/conda/lib/python3.7/site-packages/tensorflow/python/framework/tensor_util.py:110: DeprecationWarning: `np.bool` is a deprecated alias for the builtin `bool`. To silence this warning, use `bool` by itself. Doing this will not modify any behavior and is safe. If you specifically wanted the numpy scalar type, use `np.bool_` here.\n",
      "Deprecated in NumPy 1.20; for more details and guidance: https://numpy.org/devdocs/release/1.20.0-notes.html#deprecations\n",
      "  np.bool:\n",
      "/opt/conda/lib/python3.7/site-packages/tensorflow/python/ops/numpy_ops/np_random.py:110: DeprecationWarning: `np.int` is a deprecated alias for the builtin `int`. To silence this warning, use `int` by itself. Doing this will not modify any behavior and is safe. When replacing `np.int`, you may wish to use e.g. `np.int64` or `np.int32` to specify the precision. If you wish to review your current use, check the release note link for additional information.\n",
      "Deprecated in NumPy 1.20; for more details and guidance: https://numpy.org/devdocs/release/1.20.0-notes.html#deprecations\n",
      "  def randint(low, high=None, size=None, dtype=onp.int):  # pylint: disable=missing-function-docstring\n",
      "/opt/conda/lib/python3.7/site-packages/keras_preprocessing/image/utils.py:23: DeprecationWarning: NEAREST is deprecated and will be removed in Pillow 10 (2023-07-01). Use Resampling.NEAREST or Dither.NONE instead.\n",
      "  'nearest': pil_image.NEAREST,\n",
      "/opt/conda/lib/python3.7/site-packages/keras_preprocessing/image/utils.py:24: DeprecationWarning: BILINEAR is deprecated and will be removed in Pillow 10 (2023-07-01). Use Resampling.BILINEAR instead.\n",
      "  'bilinear': pil_image.BILINEAR,\n",
      "/opt/conda/lib/python3.7/site-packages/keras_preprocessing/image/utils.py:25: DeprecationWarning: BICUBIC is deprecated and will be removed in Pillow 10 (2023-07-01). Use Resampling.BICUBIC instead.\n",
      "  'bicubic': pil_image.BICUBIC,\n",
      "/opt/conda/lib/python3.7/site-packages/keras_preprocessing/image/utils.py:28: DeprecationWarning: HAMMING is deprecated and will be removed in Pillow 10 (2023-07-01). Use Resampling.HAMMING instead.\n",
      "  if hasattr(pil_image, 'HAMMING'):\n",
      "/opt/conda/lib/python3.7/site-packages/keras_preprocessing/image/utils.py:29: DeprecationWarning: HAMMING is deprecated and will be removed in Pillow 10 (2023-07-01). Use Resampling.HAMMING instead.\n",
      "  _PIL_INTERPOLATION_METHODS['hamming'] = pil_image.HAMMING\n",
      "/opt/conda/lib/python3.7/site-packages/keras_preprocessing/image/utils.py:30: DeprecationWarning: BOX is deprecated and will be removed in Pillow 10 (2023-07-01). Use Resampling.BOX instead.\n",
      "  if hasattr(pil_image, 'BOX'):\n",
      "/opt/conda/lib/python3.7/site-packages/keras_preprocessing/image/utils.py:31: DeprecationWarning: BOX is deprecated and will be removed in Pillow 10 (2023-07-01). Use Resampling.BOX instead.\n",
      "  _PIL_INTERPOLATION_METHODS['box'] = pil_image.BOX\n",
      "/opt/conda/lib/python3.7/site-packages/keras_preprocessing/image/utils.py:33: DeprecationWarning: LANCZOS is deprecated and will be removed in Pillow 10 (2023-07-01). Use Resampling.LANCZOS instead.\n",
      "  if hasattr(pil_image, 'LANCZOS'):\n",
      "/opt/conda/lib/python3.7/site-packages/keras_preprocessing/image/utils.py:34: DeprecationWarning: LANCZOS is deprecated and will be removed in Pillow 10 (2023-07-01). Use Resampling.LANCZOS instead.\n",
      "  _PIL_INTERPOLATION_METHODS['lanczos'] = pil_image.LANCZOS\n",
      "/opt/conda/lib/python3.7/site-packages/mxnet/numpy/utils.py:37: DeprecationWarning: `np.bool` is a deprecated alias for the builtin `bool`. To silence this warning, use `bool` by itself. Doing this will not modify any behavior and is safe. If you specifically wanted the numpy scalar type, use `np.bool_` here.\n",
      "Deprecated in NumPy 1.20; for more details and guidance: https://numpy.org/devdocs/release/1.20.0-notes.html#deprecations\n",
      "  bool = onp.bool\n",
      "/opt/conda/lib/python3.7/site-packages/mxnet/numpy/fallback.py:143: DeprecationWarning: In accordance with NEP 32, the function mirr was removed from NumPy version 1.20.  A replacement for this function is available in the numpy_financial library: https://pypi.org/project/numpy-financial\n",
      "  mirr = onp.mirr\n",
      "/opt/conda/lib/python3.7/site-packages/mxnet/numpy/fallback.py:160: DeprecationWarning: In accordance with NEP 32, the function npv was removed from NumPy version 1.20.  A replacement for this function is available in the numpy_financial library: https://pypi.org/project/numpy-financial\n",
      "  npv = onp.npv\n",
      "/opt/conda/lib/python3.7/site-packages/mxnet/numpy/fallback.py:164: DeprecationWarning: In accordance with NEP 32, the function pmt was removed from NumPy version 1.20.  A replacement for this function is available in the numpy_financial library: https://pypi.org/project/numpy-financial\n",
      "  pmt = onp.pmt\n",
      "/opt/conda/lib/python3.7/site-packages/mxnet/numpy/fallback.py:173: DeprecationWarning: In accordance with NEP 32, the function ppmt was removed from NumPy version 1.20.  A replacement for this function is available in the numpy_financial library: https://pypi.org/project/numpy-financial\n",
      "  ppmt = onp.ppmt\n",
      "/opt/conda/lib/python3.7/site-packages/mxnet/numpy/fallback.py:176: DeprecationWarning: In accordance with NEP 32, the function pv was removed from NumPy version 1.20.  A replacement for this function is available in the numpy_financial library: https://pypi.org/project/numpy-financial\n",
      "  pv = onp.pv\n",
      "/opt/conda/lib/python3.7/site-packages/mxnet/numpy/fallback.py:177: DeprecationWarning: In accordance with NEP 32, the function rate was removed from NumPy version 1.20.  A replacement for this function is available in the numpy_financial library: https://pypi.org/project/numpy-financial\n",
      "  rate = onp.rate\n"
     ]
    }
   ],
   "source": [
    "\n",
    "import spacy\n",
    "\n",
    "# Second lemmatization of our data\n",
    "def lemmatization(data,allowed_postags=['NOUN', 'ADJ', 'VERB', 'ADV']):\n",
    "    \"\"\"https://spacy.io/api/annotation\"\"\"\n",
    "   \n",
    "    texts_output = []\n",
    "    for sent in data:\n",
    "        doc = nlp(\" \".join(sent)) \n",
    "        texts_output.append([token.lemma_ for token in doc if token.pos_ in allowed_postags])\n",
    "    return texts_output\n",
    "\n",
    "nlp = spacy.load('en_core_web_sm')    \n",
    "\n",
    "# Lemmatize keeping only noun, adj, vb, adv\n",
    "data_lemmatized = lemmatization(data, allowed_postags=['NOUN', 'ADJ', 'VERB', 'ADV'])"
   ]
  },
  {
   "cell_type": "markdown",
   "id": "765272a4",
   "metadata": {
    "papermill": {
     "duration": 0.022125,
     "end_time": "2022-12-14T12:55:26.432282",
     "exception": false,
     "start_time": "2022-12-14T12:55:26.410157",
     "status": "completed"
    },
    "tags": []
   },
   "source": [
    "put the lemmatized text in a dictionary and create a corpus"
   ]
  },
  {
   "cell_type": "code",
   "execution_count": 25,
   "id": "9d2e1b19",
   "metadata": {
    "execution": {
     "iopub.execute_input": "2022-12-14T12:55:26.478789Z",
     "iopub.status.busy": "2022-12-14T12:55:26.478127Z",
     "iopub.status.idle": "2022-12-14T12:55:26.489308Z",
     "shell.execute_reply": "2022-12-14T12:55:26.488526Z"
    },
    "papermill": {
     "duration": 0.037291,
     "end_time": "2022-12-14T12:55:26.491994",
     "exception": false,
     "start_time": "2022-12-14T12:55:26.454703",
     "status": "completed"
    },
    "tags": []
   },
   "outputs": [
    {
     "name": "stdout",
     "output_type": "stream",
     "text": [
      "[[(0, 1), (1, 2), (2, 1), (3, 1), (4, 1), (5, 3), (6, 1), (7, 1), (8, 1), (9, 15), (10, 1), (11, 1), (12, 1), (13, 2), (14, 1), (15, 1), (16, 1), (17, 1), (18, 1), (19, 1), (20, 1), (21, 1), (22, 1), (23, 1), (24, 6), (25, 1), (26, 3), (27, 11), (28, 1), (29, 1), (30, 1), (31, 1), (32, 1), (33, 1), (34, 1), (35, 8), (36, 1), (37, 1), (38, 1), (39, 1), (40, 1), (41, 1), (42, 1), (43, 1), (44, 1), (45, 1), (46, 1), (47, 1), (48, 1), (49, 1), (50, 1), (51, 1), (52, 1), (53, 1), (54, 2), (55, 1), (56, 1), (57, 1), (58, 1), (59, 1), (60, 16), (61, 1), (62, 3), (63, 1), (64, 1), (65, 1), (66, 1), (67, 2), (68, 6), (69, 3), (70, 1), (71, 1), (72, 1), (73, 1), (74, 2), (75, 1), (76, 1), (77, 1), (78, 1), (79, 1), (80, 1), (81, 3), (82, 2), (83, 1), (84, 1), (85, 1), (86, 9), (87, 1), (88, 4), (89, 1), (90, 1), (91, 1), (92, 1), (93, 1), (94, 1), (95, 1), (96, 1), (97, 1), (98, 1), (99, 1), (100, 1), (101, 2), (102, 1), (103, 19), (104, 1), (105, 1), (106, 1), (107, 2), (108, 1), (109, 1), (110, 1), (111, 1), (112, 1), (113, 1), (114, 1), (115, 2), (116, 1), (117, 2), (118, 1), (119, 2), (120, 1), (121, 11), (122, 1), (123, 1), (124, 1), (125, 2), (126, 1), (127, 1), (128, 1), (129, 4), (130, 29), (131, 1), (132, 1), (133, 2), (134, 2), (135, 1), (136, 1), (137, 10), (138, 1), (139, 1), (140, 1), (141, 2), (142, 10), (143, 1), (144, 6), (145, 8), (146, 1), (147, 1), (148, 1), (149, 1), (150, 1), (151, 1), (152, 1), (153, 3), (154, 1), (155, 1), (156, 1), (157, 2), (158, 1), (159, 1), (160, 2), (161, 1), (162, 4), (163, 1), (164, 1), (165, 1), (166, 1), (167, 6), (168, 2), (169, 1), (170, 2), (171, 1), (172, 1), (173, 2), (174, 1), (175, 1), (176, 2), (177, 2), (178, 5), (179, 1), (180, 1), (181, 2), (182, 2), (183, 3), (184, 1), (185, 1), (186, 1), (187, 1), (188, 1), (189, 1), (190, 2), (191, 6), (192, 1), (193, 1), (194, 1), (195, 5), (196, 2), (197, 1), (198, 2), (199, 1), (200, 1), (201, 1), (202, 1), (203, 1), (204, 4), (205, 4), (206, 6), (207, 1), (208, 1), (209, 23), (210, 1), (211, 10), (212, 1), (213, 1), (214, 19), (215, 1), (216, 1), (217, 1), (218, 1), (219, 1), (220, 1), (221, 1), (222, 1), (223, 1), (224, 1), (225, 3), (226, 1), (227, 1), (228, 7), (229, 2), (230, 1), (231, 1), (232, 1), (233, 5), (234, 1), (235, 9), (236, 16), (237, 1), (238, 1), (239, 9), (240, 2), (241, 1), (242, 1), (243, 1), (244, 1), (245, 2), (246, 34), (247, 1), (248, 1), (249, 1), (250, 1), (251, 1), (252, 1), (253, 5), (254, 1), (255, 1), (256, 2), (257, 1), (258, 4), (259, 1), (260, 1), (261, 1), (262, 1), (263, 5), (264, 1), (265, 2), (266, 1), (267, 1), (268, 1), (269, 4), (270, 2), (271, 4), (272, 1), (273, 3), (274, 1), (275, 4), (276, 1), (277, 1), (278, 1), (279, 3), (280, 1), (281, 1), (282, 2), (283, 1), (284, 2), (285, 3), (286, 4), (287, 1), (288, 2), (289, 4), (290, 1), (291, 2), (292, 5), (293, 1), (294, 1), (295, 1), (296, 5), (297, 1), (298, 1), (299, 1), (300, 5), (301, 1), (302, 5), (303, 1), (304, 1), (305, 1), (306, 1), (307, 66), (308, 3), (309, 1), (310, 5), (311, 1), (312, 1), (313, 2), (314, 1), (315, 4), (316, 1), (317, 1), (318, 12), (319, 1), (320, 1), (321, 6), (322, 1), (323, 2), (324, 1), (325, 1), (326, 1), (327, 1), (328, 1), (329, 2), (330, 3), (331, 3), (332, 1), (333, 3), (334, 2), (335, 2), (336, 1), (337, 1), (338, 1), (339, 1), (340, 1), (341, 1), (342, 2), (343, 1), (344, 1), (345, 1), (346, 1), (347, 3), (348, 2), (349, 2), (350, 1), (351, 3), (352, 8), (353, 1), (354, 1), (355, 1), (356, 1), (357, 2), (358, 1), (359, 1), (360, 1), (361, 3), (362, 1), (363, 2), (364, 1), (365, 4), (366, 2), (367, 4), (368, 1), (369, 1), (370, 1), (371, 2), (372, 3), (373, 1), (374, 4), (375, 1), (376, 3), (377, 2), (378, 1), (379, 1), (380, 1), (381, 1), (382, 8), (383, 1), (384, 1), (385, 2), (386, 1), (387, 1), (388, 3), (389, 1), (390, 2), (391, 1), (392, 1), (393, 1), (394, 1), (395, 5), (396, 1), (397, 1), (398, 1), (399, 1), (400, 1), (401, 1), (402, 1), (403, 1), (404, 1), (405, 1), (406, 1), (407, 1), (408, 41), (409, 1), (410, 1), (411, 1), (412, 1), (413, 1), (414, 1), (415, 12), (416, 1), (417, 2), (418, 1), (419, 1), (420, 3), (421, 1), (422, 2), (423, 8), (424, 3), (425, 1), (426, 1), (427, 1), (428, 1), (429, 1), (430, 2), (431, 1), (432, 1), (433, 1), (434, 1), (435, 11), (436, 1), (437, 1), (438, 1), (439, 1), (440, 1), (441, 1), (442, 1), (443, 1), (444, 2), (445, 1), (446, 6), (447, 1), (448, 1), (449, 8), (450, 1), (451, 1), (452, 2), (453, 1), (454, 2), (455, 1), (456, 1), (457, 1), (458, 15), (459, 1), (460, 1), (461, 3), (462, 1), (463, 1), (464, 1), (465, 1), (466, 9), (467, 1), (468, 1), (469, 1), (470, 1), (471, 6), (472, 21), (473, 1), (474, 1), (475, 2), (476, 1), (477, 1), (478, 1), (479, 1), (480, 2), (481, 1), (482, 1), (483, 4), (484, 1), (485, 2), (486, 1), (487, 2), (488, 1), (489, 1), (490, 1), (491, 4), (492, 2), (493, 1), (494, 1), (495, 1), (496, 1), (497, 10), (498, 7), (499, 1), (500, 7), (501, 1), (502, 2), (503, 1), (504, 2), (505, 6), (506, 1), (507, 4), (508, 1), (509, 3), (510, 2), (511, 7), (512, 6), (513, 1), (514, 1), (515, 1), (516, 2), (517, 1), (518, 1), (519, 1), (520, 1), (521, 1), (522, 1), (523, 1), (524, 1), (525, 1), (526, 2), (527, 2), (528, 2), (529, 1), (530, 1), (531, 1), (532, 5), (533, 2), (534, 1), (535, 4), (536, 1), (537, 1), (538, 3), (539, 1), (540, 10), (541, 1), (542, 1), (543, 1), (544, 1), (545, 1), (546, 1), (547, 1), (548, 1), (549, 7), (550, 1), (551, 1), (552, 1), (553, 1), (554, 1), (555, 4), (556, 1), (557, 1), (558, 2), (559, 6), (560, 1), (561, 1), (562, 4), (563, 1), (564, 9), (565, 8), (566, 1), (567, 11), (568, 2), (569, 1), (570, 2), (571, 7), (572, 1), (573, 1), (574, 1), (575, 7), (576, 1), (577, 4), (578, 1), (579, 2), (580, 1), (581, 1), (582, 1), (583, 1), (584, 1), (585, 6), (586, 5), (587, 4), (588, 1), (589, 1), (590, 1), (591, 2), (592, 1), (593, 1), (594, 1), (595, 19), (596, 2), (597, 1), (598, 1), (599, 1), (600, 1), (601, 1), (602, 1), (603, 1), (604, 1), (605, 3), (606, 7), (607, 1), (608, 1), (609, 3), (610, 1), (611, 1), (612, 2), (613, 1), (614, 7), (615, 1), (616, 1), (617, 10), (618, 3), (619, 1), (620, 2), (621, 1), (622, 4), (623, 1), (624, 3), (625, 1), (626, 1), (627, 1), (628, 1), (629, 1), (630, 1), (631, 1), (632, 1), (633, 1), (634, 2), (635, 3), (636, 2), (637, 2), (638, 2), (639, 1), (640, 3), (641, 2), (642, 1), (643, 4), (644, 1), (645, 4), (646, 3), (647, 1), (648, 1), (649, 5), (650, 1), (651, 1), (652, 1), (653, 1), (654, 2), (655, 9), (656, 1), (657, 1), (658, 1), (659, 1), (660, 5), (661, 1), (662, 1), (663, 5), (664, 1), (665, 1), (666, 1), (667, 9), (668, 7), (669, 1), (670, 1), (671, 1), (672, 2), (673, 1), (674, 1), (675, 4), (676, 2), (677, 1), (678, 1), (679, 7), (680, 1), (681, 1), (682, 1), (683, 1), (684, 3), (685, 2), (686, 1), (687, 1), (688, 2), (689, 5), (690, 1), (691, 2), (692, 1), (693, 1), (694, 1), (695, 1), (696, 1), (697, 14), (698, 1), (699, 2), (700, 1), (701, 7), (702, 1), (703, 2), (704, 3), (705, 1), (706, 1), (707, 2), (708, 1), (709, 10), (710, 1), (711, 1), (712, 4), (713, 4), (714, 1), (715, 1), (716, 1), (717, 1), (718, 2), (719, 1), (720, 2), (721, 1), (722, 1), (723, 25), (724, 1), (725, 1), (726, 6), (727, 1), (728, 1), (729, 5), (730, 10), (731, 5), (732, 1), (733, 9), (734, 1), (735, 1), (736, 2), (737, 1), (738, 1), (739, 1), (740, 1), (741, 2), (742, 1), (743, 1), (744, 1), (745, 1), (746, 1), (747, 1), (748, 1), (749, 1), (750, 1), (751, 1), (752, 1), (753, 1), (754, 1), (755, 1), (756, 3), (757, 1), (758, 1), (759, 1), (760, 1), (761, 1), (762, 1), (763, 1), (764, 1), (765, 1), (766, 1), (767, 4), (768, 4), (769, 1), (770, 1), (771, 1), (772, 1), (773, 5), (774, 22), (775, 1), (776, 2), (777, 1), (778, 1), (779, 1), (780, 1), (781, 1), (782, 1), (783, 1), (784, 2), (785, 1), (786, 1), (787, 1), (788, 1), (789, 1), (790, 1), (791, 1), (792, 2), (793, 1), (794, 1), (795, 38), (796, 1), (797, 1), (798, 1), (799, 6), (800, 18), (801, 1), (802, 5), (803, 1), (804, 7), (805, 1), (806, 1), (807, 1), (808, 1), (809, 1), (810, 19), (811, 6), (812, 2), (813, 1), (814, 1), (815, 1), (816, 1), (817, 2), (818, 1), (819, 1), (820, 1), (821, 1), (822, 1), (823, 4), (824, 2), (825, 1), (826, 1), (827, 1), (828, 1), (829, 1), (830, 1), (831, 1), (832, 1), (833, 1), (834, 2), (835, 1), (836, 1)]]\n"
     ]
    }
   ],
   "source": [
    "# Create Dictionary\n",
    "id2word = corpora.Dictionary(data_lemmatized)\n",
    "\n",
    "# Create Corpus\n",
    "texts = data_lemmatized\n",
    "\n",
    "# Term Document Frequency\n",
    "corpus = [id2word.doc2bow(text) for text in texts]\n",
    "\n",
    "\n",
    "# View\n",
    "print(corpus[:1])"
   ]
  },
  {
   "cell_type": "markdown",
   "id": "3d497fab",
   "metadata": {
    "papermill": {
     "duration": 0.022244,
     "end_time": "2022-12-14T12:55:26.537075",
     "exception": false,
     "start_time": "2022-12-14T12:55:26.514831",
     "status": "completed"
    },
    "tags": []
   },
   "source": [
    "**Gensim creates a unique id for each word in the document. The produced corpus shown above is a mapping of word id and word frequency in the document, i.e. [0,1] word_id 0 means the word id appers first in the document and word frequency it appears once in the document. For Human readable formart see cell [87-89] or else run the following code [[(id2word[id], freq) for id, freq in cp] for cp in corpus[:1]].**"
   ]
  },
  {
   "cell_type": "markdown",
   "id": "ec5593ae",
   "metadata": {
    "papermill": {
     "duration": 0.022046,
     "end_time": "2022-12-14T12:55:26.581930",
     "exception": false,
     "start_time": "2022-12-14T12:55:26.559884",
     "status": "completed"
    },
    "tags": []
   },
   "source": [
    "9.1 Building the topic model with LDA\n",
    "Apart from that, alpha and beta are hyperparameters that affect sparsity of the topics. Both with default values to 1.0/num_topics prior.\n",
    "\n",
    "alpha is the per-document topic distribution, in simple terms it is a matrix where each row is a document and each column is a topic. beta is the per-topic word distribution, also in simple terms it is a matrix where each row represents a topic and each column represents a word.\n",
    "\n",
    "Also see online documentation for gensim.gensim.models.ldamodel.LdaModel() parameters"
   ]
  },
  {
   "cell_type": "code",
   "execution_count": 26,
   "id": "1b57086e",
   "metadata": {
    "execution": {
     "iopub.execute_input": "2022-12-14T12:55:26.629668Z",
     "iopub.status.busy": "2022-12-14T12:55:26.629066Z",
     "iopub.status.idle": "2022-12-14T12:55:27.111637Z",
     "shell.execute_reply": "2022-12-14T12:55:27.110247Z"
    },
    "papermill": {
     "duration": 0.528558,
     "end_time": "2022-12-14T12:55:27.133012",
     "exception": false,
     "start_time": "2022-12-14T12:55:26.604454",
     "status": "completed"
    },
    "tags": []
   },
   "outputs": [],
   "source": [
    "# LDA model\n",
    "\n",
    "lda_model = gensim.models.ldamodel.LdaModel(corpus=corpus, id2word=id2word, alpha='auto', num_topics=20, random_state=100,\n",
    "                                           update_every=1, passes=20, per_word_topics=True)"
   ]
  },
  {
   "cell_type": "code",
   "execution_count": 27,
   "id": "f0c286b8",
   "metadata": {
    "execution": {
     "iopub.execute_input": "2022-12-14T12:55:27.247436Z",
     "iopub.status.busy": "2022-12-14T12:55:27.246365Z",
     "iopub.status.idle": "2022-12-14T12:55:27.256314Z",
     "shell.execute_reply": "2022-12-14T12:55:27.254701Z"
    },
    "papermill": {
     "duration": 0.044479,
     "end_time": "2022-12-14T12:55:27.258443",
     "exception": false,
     "start_time": "2022-12-14T12:55:27.213964",
     "status": "completed"
    },
    "tags": []
   },
   "outputs": [
    {
     "name": "stdout",
     "output_type": "stream",
     "text": [
      "[(0, '0.001*\"feature\" + 0.001*\"use\" + 0.001*\"disease\" + 0.001*\"dataset\" + 0.001*\"kidney\" + 0.001*\"system\" + 0.001*\"chronic\" + 0.001*\"model\" + 0.001*\"diagnosis\" + 0.001*\"blood\"'), (1, '0.001*\"feature\" + 0.001*\"kidney\" + 0.001*\"use\" + 0.001*\"disease\" + 0.001*\"chronic\" + 0.001*\"propose\" + 0.001*\"tree\" + 0.001*\"system\" + 0.001*\"dataset\" + 0.001*\"vol\"'), (2, '0.001*\"kidney\" + 0.001*\"feature\" + 0.001*\"disease\" + 0.001*\"use\" + 0.001*\"system\" + 0.001*\"chronic\" + 0.001*\"model\" + 0.001*\"blood\" + 0.001*\"decision\" + 0.001*\"value\"'), (3, '0.001*\"feature\" + 0.001*\"kidney\" + 0.001*\"disease\" + 0.001*\"use\" + 0.001*\"system\" + 0.001*\"chronic\" + 0.001*\"model\" + 0.001*\"vol\" + 0.001*\"tree\" + 0.001*\"dataset\"'), (4, '0.032*\"feature\" + 0.020*\"kidney\" + 0.018*\"use\" + 0.016*\"disease\" + 0.014*\"chronic\" + 0.012*\"system\" + 0.011*\"dataset\" + 0.011*\"tree\" + 0.010*\"model\" + 0.009*\"vol\"'), (5, '0.001*\"feature\" + 0.001*\"kidney\" + 0.001*\"use\" + 0.001*\"disease\" + 0.001*\"tree\" + 0.001*\"system\" + 0.001*\"dataset\" + 0.001*\"chronic\" + 0.001*\"vol\" + 0.001*\"value\"'), (6, '0.001*\"feature\" + 0.001*\"use\" + 0.001*\"kidney\" + 0.001*\"disease\" + 0.001*\"chronic\" + 0.001*\"dataset\" + 0.001*\"propose\" + 0.001*\"model\" + 0.001*\"system\" + 0.001*\"vol\"'), (7, '0.001*\"feature\" + 0.001*\"kidney\" + 0.001*\"use\" + 0.001*\"chronic\" + 0.001*\"disease\" + 0.001*\"system\" + 0.001*\"tree\" + 0.001*\"vol\" + 0.001*\"dataset\" + 0.001*\"blood\"'), (8, '0.001*\"feature\" + 0.001*\"disease\" + 0.001*\"use\" + 0.001*\"kidney\" + 0.001*\"chronic\" + 0.001*\"dataset\" + 0.001*\"model\" + 0.001*\"system\" + 0.001*\"blood\" + 0.001*\"tree\"'), (9, '0.001*\"feature\" + 0.001*\"use\" + 0.001*\"disease\" + 0.001*\"kidney\" + 0.001*\"dataset\" + 0.001*\"blood\" + 0.001*\"system\" + 0.001*\"chronic\" + 0.001*\"tree\" + 0.001*\"propose\"'), (10, '0.001*\"feature\" + 0.001*\"kidney\" + 0.001*\"use\" + 0.001*\"chronic\" + 0.001*\"disease\" + 0.001*\"propose\" + 0.001*\"tree\" + 0.001*\"apply\" + 0.001*\"model\" + 0.001*\"system\"'), (11, '0.001*\"feature\" + 0.001*\"disease\" + 0.001*\"system\" + 0.001*\"kidney\" + 0.001*\"use\" + 0.001*\"chronic\" + 0.001*\"model\" + 0.001*\"blood\" + 0.001*\"value\" + 0.001*\"vol\"'), (12, '0.001*\"feature\" + 0.001*\"use\" + 0.001*\"kidney\" + 0.001*\"disease\" + 0.001*\"dataset\" + 0.001*\"system\" + 0.001*\"decision\" + 0.001*\"propose\" + 0.001*\"chronic\" + 0.001*\"value\"'), (13, '0.001*\"feature\" + 0.001*\"kidney\" + 0.001*\"use\" + 0.001*\"chronic\" + 0.001*\"disease\" + 0.001*\"system\" + 0.001*\"tree\" + 0.001*\"dataset\" + 0.001*\"blood\" + 0.001*\"model\"'), (14, '0.001*\"feature\" + 0.001*\"disease\" + 0.001*\"kidney\" + 0.001*\"chronic\" + 0.001*\"system\" + 0.001*\"dataset\" + 0.001*\"decision\" + 0.001*\"model\" + 0.001*\"use\" + 0.001*\"tree\"'), (15, '0.001*\"feature\" + 0.001*\"use\" + 0.001*\"kidney\" + 0.001*\"chronic\" + 0.001*\"disease\" + 0.001*\"tree\" + 0.001*\"apply\" + 0.001*\"value\" + 0.001*\"model\" + 0.001*\"vol\"'), (16, '0.001*\"feature\" + 0.001*\"disease\" + 0.001*\"use\" + 0.001*\"kidney\" + 0.001*\"system\" + 0.001*\"chronic\" + 0.001*\"blood\" + 0.001*\"dataset\" + 0.001*\"vol\" + 0.001*\"diagnosis\"'), (17, '0.001*\"feature\" + 0.001*\"disease\" + 0.001*\"kidney\" + 0.001*\"use\" + 0.001*\"chronic\" + 0.001*\"system\" + 0.001*\"tree\" + 0.001*\"model\" + 0.001*\"dataset\" + 0.001*\"decision\"'), (18, '0.001*\"feature\" + 0.001*\"chronic\" + 0.001*\"kidney\" + 0.001*\"disease\" + 0.001*\"use\" + 0.001*\"model\" + 0.001*\"decision\" + 0.001*\"dataset\" + 0.001*\"tree\" + 0.001*\"system\"'), (19, '0.001*\"feature\" + 0.001*\"kidney\" + 0.001*\"disease\" + 0.001*\"chronic\" + 0.001*\"use\" + 0.001*\"propose\" + 0.001*\"dataset\" + 0.001*\"tree\" + 0.001*\"decision\" + 0.001*\"system\"')]\n"
     ]
    }
   ],
   "source": [
    "# Lets view the topics in our model\n",
    "print(lda_model.print_topics())\n",
    "doc_lda  = lda_model[corpus]"
   ]
  },
  {
   "cell_type": "markdown",
   "id": "8f321df3",
   "metadata": {
    "papermill": {
     "duration": 0.022062,
     "end_time": "2022-12-14T12:55:27.303343",
     "exception": false,
     "start_time": "2022-12-14T12:55:27.281281",
     "status": "completed"
    },
    "tags": []
   },
   "source": [
    "**In LDA, latent indicates the hidden topics present in the data then Dirichlet is a form of distribution. Dirichlet distribution is different from the normal distribution. When ML algorithms are to be applied the data has to be normally distributed or follows Gaussian distribution. The normal distribution represents the data in real numbers format whereas Dirichlet distribution represents the data such that the plotted data sums up to 1. It can also be said as Dirichlet distribution is a probability distribution that is sampling over a probability simplex instead of sampling from the space of real numbers as in Normal distribution.\n",
    "LDA has three important hyperparameters. They are ‘alpha’ which represents document-topic density factor, ‘beta’ which represents word density in a topic, ‘k’ or the number of components representing the number of topics you want the document to be clustered or divided into parts.**"
   ]
  },
  {
   "cell_type": "markdown",
   "id": "84871f7c",
   "metadata": {
    "papermill": {
     "duration": 0.022387,
     "end_time": "2022-12-14T12:55:27.348523",
     "exception": false,
     "start_time": "2022-12-14T12:55:27.326136",
     "status": "completed"
    },
    "tags": []
   },
   "source": [
    "Model Perplexity and Coherence Score\n",
    "Lets evaluate our model by computing the perplexity and topic coherence. Before that we need to understang what model perplexity and coherence is. Perplexity is an evaluation metric on how probable (predictive likelihood) new unseen data is given the model that was learned earlier. Topic coherence measures a score on a single topic through measuring the degree of semantic similarity of all the high scoring words in a topic. Both model perplexity and topic score provide a convenient measure to judge how good a given topic"
   ]
  },
  {
   "cell_type": "code",
   "execution_count": 28,
   "id": "1cff420d",
   "metadata": {
    "execution": {
     "iopub.execute_input": "2022-12-14T12:55:27.395981Z",
     "iopub.status.busy": "2022-12-14T12:55:27.394920Z",
     "iopub.status.idle": "2022-12-14T12:55:27.980328Z",
     "shell.execute_reply": "2022-12-14T12:55:27.978380Z"
    },
    "papermill": {
     "duration": 0.611867,
     "end_time": "2022-12-14T12:55:27.982909",
     "exception": false,
     "start_time": "2022-12-14T12:55:27.371042",
     "status": "completed"
    },
    "tags": []
   },
   "outputs": [
    {
     "name": "stdout",
     "output_type": "stream",
     "text": [
      "\n",
      "Perplexity: -7.095615395286586\n",
      "Coherence Score: 0.20807247970795711\n"
     ]
    }
   ],
   "source": [
    "# Print model perplexity\n",
    "print('\\nPerplexity:', lda_model.log_perplexity(corpus))\n",
    "\n",
    "\n",
    "# Coherence Score\n",
    "\n",
    "coherence_model_lda = CoherenceModel(lda_model, texts=data_lemmatized, dictionary=id2word, coherence='c_v')\n",
    "coherence_lda = coherence_model_lda.get_coherence()\n",
    "print('Coherence Score:', coherence_lda)"
   ]
  },
  {
   "cell_type": "code",
   "execution_count": 29,
   "id": "8c0acf29",
   "metadata": {
    "execution": {
     "iopub.execute_input": "2022-12-14T12:55:28.030555Z",
     "iopub.status.busy": "2022-12-14T12:55:28.030124Z",
     "iopub.status.idle": "2022-12-14T12:55:30.404797Z",
     "shell.execute_reply": "2022-12-14T12:55:30.403505Z"
    },
    "papermill": {
     "duration": 2.40218,
     "end_time": "2022-12-14T12:55:30.407735",
     "exception": false,
     "start_time": "2022-12-14T12:55:28.005555",
     "status": "completed"
    },
    "tags": []
   },
   "outputs": [
    {
     "name": "stderr",
     "output_type": "stream",
     "text": [
      "/opt/conda/lib/python3.7/site-packages/pyLDAvis/_prepare.py:248: FutureWarning: In a future version of pandas all arguments of DataFrame.drop except for the argument 'labels' will be keyword-only\n",
      "  by='saliency', ascending=False).head(R).drop('saliency', 1)\n"
     ]
    }
   ],
   "source": [
    "pyLDAvis.enable_notebook()\n",
    "vis_topics = pyLDAvis.gensim.prepare(lda_model, corpus, id2word)"
   ]
  },
  {
   "cell_type": "markdown",
   "id": "a70dde46",
   "metadata": {
    "papermill": {
     "duration": 0.022785,
     "end_time": "2022-12-14T12:55:30.453759",
     "exception": false,
     "start_time": "2022-12-14T12:55:30.430974",
     "status": "completed"
    },
    "tags": []
   },
   "source": [
    "Topic modeling is a type of statistical modeling for discovering the abstract “topics” that occur in a collection of documents. Latent Dirichlet Allocation (LDA) is an example of topic model and is used to classify text in a document to a particular topic. It builds a topic per document model and words per topic model, modeled as Dirichlet distributions.\n",
    "most salient words noticable"
   ]
  },
  {
   "cell_type": "code",
   "execution_count": 30,
   "id": "aa4a3e86",
   "metadata": {
    "execution": {
     "iopub.execute_input": "2022-12-14T12:55:30.501927Z",
     "iopub.status.busy": "2022-12-14T12:55:30.500733Z",
     "iopub.status.idle": "2022-12-14T12:55:30.533464Z",
     "shell.execute_reply": "2022-12-14T12:55:30.532138Z"
    },
    "papermill": {
     "duration": 0.063035,
     "end_time": "2022-12-14T12:55:30.539536",
     "exception": false,
     "start_time": "2022-12-14T12:55:30.476501",
     "status": "completed"
    },
    "tags": []
   },
   "outputs": [
    {
     "data": {
      "text/html": [
       "\n",
       "<link rel=\"stylesheet\" type=\"text/css\" href=\"https://cdn.jsdelivr.net/gh/bmabey/pyLDAvis@3.2.2/pyLDAvis/js/ldavis.v1.0.0.css\">\n",
       "\n",
       "\n",
       "<div id=\"ldavis_el191400555643081762246686864\"></div>\n",
       "<script type=\"text/javascript\">\n",
       "\n",
       "var ldavis_el191400555643081762246686864_data = {\"mdsDat\": {\"x\": [-0.11021196498410336, 0.005251810135729955, 0.005523895191852147, 0.005711797422914407, 0.005753583611746206, 0.0057538880452854485, 0.005757272916978884, 0.005774437118874812, 0.005773409044470241, 0.005810177230115773, 0.00582770898332443, 0.005828128972385346, 0.005831966142910977, 0.005893803599130284, 0.005901565318185848, 0.0058967809082960026, 0.005945077687849234, 0.005967356749701884, 0.005981364672139544, 0.006027941232211788], \"y\": [-0.0, -0.0, 0.0, 0.0, 0.0, -0.0, -0.0, -0.0, -0.0, -0.0, -0.0, 0.0, -0.0, -0.0, 0.0, -0.0, -0.0, -0.0, 0.0, 0.0], \"topics\": [1, 2, 3, 4, 5, 6, 7, 8, 9, 10, 11, 12, 13, 14, 15, 16, 17, 18, 19, 20], \"cluster\": [1, 1, 1, 1, 1, 1, 1, 1, 1, 1, 1, 1, 1, 1, 1, 1, 1, 1, 1, 1], \"Freq\": [99.98477405942681, 0.0008025561189215797, 0.000802171129733738, 0.000801766404506737, 0.0008016596298064001, 0.00080163998471673, 0.0008016276155861969, 0.0008015941461741662, 0.0008015814132456763, 0.00080147572993921, 0.0008014120652967603, 0.0008014087911151487, 0.0008013583141486351, 0.0008011427638591986, 0.0008011221183251471, 0.0008010941058824694, 0.0008008536354329884, 0.0008007012040890662, 0.0008006127102360612, 0.0008001626921634318]}, \"tinfo\": {\"Term\": [\"feature\", \"kidney\", \"use\", \"disease\", \"chronic\", \"system\", \"dataset\", \"tree\", \"model\", \"blood\", \"decision\", \"propose\", \"vol\", \"value\", \"apply\", \"diagnosis\", \"accuracy\", \"method\", \"stage\", \"forest\", \"knn\", \"prediction\", \"machine\", \"cell\", \"algorithm\", \"network\", \"patient\", \"classi\\ufb01cation\", \"recall\", \"class\", \"feature\", \"kidney\", \"use\", \"disease\", \"chronic\", \"system\", \"dataset\", \"tree\", \"model\", \"vol\", \"propose\", \"decision\", \"blood\", \"value\", \"diagnosis\", \"apply\", \"method\", \"accuracy\", \"stage\", \"knn\", \"forest\", \"algorithm\", \"cell\", \"machine\", \"prediction\", \"technique\", \"study\", \"datum\", \"class\", \"recall\", \"addition\", \"history\", \"rfecv\", \"nervedamage\", \"andmodularneuralnetwork\", \"tp\", \"numericalfeature\", \"conflict\", \"\\ufb01gureshow\", \"elation\", \"internal\", \"xz_heir\", \"separablespace\", \"clump\", \"tackle\", \"missingnumerical\", \"bemisse\", \"processing\", \"school\", \"radial\", \"die\", \"haussler\", \"virtual\", \"increase\", \"cellsnormal\", \"journalofhealthcareengineeringdiabete\", \"shivaji\", \"comprise\", \"white\", \"complete\", \"mining\", \"itis\", \"feature\", \"disease\", \"use\", \"kidney\", \"chronic\", \"system\", \"tree\", \"model\", \"dataset\", \"decision\", \"blood\", \"vol\", \"value\", \"accuracy\", \"cell\", \"propose\", \"apply\", \"method\", \"forest\", \"stage\", \"diagnosis\", \"knn\", \"patient\", \"machine\", \"statistical\", \"prediction\", \"test\", \"network\", \"algorithm\", \"classi\\ufb01cation\", \"relevant\", \"percentage\", \"tn\", \"usa\", \"meanstandard\", \"kim\", \"fawaz\", \"accurate\", \"generalstructure\", \"african\", \"therecord\", \"traditional\", \"gence\", \"weakassociation\", \"rest\", \"falsenegative\", \"xz_heparameter\", \"pointinto\", \"ni\\ufb01cant\", \"\\ufb01nde\", \"equation\", \"confusion\", \"set\", \"toprioritize\", \"colony\", \"optimization\", \"conflict\", \"almansour\", \"ofdisease\", \"second\", \"tackle\", \"anemia\", \"outcome\", \"feature\", \"kidney\", \"use\", \"chronic\", \"disease\", \"system\", \"tree\", \"vol\", \"dataset\", \"blood\", \"decision\", \"propose\", \"model\", \"value\", \"accuracy\", \"apply\", \"knn\", \"stage\", \"patient\", \"forest\", \"prediction\", \"diagnosis\", \"cell\", \"machine\", \"select\", \"network\", \"study\", \"method\", \"base\", \"classi\\ufb01cation\", \"andnegative\", \"radial\", \"preventive\", \"density\", \"common\", \"thereby\", \"rest\", \"multiple\", \"speci\\ufb01c\", \"strong\", \"positivecorrelation\", \"top\", \"enable\", \"complex\", \"visualize\", \"trainingdataset\", \"xz_he\", \"die\", \"bestwaytotreatchronickidneydiseaseistodiagnoseitintheearlystage\", \"processing\", \"analysisofultrasoundimage\", \"unbalanced\", \"history\", \"much\", \"outlier\", \"vms\", \"imagesbyusingabcdruleforearlydetectionofskincancer\", \"gravity\", \"ignore\", \"kidneydisorder\", \"induce\", \"uci\", \"male\", \"observe\", \"feature\", \"kidney\", \"use\", \"disease\", \"chronic\", \"propose\", \"tree\", \"system\", \"dataset\", \"vol\", \"decision\", \"diagnosis\", \"blood\", \"model\", \"method\", \"value\", \"accuracy\", \"apply\", \"algorithm\", \"knn\", \"cell\", \"prediction\", \"stage\", \"machine\", \"classi\\ufb01cation\", \"datum\", \"study\", \"network\", \"high\", \"select\", \"cpu\", \"methodswere\", \"cardiovascular\", \"valuesthat\", \"thetrainingphase\", \"aurangabad\", \"anemiaye\", \"attribution\", \"usedarti\\ufb01cialneuralnetwork\", \"common\", \"computation\", \"page\", \"radial\", \"typesofnode\", \"bu\", \"call\", \"hybridwrapper\", \"mostsigni\\ufb01cant\", \"ofckd\", \"behaviour\", \"toclassify\", \"dilbag\", \"preventive\", \"advance\", \"much\", \"applyingparallel\", \"medicaltest\", \"kidneythroughsomefeaturessuchasglucose\", \"appetite\", \"bloodlead\", \"section\", \"accurateresult\", \"deeplearne\", \"feature\", \"kidney\", \"disease\", \"chronic\", \"use\", \"propose\", \"dataset\", \"tree\", \"decision\", \"system\", \"model\", \"vol\", \"value\", \"diagnosis\", \"blood\", \"accuracy\", \"method\", \"stage\", \"apply\", \"class\", \"prediction\", \"patient\", \"recall\", \"forest\", \"algorithm\", \"precision\", \"network\", \"technique\", \"select\", \"datum\", \"maynot\", \"computethe\", \"strokeobesityfamily\", \"density\", \"min\", \"e\\ufb00ectiveness\", \"computation\", \"reason\", \"valuesthat\", \"splitting\", \"thesvmaccuracy\", \"perform\", \"treatable\", \"thesvm\", \"license\", \"throughseveralpreviousrelatedstudie\", \"reference\", \"tune\", \"presentedamodelbase\", \"due\", \"author\", \"multiple\", \"type\", \"su\\ufb00ere\", \"ofckd\", \"art\", \"senan\", \"vasquez\", \"poor\", \"useless\", \"feed\", \"patientsmayreachthe\", \"bgr\", \"bacteria\", \"bednarski\", \"feature\", \"use\", \"disease\", \"kidney\", \"dataset\", \"blood\", \"system\", \"chronic\", \"tree\", \"propose\", \"value\", \"model\", \"apply\", \"stage\", \"decision\", \"accuracy\", \"method\", \"vol\", \"recall\", \"diagnosis\", \"prediction\", \"forest\", \"machine\", \"datum\", \"classi\\ufb01cation\", \"network\", \"knn\", \"algorithm\", \"base\", \"sample\", \"relevant\", \"senan\", \"takesprediction\", \"gravity\", \"assist\", \"side\", \"correction\", \"correspondence\", \"african\", \"journalofmedicalsystem\", \"venable\", \"todetermine\", \"rithm\", \"noderepresent\", \"advance\", \"subnode\", \"ahme\", \"mostsigni\\ufb01cant\", \"family\", \"classcontain\", \"numericalfeature\", \"plan\", \"cellnormal\", \"deep\", \"security\", \"disrupt\", \"ofnumerical\", \"death\", \"accordingtotheworld\", \"conduct\", \"optimal\", \"line\", \"datasetsrelevant\", \"publication\", \"ensemblelearne\", \"feature\", \"use\", \"kidney\", \"disease\", \"chronic\", \"dataset\", \"propose\", \"model\", \"system\", \"vol\", \"decision\", \"method\", \"diagnosis\", \"value\", \"tree\", \"blood\", \"accuracy\", \"apply\", \"forest\", \"technique\", \"class\", \"machine\", \"precision\", \"classi\\ufb01cation\", \"miss\", \"stage\", \"knn\", \"algorithm\", \"study\", \"patient\", \"con\\ufb02ict\", \"machinelearne\", \"computation\", \"rfecv\", \"andcardiovascular\", \"cardiovascular\", \"usa\", \"chronickidney\", \"treatable\", \"thesvm\", \"tion\", \"art\", \"python\", \"adecisionnode\", \"observation\", \"valuesthat\", \"dilbag\", \"andit\", \"nervous\", \"maynot\", \"robust\", \"expression\", \"ckdpatient\", \"bumin\", \"generalize\", \"nb\", \"median\", \"cpu\", \"lvw\", \"andevaluate\", \"dividedinto\", \"hmoud\", \"therecord\", \"andensemblelearning\", \"feature\", \"disease\", \"use\", \"kidney\", \"system\", \"chronic\", \"blood\", \"dataset\", \"vol\", \"diagnosis\", \"apply\", \"tree\", \"decision\", \"value\", \"model\", \"stage\", \"propose\", \"accuracy\", \"forest\", \"method\", \"datum\", \"prediction\", \"machine\", \"sample\", \"algorithm\", \"knn\", \"classi\\ufb01cation\", \"base\", \"reach\", \"analysis\", \"trainingdataset\", \"nephrology\", \"global\", \"missingnumerical\", \"general\", \"diseasebecause\", \"record\", \"disrupt\", \"gence\", \"\\ufb01brotic\", \"modelsinclude\", \"confusion\", \"introduce\", \"perform\", \"duetoitsease\", \"call\", \"methodwas\", \"cellnormal\", \"digital\", \"cess\", \"computation\", \"usedarti\\ufb01cialneuralnetwork\", \"explainable\", \"medium\", \"recursivefeatureelimination\", \"softcompute\", \"denpasar\", \"cpu\", \"check\", \"reference\", \"similar\", \"feature\", \"chronic\", \"kidney\", \"disease\", \"use\", \"model\", \"decision\", \"dataset\", \"tree\", \"system\", \"stage\", \"blood\", \"vol\", \"propose\", \"apply\", \"method\", \"accuracy\", \"value\", \"recall\", \"cell\", \"diagnosis\", \"class\", \"precision\", \"knn\", \"study\", \"algorithm\", \"technique\", \"patient\", \"select\", \"base\", \"journalofhealthcareengineering\", \"unbalanced\", \"rfemethod\", \"imagesbyusingabcdruleforearlydetectionofskincancer\", \"nb\", \"root\", \"nervous\", \"pcc\", \"actual\", \"choicesjournalofhealthcareengineere\", \"accept\", \"factorsa\\ufb00ecte\", \"sye\", \"isdfs\", \"mellitusye\", \"split\", \"greatadvantagesindiagnosingseveral\\ufb01eld\", \"unlocked\", \"randomforest\", \"min\", \"appliedalgorithm\", \"level\", \"comparedwith\", \"thesvmaccuracy\", \"top\", \"becompute\", \"informaticsinmedicine\", \"thecorrelationbetweenthepredictionsofeach\", \"gust\", \"global\", \"resource\", \"availability\", \"series\", \"betweenthe\", \"thetraine\", \"feature\", \"use\", \"kidney\", \"disease\", \"dataset\", \"system\", \"decision\", \"propose\", \"chronic\", \"value\", \"blood\", \"tree\", \"vol\", \"model\", \"diagnosis\", \"knn\", \"method\", \"stage\", \"accuracy\", \"machine\", \"forest\", \"apply\", \"prediction\", \"test\", \"cell\", \"vector\", \"classi\\ufb01cation\", \"datum\", \"learn\", \"recall\", \"bycomputingthecorrectlyclassi\\ufb01edsample\", \"establish\", \"thefeaturevariablemustcontainactualvalue\", \"image\", \"vasquez\", \"betweenthebetweentheinputfeature\", \"patientsincludediabete\", \"visualize\", \"speci\\ufb01c\", \"tp\", \"interest\", \"weakfeature\", \"con\\ufb02ict\", \"severe\", \"almansour\", \"hybridwrapper\", \"thescarcityofspecialistphysician\", \"thecorrelationbetweenthepredictionsofeach\", \"nervous\", \"error\", \"bu\", \"bloodlead\", \"dataminingtechniqueshavebeenuse\", \"lvw\", \"classby\", \"accuracywhen\", \"declare\", \"havingadditionalbranche\", \"xz_heir\", \"die\", \"outlier\", \"name\", \"close\", \"bacteriapresent\", \"ant\", \"rithmworksaccordingtotheprincipleofensemblelearne\", \"normalization\", \"nervedamage\", \"feature\", \"disease\", \"use\", \"kidney\", \"chronic\", \"dataset\", \"model\", \"system\", \"blood\", \"tree\", \"decision\", \"apply\", \"propose\", \"diagnosis\", \"vol\", \"stage\", \"forest\", \"method\", \"recall\", \"classi\\ufb01cation\", \"accuracy\", \"value\", \"prediction\", \"patient\", \"network\", \"cell\", \"machine\", \"algorithm\", \"datum\", \"study\", \"security\", \"thefeaturevariablemustcontainactualvalue\", \"journalofhealthcareengineering\", \"ofnumerical\", \"attention\", \"cursive\", \"withrespect\", \"clean\", \"sucha\", \"missingnominal\", \"multiple\", \"image\", \"reference\", \"ment\", \"describeskidney\", \"thescarcityofspecialistphysician\", \"handle\", \"record\", \"radial\", \"dividedinto\", \"colombian\", \"weakassociation\", \"puscell\", \"focus\", \"behaviour\", \"kidneytransplantation\", \"people\", \"characteristic\", \"analysisofultrasoundimage\", \"assist\", \"uci\", \"proach\", \"scienti\\ufb01c\", \"detail\", \"mustcontain\", \"noderepresent\", \"advance\", \"feature\", \"use\", \"kidney\", \"chronic\", \"disease\", \"tree\", \"apply\", \"value\", \"model\", \"vol\", \"dataset\", \"blood\", \"method\", \"diagnosis\", \"propose\", \"accuracy\", \"stage\", \"decision\", \"system\", \"machine\", \"diagnostic\", \"recall\", \"forest\", \"datum\", \"select\", \"knn\", \"cell\", \"network\", \"predict\", \"study\", \"wekasoftware\", \"dataminingtechniqueshavebeenuse\", \"preventive\", \"declare\", \"death\", \"conflict\", \"guess\", \"lie\", \"attention\", \"importanceassociate\", \"amongmale\", \"recursivefeatureelimination\", \"top\", \"chronickidney\", \"coder\", \"tient\", \"people\", \"accept\", \"ofckd\", \"mostsigni\\ufb01cant\", \"record\", \"family\", \"inspire\", \"probabilistic\", \"expect\", \"valuesthat\", \"internal\", \"clusteringforenhancingthediagnosisofchronicdiseasesover\", \"correct\", \"vasquez\", \"testing\", \"college\", \"properly\", \"rateofalbumin\", \"creatinine\", \"regressionproblem\", \"feature\", \"kidney\", \"use\", \"chronic\", \"disease\", \"system\", \"tree\", \"dataset\", \"blood\", \"model\", \"propose\", \"method\", \"diagnosis\", \"value\", \"decision\", \"vol\", \"apply\", \"accuracy\", \"algorithm\", \"machine\", \"prediction\", \"class\", \"patient\", \"diagnostic\", \"knn\", \"stage\", \"forest\", \"network\", \"precision\", \"recall\", \"con\\ufb02ict\", \"attribution\", \"systemsreached\", \"algorithmconvert\", \"kim\", \"depend\", \"forensic\", \"pp\", \"hwff\", \"display\", \"proach\", \"adecisionnode\", \"comprise\", \"machinelearne\", \"applyingparallel\", \"multiple\", \"andevaluate\", \"valuesthat\", \"cardiovascular\", \"gence\", \"accord\", \"meanstandard\", \"correspondence\", \"hemodialysis\", \"top\", \"correct\", \"gravity\", \"management\", \"importantvital\", \"generalize\", \"ravizza\", \"cite\", \"su\\ufb00er\", \"feature\", \"disease\", \"system\", \"kidney\", \"use\", \"chronic\", \"model\", \"blood\", \"value\", \"vol\", \"dataset\", \"decision\", \"apply\", \"propose\", \"tree\", \"diagnosis\", \"algorithm\", \"forest\", \"network\", \"study\", \"patient\", \"accuracy\", \"machine\", \"precision\", \"base\", \"class\", \"miss\", \"sample\", \"stage\", \"select\", \"plot\", \"almansour\", \"management\", \"inspire\", \"tissue\", \"bloodpressure\", \"ignore\", \"matrix\", \"onsubsetsofthedataset\", \"causingmisse\", \"assist\", \"examine\", \"treecompare\", \"redblood\", \"check\", \"softmax\", \"stack\", \"series\", \"induce\", \"cvd\", \"ability\", \"diabetesfactor\", \"gust\", \"con\\ufb02ict\", \"journalofmedicalsystem\", \"ensemblelearne\", \"level\", \"tion\", \"disrupt\", \"coronary\", \"andit\", \"presentedamodelbase\", \"hmoud\", \"mellitusye\", \"multiclass\", \"proach\", \"kidney\", \"feature\", \"disease\", \"use\", \"system\", \"chronic\", \"model\", \"blood\", \"decision\", \"value\", \"tree\", \"vol\", \"propose\", \"dataset\", \"stage\", \"apply\", \"method\", \"diagnosis\", \"accuracy\", \"forest\", \"machine\", \"cell\", \"network\", \"miss\", \"prediction\", \"algorithm\", \"patient\", \"class\", \"recall\", \"knn\", \"rfemethod\", \"enable\", \"handle\", \"optimal\", \"descriptionglomerular\", \"weakassociation\", \"examine\", \"nervous\", \"treecompare\", \"strokeobesityfamily\", \"interest\", \"cost\", \"shrivas\", \"grnn\", \"reference\", \"attention\", \"current\", \"methodwas\", \"vasquez\", \"ignore\", \"preventive\", \"diseasediagnosis\", \"quality\", \"introduce\", \"due\", \"highlye\\ufb03cientmachinelearningtechniquesforthe\", \"earlystage\", \"gence\", \"inspire\", \"rfecv\", \"monitoring\", \"coronary\", \"come\", \"deep\", \"thesvm\", \"mustcontain\", \"plan\", \"regressionproblem\", \"feature\", \"kidney\", \"disease\", \"use\", \"system\", \"chronic\", \"model\", \"vol\", \"tree\", \"dataset\", \"value\", \"apply\", \"decision\", \"accuracy\", \"stage\", \"diagnosis\", \"blood\", \"prediction\", \"propose\", \"knn\", \"method\", \"classi\\ufb01cation\", \"recall\", \"miss\", \"study\", \"select\", \"cell\", \"information\", \"performance\", \"predict\", \"equation\", \"journalofhealthcareengineering\", \"computethe\", \"correct\", \"\\u03c3isafreeparameter\", \"record\", \"pp\", \"takesprediction\", \"journalofhealthcareengineeringdiabete\", \"methodswere\", \"tion\", \"ultrasonography\", \"bacteria\", \"sucha\", \"scienti\\ufb01c\", \"optimization\", \"pointinto\", \"people\", \"set\", \"wherethenumber\", \"colombian\", \"bias\", \"other\", \"haussler\", \"therecord\", \"handle\", \"cad\", \"pcc\", \"come\", \"assist\", \"series\", \"ther\", \"bu\", \"mild\", \"andclinical\", \"severe\", \"predictor\", \"feature\", \"use\", \"disease\", \"dataset\", \"kidney\", \"system\", \"chronic\", \"model\", \"diagnosis\", \"blood\", \"tree\", \"propose\", \"vol\", \"stage\", \"decision\", \"apply\", \"method\", \"accuracy\", \"forest\", \"value\", \"knn\", \"algorithm\", \"network\", \"classi\\ufb01cation\", \"study\", \"prediction\", \"miss\", \"class\", \"diagnostic\", \"patient\", \"andaleaf\", \"reference\", \"split\", \"duetoitsease\", \"attribution\", \"image\", \"lowbloodpressure\", \"thenumber\", \"type\", \"journalofhealthcareengineeringrecall\", \"thescarcityofspecialistphysician\", \"algorithmisverypopular\", \"speci\\ufb01c\", \"predictingtheearly\", \"radial\", \"diabetesfactor\", \"robust\", \"ni\\ufb01cant\", \"patientsincludediabete\", \"nonlinear\", \"academic\", \"withrespect\", \"attention\", \"usg\", \"kidneydisorder\", \"thesvmaccuracy\", \"chronickidney\", \"treecompare\", \"basis\", \"art\", \"softmax\", \"andmodularneuralnetwork\", \"pus\", \"su\\ufb00er\", \"begin\", \"distribute\", \"editor\", \"feature\", \"disease\", \"kidney\", \"chronic\", \"system\", \"dataset\", \"decision\", \"model\", \"use\", \"tree\", \"vol\", \"blood\", \"apply\", \"diagnosis\", \"propose\", \"method\", \"value\", \"knn\", \"machine\", \"stage\", \"forest\", \"network\", \"accuracy\", \"prediction\", \"technique\", \"diagnostic\", \"classi\\ufb01cation\", \"study\", \"selection\", \"base\", \"trainingdataset\", \"maintain\", \"big\", \"lvw\", \"mostsigni\\ufb01cant\", \"treecompare\", \"depend\", \"explore\", \"ofckd\", \"side\", \"ment\", \"academic\", \"last\", \"con\\ufb01gurationsandit\", \"preventive\", \"takesprediction\", \"family\", \"positivecorrelation\", \"correct\", \"selectionof\", \"quality\", \"widely\", \"relevant\", \"ofdisease\", \"reason\", \"optimization\", \"stack\", \"observation\", \"permit\", \"unrestricted\", \"cellsnormal\", \"come\", \"digital\", \"isdfs\", \"worldwide\", \"tient\", \"bestclassi\\ufb01cation\", \"feature\", \"kidney\", \"use\", \"disease\", \"tree\", \"system\", \"dataset\", \"chronic\", \"vol\", \"value\", \"model\", \"propose\", \"diagnosis\", \"apply\", \"accuracy\", \"blood\", \"method\", \"stage\", \"decision\", \"forest\", \"machine\", \"technique\", \"datum\", \"classi\\ufb01cation\", \"study\", \"algorithm\", \"knn\", \"miss\", \"cell\", \"learn\", \"thesvmaccuracy\", \"\\ufb01nde\", \"almansour\", \"depend\", \"cad\", \"con\\ufb02ict\", \"andboneproblem\", \"attribution\", \"betweenthebetweentheinputfeature\", \"adecisionnode\", \"vasquez\", \"bestwaytotreatchronickidneydiseaseistodiagnoseitintheearlystage\", \"pointinto\", \"last\", \"shrivas\", \"induce\", \"kidneytransplantation\", \"ignore\", \"clean\", \"due\", \"sye\", \"multiple\", \"creative\", \"journalofmedicalsystem\", \"nervous\", \"typesofnode\", \"positivecorrelation\", \"art\", \"generalize\", \"wherethenumber\", \"diseasediagnosis\", \"meanstandard\", \"systemand\", \"kisgenerate\", \"outlier\", \"randomforest\", \"pedal\", \"e\\ufb00ective\", \"management\", \"progression\", \"numericalfeature\", \"widely\", \"neighbored\", \"feature\", \"kidney\", \"use\", \"chronic\", \"disease\", \"propose\", \"tree\", \"apply\", \"model\", \"system\", \"dataset\", \"decision\", \"blood\", \"method\", \"diagnosis\", \"value\", \"vol\", \"accuracy\", \"knn\", \"study\", \"stage\", \"prediction\", \"datum\", \"class\", \"network\", \"classi\\ufb01cation\", \"diagnose\", \"technique\", \"test\", \"information\"], \"Freq\": [64.0, 40.0, 37.0, 33.0, 28.0, 24.0, 22.0, 21.0, 20.0, 18.0, 18.0, 18.0, 18.0, 17.0, 15.0, 15.0, 14.0, 14.0, 13.0, 11.0, 11.0, 10.0, 10.0, 10.0, 10.0, 9.0, 9.0, 9.0, 9.0, 9.0, 64.7266943375862, 40.228038369770275, 37.28791588342847, 33.36722622034722, 28.46795653477693, 24.54819560885494, 22.587984271361847, 21.608218058907596, 20.628333608868388, 18.66824813719154, 18.66820808897728, 18.668009754963805, 18.667756116273495, 17.688363687152332, 15.728296332524792, 15.728181909055479, 14.748383276618256, 14.748188756720424, 13.768138392650712, 11.808379981390317, 11.808171158558821, 10.828439273145364, 10.828298150866544, 10.828266684412483, 10.82826287029684, 9.848674014220023, 9.848556730163978, 9.848402258480405, 9.848382234373275, 9.84835648909268, 1.9615311315050732e-05, 1.961464735050506e-05, 1.9613547121070593e-05, 1.9614433044945652e-05, 1.9613705936797655e-05, 1.9613677235160235e-05, 1.9613843704657276e-05, 1.9612642062770587e-05, 1.9613172086341626e-05, 1.9612852541445007e-05, 1.9612743475222807e-05, 1.961251003523845e-05, 1.9612540650318366e-05, 1.961236844049384e-05, 1.9612636322443103e-05, 1.961164324578834e-05, 1.961182119594035e-05, 1.9612090991332105e-05, 1.961192643527756e-05, 1.9611124702872268e-05, 1.9611025203862542e-05, 1.9611543746778613e-05, 1.9611509304813708e-05, 1.9611013723207574e-05, 1.961108452057988e-05, 1.9610598506186218e-05, 1.96112222884395e-05, 1.961086638813548e-05, 1.9610969714030195e-05, 1.9610831946170575e-05, 1.9611168712049647e-05, 1.961090657042787e-05, 2.1177290778904255e-05, 2.0431273992174877e-05, 2.035381209966082e-05, 2.0360614387729577e-05, 2.0230708863320027e-05, 2.0213133894005954e-05, 2.010795196007078e-05, 2.0053774749275062e-05, 2.005302467981713e-05, 2.002227757236935e-05, 2.0014746262710104e-05, 1.997623440561872e-05, 1.997421763722928e-05, 1.9961229189575068e-05, 1.9954105443167197e-05, 1.9940085650008328e-05, 1.9895934877884984e-05, 1.9895104443842272e-05, 1.9894781072060663e-05, 1.9890322751047948e-05, 1.988001120944386e-05, 1.986761401552052e-05, 1.984652213890114e-05, 1.9829637922327663e-05, 1.982696484316253e-05, 1.9819699502010048e-05, 1.9818698771585305e-05, 1.981658441762863e-05, 1.981398978960578e-05, 1.9811531016000056e-05, 1.961352127450265e-05, 1.9613536574699525e-05, 1.9613169369974565e-05, 1.9612566924722677e-05, 1.9611748364189953e-05, 1.9611472960646232e-05, 1.9611690988451677e-05, 1.9611652737959494e-05, 1.9611379246940383e-05, 1.961106368037987e-05, 1.9610889640640436e-05, 1.9610778714213104e-05, 1.9610174356436607e-05, 1.9609830102006957e-05, 1.9609921903188197e-05, 1.9610543473686176e-05, 1.961009976797685e-05, 1.960934049570701e-05, 1.9610111243124504e-05, 1.9610048129812402e-05, 1.9609979278926472e-05, 1.960973256325189e-05, 1.960980332666243e-05, 1.961003091709092e-05, 1.960979567656399e-05, 1.9609694312759706e-05, 1.9609195143836713e-05, 1.9608957990785176e-05, 1.960968092508744e-05, 1.9609925728237415e-05, 1.9609874090072968e-05, 1.9609853052302267e-05, 1.9609623549349166e-05, 2.0544815570314135e-05, 2.036096649215939e-05, 2.0196477900623257e-05, 2.0120805039412293e-05, 2.002570092817218e-05, 1.9987928567141103e-05, 1.9954048193689686e-05, 1.9924689028414343e-05, 1.9912087403764532e-05, 1.9897663143162185e-05, 1.988270337566927e-05, 1.984406464099024e-05, 1.9835087250474805e-05, 1.9833597393804263e-05, 1.983153760480019e-05, 1.982546151411686e-05, 1.982313779671672e-05, 1.979621136274424e-05, 1.978908147100126e-05, 1.978710583307999e-05, 1.9780951328887686e-05, 1.977859509856919e-05, 1.9775565659588268e-05, 1.97633063768435e-05, 1.9762669506148646e-05, 1.976231377657134e-05, 1.9756117196837635e-05, 1.975601009545952e-05, 1.9751680139744364e-05, 1.9751012668655765e-05, 1.960830884333237e-05, 1.9606848411745075e-05, 1.9606819738350037e-05, 1.960658461651072e-05, 1.9606825473029044e-05, 1.9607226900559584e-05, 1.9606152604025474e-05, 1.960578749612865e-05, 1.960593468622318e-05, 1.9606198481457535e-05, 1.9605623101997096e-05, 1.9605546639610326e-05, 1.960556575520702e-05, 1.9605992033013258e-05, 1.9605701475943534e-05, 1.9605126096483095e-05, 1.960591365906682e-05, 1.9605152858318464e-05, 1.9605326810248364e-05, 1.960563648291478e-05, 1.960556575520702e-05, 1.9605380333919103e-05, 1.9605319164009687e-05, 1.9605250347861595e-05, 1.9605344014285387e-05, 1.9605349748964395e-05, 1.9605097423088056e-05, 1.9605319164009687e-05, 1.960466158748347e-05, 1.9605053457215664e-05, 1.960495979079187e-05, 1.9605041987857648e-05, 1.9605231232264902e-05, 1.9605072572812356e-05, 2.0245597986779567e-05, 2.007671169000267e-05, 2.0076153514579252e-05, 2.0018829663218237e-05, 1.9863094896965675e-05, 1.982930616825228e-05, 1.9826215176267127e-05, 1.980967253888957e-05, 1.9809160240898214e-05, 1.9799843299070363e-05, 1.979615207734907e-05, 1.9788718021795416e-05, 1.977834207591081e-05, 1.9776409489085213e-05, 1.976914747390179e-05, 1.9760866597414665e-05, 1.975875241242049e-05, 1.9749297838296456e-05, 1.9723648530654662e-05, 1.9722734805132768e-05, 1.972065885133198e-05, 1.9719842615353216e-05, 1.971628711436844e-05, 1.971331081596344e-05, 1.9710282905447372e-05, 1.9707977564486275e-05, 1.9706079385734725e-05, 1.970433986643572e-05, 1.9702762829708603e-05, 1.9697402816396068e-05, 1.9606758294352577e-05, 1.9605924965329603e-05, 1.9605026651933278e-05, 1.9604617632642185e-05, 1.9604883304050885e-05, 1.9605217782443134e-05, 1.9604480018675088e-05, 1.9604311823826414e-05, 1.960480876315204e-05, 1.9604760980524577e-05, 1.9604567938709622e-05, 1.960470173006652e-05, 1.9604082467214587e-05, 1.960413216114715e-05, 1.960466350396455e-05, 1.9604434147352722e-05, 1.9604483841285285e-05, 1.960357214875327e-05, 1.960392000628121e-05, 1.9604286976860133e-05, 1.960467497179514e-05, 1.960390280453532e-05, 1.9603683004448987e-05, 1.960448957520058e-05, 1.960387604626394e-05, 1.9604093935045178e-05, 1.9604013660231038e-05, 1.960430417860602e-05, 1.9604147451587938e-05, 1.9604218169876585e-05, 1.9604007926315743e-05, 1.9603832086246675e-05, 1.9603858844518054e-05, 2.0219243658408043e-05, 1.993934067194363e-05, 1.993899663702589e-05, 1.9895659705221032e-05, 1.9894094346345308e-05, 1.9852005496769813e-05, 1.984075746626476e-05, 1.983994325029277e-05, 1.9802988166212022e-05, 1.9793273002396018e-05, 1.9782476039894225e-05, 1.9770505536061914e-05, 1.9763926823912654e-05, 1.9755905076413978e-05, 1.9749872997522908e-05, 1.9749328275569817e-05, 1.974405116219268e-05, 1.973583255026885e-05, 1.973303631090965e-05, 1.9721482471588827e-05, 1.9716052453803805e-05, 1.9706077352494395e-05, 1.9703653817629415e-05, 1.970273065726681e-05, 1.970252805892636e-05, 1.970063586687878e-05, 1.9699647722142824e-05, 1.9694043775593832e-05, 1.969353919104781e-05, 1.9691457779795474e-05, 1.9607510582035897e-05, 1.960638485092015e-05, 1.9606103895955778e-05, 1.9605509494636597e-05, 1.9604972431065248e-05, 1.960510621914352e-05, 1.96047736602061e-05, 1.9604949495966115e-05, 1.9604318780739975e-05, 1.9604806151596538e-05, 1.960414485623822e-05, 1.9604546220473038e-05, 1.9604353183388674e-05, 1.960447359265912e-05, 1.9604767926431317e-05, 1.960438185226259e-05, 1.9604001511868644e-05, 1.960458635689652e-05, 1.9604120009880828e-05, 1.9604131477430394e-05, 1.9603949907895596e-05, 1.9603611615183394e-05, 1.9603703355579923e-05, 1.960364410657383e-05, 1.960328670127902e-05, 1.9603223629756404e-05, 1.9603355506576416e-05, 1.9603181582074662e-05, 1.9603707178096445e-05, 1.96032924350538e-05, 1.9603909771472115e-05, 1.9603667041672964e-05, 1.9603615437699916e-05, 1.960347782710512e-05, 1.9603428134390335e-05, 2.0255904947090626e-05, 2.0002015310953544e-05, 1.9924798565949635e-05, 1.992413918184958e-05, 1.9888364249719603e-05, 1.988110720210247e-05, 1.9840106889886834e-05, 1.9812665043774953e-05, 1.9798433814763317e-05, 1.979168898436014e-05, 1.9775219671924835e-05, 1.976590419916057e-05, 1.9760686464107956e-05, 1.9759881824380062e-05, 1.975223679133594e-05, 1.974463953974834e-05, 1.973696010405552e-05, 1.973597962856761e-05, 1.9725844226009363e-05, 1.9722069490943827e-05, 1.97124921757978e-05, 1.970857600762095e-05, 1.9701955409004738e-05, 1.9700684422261153e-05, 1.969791692029918e-05, 1.969242969783176e-05, 1.969085099850815e-05, 1.9689560899181953e-05, 1.9689362128322806e-05, 1.9689092640908e-05, 1.960723671084563e-05, 1.9605476469147787e-05, 1.9605344594362606e-05, 1.9604979549667396e-05, 1.960443867192528e-05, 1.9604771225731387e-05, 1.9604950881235835e-05, 1.9605105690766265e-05, 1.960433546557166e-05, 1.9603922640157182e-05, 1.9604241815361894e-05, 1.96042609276496e-05, 1.960405260371359e-05, 1.9604327820656577e-05, 1.960451703230488e-05, 1.960407362723007e-05, 1.960378885414323e-05, 1.9603144770047494e-05, 1.9603807966430938e-05, 1.9604016290366948e-05, 1.960399526685047e-05, 1.9603850013463894e-05, 1.9603649334442967e-05, 1.96041042068904e-05, 1.9603452477879582e-05, 1.9603467767709748e-05, 1.960310845670085e-05, 1.9603207840596928e-05, 1.9603609198638782e-05, 1.9603204018139387e-05, 1.960326517746005e-05, 1.9603517459657787e-05, 1.96033206030944e-05, 1.960342380944802e-05, 1.960339705224523e-05, 2.028838908859059e-05, 2.0012134348382704e-05, 1.997185137958199e-05, 1.994189477982954e-05, 1.988911428609701e-05, 1.9799913416909416e-05, 1.9795788985222176e-05, 1.9793455374893113e-05, 1.978877477563359e-05, 1.977916511737435e-05, 1.9770998436837014e-05, 1.9770862739594292e-05, 1.9766189785249853e-05, 1.9762701792743267e-05, 1.9747048829110974e-05, 1.974638945518507e-05, 1.9740789554886827e-05, 1.9722973080286066e-05, 1.9703048520351187e-05, 1.969877501281983e-05, 1.9698765456675977e-05, 1.9697794552460445e-05, 1.969751742428869e-05, 1.9696011376017352e-05, 1.9692603655119137e-05, 1.9690583486308474e-05, 1.9689731078276727e-05, 1.968853273783748e-05, 1.968744333743816e-05, 1.9685677362054005e-05, 1.960514715895756e-05, 1.9604852842015647e-05, 1.9604380788219205e-05, 1.9603604861735983e-05, 1.960348063705271e-05, 1.960378642088846e-05, 1.9603698508035682e-05, 1.960371953067439e-05, 1.9603560905309594e-05, 1.9603729086419257e-05, 1.9603268499516656e-05, 1.960292831499938e-05, 1.9603297166751257e-05, 1.960303916163984e-05, 1.9603130896790567e-05, 1.960272191091025e-05, 1.9602869069381204e-05, 1.9603236009984107e-05, 1.960257857473724e-05, 1.9602815557209947e-05, 1.9603020050150107e-05, 1.960329907790023e-05, 1.9602605330822868e-05, 1.960307738461931e-05, 1.9602809823763027e-05, 1.9602790712273293e-05, 1.9602914936956567e-05, 1.9602710444016408e-05, 1.9602771600783558e-05, 1.9602530796012903e-05, 1.960266266529207e-05, 1.960297227142577e-05, 1.960269515482462e-05, 1.9602790712273293e-05, 2.017310432203697e-05, 1.9972947778898378e-05, 1.9915638154631475e-05, 1.9896486530768514e-05, 1.985968926843367e-05, 1.9849254395038624e-05, 1.982182367382267e-05, 1.9813733780218046e-05, 1.9781827148106267e-05, 1.9781357005458798e-05, 1.9761611014265093e-05, 1.9758711801272366e-05, 1.9754900970219303e-05, 1.975359756661941e-05, 1.9750822578309957e-05, 1.9747139794238115e-05, 1.974210391669307e-05, 1.973943021927921e-05, 1.9737555382136254e-05, 1.972102203236692e-05, 1.971810370788446e-05, 1.970467788634596e-05, 1.9702976963759588e-05, 1.969704284619702e-05, 1.9686797176550344e-05, 1.9686779976209583e-05, 1.968398205411245e-05, 1.9682435934592927e-05, 1.9682351844038095e-05, 1.9680885992775458e-05, 1.9605946100759815e-05, 1.9606349346787746e-05, 1.960444013929057e-05, 1.960393178173877e-05, 1.9603731114284113e-05, 1.9604038804381255e-05, 1.960286537755116e-05, 1.9603272445816323e-05, 1.9603184534359996e-05, 1.960306031164997e-05, 1.9603335512730644e-05, 1.96029915113798e-05, 1.9602936088939944e-05, 1.9603085156191975e-05, 1.9603029733752117e-05, 1.9602899777686244e-05, 1.9602714399180512e-05, 1.960297431131226e-05, 1.960320555666477e-05, 1.960281568846715e-05, 1.960274306595975e-05, 1.9602968577956412e-05, 1.9602861555313928e-05, 1.9602486976065233e-05, 1.9602859644195312e-05, 1.9602777466094833e-05, 1.960275644379006e-05, 1.9602486976065233e-05, 1.9602691465757122e-05, 1.9602414353557833e-05, 1.960302017815904e-05, 2.0280257548681074e-05, 1.9940386125167405e-05, 1.9936118597298344e-05, 1.9888680811017178e-05, 1.9864680983440073e-05, 1.9821493524960427e-05, 1.979948317186236e-05, 1.9795028354368952e-05, 1.977565916719791e-05, 1.9774917653174982e-05, 1.9767441357150008e-05, 1.9758598611314742e-05, 1.974985906588473e-05, 1.9738768844557294e-05, 1.9737624084506435e-05, 1.9727198932457295e-05, 1.972619750630262e-05, 1.9719520057859046e-05, 1.971865049888886e-05, 1.9711044246798013e-05, 1.971095060198584e-05, 1.9709391129195354e-05, 1.9709167528317306e-05, 1.9703206749354654e-05, 1.9703088260000475e-05, 1.9696854191075764e-05, 1.969444044826402e-05, 1.9686472994754787e-05, 1.9684997611183397e-05, 1.968417009682276e-05, 1.9603693674820474e-05, 1.9603386025290274e-05, 1.9602709578497163e-05, 1.960292932816159e-05, 1.9602734419763576e-05, 1.9602787924029698e-05, 1.960214969456953e-05, 1.9601950964438222e-05, 1.960245161149979e-05, 1.960214396196959e-05, 1.9602224218368772e-05, 1.960207517077029e-05, 1.960183631243939e-05, 1.9602008290437638e-05, 1.9602080903370232e-05, 1.9601821025506212e-05, 1.9601635671441433e-05, 1.9601519108575953e-05, 1.9601444584776712e-05, 1.9601018461514385e-05, 1.9601387258777296e-05, 1.9601278339378405e-05, 1.960125349811199e-05, 1.960065348598477e-05, 1.960096686811491e-05, 1.96012821611117e-05, 1.9601148400446395e-05, 1.9600846483516137e-05, 1.9600901898648906e-05, 1.960063819905159e-05, 1.9601037570180857e-05, 1.96009745115815e-05, 1.9600949670315086e-05, 1.9600964957248264e-05, 1.9600963046381616e-05, 2.0172149750231254e-05, 1.9962993930494654e-05, 1.991085020142569e-05, 1.9864796404361375e-05, 1.9825969504956792e-05, 1.9803818738782378e-05, 1.9801777933203162e-05, 1.978732795961699e-05, 1.9772593266900382e-05, 1.975914076570405e-05, 1.9744448112053682e-05, 1.9738394486515333e-05, 1.9723193542336807e-05, 1.9722033646281953e-05, 1.9711281199658124e-05, 1.9705177891586947e-05, 1.9702055535485413e-05, 1.970196763561964e-05, 1.9689617704478747e-05, 1.9689277570215545e-05, 1.9685870494983576e-05, 1.9684135428067913e-05, 1.9683737967805294e-05, 1.9681494610361474e-05, 1.968128632589693e-05, 1.9679572278514385e-05, 1.9678198365395043e-05, 1.9675316778491056e-05, 1.9674154971569555e-05, 1.967326259684531e-05, 1.960222627325108e-05, 1.9601053094327713e-05, 1.9601192576512412e-05, 1.9600730183516558e-05, 1.9600250594086974e-05, 1.9600390076271674e-05, 1.9600546754890103e-05, 1.9600487522729478e-05, 1.960015505834403e-05, 1.9600248683372115e-05, 1.9600260147661268e-05, 1.959997927257701e-05, 1.9599604772464665e-05, 1.960006525474566e-05, 1.959926466521978e-05, 1.9599975451147292e-05, 1.9599759540368236e-05, 1.9599778647516825e-05, 1.959947484385426e-05, 1.959985507611118e-05, 1.9600042326167353e-05, 1.9600200915500642e-05, 1.9599883736834064e-05, 1.9599757629653377e-05, 1.9600051879741648e-05, 1.9599956343998703e-05, 1.959940414740448e-05, 1.9599343004528995e-05, 1.9599568468882346e-05, 1.9599325808095265e-05, 1.9599553183163474e-05, 1.959966782605501e-05, 1.9599778647516825e-05, 1.9599706040352187e-05, 1.9599797754665414e-05, 1.9599723236785917e-05, 1.9599694576063033e-05, 1.9599662093910432e-05, 2.011942048197354e-05, 1.9912604705645985e-05, 1.9886408804930438e-05, 1.9878026498844435e-05, 1.980668613815761e-05, 1.9768951430409153e-05, 1.9764243428996818e-05, 1.9755268801304555e-05, 1.9749599710318193e-05, 1.9744635673114765e-05, 1.9735309473888464e-05, 1.9734002544924975e-05, 1.9724120327674734e-05, 1.9720081076463015e-05, 1.971932443337889e-05, 1.971196053831268e-05, 1.971107587733301e-05, 1.9693180121964533e-05, 1.9690065656744523e-05, 1.9684541780087437e-05, 1.968448254792681e-05, 1.9684354530031265e-05, 1.9683018940344892e-05, 1.9681538136329243e-05, 1.968056940389578e-05, 1.967917458204878e-05, 1.9677724349470875e-05, 1.9672918901600736e-05, 1.9671029204605282e-05, 1.9669770043513266e-05, 1.9601135424016135e-05, 1.9601229048661715e-05, 1.960074181836329e-05, 1.9600634818768342e-05, 1.9600764746847922e-05, 1.960079340745371e-05, 1.9600995942401292e-05, 1.960048196220413e-05, 1.959996989271402e-05, 1.9600541194122762e-05, 1.9600017660390337e-05, 1.9600118927864127e-05, 1.9600103642207706e-05, 1.9600002374733916e-05, 1.9600296623620023e-05, 1.9600015749683284e-05, 1.9600109374328864e-05, 1.9599700483019598e-05, 1.959969475089844e-05, 1.9600036767460863e-05, 1.959978264342286e-05, 1.959959348342465e-05, 1.9600111285035917e-05, 1.9600248855943707e-05, 1.9599967982006968e-05, 1.9599960339178758e-05, 1.959970239372665e-05, 1.959983232180623e-05, 1.9599971803421073e-05, 1.959946355534507e-05, 1.9599732965039493e-05, 1.9599895375138968e-05, 1.959986862524023e-05, 1.9599987089077495e-05, 1.9599864803826125e-05, 1.959977500059465e-05, 1.9599792196958125e-05, 2.0028677144823346e-05, 1.9955928884500887e-05, 1.9928330631832462e-05, 1.9822884441718066e-05, 1.98150753819939e-05, 1.9794191353908475e-05, 1.977152463614293e-05, 1.9760987086747586e-05, 1.976047119584337e-05, 1.9757068226582608e-05, 1.9756894352240817e-05, 1.9745913518809258e-05, 1.9735926253045075e-05, 1.973447029427096e-05, 1.9732792693478735e-05, 1.972426902931688e-05, 1.9720552704099482e-05, 1.9711780648020783e-05, 1.9702238576999867e-05, 1.9696987954019194e-05, 1.968731786562575e-05, 1.9686830635327326e-05, 1.9685284873321735e-05, 1.9682575490721083e-05, 1.9681776815173076e-05, 1.967915150368274e-05, 1.9676629370373247e-05, 1.9676157425731243e-05, 1.9675993104924716e-05, 1.9672511796674794e-05, 1.96024361893421e-05, 1.9601114063341404e-05, 1.9600313527511504e-05, 1.9600323080445035e-05, 1.9600303974577973e-05, 1.9599864539635546e-05, 1.9600544708502955e-05, 1.960035173924563e-05, 1.960001356539863e-05, 1.9599939052517088e-05, 1.959978238440718e-05, 1.959974226208635e-05, 1.9599442299973475e-05, 1.9599476690534186e-05, 1.9599602789256796e-05, 1.9599623805710564e-05, 1.959928372127686e-05, 1.959937351885205e-05, 1.959897611681716e-05, 1.959851757600767e-05, 1.9598725829958648e-05, 1.9599106036713183e-05, 1.959877550521301e-05, 1.9599033434418347e-05, 1.9598932173322918e-05, 1.959866851235746e-05, 1.9598999043857635e-05, 1.9598792700493365e-05, 1.9599033434418347e-05, 1.959857871478227e-05, 1.9599136606100482e-05, 1.9599226403675674e-05, 1.9599039166178465e-05, 1.9598857660441376e-05, 1.959891688862927e-05, 1.9598863392201495e-05, 2.0198990140140802e-05, 1.994188248708676e-05, 1.9856540400093985e-05, 1.981316817127642e-05, 1.9788876971893726e-05, 1.976960106261482e-05, 1.9768970569001773e-05, 1.9765621310505795e-05, 1.97646679277394e-05, 1.975188419208818e-05, 1.9741047344290583e-05, 1.9730328952868772e-05, 1.9729501668824985e-05, 1.9724950651290804e-05, 1.971911189831664e-05, 1.970750699466315e-05, 1.970081612001802e-05, 1.9697510805016284e-05, 1.969667205745226e-05, 1.9694690779037925e-05, 1.969204461644983e-05, 1.967937742658769e-05, 1.967841066971435e-05, 1.967778208668801e-05, 1.9676899395629742e-05, 1.9676375894872242e-05, 1.9673500461879403e-05, 1.9672573827326893e-05, 1.9669728963721354e-05, 1.966901631487994e-05, 1.9595853193367374e-05, 1.9595836002712225e-05, 1.959615307479609e-05, 1.9595941056715915e-05, 1.9595736678926917e-05, 1.9595734768854123e-05, 1.9595795891183543e-05, 1.9595455898226144e-05, 1.9595849373221785e-05, 1.9596036560355634e-05, 1.9595675556597497e-05, 1.959539286582393e-05, 1.9595476909026882e-05, 1.959563353499602e-05, 1.959549791982762e-05, 1.9595081523958446e-05, 1.9595150286579044e-05, 1.9594999390828288e-05, 1.9595308822620977e-05, 1.9595199948471698e-05, 1.9595474998954088e-05, 1.9595347024076865e-05, 1.9595843643003402e-05, 1.9595016581483438e-05, 1.9595094894468007e-05, 1.959525343050994e-05, 1.9595272531237884e-05, 1.959531455283936e-05, 1.959546353851732e-05, 1.95949955706827e-05, 1.9595154106724633e-05, 1.9595169387306988e-05, 1.9595119725414334e-05, 2.0073524197784798e-05, 1.9801038943157573e-05, 1.9764646326206337e-05, 1.9761481335586056e-05, 1.9758578024938606e-05, 1.9747432750183425e-05, 1.974096524370167e-05, 1.9739502127941178e-05, 1.973619388186132e-05, 1.9717406405855842e-05, 1.9712614033214754e-05, 1.9710239812731345e-05, 1.9708213225496513e-05, 1.9702756147522982e-05, 1.9702167845102314e-05, 1.9688071507879823e-05, 1.968402406362854e-05, 1.9676857470504044e-05, 1.967173465526953e-05, 1.9665106702673046e-05, 1.966451840025238e-05, 1.9660814769104085e-05, 1.966081285903129e-05, 1.966010613209737e-05, 1.9655615550957795e-05, 1.9654933654970203e-05, 1.9652748531693437e-05, 1.9652076186069817e-05, 1.9651984502575687e-05, 1.965033992989973e-05, 1.959758102370603e-05, 1.9596391079020926e-05, 1.959687431498454e-05, 1.9596284117700917e-05, 1.9595982333976605e-05, 1.9595758861218728e-05, 1.9595036872308664e-05, 1.9595848632326593e-05, 1.9595405506857982e-05, 1.9595800881737303e-05, 1.9595012042002233e-05, 1.959524697490154e-05, 1.9594905080682224e-05, 1.9595189674194392e-05, 1.9595298545537973e-05, 1.9594882160399365e-05, 1.9594987211695803e-05, 1.9595204954382965e-05, 1.9594855420069363e-05, 1.959503305226152e-05, 1.9594880250375793e-05, 1.959492227089437e-05, 1.959482867973936e-05, 1.9594431394836468e-05, 1.9594523075967905e-05, 1.959530618563226e-05, 1.9594878340352222e-05, 1.9594538356156477e-05, 1.959472171841935e-05, 1.9594654867594345e-05, 1.9594905080682224e-05, 1.959473126853721e-05, 1.95951018131101e-05, 1.9594931821012226e-05, 1.9594943281153656e-05, 1.9594786659220785e-05, 1.9869858703884307e-05, 1.9855445666013037e-05, 1.9819777885837038e-05, 1.9806877586634472e-05, 1.9746559042243443e-05, 1.9739278032388516e-05, 1.9728749982461874e-05, 1.9723415286626404e-05, 1.97167111038901e-05, 1.971446300614633e-05, 1.9713462153794813e-05, 1.9713125989646212e-05, 1.969868812146851e-05, 1.9697530647184124e-05, 1.969126003979857e-05, 1.9690318398177774e-05, 1.968737314183037e-05, 1.9675785028821493e-05, 1.9674461382486377e-05, 1.9668278636185118e-05, 1.9664265676661193e-05, 1.966246643445675e-05, 1.9662101619954573e-05, 1.9658911880590007e-05, 1.9658357973754243e-05, 1.965736094144987e-05, 1.9657101178244133e-05, 1.9654738479086067e-05, 1.9652547682049446e-05, 1.965239679018729e-05, 1.959472414387502e-05, 1.9594834921368535e-05, 1.9594819641714258e-05, 1.9594785262492132e-05, 1.9594861660763522e-05, 1.9594271484117036e-05, 1.959461909625186e-05, 1.959424856463562e-05, 1.9594290583684884e-05, 1.9594489219190497e-05, 1.9594588536943304e-05, 1.959476807288107e-05, 1.9594225645154202e-05, 1.9594214185413494e-05, 1.9594158796666736e-05, 1.9594174076321014e-05, 1.9594267664203467e-05, 1.9594013639951096e-05, 1.9593855113537962e-05, 1.959368512738412e-05, 1.959371377673589e-05, 1.959416834645066e-05, 1.959403082956216e-05, 1.9593916232155074e-05, 1.959413969709889e-05, 1.9593849383667608e-05, 1.959386657327867e-05, 1.9593820734315837e-05, 1.959354379058205e-05, 1.9593308865897526e-05, 1.959401554990788e-05, 1.9593755795785156e-05, 1.959413587718532e-05, 1.9594149246882813e-05, 1.959393533172292e-05, 1.959391432219829e-05, 1.9593872303149025e-05, 1.959387803301938e-05, 1.998405355479061e-05, 1.9887314243643376e-05, 1.9820016916332955e-05, 1.9805130713152668e-05, 1.976769365021492e-05, 1.9730552630578806e-05, 1.9729601472100004e-05, 1.9728841309299677e-05, 1.9714585391858355e-05, 1.971149890169421e-05, 1.9699042163544116e-05, 1.969759441630128e-05, 1.9695233709715338e-05, 1.9686545316301542e-05, 1.968023481908475e-05, 1.9678806171409763e-05, 1.9673362794573246e-05, 1.9673282576388286e-05, 1.9662634567313344e-05, 1.966017263301781e-05, 1.9660155443406747e-05, 1.9656547535040368e-05, 1.9654985190390448e-05, 1.9653268139240964e-05, 1.9651646585930717e-05, 1.9650414663804558e-05, 1.9650046042145103e-05, 1.964979201789273e-05, 1.9649333628264393e-05, 1.964757646802243e-05, 1.959184570817364e-05, 1.9591043767121013e-05, 1.9591026582669886e-05, 1.9591169786429283e-05, 1.9590568330639813e-05, 1.9589892408895457e-05, 1.9590255191752597e-05, 1.9590062344023275e-05, 1.958990195581275e-05, 1.9590255191752597e-05, 1.9589852311842825e-05, 1.958983130862478e-05, 1.959016545073004e-05, 1.958945325069997e-05, 1.9590173088263876e-05, 1.958990386519621e-05, 1.9589294771872904e-05, 1.9589716745617262e-05, 1.9589890499511998e-05, 1.95898580399932e-05, 1.9589556357406737e-05, 1.958998787806839e-05, 1.958951053220373e-05, 1.9590035612654854e-05, 1.9589796939722525e-05, 1.95896919236323e-05, 1.9589842764925532e-05, 1.9589432247481926e-05, 1.9590144447511997e-05, 1.958935778152704e-05, 1.958981603355711e-05, 1.958981603355711e-05, 1.9589714836233804e-05, 1.958976257082027e-05, 1.9589756842669894e-05, 1.9589630823361624e-05, 1.9589667101647338e-05, 1.986924284642748e-05, 1.976239183869885e-05, 1.9758089997766546e-05, 1.9754233043180105e-05, 1.9742940949405742e-05, 1.9728400994368242e-05, 1.9713509712774354e-05, 1.970677913608267e-05, 1.9682476503421172e-05, 1.9682438315752e-05, 1.9682304658909895e-05, 1.9681831131812154e-05, 1.9672265120684396e-05, 1.9671304700804703e-05, 1.9670661238579143e-05, 1.9669830656774637e-05, 1.9666508329556614e-05, 1.966391347743633e-05, 1.9663539238278438e-05, 1.965977393409801e-05, 1.9655410992895032e-05, 1.96533030335567e-05, 1.9649831774428902e-05, 1.9648779704143195e-05, 1.9646566728714638e-05, 1.964632805578231e-05, 1.963830291710567e-05, 1.9633959069737276e-05, 1.9633903697616976e-05, 1.9633496998940287e-05, 1.958751914973465e-05, 1.9587461879133627e-05, 1.9587897135701395e-05, 1.9587587874455876e-05, 1.9587083893166882e-05, 1.9587194616328858e-05, 1.95873931544124e-05, 1.9586976988044975e-05, 1.9587123982587598e-05, 1.958717743514855e-05, 1.9587047621786235e-05, 1.9587662326237204e-05, 1.9587074348066712e-05, 1.9587051439826303e-05, 1.958665627267925e-05, 1.958712016454753e-05, 1.9587028531585894e-05, 1.9587083893166882e-05, 1.958707816610678e-05, 1.9587034258645997e-05, 1.958725188692988e-05, 1.9587041894726133e-05, 1.958674026956075e-05, 1.9586452007535607e-05, 1.9586726906420512e-05, 1.9586297376912847e-05, 1.9586761268781125e-05, 1.9586387100854448e-05, 1.9587024713545826e-05, 1.9586268741612336e-05, 1.9586469188715913e-05, 1.958650927813663e-05, 1.9586900627243612e-05, 1.9587034258645997e-05, 1.958674408760082e-05, 1.9586732633480614e-05, 1.958676890486126e-05, 1.9836936435225442e-05, 1.9774291942807566e-05, 1.974743775798836e-05, 1.974417906079021e-05, 1.970197062783701e-05, 1.9700897758577864e-05, 1.969394701663383e-05, 1.9693880200932637e-05, 1.968473026790936e-05, 1.9672942069199e-05, 1.9669353111534957e-05, 1.9662312645649322e-05, 1.965621714468055e-05, 1.965536381272532e-05, 1.965419931050454e-05, 1.965155531775736e-05, 1.9649890652287654e-05, 1.9646979396735703e-05, 1.9645013106100616e-05, 1.9643627157555884e-05, 1.9643474435953158e-05, 1.963921159421709e-05, 1.963601971272013e-05, 1.9635101474083745e-05, 1.963182177766522e-05, 1.9631562150940586e-05, 1.9631203255174182e-05, 1.962910906019681e-05, 1.9628393177684037e-05, 1.9627805199513544e-05, 1.9586115943221426e-05, 1.958550703313501e-05, 1.9585831530673226e-05, 1.9585491762662624e-05, 1.9584672883580893e-05, 1.9585033648491026e-05, 1.958530469937589e-05, 1.958536005483829e-05, 1.9584924846375272e-05, 1.9585365781265435e-05, 1.9585026013254833e-05, 1.958549748908977e-05, 1.9585174900360602e-05, 1.9584865673294774e-05, 1.9584657613108507e-05, 1.958481413545047e-05, 1.9584932481611465e-05, 1.9584804591405228e-05, 1.9585089003953428e-05, 1.9584628980972782e-05, 1.9584909575902885e-05, 1.9585266523194922e-05, 1.9584648069063265e-05, 1.9585020286827688e-05, 1.9585026013254833e-05, 1.958483513235e-05, 1.9584703424525667e-05, 1.9584806500214276e-05, 1.958483513235e-05, 1.9584604166455154e-05, 1.958486949091287e-05, 1.958501837801864e-05, 1.9584947752083852e-05, 1.958484658520429e-05, 1.9584936299229562e-05, 1.958481413545047e-05, 1.9584819861877614e-05, 1.9806965150112425e-05, 1.976125299102318e-05, 1.9720891223696385e-05, 1.971577561544688e-05, 1.9692394613413967e-05, 1.969190023187045e-05, 1.9676297626709457e-05, 1.967577270422117e-05, 1.966838179558606e-05, 1.96644649194189e-05, 1.9663436071341855e-05, 1.9662227795214267e-05, 1.965702056413044e-05, 1.9650832205195777e-05, 1.964823240727196e-05, 1.9644588490798712e-05, 1.964319124257534e-05, 1.9640045525263702e-05, 1.9639743933434067e-05, 1.963651995495145e-05, 1.9632858859196765e-05, 1.96323072133818e-05, 1.9631913998717845e-05, 1.9627771883082984e-05, 1.962642044627677e-05, 1.9626025322803768e-05, 1.96252484375211e-05, 1.9624103152092107e-05, 1.9622543655099627e-05, 1.9622455849883404e-05, 1.9575915622465842e-05, 1.95764268957465e-05, 1.957505904894713e-05, 1.9575705771492438e-05, 1.9575793527354043e-05, 1.957524600708707e-05, 1.9575631369783686e-05, 1.9575314685587458e-05, 1.9575486381838425e-05, 1.9575514997880253e-05, 1.9575205944628513e-05, 1.9575421518810282e-05, 1.9574879721751676e-05, 1.95755016437274e-05, 1.957519259047566e-05, 1.9575228837461975e-05, 1.9575423426546404e-05, 1.9574881629487798e-05, 1.9575209760100756e-05, 1.9575446319379866e-05, 1.9575278438601143e-05, 1.9574927415154722e-05, 1.9575186867267294e-05, 1.9574849197973726e-05, 1.957477098079273e-05, 1.957477098079273e-05, 1.957494649251594e-05, 1.9574696579083978e-05, 1.9575032340641424e-05, 1.957512963518364e-05, 1.9575125819711395e-05, 1.9575139173864248e-05, 1.957506858762774e-05, 1.9575318501059702e-05, 1.9575024709696937e-05, 1.957510101914181e-05, 1.957533757842092e-05, 1.957534902483765e-05, 1.9575133450655882e-05, 1.957514298933649e-05, 1.9575139173864248e-05, 1.9575148712544857e-05, 1.9575125819711395e-05, 1.9754025682274315e-05, 1.9702453851692253e-05, 1.9678326712959174e-05, 1.966078317158261e-05, 1.9655040885855832e-05, 1.9644815420242698e-05, 1.963984767538139e-05, 1.9635753673663894e-05, 1.9634908546561913e-05, 1.9633182045371636e-05, 1.9633098104982274e-05, 1.9629343680294467e-05, 1.962793767877266e-05, 1.9624562893573103e-05, 1.962390090913882e-05, 1.9617054044197488e-05, 1.9616062021414124e-05, 1.961536951320189e-05, 1.9613912002804795e-05, 1.961389674091582e-05, 1.9610336905312442e-05, 1.9609764584475886e-05, 1.960680377801477e-05, 1.960538251460399e-05, 1.9605008598324106e-05, 1.9604789208670093e-05, 1.9604537387502008e-05, 1.9603814355511825e-05, 1.9601383899692584e-05, 1.9601376268748097e-05], \"Total\": [64.0, 40.0, 37.0, 33.0, 28.0, 24.0, 22.0, 21.0, 20.0, 18.0, 18.0, 18.0, 18.0, 17.0, 15.0, 15.0, 14.0, 14.0, 13.0, 11.0, 11.0, 10.0, 10.0, 10.0, 10.0, 9.0, 9.0, 9.0, 9.0, 9.0, 64.72707722162113, 40.22841696782886, 37.288294077233516, 33.36760408885603, 28.468333363305362, 24.54857174163163, 22.588360187038152, 21.608593730816278, 20.62870908524471, 18.668623347823722, 18.66858331523079, 18.668385060564823, 18.66813152300353, 17.688738701115508, 15.728671073079818, 15.728556694919112, 14.748757831564868, 14.74856338986139, 13.768512896001376, 11.808754087487134, 11.808545347769869, 10.828813204688876, 10.828672138866851, 10.828640685869395, 10.828636872697501, 9.849047701630603, 9.848930465317748, 9.8487760546867, 9.848756038808661, 9.848730303394078, 1.0289453834491173, 1.0289357319344237, 1.0289084432081552, 1.0289569410928951, 1.0289312039106442, 1.0289401406922443, 1.028955392179748, 1.0289128525401519, 1.028948243103025, 1.0289382341949806, 1.028943000404634, 1.0289369234994818, 1.0289487197639937, 1.0289452642904422, 1.0289611113286008, 1.0289248883818354, 1.0289368043648786, 1.028951102762282, 1.0289506261388919, 1.0289155934239174, 1.0289246500578015, 1.0289539623799977, 1.0289617070669077, 1.0289404981541967, 1.0289476473512333, 1.0289238158849723, 1.0289587283230683, 1.0289412131030506, 1.0289466941294176, 1.0289424046604623, 1.0289633751064382, 1.028958847491978, 64.72707722162113, 33.36760408885603, 37.288294077233516, 40.22841696782886, 28.468333363305362, 24.54857174163163, 21.608593730816278, 20.62870908524471, 22.588360187038152, 18.668385060564823, 18.66813152300353, 18.668623347823722, 17.688738701115508, 14.74856338986139, 10.828672138866851, 18.66858331523079, 15.728556694919112, 14.748757831564868, 11.808545347769869, 13.768512896001376, 15.728671073079818, 11.808754087487134, 9.848644520408149, 10.828640685869395, 6.9087122599865936, 10.828636872697501, 8.868823734204772, 9.848539673761236, 10.828813204688876, 9.84867025482023, 1.0289259608147896, 1.028952175117727, 1.0289503878459785, 1.0289377576184597, 1.0289450260191146, 1.0289351361493322, 1.0289499112757443, 1.028951698479479, 1.0289446685404073, 1.0289432387576016, 1.0289416897112358, 1.028942762099232, 1.0289348978327315, 1.028918810968849, 1.0289281057468231, 1.0289645665919378, 1.0289438344897432, 1.0289071323081036, 1.0289489580454563, 1.0289468133011694, 1.0289451451638578, 1.0289356127773186, 1.0289404981794188, 1.0289526517333567, 1.028943596207537, 1.028938591649568, 1.0289128525401519, 1.0289018886759438, 1.0289476473365982, 1.0289630176586828, 1.0289611113286008, 1.0289614687279132, 1.0289534857653513, 64.72707722162113, 40.22841696782886, 37.288294077233516, 28.468333363305362, 33.36760408885603, 24.54857174163163, 21.608593730816278, 18.668623347823722, 22.588360187038152, 18.66813152300353, 18.668385060564823, 18.66858331523079, 20.62870908524471, 17.688738701115508, 14.74856338986139, 15.728556694919112, 11.808754087487134, 13.768512896001376, 9.848644520408149, 11.808545347769869, 10.828636872697501, 15.728671073079818, 10.828672138866851, 10.828640685869395, 8.868757967013861, 9.848539673761236, 9.848930465317748, 14.748757831564868, 8.868681715828627, 9.84867025482023, 1.0289468132868118, 1.0289155934239174, 1.0289183342916814, 1.0289315613944143, 1.0289463367008482, 1.0289683792962907, 1.0289281057468231, 1.0289225050655852, 1.028934778660114, 1.0289592049344887, 1.02893048895924, 1.0289345403475585, 1.0289360893964243, 1.0289588474860856, 1.028950626162045, 1.028920479259095, 1.0289643282678167, 1.0289246500578015, 1.0289347786666652, 1.028951102762282, 1.0289476473766568, 1.0289388299784672, 1.0289357319344237, 1.0289325146393211, 1.0289375192899815, 1.0289419280282175, 1.0289327529553713, 1.0289468132730186, 1.0289151167408153, 1.0289364468799114, 1.0289319188525379, 1.028937042680385, 1.028964089970827, 1.0289515793626824, 64.72707722162113, 40.22841696782886, 37.288294077233516, 33.36760408885603, 28.468333363305362, 18.66858331523079, 21.608593730816278, 24.54857174163163, 22.588360187038152, 18.668623347823722, 18.668385060564823, 15.728671073079818, 18.66813152300353, 20.62870908524471, 14.748757831564868, 17.688738701115508, 14.74856338986139, 15.728556694919112, 10.828813204688876, 11.808754087487134, 10.828672138866851, 10.828636872697501, 13.768512896001376, 10.828640685869395, 9.84867025482023, 9.8487760546867, 9.848930465317748, 9.848539673761236, 7.888873319930834, 8.868757967013861, 1.0289338254131493, 1.0289484814252805, 1.0289382342019564, 1.0289214325824023, 1.0289410939347017, 1.0289598006754361, 1.02892989316782, 1.0289214325692915, 1.0289488388991124, 1.0289463367008482, 1.0289365660414633, 1.0289480048095134, 1.0289155934239174, 1.0289191684545023, 1.0289496729660075, 1.0289378767851236, 1.0289413322388712, 1.0288992668338794, 1.0289188109514007, 1.028943357878007, 1.0289675452630085, 1.0289295356739256, 1.0289183342916814, 1.0289639708740637, 1.0289325146393211, 1.028944072777746, 1.028944072789833, 1.0289607538707946, 1.028952770847935, 1.0289587283045596, 1.0289576559610554, 1.028950030387004, 1.028968855870646, 64.72707722162113, 40.22841696782886, 33.36760408885603, 28.468333363305362, 37.288294077233516, 18.66858331523079, 22.588360187038152, 21.608593730816278, 18.668385060564823, 24.54857174163163, 20.62870908524471, 18.668623347823722, 17.688738701115508, 15.728671073079818, 18.66813152300353, 14.74856338986139, 14.748757831564868, 13.768512896001376, 15.728556694919112, 9.848756038808661, 10.828636872697501, 9.848644520408149, 9.848730303394078, 11.808545347769869, 10.828813204688876, 8.868802765074458, 9.848539673761236, 9.849047701630603, 8.868757967013861, 9.8487760546867, 1.0289314422449918, 1.0289279865837195, 1.028934540349068, 1.0289315613944143, 1.0289295356579082, 1.028951698513739, 1.0289365660414633, 1.0289482431324932, 1.0289214325824023, 1.0289486005762518, 1.028914759236321, 1.0289420471613981, 1.0289384725064457, 1.0289489580633022, 1.0289645665943938, 1.028948004815351, 1.0289334679290276, 1.028965281475414, 1.02894109391577, 1.0289471707510631, 1.0289399023984525, 1.0289225050655852, 1.0289341828852172, 1.0289346594960085, 1.0289188109514007, 1.028918215119288, 1.0289270332650433, 1.0289221475711008, 1.0289515793407666, 1.028931442255793, 1.028966115523689, 1.0289578943038036, 1.0289594432352376, 1.0289455026186765, 1.0289545581163544, 64.72707722162113, 37.288294077233516, 33.36760408885603, 40.22841696782886, 22.588360187038152, 18.66813152300353, 24.54857174163163, 28.468333363305362, 21.608593730816278, 18.66858331523079, 17.688738701115508, 20.62870908524471, 15.728556694919112, 13.768512896001376, 18.668385060564823, 14.74856338986139, 14.748757831564868, 18.668623347823722, 9.848730303394078, 15.728671073079818, 10.828636872697501, 11.808545347769869, 10.828640685869395, 9.8487760546867, 9.84867025482023, 9.848539673761236, 11.808754087487134, 10.828813204688876, 8.868681715828627, 8.869027708565369, 1.0289259608147896, 1.0289270332650433, 1.0289271524289725, 1.0289468132730186, 1.028922743424589, 1.0289430004239422, 1.0289601580947516, 1.0289730260257446, 1.0289432387576016, 1.0289219092530086, 1.0289458600908572, 1.0289470516178174, 1.0289381150452477, 1.0289531283136786, 1.0289639708740637, 1.0289444302377264, 1.0289297739951373, 1.0288992668338794, 1.0289359702668368, 1.0289472899234795, 1.028955392179748, 1.0289488388931938, 1.0289440727853219, 1.0289682601515715, 1.0289343020438726, 1.0289378767458683, 1.0289238158935352, 1.028933467935859, 1.0289556304979852, 1.0289350169860085, 1.0289385916795313, 1.028962183629689, 1.028945026015545, 1.0289654006241924, 1.0289663537887894, 64.72707722162113, 37.288294077233516, 40.22841696782886, 33.36760408885603, 28.468333363305362, 22.588360187038152, 18.66858331523079, 20.62870908524471, 24.54857174163163, 18.668623347823722, 18.668385060564823, 14.748757831564868, 15.728671073079818, 17.688738701115508, 21.608593730816278, 18.66813152300353, 14.74856338986139, 15.728556694919112, 11.808545347769869, 9.849047701630603, 9.848756038808661, 10.828640685869395, 8.868802765074458, 9.84867025482023, 8.868813249246536, 13.768512896001376, 11.808754087487134, 10.828813204688876, 9.848930465317748, 9.848644520408149, 1.028916427602007, 1.0289509836184396, 1.0289365660414633, 1.0289084432081552, 1.0289217900796057, 1.0289382342019564, 1.0289377576184597, 1.0289395449130811, 1.0289384725064457, 1.0289489580633022, 1.028928224881325, 1.028918215119288, 1.0289432387351825, 1.0289357319311168, 1.0289420471613697, 1.0289214325824023, 1.0289295356739256, 1.0289522942357738, 1.0289188109663796, 1.0289314422449918, 1.028944072763282, 1.028958728326716, 1.028922862560389, 1.0289481239842975, 1.028936089418833, 1.0289354936026773, 1.0289445493662472, 1.0289338254131493, 1.0289374001300367, 1.0289283440484907, 1.0289365660205727, 1.0289770770079054, 1.0289416897112358, 1.0289648048992523, 64.72707722162113, 33.36760408885603, 37.288294077233516, 40.22841696782886, 24.54857174163163, 28.468333363305362, 18.66813152300353, 22.588360187038152, 18.668623347823722, 15.728671073079818, 15.728556694919112, 21.608593730816278, 18.668385060564823, 17.688738701115508, 20.62870908524471, 13.768512896001376, 18.66858331523079, 14.74856338986139, 11.808545347769869, 14.748757831564868, 9.8487760546867, 10.828636872697501, 10.828640685869395, 8.869027708565369, 10.828813204688876, 11.808754087487134, 9.84867025482023, 8.868681715828627, 6.9087870821006625, 7.8888509210330735, 1.028920479259095, 1.0289446685328432, 1.0289227434095616, 1.0289248883818354, 1.0289409748050193, 1.0289599198262693, 1.028915355088994, 1.0289378767458683, 1.0289348978327315, 1.0289319188521282, 1.0289493155150116, 1.0289356127773186, 1.028933110429009, 1.0289420471613981, 1.0289438344800077, 1.0289378767851236, 1.0289289398678414, 1.0289440727853219, 1.0289582517429603, 1.0289378767252375, 1.0289365660414633, 1.0289488388991124, 1.0289466941439611, 1.0289283440488606, 1.0289486005929496, 1.02894609837738, 1.0289478856647838, 1.0289338254131493, 1.0289464558309447, 1.0289334679290276, 1.0289723111646167, 64.72707722162113, 28.468333363305362, 40.22841696782886, 33.36760408885603, 37.288294077233516, 20.62870908524471, 18.668385060564823, 22.588360187038152, 21.608593730816278, 24.54857174163163, 13.768512896001376, 18.66813152300353, 18.668623347823722, 18.66858331523079, 15.728556694919112, 14.748757831564868, 14.74856338986139, 17.688738701115508, 9.848730303394078, 10.828672138866851, 15.728671073079818, 9.848756038808661, 8.868802765074458, 11.808754087487134, 9.848930465317748, 10.828813204688876, 9.849047701630603, 9.848644520408149, 8.868757967013861, 8.868681715828627, 1.0289282249004055, 1.0289388299784672, 1.0289198834695714, 1.0289327529553713, 1.0289354936026773, 1.0289465749895748, 1.0289188109663796, 1.0289235775502927, 1.0289501495321798, 1.028934421181725, 1.0289393066008194, 1.0289495537947566, 1.0289403789928118, 1.0289525325522337, 1.0289614687479745, 1.0289586091589256, 1.0289514601958434, 1.028945383461659, 1.0289446685382828, 1.0289295356579082, 1.0289515793732198, 1.028945979243791, 1.0289449068529077, 1.028914759236321, 1.0289345403475585, 1.0289559878899688, 1.028949077198128, 1.0289332295977878, 1.0289363277036008, 1.0289227434095616, 1.0289438344607236, 1.0289506261566588, 1.028948838888128, 1.0289650431847515, 1.0289686175758592, 64.72707722162113, 37.288294077233516, 40.22841696782886, 33.36760408885603, 22.588360187038152, 24.54857174163163, 18.668385060564823, 18.66858331523079, 28.468333363305362, 17.688738701115508, 18.66813152300353, 21.608593730816278, 18.668623347823722, 20.62870908524471, 15.728671073079818, 11.808754087487134, 14.748757831564868, 13.768512896001376, 14.74856338986139, 10.828640685869395, 11.808545347769869, 15.728556694919112, 10.828636872697501, 8.868823734204772, 10.828672138866851, 6.908865717072202, 9.84867025482023, 9.8487760546867, 7.888887617647655, 9.848730303394078, 1.0289385916581053, 1.0289408556389146, 1.0289526517005425, 1.0289308464608788, 1.0289221475711008, 1.0289335870817091, 1.0289499112739973, 1.028950626162045, 1.028934778660114, 1.0289401406922443, 1.0289409748002027, 1.0289313230839914, 1.028916427602007, 1.0289424046434903, 1.0289018886759438, 1.0289413322388712, 1.0289310847704498, 1.0289332295977878, 1.0289188109663796, 1.0289389491133678, 1.0289496729660075, 1.0289587283045596, 1.028942762094723, 1.0289374001300367, 1.028957417663588, 1.028954081523877, 1.0289266757969835, 1.0289242925378446, 1.0289369234994818, 1.0289246500578015, 1.0289375192899815, 1.0289450259992845, 1.0289558687844214, 1.028951341053825, 1.0289614687272595, 1.0289631368063032, 1.0289601581030487, 1.0289569410928951, 64.72707722162113, 33.36760408885603, 37.288294077233516, 40.22841696782886, 28.468333363305362, 22.588360187038152, 20.62870908524471, 24.54857174163163, 18.66813152300353, 21.608593730816278, 18.668385060564823, 15.728556694919112, 18.66858331523079, 15.728671073079818, 18.668623347823722, 13.768512896001376, 11.808545347769869, 14.748757831564868, 9.848730303394078, 9.84867025482023, 14.74856338986139, 17.688738701115508, 10.828636872697501, 9.848644520408149, 9.848539673761236, 10.828672138866851, 10.828640685869395, 10.828813204688876, 9.8487760546867, 9.848930465317748, 1.0289343020438726, 1.0289526517005425, 1.0289282249004055, 1.0289238158935352, 1.0289350169981564, 1.028939902383203, 1.0289506261234405, 1.0289335870871594, 1.0289090390604272, 1.0289440727537482, 1.0289225050655852, 1.0289308464608788, 1.0289334679290276, 1.028928224878904, 1.028944191933552, 1.0289310847704498, 1.028936804364025, 1.028915355088994, 1.0289155934239174, 1.0289365660205727, 1.0289275099218134, 1.028918810968849, 1.0289471707694196, 1.0289564644825928, 1.028943357878007, 1.028943238734818, 1.0289313230928983, 1.0289384725207884, 1.0289476473766568, 1.028922743424589, 1.028937042680385, 1.0289497921149091, 1.0289484814479488, 1.0289617070560686, 1.028954438979772, 1.0289531283136786, 1.0289639708740637, 64.72707722162113, 37.288294077233516, 40.22841696782886, 28.468333363305362, 33.36760408885603, 21.608593730816278, 15.728556694919112, 17.688738701115508, 20.62870908524471, 18.668623347823722, 22.588360187038152, 18.66813152300353, 14.748757831564868, 15.728671073079818, 18.66858331523079, 14.74856338986139, 13.768512896001376, 18.668385060564823, 24.54857174163163, 10.828640685869395, 8.868811343407277, 9.848730303394078, 11.808545347769869, 9.8487760546867, 8.868757967013861, 11.808754087487134, 10.828672138866851, 9.848539673761236, 7.888947189269683, 9.848930465317748, 1.0289294165080891, 1.028942762094723, 1.0289183342916814, 1.0289266757969835, 1.028933467935859, 1.0289128525401519, 1.0289493154869827, 1.0289424046621753, 1.0289350169981564, 1.028951102746433, 1.0289446685280033, 1.0289486005929496, 1.0289345403475585, 1.0289395449130811, 1.0289470516305306, 1.0289484814655958, 1.0289313230928983, 1.0289393066008194, 1.0289188109514007, 1.0288992668338794, 1.028915355088994, 1.0289359702668368, 1.0289205984232472, 1.028935851095363, 1.0289352553003699, 1.0289214325824023, 1.028943000404634, 1.0289325146483108, 1.0289455026140581, 1.0289221475711008, 1.028951698506391, 1.0289645665816833, 1.0289516984870488, 1.0289462175237407, 1.0289625410606587, 1.0289561070416875, 64.72707722162113, 40.22841696782886, 37.288294077233516, 28.468333363305362, 33.36760408885603, 24.54857174163163, 21.608593730816278, 22.588360187038152, 18.66813152300353, 20.62870908524471, 18.66858331523079, 14.748757831564868, 15.728671073079818, 17.688738701115508, 18.668385060564823, 18.668623347823722, 15.728556694919112, 14.74856338986139, 10.828813204688876, 10.828640685869395, 10.828636872697501, 9.848756038808661, 9.848644520408149, 8.868811343407277, 11.808754087487134, 13.768512896001376, 11.808545347769869, 9.848539673761236, 8.868802765074458, 9.848730303394078, 1.028916427602007, 1.0289214325692915, 1.0289495537885354, 1.0289412130851663, 1.0289351361493322, 1.0289379958917158, 1.0289521750900295, 1.0289351361488372, 1.028956941087638, 1.0289679027158134, 1.0289497921149091, 1.0289357319311168, 1.0289412131030506, 1.0289509836184396, 1.028944072777746, 1.0289225050655852, 1.0289283440484907, 1.0289214325824023, 1.0289382342019564, 1.0289348978327315, 1.0289497921428323, 1.0289450260191146, 1.0289730260257446, 1.0289298931707267, 1.0289345403475585, 1.0289455026140581, 1.0289468132730186, 1.0289494346691044, 1.0289598007099532, 1.028936089418833, 1.028953128293168, 1.0289639708281029, 1.0289742174574776, 64.72707722162113, 33.36760408885603, 24.54857174163163, 40.22841696782886, 37.288294077233516, 28.468333363305362, 20.62870908524471, 18.66813152300353, 17.688738701115508, 18.668623347823722, 22.588360187038152, 18.668385060564823, 15.728556694919112, 18.66858331523079, 21.608593730816278, 15.728671073079818, 10.828813204688876, 11.808545347769869, 9.848539673761236, 9.848930465317748, 9.848644520408149, 14.74856338986139, 10.828640685869395, 8.868802765074458, 8.868681715828627, 9.848756038808661, 8.868813249246536, 8.869027708565369, 13.768512896001376, 8.868757967013861, 1.028949077201688, 1.0289018886759438, 1.0289494346691044, 1.0289205984232472, 1.0289588474608418, 1.02894776650569, 1.0289151167408153, 1.0289583708770111, 1.0289402598558928, 1.0289631368145626, 1.028922743424589, 1.0289378767070916, 1.0289235775800485, 1.028940140707336, 1.0289464558309447, 1.0289289398611703, 1.0289365660122478, 1.028948838888128, 1.0289319188525379, 1.028944549398044, 1.0289374001406748, 1.0289402598495736, 1.0289363277036008, 1.028916427602007, 1.0289219092530086, 1.0289663537887894, 1.028945979243791, 1.028928224881325, 1.0289378767458683, 1.0289344211981712, 1.0289522942357738, 1.02894109391577, 1.0289770770079054, 1.0289614687479745, 1.0289680218383674, 1.0289497921149091, 40.22841696782886, 64.72707722162113, 33.36760408885603, 37.288294077233516, 24.54857174163163, 28.468333363305362, 20.62870908524471, 18.66813152300353, 18.668385060564823, 17.688738701115508, 21.608593730816278, 18.668623347823722, 18.66858331523079, 22.588360187038152, 13.768512896001376, 15.728556694919112, 14.748757831564868, 15.728671073079818, 14.74856338986139, 11.808545347769869, 10.828640685869395, 10.828672138866851, 9.848539673761236, 8.868813249246536, 10.828636872697501, 10.828813204688876, 9.848644520408149, 9.848756038808661, 9.848730303394078, 11.808754087487134, 1.0289198834695714, 1.0289360893964243, 1.028936804364025, 1.0289385916795313, 1.028946217537592, 1.028918810968849, 1.0289378767070916, 1.0289188109663796, 1.0289235775800485, 1.028934540349068, 1.0289409748002027, 1.028953724065346, 1.0289290590221536, 1.0289310847559816, 1.0289334679290276, 1.0289350169981564, 1.0289403790041325, 1.0289289398678414, 1.0289221475711008, 1.0289151167408153, 1.0289183342916814, 1.0289426429853357, 1.0289365660529386, 1.028933110429009, 1.0289471707510631, 1.0289348978105755, 1.0289371618039511, 1.0289348978327315, 1.0289205984232472, 1.0289084432081552, 1.028947647390633, 1.0289344211981712, 1.0289625410494792, 1.0289682601515715, 1.0289489580633022, 1.028954438979772, 1.0289488388931938, 1.0289561070416875, 64.72707722162113, 40.22841696782886, 33.36760408885603, 37.288294077233516, 24.54857174163163, 28.468333363305362, 20.62870908524471, 18.668623347823722, 21.608593730816278, 22.588360187038152, 17.688738701115508, 15.728556694919112, 18.668385060564823, 14.74856338986139, 13.768512896001376, 15.728671073079818, 18.66813152300353, 10.828636872697501, 18.66858331523079, 11.808754087487134, 14.748757831564868, 9.84867025482023, 9.848730303394078, 8.868813249246536, 9.848930465317748, 8.868757967013861, 10.828672138866851, 7.8888147014099514, 6.908850466691374, 7.888947189269683, 1.0289451451638578, 1.0289282249004055, 1.0289279865837195, 1.0289455026140581, 1.028948719735459, 1.028915355088994, 1.0289351361488372, 1.0289271524289725, 1.0289238158849723, 1.0289484814252805, 1.028928224881325, 1.0289277482679173, 1.0289455026186765, 1.0289090390604272, 1.0289484814479488, 1.028938591649568, 1.0289071323081036, 1.0289313230928983, 1.0289404981794188, 1.0289416897223937, 1.0289275099218134, 1.028951341040178, 1.028926318285329, 1.0289539623799977, 1.0289416897112358, 1.028936804364025, 1.028944787693223, 1.0289235775502927, 1.0289625410494792, 1.028922743424589, 1.028948838888128, 1.0289511027507563, 1.0289496729660075, 1.0289587283347097, 1.0289658772251546, 1.0289424046434903, 1.0289626602277595, 64.72707722162113, 37.288294077233516, 33.36760408885603, 22.588360187038152, 40.22841696782886, 24.54857174163163, 28.468333363305362, 20.62870908524471, 15.728671073079818, 18.66813152300353, 21.608593730816278, 18.66858331523079, 18.668623347823722, 13.768512896001376, 18.668385060564823, 15.728556694919112, 14.748757831564868, 14.74856338986139, 11.808545347769869, 17.688738701115508, 11.808754087487134, 10.828813204688876, 9.848539673761236, 9.84867025482023, 9.848930465317748, 10.828636872697501, 8.868813249246536, 9.848756038808661, 8.868811343407277, 9.848644520408149, 1.028934063724785, 1.0289334679290276, 1.0289586091589256, 1.0289438344800077, 1.0289214325692915, 1.0289308464608788, 1.0289460983549488, 1.0289250075152456, 1.0289341828852172, 1.0289371617892085, 1.0289310847704498, 1.0289642091183737, 1.028934778660114, 1.0289354936358075, 1.0289155934239174, 1.0289402598495736, 1.028944072763282, 1.0289489580454563, 1.0289499112739973, 1.0289480048162696, 1.0289602772611142, 1.0289506261234405, 1.0289350169981564, 1.0289207176027038, 1.0289364468799114, 1.028914759236321, 1.0289395449130811, 1.0289235775800485, 1.028957655968172, 1.028918215119288, 1.0289289398611703, 1.0289312039106442, 1.028955987883506, 1.0289742174574776, 1.0289526517278602, 1.0289524134088914, 1.0289600389654538, 64.72707722162113, 33.36760408885603, 40.22841696782886, 28.468333363305362, 24.54857174163163, 22.588360187038152, 18.668385060564823, 20.62870908524471, 37.288294077233516, 21.608593730816278, 18.668623347823722, 18.66813152300353, 15.728556694919112, 15.728671073079818, 18.66858331523079, 14.748757831564868, 17.688738701115508, 11.808754087487134, 10.828640685869395, 13.768512896001376, 11.808545347769869, 9.848539673761236, 14.74856338986139, 10.828636872697501, 9.849047701630603, 8.868811343407277, 9.84867025482023, 9.848930465317748, 6.908812817291269, 8.868681715828627, 1.028920479259095, 1.0289316805764197, 1.0289496729728265, 1.0289374001300367, 1.0288992668338794, 1.0289235775800485, 1.0289379958917158, 1.0289409748018965, 1.0289188109514007, 1.0289430004239422, 1.028928224878904, 1.0289602772611142, 1.028944191907671, 1.0289282248896574, 1.0289183342916814, 1.0289271524289725, 1.0289359702668368, 1.02893048895924, 1.0289455026140581, 1.0289215517478485, 1.0289365660529386, 1.0289581325808124, 1.0289259608147896, 1.0289476473365982, 1.0289482431324932, 1.028938591649568, 1.0289365660122478, 1.0289420471613697, 1.0289437153354484, 1.028931918860651, 1.0289476473512333, 1.0289625410494792, 1.0289582517429603, 1.0289525325522337, 1.0289683792756763, 1.0289484814655958, 1.0289638517239073, 64.72707722162113, 40.22841696782886, 37.288294077233516, 33.36760408885603, 21.608593730816278, 24.54857174163163, 22.588360187038152, 28.468333363305362, 18.668623347823722, 17.688738701115508, 20.62870908524471, 18.66858331523079, 15.728671073079818, 15.728556694919112, 14.74856338986139, 18.66813152300353, 14.748757831564868, 13.768512896001376, 18.668385060564823, 11.808545347769869, 10.828640685869395, 9.849047701630603, 9.8487760546867, 9.84867025482023, 9.848930465317748, 10.828813204688876, 11.808754087487134, 8.868813249246536, 10.828672138866851, 7.888887617647655, 1.028914759236321, 1.0289468133011694, 1.0289018886759438, 1.0289379958917158, 1.028944787693223, 1.028916427602007, 1.028937876719334, 1.0289214325692915, 1.0289335870817091, 1.0289357319311168, 1.0289221475711008, 1.0289347786666652, 1.0289071323081036, 1.028944191907671, 1.0289290590221536, 1.0289319188525379, 1.028943238734818, 1.0289151167408153, 1.0289335870871594, 1.0289471707510631, 1.0289403789928118, 1.0289225050655852, 1.0289365660091108, 1.0289219092530086, 1.0289188109663796, 1.0289191684545023, 1.02893048895924, 1.028918215119288, 1.028936089418833, 1.0289416897223937, 1.0289426429853357, 1.0289450260191146, 1.0289406173273126, 1.0289626601919133, 1.0289375192899815, 1.0289446685382828, 1.028967902721467, 1.0289740983132405, 1.0289494346691044, 1.028951102746991, 1.028955392179748, 1.0289581325808124, 1.0289559878944652, 64.72707722162113, 40.22841696782886, 37.288294077233516, 28.468333363305362, 33.36760408885603, 18.66858331523079, 21.608593730816278, 15.728556694919112, 20.62870908524471, 24.54857174163163, 22.588360187038152, 18.668385060564823, 18.66813152300353, 14.748757831564868, 15.728671073079818, 17.688738701115508, 18.668623347823722, 14.74856338986139, 11.808754087487134, 9.848930465317748, 13.768512896001376, 10.828636872697501, 9.8487760546867, 9.848756038808661, 9.848539673761236, 9.84867025482023, 8.868861860343193, 9.849047701630603, 8.868823734204772, 7.8888147014099514], \"Category\": [\"Default\", \"Default\", \"Default\", \"Default\", \"Default\", \"Default\", \"Default\", \"Default\", \"Default\", \"Default\", \"Default\", \"Default\", \"Default\", \"Default\", \"Default\", \"Default\", \"Default\", \"Default\", \"Default\", \"Default\", \"Default\", \"Default\", \"Default\", \"Default\", \"Default\", \"Default\", \"Default\", \"Default\", \"Default\", \"Default\", \"Topic1\", \"Topic1\", \"Topic1\", \"Topic1\", \"Topic1\", \"Topic1\", \"Topic1\", \"Topic1\", \"Topic1\", \"Topic1\", \"Topic1\", \"Topic1\", \"Topic1\", \"Topic1\", \"Topic1\", \"Topic1\", \"Topic1\", \"Topic1\", \"Topic1\", \"Topic1\", \"Topic1\", \"Topic1\", \"Topic1\", \"Topic1\", \"Topic1\", \"Topic1\", \"Topic1\", \"Topic1\", \"Topic1\", \"Topic1\", \"Topic2\", \"Topic2\", \"Topic2\", \"Topic2\", \"Topic2\", \"Topic2\", \"Topic2\", \"Topic2\", \"Topic2\", \"Topic2\", \"Topic2\", \"Topic2\", \"Topic2\", \"Topic2\", \"Topic2\", \"Topic2\", \"Topic2\", \"Topic2\", \"Topic2\", \"Topic2\", \"Topic2\", \"Topic2\", \"Topic2\", \"Topic2\", \"Topic2\", \"Topic2\", \"Topic2\", \"Topic2\", \"Topic2\", \"Topic2\", \"Topic2\", \"Topic2\", \"Topic2\", \"Topic2\", \"Topic2\", \"Topic2\", \"Topic2\", \"Topic2\", \"Topic2\", \"Topic2\", \"Topic2\", \"Topic2\", \"Topic2\", \"Topic2\", \"Topic2\", \"Topic2\", \"Topic2\", \"Topic2\", \"Topic2\", \"Topic2\", \"Topic2\", \"Topic2\", \"Topic2\", \"Topic2\", \"Topic2\", \"Topic2\", \"Topic2\", \"Topic2\", \"Topic2\", \"Topic2\", \"Topic2\", \"Topic2\", \"Topic3\", \"Topic3\", \"Topic3\", \"Topic3\", \"Topic3\", \"Topic3\", \"Topic3\", \"Topic3\", \"Topic3\", \"Topic3\", \"Topic3\", \"Topic3\", \"Topic3\", \"Topic3\", \"Topic3\", \"Topic3\", \"Topic3\", \"Topic3\", \"Topic3\", \"Topic3\", \"Topic3\", \"Topic3\", \"Topic3\", \"Topic3\", \"Topic3\", \"Topic3\", \"Topic3\", \"Topic3\", \"Topic3\", \"Topic3\", \"Topic3\", \"Topic3\", \"Topic3\", \"Topic3\", \"Topic3\", \"Topic3\", \"Topic3\", \"Topic3\", \"Topic3\", \"Topic3\", \"Topic3\", \"Topic3\", \"Topic3\", \"Topic3\", \"Topic3\", \"Topic3\", \"Topic3\", \"Topic3\", \"Topic3\", \"Topic3\", \"Topic3\", \"Topic3\", \"Topic3\", \"Topic3\", \"Topic3\", \"Topic3\", \"Topic3\", \"Topic3\", \"Topic3\", \"Topic3\", \"Topic3\", \"Topic3\", \"Topic3\", \"Topic4\", \"Topic4\", \"Topic4\", \"Topic4\", \"Topic4\", \"Topic4\", \"Topic4\", \"Topic4\", \"Topic4\", \"Topic4\", \"Topic4\", \"Topic4\", \"Topic4\", \"Topic4\", \"Topic4\", \"Topic4\", \"Topic4\", \"Topic4\", \"Topic4\", \"Topic4\", \"Topic4\", \"Topic4\", \"Topic4\", \"Topic4\", \"Topic4\", \"Topic4\", \"Topic4\", \"Topic4\", \"Topic4\", \"Topic4\", \"Topic4\", \"Topic4\", \"Topic4\", \"Topic4\", \"Topic4\", \"Topic4\", \"Topic4\", \"Topic4\", \"Topic4\", \"Topic4\", \"Topic4\", \"Topic4\", \"Topic4\", \"Topic4\", \"Topic4\", \"Topic4\", \"Topic4\", \"Topic4\", \"Topic4\", \"Topic4\", \"Topic4\", \"Topic4\", \"Topic4\", \"Topic4\", \"Topic4\", \"Topic4\", \"Topic4\", \"Topic4\", \"Topic4\", \"Topic4\", \"Topic4\", \"Topic4\", \"Topic4\", \"Topic4\", \"Topic5\", \"Topic5\", \"Topic5\", \"Topic5\", \"Topic5\", \"Topic5\", \"Topic5\", \"Topic5\", \"Topic5\", \"Topic5\", \"Topic5\", \"Topic5\", \"Topic5\", \"Topic5\", \"Topic5\", \"Topic5\", \"Topic5\", \"Topic5\", \"Topic5\", \"Topic5\", \"Topic5\", \"Topic5\", \"Topic5\", \"Topic5\", \"Topic5\", \"Topic5\", \"Topic5\", \"Topic5\", \"Topic5\", \"Topic5\", \"Topic5\", \"Topic5\", \"Topic5\", \"Topic5\", \"Topic5\", \"Topic5\", \"Topic5\", \"Topic5\", \"Topic5\", \"Topic5\", \"Topic5\", \"Topic5\", \"Topic5\", \"Topic5\", \"Topic5\", \"Topic5\", \"Topic5\", \"Topic5\", \"Topic5\", \"Topic5\", \"Topic5\", \"Topic5\", \"Topic5\", \"Topic5\", \"Topic5\", \"Topic5\", \"Topic5\", \"Topic5\", \"Topic5\", \"Topic5\", \"Topic5\", \"Topic5\", \"Topic5\", \"Topic6\", \"Topic6\", \"Topic6\", \"Topic6\", \"Topic6\", \"Topic6\", \"Topic6\", \"Topic6\", \"Topic6\", \"Topic6\", \"Topic6\", \"Topic6\", \"Topic6\", \"Topic6\", \"Topic6\", \"Topic6\", \"Topic6\", \"Topic6\", \"Topic6\", \"Topic6\", \"Topic6\", \"Topic6\", \"Topic6\", \"Topic6\", \"Topic6\", \"Topic6\", \"Topic6\", \"Topic6\", \"Topic6\", \"Topic6\", \"Topic6\", \"Topic6\", \"Topic6\", \"Topic6\", \"Topic6\", \"Topic6\", \"Topic6\", \"Topic6\", \"Topic6\", \"Topic6\", \"Topic6\", \"Topic6\", \"Topic6\", \"Topic6\", \"Topic6\", \"Topic6\", \"Topic6\", \"Topic6\", \"Topic6\", \"Topic6\", \"Topic6\", \"Topic6\", \"Topic6\", \"Topic6\", \"Topic6\", \"Topic6\", \"Topic6\", \"Topic6\", \"Topic6\", \"Topic6\", \"Topic6\", \"Topic6\", \"Topic6\", \"Topic6\", \"Topic6\", \"Topic7\", \"Topic7\", \"Topic7\", \"Topic7\", \"Topic7\", \"Topic7\", \"Topic7\", \"Topic7\", \"Topic7\", \"Topic7\", \"Topic7\", \"Topic7\", \"Topic7\", \"Topic7\", \"Topic7\", \"Topic7\", \"Topic7\", \"Topic7\", \"Topic7\", \"Topic7\", \"Topic7\", \"Topic7\", \"Topic7\", \"Topic7\", \"Topic7\", \"Topic7\", \"Topic7\", \"Topic7\", \"Topic7\", \"Topic7\", \"Topic7\", \"Topic7\", \"Topic7\", \"Topic7\", \"Topic7\", \"Topic7\", \"Topic7\", \"Topic7\", \"Topic7\", \"Topic7\", \"Topic7\", \"Topic7\", \"Topic7\", \"Topic7\", \"Topic7\", \"Topic7\", \"Topic7\", \"Topic7\", \"Topic7\", \"Topic7\", \"Topic7\", \"Topic7\", \"Topic7\", \"Topic7\", \"Topic7\", \"Topic7\", \"Topic7\", \"Topic7\", \"Topic7\", \"Topic7\", \"Topic7\", \"Topic7\", \"Topic7\", \"Topic7\", \"Topic7\", \"Topic8\", \"Topic8\", \"Topic8\", \"Topic8\", \"Topic8\", \"Topic8\", \"Topic8\", \"Topic8\", \"Topic8\", \"Topic8\", \"Topic8\", \"Topic8\", \"Topic8\", \"Topic8\", \"Topic8\", \"Topic8\", \"Topic8\", \"Topic8\", \"Topic8\", \"Topic8\", \"Topic8\", \"Topic8\", \"Topic8\", \"Topic8\", \"Topic8\", \"Topic8\", \"Topic8\", \"Topic8\", \"Topic8\", \"Topic8\", \"Topic8\", \"Topic8\", \"Topic8\", \"Topic8\", \"Topic8\", \"Topic8\", \"Topic8\", \"Topic8\", \"Topic8\", \"Topic8\", \"Topic8\", \"Topic8\", \"Topic8\", \"Topic8\", \"Topic8\", \"Topic8\", \"Topic8\", \"Topic8\", \"Topic8\", \"Topic8\", \"Topic8\", \"Topic8\", \"Topic8\", \"Topic8\", \"Topic8\", \"Topic8\", \"Topic8\", \"Topic8\", \"Topic8\", \"Topic8\", \"Topic8\", \"Topic8\", \"Topic8\", \"Topic8\", \"Topic9\", \"Topic9\", \"Topic9\", \"Topic9\", \"Topic9\", \"Topic9\", \"Topic9\", \"Topic9\", \"Topic9\", \"Topic9\", \"Topic9\", \"Topic9\", \"Topic9\", \"Topic9\", \"Topic9\", \"Topic9\", \"Topic9\", \"Topic9\", \"Topic9\", \"Topic9\", \"Topic9\", \"Topic9\", \"Topic9\", \"Topic9\", \"Topic9\", \"Topic9\", \"Topic9\", \"Topic9\", \"Topic9\", \"Topic9\", \"Topic9\", \"Topic9\", \"Topic9\", \"Topic9\", \"Topic9\", \"Topic9\", \"Topic9\", \"Topic9\", \"Topic9\", \"Topic9\", \"Topic9\", \"Topic9\", \"Topic9\", \"Topic9\", \"Topic9\", \"Topic9\", \"Topic9\", \"Topic9\", \"Topic9\", \"Topic9\", \"Topic9\", \"Topic9\", \"Topic9\", \"Topic9\", \"Topic9\", \"Topic9\", \"Topic9\", \"Topic9\", \"Topic9\", \"Topic9\", \"Topic9\", \"Topic10\", \"Topic10\", \"Topic10\", \"Topic10\", \"Topic10\", \"Topic10\", \"Topic10\", \"Topic10\", \"Topic10\", \"Topic10\", \"Topic10\", \"Topic10\", \"Topic10\", \"Topic10\", \"Topic10\", \"Topic10\", \"Topic10\", \"Topic10\", \"Topic10\", \"Topic10\", \"Topic10\", \"Topic10\", \"Topic10\", \"Topic10\", \"Topic10\", \"Topic10\", \"Topic10\", \"Topic10\", \"Topic10\", \"Topic10\", \"Topic10\", \"Topic10\", \"Topic10\", \"Topic10\", \"Topic10\", \"Topic10\", \"Topic10\", \"Topic10\", \"Topic10\", \"Topic10\", \"Topic10\", \"Topic10\", \"Topic10\", \"Topic10\", \"Topic10\", \"Topic10\", \"Topic10\", \"Topic10\", \"Topic10\", \"Topic10\", \"Topic10\", \"Topic10\", \"Topic10\", \"Topic10\", \"Topic10\", \"Topic10\", \"Topic10\", \"Topic10\", \"Topic10\", \"Topic10\", \"Topic10\", \"Topic10\", \"Topic10\", \"Topic10\", \"Topic10\", \"Topic11\", \"Topic11\", \"Topic11\", \"Topic11\", \"Topic11\", \"Topic11\", \"Topic11\", \"Topic11\", \"Topic11\", \"Topic11\", \"Topic11\", \"Topic11\", \"Topic11\", \"Topic11\", \"Topic11\", \"Topic11\", \"Topic11\", \"Topic11\", \"Topic11\", \"Topic11\", \"Topic11\", \"Topic11\", \"Topic11\", \"Topic11\", \"Topic11\", \"Topic11\", \"Topic11\", \"Topic11\", \"Topic11\", \"Topic11\", \"Topic11\", \"Topic11\", \"Topic11\", \"Topic11\", \"Topic11\", \"Topic11\", \"Topic11\", \"Topic11\", \"Topic11\", \"Topic11\", \"Topic11\", \"Topic11\", \"Topic11\", \"Topic11\", \"Topic11\", \"Topic11\", \"Topic11\", \"Topic11\", \"Topic11\", \"Topic11\", \"Topic11\", \"Topic11\", \"Topic11\", \"Topic11\", \"Topic11\", \"Topic11\", \"Topic11\", \"Topic11\", \"Topic11\", \"Topic11\", \"Topic11\", \"Topic11\", \"Topic11\", \"Topic11\", \"Topic11\", \"Topic11\", \"Topic11\", \"Topic11\", \"Topic12\", \"Topic12\", \"Topic12\", \"Topic12\", \"Topic12\", \"Topic12\", \"Topic12\", \"Topic12\", \"Topic12\", \"Topic12\", \"Topic12\", \"Topic12\", \"Topic12\", \"Topic12\", \"Topic12\", \"Topic12\", \"Topic12\", \"Topic12\", \"Topic12\", \"Topic12\", \"Topic12\", \"Topic12\", \"Topic12\", \"Topic12\", \"Topic12\", \"Topic12\", \"Topic12\", \"Topic12\", \"Topic12\", \"Topic12\", \"Topic12\", \"Topic12\", \"Topic12\", \"Topic12\", \"Topic12\", \"Topic12\", \"Topic12\", \"Topic12\", \"Topic12\", \"Topic12\", \"Topic12\", \"Topic12\", \"Topic12\", \"Topic12\", \"Topic12\", \"Topic12\", \"Topic12\", \"Topic12\", \"Topic12\", \"Topic12\", \"Topic12\", \"Topic12\", \"Topic12\", \"Topic12\", \"Topic12\", \"Topic12\", \"Topic12\", \"Topic12\", \"Topic12\", \"Topic12\", \"Topic12\", \"Topic12\", \"Topic12\", \"Topic12\", \"Topic12\", \"Topic12\", \"Topic12\", \"Topic13\", \"Topic13\", \"Topic13\", \"Topic13\", \"Topic13\", \"Topic13\", \"Topic13\", \"Topic13\", \"Topic13\", \"Topic13\", \"Topic13\", \"Topic13\", \"Topic13\", \"Topic13\", \"Topic13\", \"Topic13\", \"Topic13\", \"Topic13\", \"Topic13\", \"Topic13\", \"Topic13\", \"Topic13\", \"Topic13\", \"Topic13\", \"Topic13\", \"Topic13\", \"Topic13\", \"Topic13\", \"Topic13\", \"Topic13\", \"Topic13\", \"Topic13\", \"Topic13\", \"Topic13\", \"Topic13\", \"Topic13\", \"Topic13\", \"Topic13\", \"Topic13\", \"Topic13\", \"Topic13\", \"Topic13\", \"Topic13\", \"Topic13\", \"Topic13\", \"Topic13\", \"Topic13\", \"Topic13\", \"Topic13\", \"Topic13\", \"Topic13\", \"Topic13\", \"Topic13\", \"Topic13\", \"Topic13\", \"Topic13\", \"Topic13\", \"Topic13\", \"Topic13\", \"Topic13\", \"Topic13\", \"Topic13\", \"Topic13\", \"Topic13\", \"Topic13\", \"Topic13\", \"Topic14\", \"Topic14\", \"Topic14\", \"Topic14\", \"Topic14\", \"Topic14\", \"Topic14\", \"Topic14\", \"Topic14\", \"Topic14\", \"Topic14\", \"Topic14\", \"Topic14\", \"Topic14\", \"Topic14\", \"Topic14\", \"Topic14\", \"Topic14\", \"Topic14\", \"Topic14\", \"Topic14\", \"Topic14\", \"Topic14\", \"Topic14\", \"Topic14\", \"Topic14\", \"Topic14\", \"Topic14\", \"Topic14\", \"Topic14\", \"Topic14\", \"Topic14\", \"Topic14\", \"Topic14\", \"Topic14\", \"Topic14\", \"Topic14\", \"Topic14\", \"Topic14\", \"Topic14\", \"Topic14\", \"Topic14\", \"Topic14\", \"Topic14\", \"Topic14\", \"Topic14\", \"Topic14\", \"Topic14\", \"Topic14\", \"Topic14\", \"Topic14\", \"Topic14\", \"Topic14\", \"Topic14\", \"Topic14\", \"Topic14\", \"Topic14\", \"Topic14\", \"Topic14\", \"Topic14\", \"Topic14\", \"Topic14\", \"Topic14\", \"Topic15\", \"Topic15\", \"Topic15\", \"Topic15\", \"Topic15\", \"Topic15\", \"Topic15\", \"Topic15\", \"Topic15\", \"Topic15\", \"Topic15\", \"Topic15\", \"Topic15\", \"Topic15\", \"Topic15\", \"Topic15\", \"Topic15\", \"Topic15\", \"Topic15\", \"Topic15\", \"Topic15\", \"Topic15\", \"Topic15\", \"Topic15\", \"Topic15\", \"Topic15\", \"Topic15\", \"Topic15\", \"Topic15\", \"Topic15\", \"Topic15\", \"Topic15\", \"Topic15\", \"Topic15\", \"Topic15\", \"Topic15\", \"Topic15\", \"Topic15\", \"Topic15\", \"Topic15\", \"Topic15\", \"Topic15\", \"Topic15\", \"Topic15\", \"Topic15\", \"Topic15\", \"Topic15\", \"Topic15\", \"Topic15\", \"Topic15\", \"Topic15\", \"Topic15\", \"Topic15\", \"Topic15\", \"Topic15\", \"Topic15\", \"Topic15\", \"Topic15\", \"Topic15\", \"Topic15\", \"Topic15\", \"Topic15\", \"Topic15\", \"Topic15\", \"Topic15\", \"Topic15\", \"Topic16\", \"Topic16\", \"Topic16\", \"Topic16\", \"Topic16\", \"Topic16\", \"Topic16\", \"Topic16\", \"Topic16\", \"Topic16\", \"Topic16\", \"Topic16\", \"Topic16\", \"Topic16\", \"Topic16\", \"Topic16\", \"Topic16\", \"Topic16\", \"Topic16\", \"Topic16\", \"Topic16\", \"Topic16\", \"Topic16\", \"Topic16\", \"Topic16\", \"Topic16\", \"Topic16\", \"Topic16\", \"Topic16\", \"Topic16\", \"Topic16\", \"Topic16\", \"Topic16\", \"Topic16\", \"Topic16\", \"Topic16\", \"Topic16\", \"Topic16\", \"Topic16\", \"Topic16\", \"Topic16\", \"Topic16\", \"Topic16\", \"Topic16\", \"Topic16\", \"Topic16\", \"Topic16\", \"Topic16\", \"Topic16\", \"Topic16\", \"Topic16\", \"Topic16\", \"Topic16\", \"Topic16\", \"Topic16\", \"Topic16\", \"Topic16\", \"Topic16\", \"Topic16\", \"Topic16\", \"Topic16\", \"Topic16\", \"Topic16\", \"Topic16\", \"Topic16\", \"Topic16\", \"Topic16\", \"Topic16\", \"Topic17\", \"Topic17\", \"Topic17\", \"Topic17\", \"Topic17\", \"Topic17\", \"Topic17\", \"Topic17\", \"Topic17\", \"Topic17\", \"Topic17\", \"Topic17\", \"Topic17\", \"Topic17\", \"Topic17\", \"Topic17\", \"Topic17\", \"Topic17\", \"Topic17\", \"Topic17\", \"Topic17\", \"Topic17\", \"Topic17\", \"Topic17\", \"Topic17\", \"Topic17\", \"Topic17\", \"Topic17\", \"Topic17\", \"Topic17\", \"Topic17\", \"Topic17\", \"Topic17\", \"Topic17\", \"Topic17\", \"Topic17\", \"Topic17\", \"Topic17\", \"Topic17\", \"Topic17\", \"Topic17\", \"Topic17\", \"Topic17\", \"Topic17\", \"Topic17\", \"Topic17\", \"Topic17\", \"Topic17\", \"Topic17\", \"Topic17\", \"Topic17\", \"Topic17\", \"Topic17\", \"Topic17\", \"Topic17\", \"Topic17\", \"Topic17\", \"Topic17\", \"Topic17\", \"Topic17\", \"Topic17\", \"Topic17\", \"Topic17\", \"Topic17\", \"Topic17\", \"Topic17\", \"Topic17\", \"Topic18\", \"Topic18\", \"Topic18\", \"Topic18\", \"Topic18\", \"Topic18\", \"Topic18\", \"Topic18\", \"Topic18\", \"Topic18\", \"Topic18\", \"Topic18\", \"Topic18\", \"Topic18\", \"Topic18\", \"Topic18\", \"Topic18\", \"Topic18\", \"Topic18\", \"Topic18\", \"Topic18\", \"Topic18\", \"Topic18\", \"Topic18\", \"Topic18\", \"Topic18\", \"Topic18\", \"Topic18\", \"Topic18\", \"Topic18\", \"Topic18\", \"Topic18\", \"Topic18\", \"Topic18\", \"Topic18\", \"Topic18\", \"Topic18\", \"Topic18\", \"Topic18\", \"Topic18\", \"Topic18\", \"Topic18\", \"Topic18\", \"Topic18\", \"Topic18\", \"Topic18\", \"Topic18\", \"Topic18\", \"Topic18\", \"Topic18\", \"Topic18\", \"Topic18\", \"Topic18\", \"Topic18\", \"Topic18\", \"Topic18\", \"Topic18\", \"Topic18\", \"Topic18\", \"Topic18\", \"Topic18\", \"Topic18\", \"Topic18\", \"Topic18\", \"Topic18\", \"Topic18\", \"Topic18\", \"Topic19\", \"Topic19\", \"Topic19\", \"Topic19\", \"Topic19\", \"Topic19\", \"Topic19\", \"Topic19\", \"Topic19\", \"Topic19\", \"Topic19\", \"Topic19\", \"Topic19\", \"Topic19\", \"Topic19\", \"Topic19\", \"Topic19\", \"Topic19\", \"Topic19\", \"Topic19\", \"Topic19\", \"Topic19\", \"Topic19\", \"Topic19\", \"Topic19\", \"Topic19\", \"Topic19\", \"Topic19\", \"Topic19\", \"Topic19\", \"Topic19\", \"Topic19\", \"Topic19\", \"Topic19\", \"Topic19\", \"Topic19\", \"Topic19\", \"Topic19\", \"Topic19\", \"Topic19\", \"Topic19\", \"Topic19\", \"Topic19\", \"Topic19\", \"Topic19\", \"Topic19\", \"Topic19\", \"Topic19\", \"Topic19\", \"Topic19\", \"Topic19\", \"Topic19\", \"Topic19\", \"Topic19\", \"Topic19\", \"Topic19\", \"Topic19\", \"Topic19\", \"Topic19\", \"Topic19\", \"Topic19\", \"Topic19\", \"Topic19\", \"Topic19\", \"Topic19\", \"Topic19\", \"Topic19\", \"Topic20\", \"Topic20\", \"Topic20\", \"Topic20\", \"Topic20\", \"Topic20\", \"Topic20\", \"Topic20\", \"Topic20\", \"Topic20\", \"Topic20\", \"Topic20\", \"Topic20\", \"Topic20\", \"Topic20\", \"Topic20\", \"Topic20\", \"Topic20\", \"Topic20\", \"Topic20\", \"Topic20\", \"Topic20\", \"Topic20\", \"Topic20\", \"Topic20\", \"Topic20\", \"Topic20\", \"Topic20\", \"Topic20\", \"Topic20\", \"Topic20\", \"Topic20\", \"Topic20\", \"Topic20\", \"Topic20\", \"Topic20\", \"Topic20\", \"Topic20\", \"Topic20\", \"Topic20\", \"Topic20\", \"Topic20\", \"Topic20\", \"Topic20\", \"Topic20\", \"Topic20\", \"Topic20\", \"Topic20\", \"Topic20\", \"Topic20\", \"Topic20\", \"Topic20\", \"Topic20\", \"Topic20\", \"Topic20\", \"Topic20\", \"Topic20\", \"Topic20\", \"Topic20\", \"Topic20\", \"Topic20\", \"Topic20\", \"Topic20\", \"Topic20\", \"Topic20\", \"Topic20\", \"Topic20\", \"Topic20\", \"Topic20\", \"Topic20\", \"Topic20\", \"Topic20\", \"Topic20\"], \"logprob\": [30.0, 29.0, 28.0, 27.0, 26.0, 25.0, 24.0, 23.0, 22.0, 21.0, 20.0, 19.0, 18.0, 17.0, 16.0, 15.0, 14.0, 13.0, 12.0, 11.0, 10.0, 9.0, 8.0, 7.0, 6.0, 5.0, 4.0, 3.0, 2.0, 1.0, -3.4543, -3.9299, -4.0058, -4.1169, -4.2757, -4.4238, -4.507, -4.5514, -4.5978, -4.6976, -4.6976, -4.6977, -4.6977, -4.7516, -4.869, -4.869, -4.9333, -4.9333, -5.0021, -5.1557, -5.1557, -5.2423, -5.2423, -5.2423, -5.2423, -5.3371, -5.3371, -5.3372, -5.3372, -5.3372, -6.7309, -6.731, -6.731, -6.731, -6.731, -6.731, -6.731, -6.7311, -6.731, -6.7311, -6.7311, -6.7311, -6.7311, -6.7311, -6.7311, -6.7311, -6.7311, -6.7311, -6.7311, -6.7312, -6.7312, -6.7311, -6.7311, -6.7312, -6.7312, -6.7312, -6.7311, -6.7312, -6.7312, -6.7312, -6.7312, -6.7312, -6.6543, -6.6902, -6.694, -6.6936, -6.7, -6.7009, -6.7061, -6.7088, -6.7089, -6.7104, -6.7108, -6.7127, -6.7128, -6.7135, -6.7138, -6.7145, -6.7167, -6.7168, -6.7168, -6.717, -6.7175, -6.7182, -6.7192, -6.7201, -6.7202, -6.7206, -6.7206, -6.7207, -6.7209, -6.721, -6.7306, -6.7306, -6.7306, -6.7306, -6.7306, -6.7307, -6.7306, -6.7306, -6.7307, -6.7307, -6.7307, -6.7307, -6.7307, -6.7307, -6.7307, -6.7307, -6.7307, -6.7308, -6.7307, -6.7307, -6.7307, -6.7307, -6.7307, -6.7307, -6.7307, -6.7307, -6.7308, -6.7308, -6.7307, -6.7307, -6.7307, -6.7307, -6.7308, -6.6842, -6.6932, -6.7013, -6.705, -6.7098, -6.7116, -6.7133, -6.7148, -6.7154, -6.7162, -6.7169, -6.7189, -6.7193, -6.7194, -6.7195, -6.7198, -6.7199, -6.7213, -6.7216, -6.7217, -6.7221, -6.7222, -6.7223, -6.7229, -6.723, -6.723, -6.7233, -6.7233, -6.7235, -6.7236, -6.7303, -6.7304, -6.7304, -6.7304, -6.7304, -6.7304, -6.7304, -6.7304, -6.7304, -6.7304, -6.7304, -6.7305, -6.7305, -6.7304, -6.7304, -6.7305, -6.7304, -6.7305, -6.7305, -6.7304, -6.7305, -6.7305, -6.7305, -6.7305, -6.7305, -6.7305, -6.7305, -6.7305, -6.7305, -6.7305, -6.7305, -6.7305, -6.7305, -6.7305, -6.6983, -6.7067, -6.7067, -6.7096, -6.7174, -6.7191, -6.7193, -6.7201, -6.7201, -6.7206, -6.7208, -6.7212, -6.7217, -6.7218, -6.7221, -6.7226, -6.7227, -6.7231, -6.7244, -6.7245, -6.7246, -6.7246, -6.7248, -6.725, -6.7251, -6.7252, -6.7253, -6.7254, -6.7255, -6.7258, -6.7303, -6.7303, -6.7303, -6.7304, -6.7304, -6.7303, -6.7304, -6.7304, -6.7304, -6.7304, -6.7304, -6.7304, -6.7304, -6.7304, -6.7304, -6.7304, -6.7304, -6.7304, -6.7304, -6.7304, -6.7304, -6.7304, -6.7304, -6.7304, -6.7304, -6.7304, -6.7304, -6.7304, -6.7304, -6.7304, -6.7304, -6.7304, -6.7304, -6.6995, -6.7134, -6.7135, -6.7156, -6.7157, -6.7178, -6.7184, -6.7184, -6.7203, -6.7208, -6.7213, -6.7219, -6.7223, -6.7227, -6.723, -6.723, -6.7233, -6.7237, -6.7238, -6.7244, -6.7247, -6.7252, -6.7253, -6.7254, -6.7254, -6.7255, -6.7255, -6.7258, -6.7258, -6.7259, -6.7302, -6.7303, -6.7303, -6.7303, -6.7303, -6.7303, -6.7303, -6.7303, -6.7304, -6.7303, -6.7304, -6.7303, -6.7304, -6.7304, -6.7303, -6.7304, -6.7304, -6.7303, -6.7304, -6.7304, -6.7304, -6.7304, -6.7304, -6.7304, -6.7304, -6.7304, -6.7304, -6.7304, -6.7304, -6.7304, -6.7304, -6.7304, -6.7304, -6.7304, -6.7304, -6.6977, -6.7103, -6.7141, -6.7142, -6.716, -6.7163, -6.7184, -6.7198, -6.7205, -6.7208, -6.7217, -6.7221, -6.7224, -6.7225, -6.7228, -6.7232, -6.7236, -6.7237, -6.7242, -6.7244, -6.7249, -6.7251, -6.7254, -6.7255, -6.7256, -6.7259, -6.726, -6.726, -6.726, -6.726, -6.7302, -6.7303, -6.7303, -6.7303, -6.7303, -6.7303, -6.7303, -6.7303, -6.7303, -6.7304, -6.7303, -6.7303, -6.7304, -6.7303, -6.7303, -6.7304, -6.7304, -6.7304, -6.7304, -6.7304, -6.7304, -6.7304, -6.7304, -6.7304, -6.7304, -6.7304, -6.7304, -6.7304, -6.7304, -6.7304, -6.7304, -6.7304, -6.7304, -6.7304, -6.7304, -6.696, -6.7098, -6.7118, -6.7133, -6.7159, -6.7204, -6.7206, -6.7207, -6.721, -6.7215, -6.7219, -6.7219, -6.7221, -6.7223, -6.7231, -6.7231, -6.7234, -6.7243, -6.7253, -6.7255, -6.7255, -6.7256, -6.7256, -6.7257, -6.7258, -6.726, -6.726, -6.7261, -6.7261, -6.7262, -6.7303, -6.7303, -6.7303, -6.7303, -6.7303, -6.7303, -6.7303, -6.7303, -6.7303, -6.7303, -6.7304, -6.7304, -6.7304, -6.7304, -6.7304, -6.7304, -6.7304, -6.7304, -6.7304, -6.7304, -6.7304, -6.7304, -6.7304, -6.7304, -6.7304, -6.7304, -6.7304, -6.7304, -6.7304, -6.7304, -6.7304, -6.7304, -6.7304, -6.7304, -6.7017, -6.7117, -6.7145, -6.7155, -6.7174, -6.7179, -6.7193, -6.7197, -6.7213, -6.7213, -6.7223, -6.7225, -6.7226, -6.7227, -6.7229, -6.723, -6.7233, -6.7234, -6.7235, -6.7244, -6.7245, -6.7252, -6.7253, -6.7256, -6.7261, -6.7261, -6.7262, -6.7263, -6.7263, -6.7264, -6.7302, -6.7302, -6.7303, -6.7303, -6.7303, -6.7303, -6.7304, -6.7303, -6.7303, -6.7303, -6.7303, -6.7304, -6.7304, -6.7303, -6.7304, -6.7304, -6.7304, -6.7304, -6.7303, -6.7304, -6.7304, -6.7304, -6.7304, -6.7304, -6.7304, -6.7304, -6.7304, -6.7304, -6.7304, -6.7304, -6.7304, -6.6964, -6.7133, -6.7135, -6.7159, -6.7171, -6.7193, -6.7204, -6.7206, -6.7216, -6.7216, -6.722, -6.7224, -6.7229, -6.7235, -6.7235, -6.724, -6.7241, -6.7244, -6.7245, -6.7249, -6.7249, -6.7249, -6.725, -6.7253, -6.7253, -6.7256, -6.7257, -6.7261, -6.7262, -6.7262, -6.7302, -6.7302, -6.7302, -6.7302, -6.7302, -6.7302, -6.7303, -6.7303, -6.7302, -6.7303, -6.7303, -6.7303, -6.7303, -6.7303, -6.7303, -6.7303, -6.7303, -6.7303, -6.7303, -6.7303, -6.7303, -6.7303, -6.7303, -6.7303, -6.7303, -6.7303, -6.7303, -6.7303, -6.7303, -6.7303, -6.7303, -6.7303, -6.7303, -6.7303, -6.7303, -6.7016, -6.712, -6.7146, -6.717, -6.7189, -6.72, -6.7201, -6.7209, -6.7216, -6.7223, -6.723, -6.7233, -6.7241, -6.7242, -6.7247, -6.725, -6.7252, -6.7252, -6.7258, -6.7258, -6.726, -6.7261, -6.7261, -6.7262, -6.7262, -6.7263, -6.7264, -6.7265, -6.7266, -6.7266, -6.7302, -6.7302, -6.7302, -6.7303, -6.7303, -6.7303, -6.7303, -6.7303, -6.7303, -6.7303, -6.7303, -6.7303, -6.7303, -6.7303, -6.7303, -6.7303, -6.7303, -6.7303, -6.7303, -6.7303, -6.7303, -6.7303, -6.7303, -6.7303, -6.7303, -6.7303, -6.7303, -6.7303, -6.7303, -6.7303, -6.7303, -6.7303, -6.7303, -6.7303, -6.7303, -6.7303, -6.7303, -6.7303, -6.7041, -6.7145, -6.7158, -6.7162, -6.7198, -6.7217, -6.7219, -6.7224, -6.7227, -6.7229, -6.7234, -6.7235, -6.724, -6.7242, -6.7242, -6.7246, -6.7246, -6.7256, -6.7257, -6.726, -6.726, -6.726, -6.7261, -6.7261, -6.7262, -6.7263, -6.7263, -6.7266, -6.7267, -6.7267, -6.7302, -6.7302, -6.7303, -6.7303, -6.7303, -6.7302, -6.7302, -6.7303, -6.7303, -6.7303, -6.7303, -6.7303, -6.7303, -6.7303, -6.7303, -6.7303, -6.7303, -6.7303, -6.7303, -6.7303, -6.7303, -6.7303, -6.7303, -6.7303, -6.7303, -6.7303, -6.7303, -6.7303, -6.7303, -6.7303, -6.7303, -6.7303, -6.7303, -6.7303, -6.7303, -6.7303, -6.7303, -6.7087, -6.7123, -6.7137, -6.719, -6.7194, -6.7204, -6.7216, -6.7221, -6.7221, -6.7223, -6.7223, -6.7229, -6.7234, -6.7235, -6.7235, -6.724, -6.7242, -6.7246, -6.7251, -6.7254, -6.7258, -6.7259, -6.7259, -6.7261, -6.7261, -6.7263, -6.7264, -6.7264, -6.7264, -6.7266, -6.7301, -6.7302, -6.7302, -6.7302, -6.7302, -6.7302, -6.7302, -6.7302, -6.7302, -6.7302, -6.7302, -6.7302, -6.7303, -6.7303, -6.7302, -6.7302, -6.7303, -6.7303, -6.7303, -6.7303, -6.7303, -6.7303, -6.7303, -6.7303, -6.7303, -6.7303, -6.7303, -6.7303, -6.7303, -6.7303, -6.7303, -6.7303, -6.7303, -6.7303, -6.7303, -6.7303, -6.7001, -6.7129, -6.7172, -6.7194, -6.7206, -6.7216, -6.7216, -6.7218, -6.7219, -6.7225, -6.7231, -6.7236, -6.7236, -6.7239, -6.7242, -6.7248, -6.7251, -6.7253, -6.7253, -6.7254, -6.7255, -6.7262, -6.7262, -6.7263, -6.7263, -6.7263, -6.7265, -6.7265, -6.7267, -6.7267, -6.7302, -6.7302, -6.7302, -6.7302, -6.7302, -6.7302, -6.7302, -6.7302, -6.7302, -6.7302, -6.7302, -6.7302, -6.7302, -6.7302, -6.7302, -6.7302, -6.7302, -6.7302, -6.7302, -6.7302, -6.7302, -6.7302, -6.7302, -6.7302, -6.7302, -6.7302, -6.7302, -6.7302, -6.7302, -6.7302, -6.7302, -6.7302, -6.7302, -6.7061, -6.7198, -6.7216, -6.7218, -6.7219, -6.7225, -6.7228, -6.7229, -6.723, -6.724, -6.7242, -6.7243, -6.7245, -6.7247, -6.7248, -6.7255, -6.7257, -6.726, -6.7263, -6.7266, -6.7267, -6.7269, -6.7269, -6.7269, -6.7271, -6.7272, -6.7273, -6.7273, -6.7273, -6.7274, -6.7301, -6.7301, -6.7301, -6.7301, -6.7301, -6.7301, -6.7302, -6.7301, -6.7302, -6.7301, -6.7302, -6.7302, -6.7302, -6.7302, -6.7302, -6.7302, -6.7302, -6.7302, -6.7302, -6.7302, -6.7302, -6.7302, -6.7302, -6.7302, -6.7302, -6.7302, -6.7302, -6.7302, -6.7302, -6.7302, -6.7302, -6.7302, -6.7302, -6.7302, -6.7302, -6.7302, -6.7163, -6.717, -6.7188, -6.7194, -6.7225, -6.7229, -6.7234, -6.7237, -6.724, -6.7241, -6.7242, -6.7242, -6.7249, -6.725, -6.7253, -6.7253, -6.7255, -6.7261, -6.7261, -6.7265, -6.7267, -6.7268, -6.7268, -6.7269, -6.727, -6.727, -6.727, -6.7271, -6.7273, -6.7273, -6.7302, -6.7302, -6.7302, -6.7302, -6.7302, -6.7302, -6.7302, -6.7302, -6.7302, -6.7302, -6.7302, -6.7302, -6.7302, -6.7302, -6.7302, -6.7302, -6.7302, -6.7302, -6.7302, -6.7302, -6.7302, -6.7302, -6.7302, -6.7302, -6.7302, -6.7302, -6.7302, -6.7302, -6.7302, -6.7302, -6.7302, -6.7302, -6.7302, -6.7302, -6.7302, -6.7302, -6.7302, -6.7302, -6.7105, -6.7153, -6.7187, -6.7195, -6.7214, -6.7233, -6.7233, -6.7233, -6.7241, -6.7242, -6.7249, -6.7249, -6.7251, -6.7255, -6.7258, -6.7259, -6.7262, -6.7262, -6.7267, -6.7268, -6.7268, -6.727, -6.7271, -6.7272, -6.7273, -6.7273, -6.7273, -6.7274, -6.7274, -6.7275, -6.73, -6.7301, -6.7301, -6.73, -6.7301, -6.7301, -6.7301, -6.7301, -6.7301, -6.7301, -6.7301, -6.7301, -6.7301, -6.7301, -6.7301, -6.7301, -6.7301, -6.7301, -6.7301, -6.7301, -6.7301, -6.7301, -6.7301, -6.7301, -6.7301, -6.7301, -6.7301, -6.7301, -6.7301, -6.7301, -6.7301, -6.7301, -6.7301, -6.7301, -6.7301, -6.7301, -6.7301, -6.716, -6.7213, -6.7216, -6.7218, -6.7223, -6.7231, -6.7238, -6.7242, -6.7254, -6.7254, -6.7254, -6.7254, -6.7259, -6.726, -6.726, -6.726, -6.7262, -6.7263, -6.7264, -6.7266, -6.7268, -6.7269, -6.7271, -6.7271, -6.7272, -6.7272, -6.7276, -6.7279, -6.7279, -6.7279, -6.73, -6.73, -6.73, -6.73, -6.7301, -6.7301, -6.7301, -6.7301, -6.7301, -6.7301, -6.7301, -6.73, -6.7301, -6.7301, -6.7301, -6.7301, -6.7301, -6.7301, -6.7301, -6.7301, -6.7301, -6.7301, -6.7301, -6.7301, -6.7301, -6.7301, -6.7301, -6.7301, -6.7301, -6.7301, -6.7301, -6.7301, -6.7301, -6.7301, -6.7301, -6.7301, -6.7301, -6.7174, -6.7206, -6.7219, -6.7221, -6.7242, -6.7243, -6.7246, -6.7246, -6.7251, -6.7257, -6.7259, -6.7262, -6.7265, -6.7266, -6.7266, -6.7268, -6.7269, -6.727, -6.7271, -6.7272, -6.7272, -6.7274, -6.7276, -6.7276, -6.7278, -6.7278, -6.7278, -6.7279, -6.728, -6.728, -6.73, -6.73, -6.73, -6.73, -6.7301, -6.7301, -6.73, -6.73, -6.7301, -6.73, -6.7301, -6.73, -6.7301, -6.7301, -6.7301, -6.7301, -6.7301, -6.7301, -6.7301, -6.7301, -6.7301, -6.73, -6.7301, -6.7301, -6.7301, -6.7301, -6.7301, -6.7301, -6.7301, -6.7301, -6.7301, -6.7301, -6.7301, -6.7301, -6.7301, -6.7301, -6.7301, -6.7188, -6.7211, -6.7231, -6.7234, -6.7246, -6.7246, -6.7254, -6.7254, -6.7258, -6.726, -6.7261, -6.7261, -6.7264, -6.7267, -6.7268, -6.727, -6.7271, -6.7273, -6.7273, -6.7274, -6.7276, -6.7276, -6.7277, -6.7279, -6.7279, -6.728, -6.728, -6.7281, -6.7281, -6.7282, -6.73, -6.7299, -6.73, -6.73, -6.73, -6.73, -6.73, -6.73, -6.73, -6.73, -6.73, -6.73, -6.73, -6.73, -6.73, -6.73, -6.73, -6.73, -6.73, -6.73, -6.73, -6.73, -6.73, -6.73, -6.73, -6.73, -6.73, -6.73, -6.73, -6.73, -6.73, -6.73, -6.73, -6.73, -6.73, -6.73, -6.73, -6.73, -6.73, -6.73, -6.73, -6.73, -6.73, -6.7209, -6.7235, -6.7247, -6.7256, -6.7259, -6.7265, -6.7267, -6.7269, -6.727, -6.727, -6.727, -6.7272, -6.7273, -6.7275, -6.7275, -6.7279, -6.7279, -6.728, -6.728, -6.728, -6.7282, -6.7282, -6.7284, -6.7285, -6.7285, -6.7285, -6.7285, -6.7285, -6.7287, -6.7287], \"loglift\": [30.0, 29.0, 28.0, 27.0, 26.0, 25.0, 24.0, 23.0, 22.0, 21.0, 20.0, 19.0, 18.0, 17.0, 16.0, 15.0, 14.0, 13.0, 12.0, 11.0, 10.0, 9.0, 8.0, 7.0, 6.0, 5.0, 4.0, 3.0, 2.0, 1.0, 0.0001, 0.0001, 0.0001, 0.0001, 0.0001, 0.0001, 0.0001, 0.0001, 0.0001, 0.0001, 0.0001, 0.0001, 0.0001, 0.0001, 0.0001, 0.0001, 0.0001, 0.0001, 0.0001, 0.0001, 0.0001, 0.0001, 0.0001, 0.0001, 0.0001, 0.0001, 0.0001, 0.0001, 0.0001, 0.0001, 0.8651, 0.8651, 0.8651, 0.8651, 0.8651, 0.8651, 0.8651, 0.865, 0.865, 0.865, 0.865, 0.865, 0.865, 0.865, 0.865, 0.865, 0.865, 0.865, 0.865, 0.865, 0.8649, 0.8649, 0.8649, 0.8649, 0.8649, 0.8649, 0.8649, 0.8649, 0.8649, 0.8649, 0.8649, 0.8649, -3.1999, -2.5732, -2.688, -2.7636, -2.4242, -2.277, -2.1546, -2.1109, -2.2017, -2.0126, -2.013, -2.0149, -1.9611, -1.78, -1.4714, -2.0167, -1.8476, -1.7833, -1.561, -1.7148, -1.8484, -1.5624, -1.3819, -1.4776, -1.0284, -1.4781, -1.2785, -1.3834, -1.4785, -1.3837, 0.8656, 0.8655, 0.8655, 0.8655, 0.8654, 0.8654, 0.8654, 0.8654, 0.8654, 0.8654, 0.8654, 0.8654, 0.8654, 0.8654, 0.8654, 0.8654, 0.8654, 0.8654, 0.8654, 0.8654, 0.8654, 0.8653, 0.8653, 0.8653, 0.8653, 0.8653, 0.8653, 0.8653, 0.8653, 0.8653, 0.8653, 0.8653, 0.8653, -3.2297, -2.7631, -2.6953, -2.4292, -2.5927, -2.2877, -2.1618, -2.017, -2.2083, -2.0184, -2.0191, -2.0211, -2.1214, -1.9677, -1.786, -1.8507, -1.5641, -1.719, -1.3844, -1.5659, -1.4796, -1.853, -1.4799, -1.4805, -1.2809, -1.3857, -1.3861, -1.7899, -1.2814, -1.3863, 0.8658, 0.8657, 0.8657, 0.8657, 0.8657, 0.8657, 0.8657, 0.8657, 0.8657, 0.8657, 0.8656, 0.8656, 0.8656, 0.8656, 0.8656, 0.8656, 0.8656, 0.8656, 0.8656, 0.8656, 0.8656, 0.8656, 0.8656, 0.8656, 0.8656, 0.8656, 0.8656, 0.8656, 0.8656, 0.8656, 0.8656, 0.8656, 0.8656, 0.8656, -3.2439, -2.7767, -2.7008, -2.5926, -2.4416, -2.0213, -2.1677, -2.2961, -2.2129, -2.0228, -2.023, -1.852, -2.0239, -2.1238, -1.7887, -1.9709, -1.7892, -1.854, -1.482, -1.5687, -1.4822, -1.4822, -1.7226, -1.4825, -1.3878, -1.388, -1.3881, -1.3881, -1.1663, -1.2837, 0.8658, 0.8658, 0.8657, 0.8657, 0.8657, 0.8657, 0.8657, 0.8657, 0.8657, 0.8657, 0.8657, 0.8657, 0.8657, 0.8657, 0.8657, 0.8657, 0.8657, 0.8657, 0.8657, 0.8657, 0.8657, 0.8657, 0.8657, 0.8657, 0.8657, 0.8657, 0.8657, 0.8657, 0.8657, 0.8657, 0.8657, 0.8657, 0.8657, -3.2451, -2.7834, -2.5964, -2.4398, -2.7098, -2.0201, -2.2112, -2.1669, -2.0225, -2.2968, -2.1234, -2.0242, -1.9706, -1.8535, -2.0252, -1.7895, -1.7898, -1.7215, -1.8547, -1.3872, -1.4823, -1.3879, -1.3881, -1.5696, -1.483, -1.2834, -1.3882, -1.3886, -1.2838, -1.3887, 0.8659, 0.8658, 0.8658, 0.8658, 0.8658, 0.8658, 0.8658, 0.8658, 0.8657, 0.8657, 0.8657, 0.8657, 0.8657, 0.8657, 0.8657, 0.8657, 0.8657, 0.8657, 0.8657, 0.8657, 0.8657, 0.8657, 0.8657, 0.8657, 0.8657, 0.8657, 0.8657, 0.8657, 0.8657, 0.8657, 0.8657, 0.8657, 0.8657, 0.8657, 0.8657, -3.2432, -2.7043, -2.5971, -2.7841, -2.2088, -2.0185, -2.2944, -2.444, -2.169, -2.0231, -1.97, -2.1242, -1.8533, -1.7202, -2.0251, -1.7898, -1.7902, -2.0259, -1.3869, -1.8552, -1.4824, -1.5693, -1.483, -1.3882, -1.3883, -1.3886, -1.5702, -1.4836, -1.2839, -1.284, 0.8659, 0.8658, 0.8658, 0.8658, 0.8658, 0.8658, 0.8658, 0.8658, 0.8657, 0.8657, 0.8657, 0.8657, 0.8657, 0.8657, 0.8657, 0.8657, 0.8657, 0.8657, 0.8657, 0.8657, 0.8657, 0.8657, 0.8657, 0.8657, 0.8657, 0.8657, 0.8657, 0.8657, 0.8657, 0.8657, 0.8657, 0.8657, 0.8657, 0.8657, 0.8657, -3.2416, -2.7038, -2.7817, -2.5962, -2.4401, -2.2132, -2.0228, -2.1228, -2.297, -2.0237, -2.0241, -1.7884, -1.853, -1.9706, -2.1716, -2.0253, -1.7899, -1.8552, -1.5695, -1.3883, -1.3883, -1.4832, -1.2835, -1.3884, -1.2838, -1.7237, -1.5702, -1.4836, -1.3889, -1.3889, 0.8659, 0.8658, 0.8658, 0.8658, 0.8658, 0.8658, 0.8658, 0.8658, 0.8658, 0.8657, 0.8657, 0.8657, 0.8657, 0.8657, 0.8657, 0.8657, 0.8657, 0.8657, 0.8657, 0.8657, 0.8657, 0.8657, 0.8657, 0.8657, 0.8657, 0.8657, 0.8657, 0.8657, 0.8657, 0.8657, 0.8657, 0.8657, 0.8657, 0.8657, -3.2473, -2.5946, -2.7086, -2.7855, -2.2934, -2.4421, -2.0215, -2.2125, -2.0235, -1.8522, -1.8532, -2.1709, -2.0249, -1.971, -2.1249, -1.7208, -2.0255, -1.79, -1.5677, -1.7909, -1.3872, -1.4828, -1.4829, -1.2835, -1.4837, -1.5703, -1.389, -1.2842, -1.0345, -1.1672, 0.8659, 0.8659, 0.8658, 0.8658, 0.8658, 0.8658, 0.8658, 0.8658, 0.8658, 0.8657, 0.8657, 0.8657, 0.8657, 0.8657, 0.8657, 0.8657, 0.8657, 0.8657, 0.8657, 0.8657, 0.8657, 0.8657, 0.8657, 0.8657, 0.8657, 0.8657, 0.8657, 0.8657, 0.8657, 0.8657, 0.8657, -3.2419, -2.4375, -2.7835, -2.5989, -2.7112, -2.1213, -2.0226, -2.2134, -2.1701, -2.2977, -1.7198, -2.0246, -2.0251, -2.0257, -1.8544, -1.7906, -1.7906, -1.9727, -1.3872, -1.4824, -1.8557, -1.3877, -1.2829, -1.5695, -1.388, -1.4832, -1.3885, -1.3888, -1.2841, -1.2841, 0.8659, 0.8659, 0.8659, 0.8659, 0.8659, 0.8659, 0.8658, 0.8658, 0.8658, 0.8658, 0.8658, 0.8658, 0.8658, 0.8658, 0.8658, 0.8658, 0.8658, 0.8658, 0.8658, 0.8658, 0.8658, 0.8658, 0.8658, 0.8658, 0.8658, 0.8658, 0.8658, 0.8658, 0.8658, 0.8658, 0.8658, 0.8658, 0.8658, 0.8657, 0.8657, -3.2472, -2.7061, -2.7846, -2.5999, -2.2117, -2.2961, -2.0223, -2.0231, -2.4458, -1.9706, -2.0252, -2.1718, -2.0263, -2.1262, -1.8556, -1.5692, -1.7917, -1.723, -1.7923, -1.4834, -1.5702, -1.8569, -1.4837, -1.2841, -1.4838, -1.0345, -1.3891, -1.3893, -1.1674, -1.3894, 0.8659, 0.8658, 0.8658, 0.8658, 0.8658, 0.8658, 0.8658, 0.8658, 0.8658, 0.8658, 0.8658, 0.8658, 0.8658, 0.8658, 0.8658, 0.8658, 0.8658, 0.8658, 0.8658, 0.8658, 0.8658, 0.8658, 0.8658, 0.8658, 0.8658, 0.8658, 0.8658, 0.8658, 0.8658, 0.8658, 0.8658, 0.8658, 0.8658, 0.8658, 0.8658, 0.8658, 0.8658, 0.8658, -3.2497, -2.5974, -2.7098, -2.7862, -2.444, -2.2145, -2.124, -2.2984, -2.0249, -2.1714, -2.0256, -1.8543, -2.0262, -1.8551, -2.0265, -1.7224, -1.5688, -1.7921, -1.3884, -1.3887, -1.7925, -1.9743, -1.4836, -1.3889, -1.3889, -1.4838, -1.4839, -1.4842, -1.3894, -1.3895, 0.8659, 0.8658, 0.8658, 0.8658, 0.8658, 0.8658, 0.8658, 0.8658, 0.8658, 0.8658, 0.8658, 0.8658, 0.8658, 0.8658, 0.8658, 0.8658, 0.8658, 0.8658, 0.8658, 0.8658, 0.8658, 0.8658, 0.8658, 0.8658, 0.8658, 0.8658, 0.8658, 0.8658, 0.8658, 0.8658, 0.8658, 0.8658, 0.8658, 0.8658, 0.8658, 0.8658, 0.8658, -3.2542, -2.7064, -2.7836, -2.4432, -2.6023, -2.1689, -1.8524, -1.9704, -2.1242, -2.0245, -2.2151, -2.0251, -1.7899, -1.8543, -2.0258, -1.7905, -1.7219, -2.0268, -2.3011, -1.4829, -1.2838, -1.3886, -1.5702, -1.3888, -1.284, -1.5705, -1.484, -1.3891, -1.1673, -1.3893, 0.866, 0.8659, 0.8659, 0.8659, 0.8659, 0.8659, 0.8659, 0.8659, 0.8659, 0.8658, 0.8658, 0.8658, 0.8658, 0.8658, 0.8658, 0.8658, 0.8658, 0.8658, 0.8658, 0.8658, 0.8658, 0.8658, 0.8658, 0.8658, 0.8658, 0.8658, 0.8658, 0.8658, 0.8658, 0.8658, 0.8658, 0.8658, 0.8658, 0.8658, 0.8658, 0.8658, -3.2457, -2.7829, -2.7113, -2.4436, -2.6036, -2.2976, -2.1701, -2.2146, -2.0241, -2.1246, -2.0253, -1.7901, -1.8545, -1.9722, -2.0264, -2.027, -1.856, -1.7918, -1.4829, -1.483, -1.4831, -1.3889, -1.3889, -1.2842, -1.5705, -1.7241, -1.5707, -1.3892, -1.2846, -1.3894, 0.8659, 0.8659, 0.8659, 0.8659, 0.8659, 0.8659, 0.8659, 0.8659, 0.8659, 0.8659, 0.8659, 0.8659, 0.8659, 0.8659, 0.8659, 0.8659, 0.8659, 0.8659, 0.8659, 0.8659, 0.8659, 0.8659, 0.8659, 0.8659, 0.8659, 0.8659, 0.8659, 0.8659, 0.8659, 0.8659, 0.8659, 0.8659, 0.8658, -3.2516, -2.6027, -2.2976, -2.7917, -2.716, -2.4466, -2.1249, -2.0251, -1.9713, -2.0262, -2.217, -2.0266, -1.8553, -2.027, -2.1732, -1.8563, -1.4833, -1.5702, -1.389, -1.3894, -1.3894, -1.7934, -1.4844, -1.2848, -1.285, -1.3899, -1.2852, -1.2853, -1.7251, -1.2853, 0.866, 0.866, 0.866, 0.866, 0.8659, 0.8659, 0.8659, 0.8659, 0.8659, 0.8659, 0.8659, 0.8659, 0.8659, 0.8659, 0.8659, 0.8659, 0.8659, 0.8659, 0.8659, 0.8659, 0.8659, 0.8659, 0.8659, 0.8659, 0.8659, 0.8659, 0.8659, 0.8659, 0.8659, 0.8659, 0.8659, 0.8659, 0.8659, 0.8659, 0.8659, 0.8659, -2.7862, -3.2625, -2.6017, -2.7135, -2.2985, -2.447, -2.1254, -2.0259, -2.0262, -1.9724, -2.1726, -2.0264, -2.0271, -2.2178, -1.7231, -1.8562, -1.792, -1.8569, -1.7927, -1.5707, -1.4842, -1.4843, -1.3895, -1.2849, -1.4845, -1.4846, -1.3897, -1.3899, -1.39, -1.5715, 0.8659, 0.8659, 0.8659, 0.8659, 0.8659, 0.8659, 0.8659, 0.8659, 0.8659, 0.8659, 0.8659, 0.8659, 0.8659, 0.8659, 0.8659, 0.8659, 0.8659, 0.8659, 0.8659, 0.8659, 0.8659, 0.8659, 0.8659, 0.8659, 0.8659, 0.8659, 0.8659, 0.8659, 0.8659, 0.8659, 0.8659, 0.8659, 0.8659, 0.8659, 0.8659, 0.8659, 0.8659, 0.8659, -3.2561, -2.7853, -2.6017, -2.7135, -2.2974, -2.4474, -2.1254, -2.0256, -2.1725, -2.217, -1.9732, -1.8558, -2.0273, -1.792, -1.7236, -1.8568, -2.0284, -1.4837, -2.0289, -1.5711, -1.7934, -1.3897, -1.3898, -1.2851, -1.39, -1.2852, -1.4849, -1.1682, -1.0356, -1.1683, 0.8661, 0.866, 0.866, 0.866, 0.866, 0.866, 0.866, 0.866, 0.866, 0.866, 0.866, 0.866, 0.866, 0.866, 0.866, 0.866, 0.866, 0.866, 0.866, 0.866, 0.866, 0.866, 0.866, 0.866, 0.866, 0.866, 0.866, 0.866, 0.866, 0.866, 0.866, 0.866, 0.866, 0.866, 0.8659, 0.866, 0.8659, -3.2615, -2.7154, -2.6045, -2.2146, -2.7923, -2.2991, -2.448, -2.1262, -1.8563, -2.0276, -2.1739, -2.0277, -2.0281, -1.7237, -2.0282, -1.8569, -1.7927, -1.7929, -1.5706, -1.9749, -1.571, -1.4845, -1.3898, -1.3898, -1.39, -1.4848, -1.2856, -1.3906, -1.2858, -1.3906, 0.8661, 0.866, 0.866, 0.866, 0.866, 0.866, 0.866, 0.866, 0.866, 0.866, 0.866, 0.866, 0.866, 0.866, 0.866, 0.866, 0.866, 0.866, 0.866, 0.866, 0.866, 0.866, 0.866, 0.866, 0.866, 0.866, 0.866, 0.866, 0.866, 0.866, 0.866, 0.866, 0.866, 0.866, 0.866, 0.866, 0.866, -3.263, -2.6035, -2.7919, -2.4463, -2.3003, -2.2171, -2.0268, -2.1267, -2.7192, -2.1742, -2.0281, -2.0284, -1.8574, -1.8575, -2.0289, -1.7933, -1.9752, -1.5712, -1.4847, -1.7249, -1.5714, -1.3901, -1.7941, -1.4852, -1.3905, -1.2857, -1.3905, -1.3907, -1.0361, -1.2859, 0.8661, 0.8661, 0.8661, 0.8661, 0.8661, 0.866, 0.866, 0.866, 0.866, 0.866, 0.866, 0.866, 0.866, 0.866, 0.866, 0.866, 0.866, 0.866, 0.866, 0.866, 0.866, 0.866, 0.866, 0.866, 0.866, 0.866, 0.866, 0.866, 0.866, 0.866, 0.866, 0.866, 0.866, 0.866, 0.866, 0.866, 0.866, -3.2644, -2.7911, -2.7172, -2.6064, -2.1731, -2.3007, -2.2182, -2.4496, -2.028, -1.9743, -2.1281, -2.0283, -1.8573, -1.8576, -1.7934, -2.0292, -1.7936, -1.725, -2.0295, -1.5716, -1.4852, -1.3904, -1.3904, -1.3906, -1.3907, -1.4856, -1.5722, -1.286, -1.4857, -1.169, 0.8662, 0.8661, 0.8661, 0.8661, 0.8661, 0.8661, 0.8661, 0.8661, 0.8661, 0.8661, 0.8661, 0.8661, 0.8661, 0.8661, 0.8661, 0.8661, 0.8661, 0.8661, 0.8661, 0.8661, 0.8661, 0.8661, 0.8661, 0.8661, 0.8661, 0.8661, 0.8661, 0.8661, 0.8661, 0.8661, 0.8661, 0.8661, 0.8661, 0.8661, 0.8661, 0.8661, 0.8661, 0.8661, 0.8661, 0.8661, 0.8661, 0.8661, 0.8661, -3.2665, -2.7935, -2.7188, -2.4498, -2.6089, -2.0287, -2.1752, -1.8578, -2.129, -2.3031, -2.2199, -2.0295, -2.0295, -1.794, -1.8584, -1.9762, -2.0301, -1.7945, -1.5722, -1.3908, -1.726, -1.4858, -1.3911, -1.3912, -1.3912, -1.3912, -1.2864, -1.3913, -1.2866, -1.1695]}, \"token.table\": {\"Topic\": [1, 1, 1, 1, 1, 1, 1, 1, 1, 1, 1, 1, 1, 1, 1, 1, 1, 1, 1, 1, 1, 1, 1, 1, 1, 1, 1, 1, 1, 1, 1, 1, 1, 1, 1, 1, 1, 1, 1, 1, 1, 1, 1, 1, 1, 1, 1, 1, 1, 1, 1, 1, 1, 1, 1, 1, 1, 1, 1, 1, 1, 1, 1, 1, 1, 1, 1, 1, 1, 1, 1, 1, 1, 1, 1, 1, 1, 1, 1, 1, 1, 1, 1, 1, 1, 1, 1, 1, 1, 1, 1, 1, 1, 1, 1, 1, 1, 1, 1, 1, 1, 1, 1, 1, 1, 1, 1, 1, 1, 1, 1, 1, 1, 1, 1, 1, 1, 1, 1, 1, 1, 1, 1, 1, 1, 1, 1, 1, 1, 1, 1, 1, 1, 1, 1, 1, 1, 1, 1, 1, 1, 1, 1, 1, 1, 1, 1, 1, 1, 1, 1, 1, 1, 1, 1, 1, 1, 1, 1, 1, 1, 1, 1, 1, 1, 1, 1, 1, 1, 1, 1, 1, 1, 1, 1, 1, 1, 1, 1, 1, 1, 1, 1, 1, 1, 1, 1, 1, 1, 1, 1, 1, 1, 1, 1, 1, 1, 1, 1, 1, 1, 1, 1, 1, 1, 1, 1, 1, 1, 1, 1, 1, 1, 1, 1, 1, 1, 1, 1, 1, 1, 1, 1, 1, 1, 1, 1, 1, 1, 1, 1, 1, 1, 1, 1, 1, 1, 1, 1, 1, 1, 1, 1, 1, 1, 1, 1, 1, 1, 1, 1, 1, 1, 1, 1, 1, 1, 1, 1, 1, 1, 1, 1, 1, 1, 1, 1, 1, 1, 1, 1, 1, 1, 1, 1, 1, 1, 1, 1, 1, 1, 1, 1, 1, 1, 1, 1, 1, 1, 1, 1, 1, 1, 1, 1, 1, 1, 1, 1, 1, 1, 1, 1, 1, 1, 1, 1, 1, 1, 1, 1, 1, 1, 1, 1, 1, 1, 1, 1, 1, 1, 1, 1, 1, 1, 1, 1, 1, 1, 1, 1, 1, 1, 1, 1, 1, 1, 1, 1, 1, 1, 1, 1, 1, 1, 1, 1, 1, 1, 1, 1, 1, 1, 1, 1, 1, 1, 1, 1, 1, 1, 1, 1, 1, 1, 1, 1, 1, 1, 1, 1, 1, 1, 1, 1, 1, 1, 1, 1, 1, 1, 1, 1, 1, 1, 1, 1, 1, 1, 1, 1, 1, 1, 1, 1, 1, 1, 1, 1, 1, 1, 1, 1, 1, 1, 1, 1, 1, 1, 1, 1, 1, 1, 1, 1, 1, 1, 1, 1, 1, 1, 1, 1, 1, 1, 1, 1, 1, 1, 1, 1, 1, 1, 1, 1, 1, 1, 1, 1, 1, 1], \"Freq\": [0.9718764230586637, 0.9718548150972353, 0.9718746223269255, 0.9718647184110479, 0.9718592039931094, 1.0170482102895158, 0.9718606670173309, 0.971862917839329, 0.9718644933844693, 0.9718643808494103, 0.9718688825328223, 0.971877998758183, 0.9718513264857467, 0.971870908260645, 0.9718836263403978, 1.015808453989861, 0.9718728215790003, 0.971851101465239, 0.9719099663495258, 0.9718695577971057, 1.0140893876788295, 0.9718667441920297, 0.9718795744597643, 0.9718759729094631, 0.9718911676684696, 0.9718495259500074, 0.9718505387537639, 0.9718849770095095, 0.9718623551373902, 0.9718822757044535, 0.9718675320113528, 0.9718536897560239, 0.971883513774926, 0.9718536897566413, 0.9718619049695784, 0.9718630303372919, 1.0172579919662033, 0.9718701205016826, 0.971894544489199, 0.9718902671659053, 0.9718786740463239, 0.9718915053629774, 0.9718552652334658, 0.9718740595723874, 0.9718639306680873, 0.971868769973716, 0.9718632554342427, 1.0148069677522646, 0.9718572909193965, 0.9718588664328127, 0.9718602168696743, 0.9718620174803557, 0.9718707957474968, 0.9718769857953131, 0.9718514390224868, 0.9718788991619469, 0.9718503136947182, 0.9718800246731459, 0.9718556028368001, 0.9718632554471324, 0.9718648309696377, 1.0177772733488366, 0.971856278091663, 0.9718666316716962, 0.9718648309760783, 0.9718662940244214, 0.9718752976195872, 0.9718694452419416, 0.9718759728473221, 0.9718756352519052, 0.9718521142514144, 1.015821686993201, 0.9718701204945269, 0.9718667442160427, 0.971875972903887, 0.9718754101497514, 0.9718678696380091, 0.9718792368239619, 0.9835489715070912, 0.9718743972314469, 0.9718513265291564, 0.9718901546337333, 1.0153566562716518, 0.9718575159996995, 0.9718670818155979, 1.0153655002415891, 0.9718800246679978, 0.9718589789291654, 0.9718689950816745, 0.9718810376420071, 0.9718673068894464, 0.9718507638432037, 0.9718857648931832, 0.9718705706374802, 0.9718526769497954, 0.9718679821596333, 0.9718693326920316, 0.9718716960936089, 0.9718561655241735, 0.971872821562108, 0.9718772109025259, 0.971885314656697, 0.9718786740577982, 0.971899609895267, 0.97187811130454, 0.9718850895622387, 0.971896232943428, 0.9718792368084277, 0.971868769978078, 0.97185492765009, 0.9718427740155167, 0.9718610046417334, 0.9718797995570498, 0.9718526769392364, 0.9718772109330843, 0.971873609399854, 0.971874059586791, 0.9718696703189912, 0.9718713584847021, 1.0182235367929922, 0.9718692201393588, 1.0153545927406216, 0.9718801372124649, 1.0177634507944493, 0.9718865527763895, 0.9718472753014711, 0.9718467126527999, 0.9718665191229962, 0.971881938041432, 0.9718758603460483, 0.9718700079552797, 0.9718680947126038, 0.9718534646552299, 0.971873721945913, 1.0147863549711138, 1.017250594513644, 1.0147921352155318, 0.9718884662193906, 0.9718567282065063, 0.9718838514486053, 0.9889832039520393, 0.9718551526952003, 0.9718714709875736, 0.9718476128950604, 0.9718759728844003, 0.9718622425764347, 0.971877210922258, 0.971867194377012, 0.9718703455814622, 0.9718766481781862, 0.9718550401679631, 0.9718756352584941, 0.9718776611155721, 0.9718490758399131, 0.971869107600242, 0.9718749599883411, 0.9718731592002497, 0.9718759729210267, 0.9718784489584594, 0.9718676445449456, 0.9718730466463652, 0.9718562780707362, 0.9718417612642177, 0.9718629178069699, 0.9718649435358703, 0.9718507638335184, 0.9718777736389829, 0.9718646058875201, 1.0042165163343373, 0.9718493008791189, 0.9718584162866857, 0.9718624676725172, 1.016213229198996, 0.9718787866038194, 0.9718730466434156, 0.9718776610944059, 0.9718695577853896, 0.9718902671800997, 0.9718675320243808, 0.9718631429024523, 0.9718823882526177, 0.971865168622731, 0.971877436023489, 0.9718769857961194, 0.9718607795503053, 0.9718888039211294, 0.9718835137721803, 1.0140865083722932, 0.9718787866247469, 0.9718779987550594, 0.9718389479655213, 0.9718579661292438, 0.9718727090339565, 0.9718974711612688, 0.9718826133355903, 0.9718808125484696, 0.9718634805199605, 0.9718552652008643, 0.9718734968580663, 0.9718816004028695, 0.9718653936918262, 1.0140940436299228, 0.9718922932755296, 0.971873046647965, 0.9718711333929555, 0.9718804748960354, 0.9718621300436286, 0.9718561655186081, 0.9718850895520865, 0.9718892541523154, 0.9718766481921113, 0.9718910551005705, 0.9943219995951734, 0.9718773234560243, 0.9718543649387514, 0.9718709082821648, 0.9718785615023134, 0.9718525644200622, 1.016195265910018, 0.9718700079797251, 1.014084670455158, 0.9718683197877265, 0.9718507638311987, 0.9718716960919909, 0.9718530145320559, 0.9718682072839121, 0.9718764230687119, 1.0158246375608544, 0.9718635930385822, 0.9718818254675453, 0.9718512139994622, 0.9718650560526192, 0.971856615683753, 0.9718820505845683, 0.9718692201359872, 0.9718696703490243, 0.9718701204902661, 0.9718849770091601, 0.971853689737076, 0.9718850895723959, 1.0170348019341284, 0.9718659564129182, 0.9718844142224661, 0.9718562780631861, 0.9718838514637347, 0.9718518891856164, 1.0147919171445638, 0.9718701205243492, 0.9718882411063796, 1.0179987469512024, 0.971865168596257, 0.9718667441788288, 0.9719124429714018, 0.9718810376504984, 0.9718475003852765, 0.9718904923128864, 0.9718603293956525, 0.9718692201547173, 0.9718782238706105, 0.9718588664285658, 0.9718695577925343, 0.9718579661242783, 0.9718939816648716, 1.0153789628976455, 0.9718655062342, 0.9718615673377377, 0.9718664065815079, 0.9718549276422533, 0.9718594290871942, 0.9718720337639865, 0.9718630303472446, 0.9718939816790203, 0.971866744229866, 0.9718892541442271, 0.9718737219399444, 0.9718752975993494, 0.9718752976276511, 0.9718868904689563, 0.9718612297194219, 0.97187631051694, 0.9718664065878893, 1.0153681533817385, 0.9718646058891702, 0.971857065809873, 0.9718894792758513, 0.9718476128897205, 0.9718821631302538, 0.9718624676463563, 0.9718720337639596, 1.0131931547437698, 0.9718704581173204, 0.9718656187762134, 0.9718653936884637, 0.9719050131927286, 0.9718630303679445, 0.9718829510159591, 0.971878561502781, 1.014793116771319, 1.0140770128213519, 0.9718782238393175, 1.0158249952710632, 0.9718525643862056, 0.9718729341388914, 0.9718944319214711, 0.971864718437422, 0.9718778862019832, 0.9718634805049909, 0.9718634805194335, 0.9718629178321793, 1.017752642456743, 0.9718499760957741, 0.971858866438917, 0.9718671943596738, 0.9718709082818207, 0.971877210891687, 0.971897020893915, 0.9718695577873964, 0.9718680947256868, 0.9718615673571102, 1.0132024502731678, 0.9718661814860928, 1.0153593094689364, 0.9718972460212794, 0.9718658438562748, 0.9718738344803602, 0.9718801372189175, 0.9718587538928768, 0.9718872281229218, 0.9718703455996768, 0.971885202099882, 0.9719037749189635, 0.9718929686031025, 0.971875747800464, 0.9718521142592152, 0.9718701205153443, 0.9718677570894602, 1.014767378763305, 0.9718639306848684, 0.9718659563915074, 0.9718522267937426, 0.9718572909261182, 0.9718793493555443, 1.014798242716091, 1.0131986761141523, 0.9718913927901317, 0.9718862151252353, 0.9718657312964697, 0.971865618780998, 0.9718734968342432, 0.9718716961096395, 0.9718562780741814, 0.9718843016741636, 0.9718711333747184, 0.9718434491868638, 0.9718682072627253, 0.9718844142287673, 0.9718788991681349, 0.9718563906252785, 0.9718658438720462, 0.9718772109301212, 1.0168127891332297, 1.0132134233672057, 0.9718791242645506, 0.971855827912699, 1.0153386741041814, 0.9718697828695773, 0.9719032120790521, 0.9718416487353095, 0.9718790117244362, 0.9718736094105469, 1.0183891862679244, 0.9718733842945317, 0.9718649435417464, 0.9718540273196467, 0.9718861025674319, 1.015326588208564, 1.014790717430691, 0.9718629178139103, 0.9718803623349809, 0.9718620175061576, 0.9718881285769342, 0.9718634805158772, 0.9718471627708306, 0.9718723713883554, 0.9718823882389517, 0.9718655062173441, 0.9718978088546596, 0.9718469377189498, 0.9718729341210097, 0.9718664065823756, 0.9718659563748394, 0.9718850895701092, 0.9718561655480165, 0.971864155757224, 0.9718479505049848, 0.9718673069014544, 0.9718791242659763, 0.9718620174751641, 0.971873834494615, 0.9718713584804431, 0.9718924058349777, 0.9718754101632988, 1.0181134540294279, 0.9718894792477449, 0.9718500886308999, 0.9718794619068021, 0.9718936439896045, 0.971876760695675, 0.9718855397605771, 0.9718750725161448, 0.9718688825209763, 0.9718816003952063, 0.9718760854053622, 0.9922685098804364, 0.971865618770623, 0.9718820505743662, 0.9718921807016516, 1.0175965796173394, 0.9718915053505933, 0.9718908299919725, 1.0131909182577683, 0.9718684323310254, 0.9718534646449923, 0.9718639306629999, 0.9718721462894612, 1.0177504600099454, 0.971893981662539, 0.9718821631386668, 0.9718839640076888, 0.9718723713778162, 0.9718676445586822, 0.9718568407558235, 0.9718639306994626, 0.9718471627903006, 0.9718509889292509, 0.9718768732673472, 0.9718703455722667, 0.9718657313234214, 0.9718816004032564, 0.9718661815139262, 0.9718675319977916], \"Term\": [\"ability\", \"academic\", \"accept\", \"accord\", \"accordingtotheworld\", \"accuracy\", \"accuracywhen\", \"accurate\", \"accurateresult\", \"actual\", \"addition\", \"adecisionnode\", \"advance\", \"african\", \"ahme\", \"algorithm\", \"algorithmconvert\", \"algorithmisverypopular\", \"almansour\", \"amongmale\", \"analysis\", \"analysisofultrasoundimage\", \"andaleaf\", \"andboneproblem\", \"andcardiovascular\", \"andclinical\", \"andensemblelearning\", \"andevaluate\", \"andit\", \"andmodularneuralnetwork\", \"andnegative\", \"anemia\", \"anemiaye\", \"ant\", \"appetite\", \"appliedalgorithm\", \"apply\", \"applyingparallel\", \"art\", \"assist\", \"attention\", \"attribution\", \"aurangabad\", \"author\", \"availability\", \"bacteria\", \"bacteriapresent\", \"base\", \"basis\", \"becompute\", \"bednarski\", \"begin\", \"behaviour\", \"bemisse\", \"bestclassi\\ufb01cation\", \"bestwaytotreatchronickidneydiseaseistodiagnoseitintheearlystage\", \"betweenthe\", \"betweenthebetweentheinputfeature\", \"bgr\", \"bias\", \"big\", \"blood\", \"bloodlead\", \"bloodpressure\", \"bu\", \"bumin\", \"bycomputingthecorrectlyclassi\\ufb01edsample\", \"cad\", \"call\", \"cardiovascular\", \"causingmisse\", \"cell\", \"cellnormal\", \"cellsnormal\", \"cess\", \"characteristic\", \"check\", \"choicesjournalofhealthcareengineere\", \"chronic\", \"chronickidney\", \"cite\", \"ckdpatient\", \"class\", \"classby\", \"classcontain\", \"classi\\ufb01cation\", \"clean\", \"close\", \"clump\", \"clusteringforenhancingthediagnosisofchronicdiseasesover\", \"coder\", \"college\", \"colombian\", \"colony\", \"come\", \"common\", \"comparedwith\", \"complete\", \"complex\", \"comprise\", \"computation\", \"computethe\", \"conduct\", \"conflict\", \"confusion\", \"con\\ufb01gurationsandit\", \"con\\ufb02ict\", \"coronary\", \"correct\", \"correction\", \"correspondence\", \"cost\", \"cpu\", \"creatinine\", \"creative\", \"current\", \"cursive\", \"cvd\", \"dataminingtechniqueshavebeenuse\", \"dataset\", \"datasetsrelevant\", \"datum\", \"death\", \"decision\", \"declare\", \"deep\", \"deeplearne\", \"denpasar\", \"density\", \"depend\", \"describeskidney\", \"descriptionglomerular\", \"detail\", \"diabetesfactor\", \"diagnose\", \"diagnosis\", \"diagnostic\", \"die\", \"digital\", \"dilbag\", \"disease\", \"diseasebecause\", \"diseasediagnosis\", \"display\", \"disrupt\", \"distribute\", \"dividedinto\", \"due\", \"duetoitsease\", \"earlystage\", \"editor\", \"elation\", \"enable\", \"ensemblelearne\", \"equation\", \"error\", \"establish\", \"examine\", \"expect\", \"explainable\", \"explore\", \"expression\", \"e\\ufb00ective\", \"e\\ufb00ectiveness\", \"factorsa\\ufb00ecte\", \"falsenegative\", \"family\", \"fawaz\", \"feature\", \"feed\", \"focus\", \"forensic\", \"forest\", \"gence\", \"general\", \"generalize\", \"generalstructure\", \"global\", \"gravity\", \"greatadvantagesindiagnosingseveral\\ufb01eld\", \"grnn\", \"guess\", \"gust\", \"handle\", \"haussler\", \"havingadditionalbranche\", \"hemodialysis\", \"high\", \"highlye\\ufb03cientmachinelearningtechniquesforthe\", \"history\", \"hmoud\", \"hwff\", \"hybridwrapper\", \"ignore\", \"image\", \"imagesbyusingabcdruleforearlydetectionofskincancer\", \"importanceassociate\", \"importantvital\", \"increase\", \"induce\", \"informaticsinmedicine\", \"information\", \"inspire\", \"interest\", \"internal\", \"introduce\", \"isdfs\", \"itis\", \"journalofhealthcareengineering\", \"journalofhealthcareengineeringdiabete\", \"journalofhealthcareengineeringrecall\", \"journalofmedicalsystem\", \"kidney\", \"kidneydisorder\", \"kidneythroughsomefeaturessuchasglucose\", \"kidneytransplantation\", \"kim\", \"kisgenerate\", \"knn\", \"last\", \"learn\", \"level\", \"license\", \"lie\", \"line\", \"lowbloodpressure\", \"lvw\", \"machine\", \"machinelearne\", \"maintain\", \"male\", \"management\", \"matrix\", \"maynot\", \"meanstandard\", \"median\", \"medicaltest\", \"medium\", \"mellitusye\", \"ment\", \"method\", \"methodswere\", \"methodwas\", \"mild\", \"min\", \"mining\", \"miss\", \"missingnominal\", \"missingnumerical\", \"model\", \"modelsinclude\", \"monitoring\", \"mostsigni\\ufb01cant\", \"much\", \"multiclass\", \"multiple\", \"mustcontain\", \"name\", \"nb\", \"neighbored\", \"nephrology\", \"nervedamage\", \"nervous\", \"network\", \"ni\\ufb01cant\", \"noderepresent\", \"nonlinear\", \"normalization\", \"numericalfeature\", \"observation\", \"observe\", \"ofckd\", \"ofdisease\", \"ofnumerical\", \"onsubsetsofthedataset\", \"optimal\", \"optimization\", \"other\", \"outcome\", \"outlier\", \"page\", \"patient\", \"patientsincludediabete\", \"patientsmayreachthe\", \"pcc\", \"pedal\", \"people\", \"percentage\", \"perform\", \"performance\", \"permit\", \"plan\", \"plot\", \"pointinto\", \"poor\", \"positivecorrelation\", \"pp\", \"precision\", \"predict\", \"predictingtheearly\", \"prediction\", \"predictor\", \"presentedamodelbase\", \"preventive\", \"proach\", \"probabilistic\", \"processing\", \"progression\", \"properly\", \"propose\", \"publication\", \"pus\", \"puscell\", \"python\", \"quality\", \"radial\", \"randomforest\", \"rateofalbumin\", \"ravizza\", \"reach\", \"reason\", \"recall\", \"record\", \"recursivefeatureelimination\", \"redblood\", \"reference\", \"regressionproblem\", \"relevant\", \"resource\", \"rest\", \"rfecv\", \"rfemethod\", \"rithm\", \"rithmworksaccordingtotheprincipleofensemblelearne\", \"robust\", \"root\", \"sample\", \"school\", \"scienti\\ufb01c\", \"second\", \"section\", \"security\", \"select\", \"selection\", \"selectionof\", \"senan\", \"separablespace\", \"series\", \"set\", \"severe\", \"shivaji\", \"shrivas\", \"side\", \"similar\", \"softcompute\", \"softmax\", \"speci\\ufb01c\", \"split\", \"splitting\", \"stack\", \"stage\", \"statistical\", \"strokeobesityfamily\", \"strong\", \"study\", \"subnode\", \"sucha\", \"su\\ufb00er\", \"su\\ufb00ere\", \"sye\", \"system\", \"systemand\", \"systemsreached\", \"tackle\", \"takesprediction\", \"technique\", \"test\", \"testing\", \"thecorrelationbetweenthepredictionsofeach\", \"thefeaturevariablemustcontainactualvalue\", \"thenumber\", \"ther\", \"thereby\", \"therecord\", \"thescarcityofspecialistphysician\", \"thesvm\", \"thesvmaccuracy\", \"thetraine\", \"thetrainingphase\", \"throughseveralpreviousrelatedstudie\", \"tient\", \"tion\", \"tissue\", \"tn\", \"toclassify\", \"todetermine\", \"top\", \"toprioritize\", \"tp\", \"traditional\", \"trainingdataset\", \"treatable\", \"tree\", \"treecompare\", \"tune\", \"type\", \"typesofnode\", \"uci\", \"ultrasonography\", \"unbalanced\", \"unlocked\", \"unrestricted\", \"usa\", \"use\", \"usedarti\\ufb01cialneuralnetwork\", \"useless\", \"usg\", \"value\", \"valuesthat\", \"vasquez\", \"vector\", \"venable\", \"virtual\", \"visualize\", \"vms\", \"vol\", \"weakassociation\", \"weakfeature\", \"wekasoftware\", \"wherethenumber\", \"white\", \"widely\", \"withrespect\", \"worldwide\", \"xz_he\", \"xz_heir\", \"xz_heparameter\", \"\\u03c3isafreeparameter\", \"\\ufb01brotic\", \"\\ufb01gureshow\", \"\\ufb01nde\"]}, \"R\": 30, \"lambda.step\": 0.01, \"plot.opts\": {\"xlab\": \"PC1\", \"ylab\": \"PC2\"}, \"topic.order\": [5, 18, 8, 2, 20, 10, 7, 17, 19, 13, 9, 16, 14, 12, 3, 4, 1, 15, 6, 11]};\n",
       "\n",
       "function LDAvis_load_lib(url, callback){\n",
       "  var s = document.createElement('script');\n",
       "  s.src = url;\n",
       "  s.async = true;\n",
       "  s.onreadystatechange = s.onload = callback;\n",
       "  s.onerror = function(){console.warn(\"failed to load library \" + url);};\n",
       "  document.getElementsByTagName(\"head\")[0].appendChild(s);\n",
       "}\n",
       "\n",
       "if(typeof(LDAvis) !== \"undefined\"){\n",
       "   // already loaded: just create the visualization\n",
       "   !function(LDAvis){\n",
       "       new LDAvis(\"#\" + \"ldavis_el191400555643081762246686864\", ldavis_el191400555643081762246686864_data);\n",
       "   }(LDAvis);\n",
       "}else if(typeof define === \"function\" && define.amd){\n",
       "   // require.js is available: use it to load d3/LDAvis\n",
       "   require.config({paths: {d3: \"https://d3js.org/d3.v5\"}});\n",
       "   require([\"d3\"], function(d3){\n",
       "      window.d3 = d3;\n",
       "      LDAvis_load_lib(\"https://cdn.jsdelivr.net/gh/bmabey/pyLDAvis@3.2.2/pyLDAvis/js/ldavis.v3.0.0.js\", function(){\n",
       "        new LDAvis(\"#\" + \"ldavis_el191400555643081762246686864\", ldavis_el191400555643081762246686864_data);\n",
       "      });\n",
       "    });\n",
       "}else{\n",
       "    // require.js not available: dynamically load d3 & LDAvis\n",
       "    LDAvis_load_lib(\"https://d3js.org/d3.v5.js\", function(){\n",
       "         LDAvis_load_lib(\"https://cdn.jsdelivr.net/gh/bmabey/pyLDAvis@3.2.2/pyLDAvis/js/ldavis.v3.0.0.js\", function(){\n",
       "                 new LDAvis(\"#\" + \"ldavis_el191400555643081762246686864\", ldavis_el191400555643081762246686864_data);\n",
       "            })\n",
       "         });\n",
       "}\n",
       "</script>"
      ],
      "text/plain": [
       "PreparedData(topic_coordinates=              x    y  topics  cluster       Freq\n",
       "topic                                           \n",
       "4     -0.110212 -0.0       1        1  99.984774\n",
       "17     0.005252 -0.0       2        1   0.000803\n",
       "7      0.005524  0.0       3        1   0.000802\n",
       "1      0.005712  0.0       4        1   0.000802\n",
       "19     0.005754  0.0       5        1   0.000802\n",
       "9      0.005754 -0.0       6        1   0.000802\n",
       "6      0.005757 -0.0       7        1   0.000802\n",
       "16     0.005774 -0.0       8        1   0.000802\n",
       "18     0.005773 -0.0       9        1   0.000802\n",
       "12     0.005810 -0.0      10        1   0.000801\n",
       "8      0.005828 -0.0      11        1   0.000801\n",
       "15     0.005828  0.0      12        1   0.000801\n",
       "13     0.005832 -0.0      13        1   0.000801\n",
       "11     0.005894 -0.0      14        1   0.000801\n",
       "2      0.005902  0.0      15        1   0.000801\n",
       "3      0.005897 -0.0      16        1   0.000801\n",
       "0      0.005945 -0.0      17        1   0.000801\n",
       "14     0.005967 -0.0      18        1   0.000801\n",
       "5      0.005981  0.0      19        1   0.000801\n",
       "10     0.006028  0.0      20        1   0.000800, topic_info=              Term      Freq      Total Category  logprob  loglift\n",
       "307        feature  64.00000  64.000000  Default  30.0000  30.0000\n",
       "408         kidney  40.00000  40.000000  Default  29.0000  29.0000\n",
       "795            use  37.00000  37.000000  Default  28.0000  28.0000\n",
       "246        disease  33.00000  33.000000  Default  27.0000  27.0000\n",
       "130        chronic  28.00000  28.000000  Default  26.0000  26.0000\n",
       "..             ...       ...        ...      ...      ...      ...\n",
       "142  classiﬁcation   0.00002   9.848670  Topic20  -6.7285  -1.3912\n",
       "235       diagnose   0.00002   8.868862  Topic20  -6.7285  -1.2864\n",
       "730      technique   0.00002   9.849048  Topic20  -6.7285  -1.3913\n",
       "733           test   0.00002   8.868824  Topic20  -6.7287  -1.2866\n",
       "382    information   0.00002   7.888815  Topic20  -6.7287  -1.1695\n",
       "\n",
       "[1304 rows x 6 columns], token_table=      Topic      Freq                 Term\n",
       "term                                      \n",
       "0         1  0.971876              ability\n",
       "3         1  0.971855             academic\n",
       "4         1  0.971875               accept\n",
       "6         1  0.971865               accord\n",
       "7         1  0.971859  accordingtotheworld\n",
       "...     ...       ...                  ...\n",
       "829       1  0.971870       xz_heparameter\n",
       "831       1  0.971866    σisafreeparameter\n",
       "832       1  0.971882              ﬁbrotic\n",
       "833       1  0.971866            ﬁgureshow\n",
       "836       1  0.971868                 ﬁnde\n",
       "\n",
       "[441 rows x 3 columns], R=30, lambda_step=0.01, plot_opts={'xlab': 'PC1', 'ylab': 'PC2'}, topic_order=[5, 18, 8, 2, 20, 10, 7, 17, 19, 13, 9, 16, 14, 12, 3, 4, 1, 15, 6, 11])"
      ]
     },
     "execution_count": 30,
     "metadata": {},
     "output_type": "execute_result"
    }
   ],
   "source": [
    "vis_topics"
   ]
  },
  {
   "cell_type": "markdown",
   "id": "bcd3956b",
   "metadata": {
    "papermill": {
     "duration": 0.02543,
     "end_time": "2022-12-14T12:55:30.592240",
     "exception": false,
     "start_time": "2022-12-14T12:55:30.566810",
     "status": "completed"
    },
    "tags": []
   },
   "source": [
    "What can we deduce from graph output?\n",
    "\n",
    "On the left it shows a buble in which it represnt a topic, also note we are supposed to have 20 bubles since we chose to have 20 topics in our model earlier on. The larger the buble, the more dominant that topic is.\n",
    "\n",
    "To determine a good topic, the bubble on the left would be big and non-overlapping throught the chart and being in spread along all the quadrants in stead of being clustered. Also note we only have one big bubble which means that we classified our topic 1 very well, however if you look closely you will see a black dot which seem to have all the remaining topic clustered together and overlaping each other in one place.\n",
    "\n",
    "If you move the cursor on the bubble, the words and bars on the right-hand side will update. These words are the salient keywords that form the selected topic, i.e, top 30 most relevant words. Clicking the Previous Topic and Next Topic buttons on the upper left, we again see the words on the right-hand side updating. However, there isn't much significant changes in most of the words in all the topics as they are all dominated by words like need, youth, people, government, country , namibian and so on... We can say\n",
    "\n",
    "With the output, we can say that the topics in our document exacerbate around politics, Namibian politics to be specific. Thus we have successfully build a go"
   ]
  }
 ],
 "metadata": {
  "kernelspec": {
   "display_name": "Python 3",
   "language": "python",
   "name": "python3"
  },
  "language_info": {
   "codemirror_mode": {
    "name": "ipython",
    "version": 3
   },
   "file_extension": ".py",
   "mimetype": "text/x-python",
   "name": "python",
   "nbconvert_exporter": "python",
   "pygments_lexer": "ipython3",
   "version": "3.7.12"
  },
  "papermill": {
   "default_parameters": {},
   "duration": 568.576292,
   "end_time": "2022-12-14T12:55:33.241323",
   "environment_variables": {},
   "exception": null,
   "input_path": "__notebook__.ipynb",
   "output_path": "__notebook__.ipynb",
   "parameters": {},
   "start_time": "2022-12-14T12:46:04.665031",
   "version": "2.3.4"
  }
 },
 "nbformat": 4,
 "nbformat_minor": 5
}
