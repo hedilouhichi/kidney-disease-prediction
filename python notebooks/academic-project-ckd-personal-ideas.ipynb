{
 "cells": [
  {
   "cell_type": "code",
   "execution_count": 1,
   "id": "176e4e4f",
   "metadata": {
    "_cell_guid": "b1076dfc-b9ad-4769-8c92-a6c4dae69d19",
    "_uuid": "8f2839f25d086af736a60e9eeb907d3b93b6e0e5",
    "execution": {
     "iopub.execute_input": "2022-11-27T19:41:15.975522Z",
     "iopub.status.busy": "2022-11-27T19:41:15.974791Z",
     "iopub.status.idle": "2022-11-27T19:41:15.993673Z",
     "shell.execute_reply": "2022-11-27T19:41:15.992476Z"
    },
    "papermill": {
     "duration": 0.038034,
     "end_time": "2022-11-27T19:41:15.996242",
     "exception": false,
     "start_time": "2022-11-27T19:41:15.958208",
     "status": "completed"
    },
    "tags": []
   },
   "outputs": [
    {
     "name": "stdout",
     "output_type": "stream",
     "text": [
      "/kaggle/input/cleandatackd/cleandata.csv\n"
     ]
    }
   ],
   "source": [
    "# This Python 3 environment comes with many helpful analytics libraries installed\n",
    "# It is defined by the kaggle/python Docker image: https://github.com/kaggle/docker-python\n",
    "# For example, here's several helpful packages to load\n",
    "\n",
    "import numpy as np # linear algebra\n",
    "import pandas as pd # data processing, CSV file I/O (e.g. pd.read_csv)\n",
    "\n",
    "# Input data files are available in the read-only \"../input/\" directory\n",
    "# For example, running this (by clicking run or pressing Shift+Enter) will list all files under the input directory\n",
    "\n",
    "import os\n",
    "for dirname, _, filenames in os.walk('/kaggle/input'):\n",
    "    for filename in filenames:\n",
    "        print(os.path.join(dirname, filename))\n",
    "\n",
    "# You can write up to 20GB to the current directory (/kaggle/working/) that gets preserved as output when you create a version using \"Save & Run All\" \n",
    "# You can also write temporary files to /kaggle/temp/, but they won't be saved outside of the current session"
   ]
  },
  {
   "cell_type": "code",
   "execution_count": 2,
   "id": "433283f2",
   "metadata": {
    "execution": {
     "iopub.execute_input": "2022-11-27T19:41:16.028402Z",
     "iopub.status.busy": "2022-11-27T19:41:16.027435Z",
     "iopub.status.idle": "2022-11-27T19:41:18.358780Z",
     "shell.execute_reply": "2022-11-27T19:41:18.357645Z"
    },
    "papermill": {
     "duration": 2.351628,
     "end_time": "2022-11-27T19:41:18.361467",
     "exception": false,
     "start_time": "2022-11-27T19:41:16.009839",
     "status": "completed"
    },
    "tags": []
   },
   "outputs": [
    {
     "data": {
      "text/html": [
       "<style type='text/css'>\n",
       ".datatable table.frame { margin-bottom: 0; }\n",
       ".datatable table.frame thead { border-bottom: none; }\n",
       ".datatable table.frame tr.coltypes td {  color: #FFFFFF;  line-height: 6px;  padding: 0 0.5em;}\n",
       ".datatable .bool    { background: #DDDD99; }\n",
       ".datatable .object  { background: #565656; }\n",
       ".datatable .int     { background: #5D9E5D; }\n",
       ".datatable .float   { background: #4040CC; }\n",
       ".datatable .str     { background: #CC4040; }\n",
       ".datatable .time    { background: #40CC40; }\n",
       ".datatable .row_index {  background: var(--jp-border-color3);  border-right: 1px solid var(--jp-border-color0);  color: var(--jp-ui-font-color3);  font-size: 9px;}\n",
       ".datatable .frame tbody td { text-align: left; }\n",
       ".datatable .frame tr.coltypes .row_index {  background: var(--jp-border-color0);}\n",
       ".datatable th:nth-child(2) { padding-left: 12px; }\n",
       ".datatable .hellipsis {  color: var(--jp-cell-editor-border-color);}\n",
       ".datatable .vellipsis {  background: var(--jp-layout-color0);  color: var(--jp-cell-editor-border-color);}\n",
       ".datatable .na {  color: var(--jp-cell-editor-border-color);  font-size: 80%;}\n",
       ".datatable .sp {  opacity: 0.25;}\n",
       ".datatable .footer { font-size: 9px; }\n",
       ".datatable .frame_dimensions {  background: var(--jp-border-color3);  border-top: 1px solid var(--jp-border-color0);  color: var(--jp-ui-font-color3);  display: inline-block;  opacity: 0.6;  padding: 1px 10px 1px 5px;}\n",
       "</style>\n"
      ],
      "text/plain": [
       "<IPython.core.display.HTML object>"
      ]
     },
     "metadata": {},
     "output_type": "display_data"
    }
   ],
   "source": [
    "import numpy as np\n",
    "import pandas as pd\n",
    "import seaborn as sns\n",
    "import matplotlib.pyplot as plt\n",
    "import warnings # supress warnings\n",
    "warnings.filterwarnings('ignore')\n",
    "\n",
    "from sklearn.ensemble import RandomForestClassifier, AdaBoostClassifier, GradientBoostingClassifier, ExtraTreesClassifier, VotingClassifier, StackingClassifier\n",
    "from sklearn.discriminant_analysis import LinearDiscriminantAnalysis\n",
    "from sklearn.linear_model import LogisticRegression\n",
    "from sklearn.neighbors import KNeighborsClassifier\n",
    "from sklearn.tree import DecisionTreeClassifier\n",
    "from sklearn.neural_network import MLPClassifier\n",
    "from sklearn.svm import SVC, NuSVC\n",
    "from xgboost import XGBClassifier\n",
    "from lightgbm import LGBMClassifier\n",
    "from sklearn.model_selection import GridSearchCV, cross_val_score, StratifiedKFold, learning_curve\n",
    "from sklearn.impute import KNNImputer\n",
    "from sklearn.naive_bayes import GaussianNB\n",
    "from sklearn.metrics import f1_score, accuracy_score, roc_curve, roc_auc_score, classification_report, precision_recall_fscore_support"
   ]
  },
  {
   "cell_type": "code",
   "execution_count": 3,
   "id": "ce2eab49",
   "metadata": {
    "execution": {
     "iopub.execute_input": "2022-11-27T19:41:18.391238Z",
     "iopub.status.busy": "2022-11-27T19:41:18.390869Z",
     "iopub.status.idle": "2022-11-27T19:41:18.444687Z",
     "shell.execute_reply": "2022-11-27T19:41:18.443903Z"
    },
    "papermill": {
     "duration": 0.071867,
     "end_time": "2022-11-27T19:41:18.447023",
     "exception": false,
     "start_time": "2022-11-27T19:41:18.375156",
     "status": "completed"
    },
    "tags": []
   },
   "outputs": [
    {
     "data": {
      "text/html": [
       "<div>\n",
       "<style scoped>\n",
       "    .dataframe tbody tr th:only-of-type {\n",
       "        vertical-align: middle;\n",
       "    }\n",
       "\n",
       "    .dataframe tbody tr th {\n",
       "        vertical-align: top;\n",
       "    }\n",
       "\n",
       "    .dataframe thead th {\n",
       "        text-align: right;\n",
       "    }\n",
       "</style>\n",
       "<table border=\"1\" class=\"dataframe\">\n",
       "  <thead>\n",
       "    <tr style=\"text-align: right;\">\n",
       "      <th></th>\n",
       "      <th>age</th>\n",
       "      <th>bp</th>\n",
       "      <th>sg</th>\n",
       "      <th>al</th>\n",
       "      <th>su</th>\n",
       "      <th>rbc</th>\n",
       "      <th>pc</th>\n",
       "      <th>pcc</th>\n",
       "      <th>ba</th>\n",
       "      <th>bgr</th>\n",
       "      <th>...</th>\n",
       "      <th>pcv</th>\n",
       "      <th>wc</th>\n",
       "      <th>rc</th>\n",
       "      <th>htn</th>\n",
       "      <th>dm</th>\n",
       "      <th>cad</th>\n",
       "      <th>appet</th>\n",
       "      <th>pe</th>\n",
       "      <th>ane</th>\n",
       "      <th>classification</th>\n",
       "    </tr>\n",
       "  </thead>\n",
       "  <tbody>\n",
       "    <tr>\n",
       "      <th>0</th>\n",
       "      <td>48.0</td>\n",
       "      <td>80.0</td>\n",
       "      <td>1.020</td>\n",
       "      <td>1.0</td>\n",
       "      <td>0.0</td>\n",
       "      <td>1</td>\n",
       "      <td>1</td>\n",
       "      <td>0</td>\n",
       "      <td>0</td>\n",
       "      <td>121.000000</td>\n",
       "      <td>...</td>\n",
       "      <td>44.0</td>\n",
       "      <td>7800.0</td>\n",
       "      <td>5.200000</td>\n",
       "      <td>1</td>\n",
       "      <td>1</td>\n",
       "      <td>0</td>\n",
       "      <td>0</td>\n",
       "      <td>0</td>\n",
       "      <td>0</td>\n",
       "      <td>0</td>\n",
       "    </tr>\n",
       "    <tr>\n",
       "      <th>1</th>\n",
       "      <td>7.0</td>\n",
       "      <td>50.0</td>\n",
       "      <td>1.020</td>\n",
       "      <td>4.0</td>\n",
       "      <td>0.0</td>\n",
       "      <td>1</td>\n",
       "      <td>1</td>\n",
       "      <td>0</td>\n",
       "      <td>0</td>\n",
       "      <td>148.036517</td>\n",
       "      <td>...</td>\n",
       "      <td>38.0</td>\n",
       "      <td>6000.0</td>\n",
       "      <td>4.707435</td>\n",
       "      <td>0</td>\n",
       "      <td>0</td>\n",
       "      <td>0</td>\n",
       "      <td>0</td>\n",
       "      <td>0</td>\n",
       "      <td>0</td>\n",
       "      <td>0</td>\n",
       "    </tr>\n",
       "    <tr>\n",
       "      <th>2</th>\n",
       "      <td>62.0</td>\n",
       "      <td>80.0</td>\n",
       "      <td>1.010</td>\n",
       "      <td>2.0</td>\n",
       "      <td>3.0</td>\n",
       "      <td>1</td>\n",
       "      <td>1</td>\n",
       "      <td>0</td>\n",
       "      <td>0</td>\n",
       "      <td>423.000000</td>\n",
       "      <td>...</td>\n",
       "      <td>31.0</td>\n",
       "      <td>7500.0</td>\n",
       "      <td>4.707435</td>\n",
       "      <td>0</td>\n",
       "      <td>1</td>\n",
       "      <td>0</td>\n",
       "      <td>1</td>\n",
       "      <td>0</td>\n",
       "      <td>1</td>\n",
       "      <td>0</td>\n",
       "    </tr>\n",
       "    <tr>\n",
       "      <th>3</th>\n",
       "      <td>48.0</td>\n",
       "      <td>70.0</td>\n",
       "      <td>1.005</td>\n",
       "      <td>4.0</td>\n",
       "      <td>0.0</td>\n",
       "      <td>1</td>\n",
       "      <td>0</td>\n",
       "      <td>1</td>\n",
       "      <td>0</td>\n",
       "      <td>117.000000</td>\n",
       "      <td>...</td>\n",
       "      <td>32.0</td>\n",
       "      <td>6700.0</td>\n",
       "      <td>3.900000</td>\n",
       "      <td>1</td>\n",
       "      <td>0</td>\n",
       "      <td>0</td>\n",
       "      <td>1</td>\n",
       "      <td>1</td>\n",
       "      <td>1</td>\n",
       "      <td>0</td>\n",
       "    </tr>\n",
       "    <tr>\n",
       "      <th>4</th>\n",
       "      <td>51.0</td>\n",
       "      <td>80.0</td>\n",
       "      <td>1.010</td>\n",
       "      <td>2.0</td>\n",
       "      <td>0.0</td>\n",
       "      <td>1</td>\n",
       "      <td>1</td>\n",
       "      <td>0</td>\n",
       "      <td>0</td>\n",
       "      <td>106.000000</td>\n",
       "      <td>...</td>\n",
       "      <td>35.0</td>\n",
       "      <td>7300.0</td>\n",
       "      <td>4.600000</td>\n",
       "      <td>0</td>\n",
       "      <td>0</td>\n",
       "      <td>0</td>\n",
       "      <td>0</td>\n",
       "      <td>0</td>\n",
       "      <td>0</td>\n",
       "      <td>0</td>\n",
       "    </tr>\n",
       "    <tr>\n",
       "      <th>...</th>\n",
       "      <td>...</td>\n",
       "      <td>...</td>\n",
       "      <td>...</td>\n",
       "      <td>...</td>\n",
       "      <td>...</td>\n",
       "      <td>...</td>\n",
       "      <td>...</td>\n",
       "      <td>...</td>\n",
       "      <td>...</td>\n",
       "      <td>...</td>\n",
       "      <td>...</td>\n",
       "      <td>...</td>\n",
       "      <td>...</td>\n",
       "      <td>...</td>\n",
       "      <td>...</td>\n",
       "      <td>...</td>\n",
       "      <td>...</td>\n",
       "      <td>...</td>\n",
       "      <td>...</td>\n",
       "      <td>...</td>\n",
       "      <td>...</td>\n",
       "    </tr>\n",
       "    <tr>\n",
       "      <th>395</th>\n",
       "      <td>55.0</td>\n",
       "      <td>80.0</td>\n",
       "      <td>1.020</td>\n",
       "      <td>0.0</td>\n",
       "      <td>0.0</td>\n",
       "      <td>1</td>\n",
       "      <td>1</td>\n",
       "      <td>0</td>\n",
       "      <td>0</td>\n",
       "      <td>140.000000</td>\n",
       "      <td>...</td>\n",
       "      <td>47.0</td>\n",
       "      <td>6700.0</td>\n",
       "      <td>4.900000</td>\n",
       "      <td>0</td>\n",
       "      <td>0</td>\n",
       "      <td>0</td>\n",
       "      <td>0</td>\n",
       "      <td>0</td>\n",
       "      <td>0</td>\n",
       "      <td>1</td>\n",
       "    </tr>\n",
       "    <tr>\n",
       "      <th>396</th>\n",
       "      <td>42.0</td>\n",
       "      <td>70.0</td>\n",
       "      <td>1.025</td>\n",
       "      <td>0.0</td>\n",
       "      <td>0.0</td>\n",
       "      <td>1</td>\n",
       "      <td>1</td>\n",
       "      <td>0</td>\n",
       "      <td>0</td>\n",
       "      <td>75.000000</td>\n",
       "      <td>...</td>\n",
       "      <td>54.0</td>\n",
       "      <td>7800.0</td>\n",
       "      <td>6.200000</td>\n",
       "      <td>0</td>\n",
       "      <td>0</td>\n",
       "      <td>0</td>\n",
       "      <td>0</td>\n",
       "      <td>0</td>\n",
       "      <td>0</td>\n",
       "      <td>1</td>\n",
       "    </tr>\n",
       "    <tr>\n",
       "      <th>397</th>\n",
       "      <td>12.0</td>\n",
       "      <td>80.0</td>\n",
       "      <td>1.020</td>\n",
       "      <td>0.0</td>\n",
       "      <td>0.0</td>\n",
       "      <td>1</td>\n",
       "      <td>1</td>\n",
       "      <td>0</td>\n",
       "      <td>0</td>\n",
       "      <td>100.000000</td>\n",
       "      <td>...</td>\n",
       "      <td>49.0</td>\n",
       "      <td>6600.0</td>\n",
       "      <td>5.400000</td>\n",
       "      <td>0</td>\n",
       "      <td>0</td>\n",
       "      <td>0</td>\n",
       "      <td>0</td>\n",
       "      <td>0</td>\n",
       "      <td>0</td>\n",
       "      <td>1</td>\n",
       "    </tr>\n",
       "    <tr>\n",
       "      <th>398</th>\n",
       "      <td>17.0</td>\n",
       "      <td>60.0</td>\n",
       "      <td>1.025</td>\n",
       "      <td>0.0</td>\n",
       "      <td>0.0</td>\n",
       "      <td>1</td>\n",
       "      <td>1</td>\n",
       "      <td>0</td>\n",
       "      <td>0</td>\n",
       "      <td>114.000000</td>\n",
       "      <td>...</td>\n",
       "      <td>51.0</td>\n",
       "      <td>7200.0</td>\n",
       "      <td>5.900000</td>\n",
       "      <td>0</td>\n",
       "      <td>0</td>\n",
       "      <td>0</td>\n",
       "      <td>0</td>\n",
       "      <td>0</td>\n",
       "      <td>0</td>\n",
       "      <td>1</td>\n",
       "    </tr>\n",
       "    <tr>\n",
       "      <th>399</th>\n",
       "      <td>58.0</td>\n",
       "      <td>80.0</td>\n",
       "      <td>1.025</td>\n",
       "      <td>0.0</td>\n",
       "      <td>0.0</td>\n",
       "      <td>1</td>\n",
       "      <td>1</td>\n",
       "      <td>0</td>\n",
       "      <td>0</td>\n",
       "      <td>131.000000</td>\n",
       "      <td>...</td>\n",
       "      <td>53.0</td>\n",
       "      <td>6800.0</td>\n",
       "      <td>6.100000</td>\n",
       "      <td>0</td>\n",
       "      <td>0</td>\n",
       "      <td>0</td>\n",
       "      <td>0</td>\n",
       "      <td>0</td>\n",
       "      <td>0</td>\n",
       "      <td>1</td>\n",
       "    </tr>\n",
       "  </tbody>\n",
       "</table>\n",
       "<p>400 rows × 25 columns</p>\n",
       "</div>"
      ],
      "text/plain": [
       "      age    bp     sg   al   su  rbc  pc  pcc  ba         bgr  ...   pcv  \\\n",
       "0    48.0  80.0  1.020  1.0  0.0    1   1    0   0  121.000000  ...  44.0   \n",
       "1     7.0  50.0  1.020  4.0  0.0    1   1    0   0  148.036517  ...  38.0   \n",
       "2    62.0  80.0  1.010  2.0  3.0    1   1    0   0  423.000000  ...  31.0   \n",
       "3    48.0  70.0  1.005  4.0  0.0    1   0    1   0  117.000000  ...  32.0   \n",
       "4    51.0  80.0  1.010  2.0  0.0    1   1    0   0  106.000000  ...  35.0   \n",
       "..    ...   ...    ...  ...  ...  ...  ..  ...  ..         ...  ...   ...   \n",
       "395  55.0  80.0  1.020  0.0  0.0    1   1    0   0  140.000000  ...  47.0   \n",
       "396  42.0  70.0  1.025  0.0  0.0    1   1    0   0   75.000000  ...  54.0   \n",
       "397  12.0  80.0  1.020  0.0  0.0    1   1    0   0  100.000000  ...  49.0   \n",
       "398  17.0  60.0  1.025  0.0  0.0    1   1    0   0  114.000000  ...  51.0   \n",
       "399  58.0  80.0  1.025  0.0  0.0    1   1    0   0  131.000000  ...  53.0   \n",
       "\n",
       "         wc        rc  htn  dm  cad  appet  pe  ane  classification  \n",
       "0    7800.0  5.200000    1   1    0      0   0    0               0  \n",
       "1    6000.0  4.707435    0   0    0      0   0    0               0  \n",
       "2    7500.0  4.707435    0   1    0      1   0    1               0  \n",
       "3    6700.0  3.900000    1   0    0      1   1    1               0  \n",
       "4    7300.0  4.600000    0   0    0      0   0    0               0  \n",
       "..      ...       ...  ...  ..  ...    ...  ..  ...             ...  \n",
       "395  6700.0  4.900000    0   0    0      0   0    0               1  \n",
       "396  7800.0  6.200000    0   0    0      0   0    0               1  \n",
       "397  6600.0  5.400000    0   0    0      0   0    0               1  \n",
       "398  7200.0  5.900000    0   0    0      0   0    0               1  \n",
       "399  6800.0  6.100000    0   0    0      0   0    0               1  \n",
       "\n",
       "[400 rows x 25 columns]"
      ]
     },
     "execution_count": 3,
     "metadata": {},
     "output_type": "execute_result"
    }
   ],
   "source": [
    "data=pd.read_csv('/kaggle/input/cleandatackd/cleandata.csv')\n",
    "data=data.drop(['Unnamed: 0'],axis=1)\n",
    "data"
   ]
  },
  {
   "cell_type": "markdown",
   "id": "bba8e5af",
   "metadata": {
    "papermill": {
     "duration": 0.01342,
     "end_time": "2022-11-27T19:41:18.474092",
     "exception": false,
     "start_time": "2022-11-27T19:41:18.460672",
     "status": "completed"
    },
    "tags": []
   },
   "source": [
    "# Hello, this is a notebook dedicated to making a classification model to deploy:\n",
    "\n",
    "I already did a notebook following a couple of articles, that work is mandatory.\n",
    "\n",
    "However, this notebook is purely my work, trying to create the best models possible following the remarks posted here https://www.kaggle.com/code/aziztaktak/academic-project-kidney-chronic-disease-articles"
   ]
  },
  {
   "cell_type": "markdown",
   "id": "93dbfc3b",
   "metadata": {
    "papermill": {
     "duration": 0.013158,
     "end_time": "2022-11-27T19:41:18.500655",
     "exception": false,
     "start_time": "2022-11-27T19:41:18.487497",
     "status": "completed"
    },
    "tags": []
   },
   "source": [
    "# NO PREPROCESSING HERE:\n",
    "\n",
    "Well a couple of steps of preprocessing, but this dataset has already delt with NaN values as well as encoding.\n",
    "Going to continue from there."
   ]
  },
  {
   "cell_type": "code",
   "execution_count": 4,
   "id": "a821883b",
   "metadata": {
    "execution": {
     "iopub.execute_input": "2022-11-27T19:41:18.529654Z",
     "iopub.status.busy": "2022-11-27T19:41:18.528941Z",
     "iopub.status.idle": "2022-11-27T19:41:18.536447Z",
     "shell.execute_reply": "2022-11-27T19:41:18.535153Z"
    },
    "papermill": {
     "duration": 0.02448,
     "end_time": "2022-11-27T19:41:18.538607",
     "exception": false,
     "start_time": "2022-11-27T19:41:18.514127",
     "status": "completed"
    },
    "tags": []
   },
   "outputs": [
    {
     "name": "stdout",
     "output_type": "stream",
     "text": [
      "(400, 24) (400,)\n"
     ]
    }
   ],
   "source": [
    "X = data.iloc[:,:-1].values\n",
    "Y = data.iloc[:,-1].values\n",
    "print(X.shape, Y.shape)"
   ]
  },
  {
   "cell_type": "code",
   "execution_count": 5,
   "id": "6eb4439e",
   "metadata": {
    "execution": {
     "iopub.execute_input": "2022-11-27T19:41:18.569329Z",
     "iopub.status.busy": "2022-11-27T19:41:18.568526Z",
     "iopub.status.idle": "2022-11-27T19:41:18.774858Z",
     "shell.execute_reply": "2022-11-27T19:41:18.773565Z"
    },
    "papermill": {
     "duration": 0.224263,
     "end_time": "2022-11-27T19:41:18.777327",
     "exception": false,
     "start_time": "2022-11-27T19:41:18.553064",
     "status": "completed"
    },
    "tags": []
   },
   "outputs": [
    {
     "data": {
      "image/png": "[encoded data removed]",
      "text/plain": [
       "<Figure size 360x360 with 1 Axes>"
      ]
     },
     "metadata": {
      "needs_background": "light"
     },
     "output_type": "display_data"
    }
   ],
   "source": [
    "plt.figure(figsize=(5, 5))\n",
    "\n",
    "sns.countplot(data = data , x = 'classification' , order = data['classification'].value_counts().index)\n",
    "sns.despine(top=True, right=True, left=True, bottom=False)\n",
    "\n",
    "plt.xticks(ticks= [0,1], labels=['CKD', 'NOT CKD'], fontsize=12)\n",
    "plt.yticks([])\n",
    "plt.title('Number of Samples per Class' , fontsize=15 , pad=20 , fontstyle='italic' , fontweight = 800)\n",
    "plt.xlabel('Type of Diagnosis' , fontsize=14 , fontweight=400, labelpad=16)\n",
    "plt.ylabel('')\n",
    "ax = plt.gca()\n",
    "\n",
    "for p in ax.patches:\n",
    "    ax.annotate(\"%.1f%%\" % (100*float(p.get_height()/data.shape[0])), (p.get_x() + p.get_width() / 2., abs(p.get_height())), ha='center', \n",
    "                va='bottom', color='black', xytext=(0,2), rotation='horizontal', textcoords='offset points', fontsize = 12, fontstyle = 'italic')\n",
    "\n",
    "# plt.savefig(\"samples.png\")\n",
    "plt.tight_layout()"
   ]
  },
  {
   "cell_type": "markdown",
   "id": "965f9627",
   "metadata": {
    "papermill": {
     "duration": 0.015366,
     "end_time": "2022-11-27T19:41:18.807831",
     "exception": false,
     "start_time": "2022-11-27T19:41:18.792465",
     "status": "completed"
    },
    "tags": []
   },
   "source": [
    "In the other article I used the Robustscaler, which is overall a good scaling method, **However**, it uses the IQR method which in this case not great for some values. So I will be resorting to the minmax scaler instead."
   ]
  },
  {
   "cell_type": "code",
   "execution_count": 6,
   "id": "8568fb07",
   "metadata": {
    "execution": {
     "iopub.execute_input": "2022-11-27T19:41:18.839709Z",
     "iopub.status.busy": "2022-11-27T19:41:18.838440Z",
     "iopub.status.idle": "2022-11-27T19:41:18.847635Z",
     "shell.execute_reply": "2022-11-27T19:41:18.846069Z"
    },
    "papermill": {
     "duration": 0.027475,
     "end_time": "2022-11-27T19:41:18.850040",
     "exception": false,
     "start_time": "2022-11-27T19:41:18.822565",
     "status": "completed"
    },
    "tags": []
   },
   "outputs": [
    {
     "name": "stdout",
     "output_type": "stream",
     "text": [
      "[[0.52272727 0.23076923 0.75       ... 0.         0.         0.        ]\n",
      " [0.05681818 0.         0.75       ... 0.         0.         0.        ]\n",
      " [0.68181818 0.23076923 0.25       ... 1.         0.         1.        ]\n",
      " ...\n",
      " [0.11363636 0.23076923 0.75       ... 0.         0.         0.        ]\n",
      " [0.17045455 0.07692308 1.         ... 0.         0.         0.        ]\n",
      " [0.63636364 0.23076923 1.         ... 0.         0.         0.        ]]\n"
     ]
    }
   ],
   "source": [
    "from sklearn.preprocessing import MinMaxScaler\n",
    "scaler = MinMaxScaler()\n",
    "new_features = scaler.fit_transform(X)\n",
    "print(new_features)"
   ]
  },
  {
   "cell_type": "code",
   "execution_count": 7,
   "id": "4a5283e7",
   "metadata": {
    "execution": {
     "iopub.execute_input": "2022-11-27T19:41:18.881350Z",
     "iopub.status.busy": "2022-11-27T19:41:18.880525Z",
     "iopub.status.idle": "2022-11-27T19:41:18.888080Z",
     "shell.execute_reply": "2022-11-27T19:41:18.887073Z"
    },
    "papermill": {
     "duration": 0.02571,
     "end_time": "2022-11-27T19:41:18.890357",
     "exception": false,
     "start_time": "2022-11-27T19:41:18.864647",
     "status": "completed"
    },
    "tags": []
   },
   "outputs": [],
   "source": [
    "from sklearn.model_selection import train_test_split\n",
    "\n",
    "x_train, x_test, y_train, y_test = train_test_split(new_features, Y, test_size = 0.25, random_state = 0, stratify=Y)\n",
    "classes = ['CKD', 'NCKD']"
   ]
  },
  {
   "cell_type": "markdown",
   "id": "e7814c30",
   "metadata": {
    "papermill": {
     "duration": 0.01398,
     "end_time": "2022-11-27T19:41:18.918724",
     "exception": false,
     "start_time": "2022-11-27T19:41:18.904744",
     "status": "completed"
    },
    "tags": []
   },
   "source": [
    "# Modeling without SMOTE:\n",
    "\n",
    "So one of the things i noticed is the imbalanced data, which i'm going to deal with later on, but first I wanna see the model's performance without it & compare it after oversampling, more details below."
   ]
  },
  {
   "cell_type": "markdown",
   "id": "7e766cc6",
   "metadata": {
    "papermill": {
     "duration": 0.014054,
     "end_time": "2022-11-27T19:41:18.947256",
     "exception": false,
     "start_time": "2022-11-27T19:41:18.933202",
     "status": "completed"
    },
    "tags": []
   },
   "source": [
    "**KNN**"
   ]
  },
  {
   "cell_type": "code",
   "execution_count": 8,
   "id": "5cbf859b",
   "metadata": {
    "execution": {
     "iopub.execute_input": "2022-11-27T19:41:18.978223Z",
     "iopub.status.busy": "2022-11-27T19:41:18.977431Z",
     "iopub.status.idle": "2022-11-27T19:41:19.397393Z",
     "shell.execute_reply": "2022-11-27T19:41:19.396182Z"
    },
    "papermill": {
     "duration": 0.437938,
     "end_time": "2022-11-27T19:41:19.399670",
     "exception": false,
     "start_time": "2022-11-27T19:41:18.961732",
     "status": "completed"
    },
    "tags": []
   },
   "outputs": [
    {
     "name": "stdout",
     "output_type": "stream",
     "text": [
      "              precision    recall  f1-score   support\n",
      "\n",
      "           0       1.00      0.95      0.98        63\n",
      "           1       0.93      1.00      0.96        37\n",
      "\n",
      "    accuracy                           0.97       100\n",
      "   macro avg       0.96      0.98      0.97       100\n",
      "weighted avg       0.97      0.97      0.97       100\n",
      "\n",
      "----------------- Overall Results -----------------\n",
      "Accuracy Result: 97.00%\n",
      "Precision Result: 96.25%\n",
      "Recall Result: 97.62%\n",
      "F1-Score Result: 96.83%\n"
     ]
    },
    {
     "data": {
      "image/png": "[encoded data removed]",
      "text/plain": [
       "<Figure size 720x360 with 1 Axes>"
      ]
     },
     "metadata": {
      "needs_background": "light"
     },
     "output_type": "display_data"
    },
    {
     "data": {
      "image/png": "[encoded data removed]",
      "text/plain": [
       "<Figure size 720x360 with 1 Axes>"
      ]
     },
     "metadata": {
      "needs_background": "light"
     },
     "output_type": "display_data"
    },
    {
     "data": {
      "image/png": "[encoded data removed]",
      "text/plain": [
       "<Figure size 720x360 with 1 Axes>"
      ]
     },
     "metadata": {
      "needs_background": "light"
     },
     "output_type": "display_data"
    }
   ],
   "source": [
    "# model fit\n",
    "knn = KNeighborsClassifier()\n",
    "knn.fit(x_train, y_train)\n",
    "\n",
    "# prediction\n",
    "preds = knn.predict(x_test)\n",
    "print(classification_report(y_test, preds))\n",
    "\n",
    "acc = accuracy_score(y_test, preds)\n",
    "results_all = precision_recall_fscore_support(y_test, preds, average='macro', zero_division=1)\n",
    "results_class = precision_recall_fscore_support(y_test, preds, average=None, zero_division=1)\n",
    "metric_columns = ['Precision','Recall', 'F1-Score','S']\n",
    "all_df = pd.concat([pd.DataFrame(list(results_class)).T,pd.DataFrame(list(results_all)).T])\n",
    "all_df.columns = metric_columns\n",
    "all_df.index = classes+['Total']\n",
    "\n",
    "def metrics_plot(df,metric):\n",
    "    plt.figure(figsize=(10, 5))\n",
    "    ax = sns.barplot(data=df, x=df.index, y=metric, palette = \"Blues_d\")\n",
    "    # Bar Labels\n",
    "    for p in ax.patches:\n",
    "        ax.annotate(\"%.1f%%\" % (100*p.get_height()), (p.get_x() + p.get_width() / 2., abs(p.get_height())),\n",
    "        ha='center', va='bottom', color='black', xytext=(-3, 5),rotation = 'horizontal',textcoords='offset points')\n",
    "    sns.despine(top=True, right=True, left=True, bottom=False)\n",
    "    ax.set_xlabel('Class',fontsize = 14)\n",
    "    ax.set_ylabel(metric,fontsize = 14)\n",
    "    ax.set(yticklabels=[])\n",
    "    ax.axes.get_yaxis().set_visible(False) \n",
    "    plt.title(metric+ ' Results per Class', fontsize = 14);\n",
    "\n",
    "metrics_plot(all_df, 'Precision')       # Results by Class\n",
    "metrics_plot(all_df, 'Recall')          # Results by Class\n",
    "metrics_plot(all_df, 'F1-Score')         # Results by Class\n",
    "print('----------------- Overall Results -----------------')\n",
    "print('Accuracy Result: %.2f%%'%(acc*100))                   # Accuracy of the whole Dataset\n",
    "print('Precision Result: %.2f%%'%(all_df.iloc[2,0]*100))     # Precision of the whole Dataset\n",
    "print('Recall Result: %.2f%%'%(all_df.iloc[2,1]*100))        # Recall of the whole Dataset\n",
    "print('F1-Score Result: %.2f%%'%(all_df.iloc[2,2]*100))      # F1-Score of the whole Dataset"
   ]
  },
  {
   "cell_type": "markdown",
   "id": "fdf2f2d8",
   "metadata": {
    "papermill": {
     "duration": 0.014893,
     "end_time": "2022-11-27T19:41:19.430307",
     "exception": false,
     "start_time": "2022-11-27T19:41:19.415414",
     "status": "completed"
    },
    "tags": []
   },
   "source": [
    "**SVC**"
   ]
  },
  {
   "cell_type": "code",
   "execution_count": 9,
   "id": "9c78f902",
   "metadata": {
    "execution": {
     "iopub.execute_input": "2022-11-27T19:41:19.462779Z",
     "iopub.status.busy": "2022-11-27T19:41:19.462362Z",
     "iopub.status.idle": "2022-11-27T19:41:19.946958Z",
     "shell.execute_reply": "2022-11-27T19:41:19.945931Z"
    },
    "papermill": {
     "duration": 0.503968,
     "end_time": "2022-11-27T19:41:19.949592",
     "exception": false,
     "start_time": "2022-11-27T19:41:19.445624",
     "status": "completed"
    },
    "tags": []
   },
   "outputs": [
    {
     "name": "stdout",
     "output_type": "stream",
     "text": [
      "              precision    recall  f1-score   support\n",
      "\n",
      "           0       1.00      0.98      0.99        63\n",
      "           1       0.97      1.00      0.99        37\n",
      "\n",
      "    accuracy                           0.99       100\n",
      "   macro avg       0.99      0.99      0.99       100\n",
      "weighted avg       0.99      0.99      0.99       100\n",
      "\n",
      "----------------- Overall Results -----------------\n",
      "Accuracy Result: 99.00%\n",
      "Precision Result: 98.68%\n",
      "Recall Result: 99.21%\n",
      "F1-Score Result: 98.93%\n"
     ]
    },
    {
     "data": {
      "image/png": "[encoded data removed]",
      "text/plain": [
       "<Figure size 720x360 with 1 Axes>"
      ]
     },
     "metadata": {
      "needs_background": "light"
     },
     "output_type": "display_data"
    },
    {
     "data": {
      "image/png": "[encoded data removed]",
      "text/plain": [
       "<Figure size 720x360 with 1 Axes>"
      ]
     },
     "metadata": {
      "needs_background": "light"
     },
     "output_type": "display_data"
    },
    {
     "data": {
      "image/png": "[encoded data removed]",
      "text/plain": [
       "<Figure size 720x360 with 1 Axes>"
      ]
     },
     "metadata": {
      "needs_background": "light"
     },
     "output_type": "display_data"
    }
   ],
   "source": [
    "# model fit\n",
    "knn = SVC(gamma=0.1, C=1000)\n",
    "knn.fit(x_train, y_train)\n",
    "\n",
    "# prediction\n",
    "preds = knn.predict(x_test)\n",
    "print(classification_report(y_test, preds))\n",
    "\n",
    "acc = accuracy_score(y_test, preds)\n",
    "results_all = precision_recall_fscore_support(y_test, preds, average='macro', zero_division=1)\n",
    "results_class = precision_recall_fscore_support(y_test, preds, average=None, zero_division=1)\n",
    "metric_columns = ['Precision','Recall', 'F1-Score','S']\n",
    "all_df = pd.concat([pd.DataFrame(list(results_class)).T,pd.DataFrame(list(results_all)).T])\n",
    "all_df.columns = metric_columns\n",
    "all_df.index = classes+['Total']\n",
    "\n",
    "def metrics_plot(df,metric):\n",
    "    plt.figure(figsize=(10, 5))\n",
    "    ax = sns.barplot(data=df, x=df.index, y=metric, palette = \"Blues_d\")\n",
    "    # Bar Labels\n",
    "    for p in ax.patches:\n",
    "        ax.annotate(\"%.1f%%\" % (100*p.get_height()), (p.get_x() + p.get_width() / 2., abs(p.get_height())),\n",
    "        ha='center', va='bottom', color='black', xytext=(-3, 5),rotation = 'horizontal',textcoords='offset points')\n",
    "    sns.despine(top=True, right=True, left=True, bottom=False)\n",
    "    ax.set_xlabel('Class',fontsize = 14)\n",
    "    ax.set_ylabel(metric,fontsize = 14)\n",
    "    ax.set(yticklabels=[])\n",
    "    ax.axes.get_yaxis().set_visible(False) \n",
    "    plt.title(metric+ ' Results per Class', fontsize = 14);\n",
    "\n",
    "metrics_plot(all_df, 'Precision')       # Results by Class\n",
    "metrics_plot(all_df, 'Recall')          # Results by Class\n",
    "metrics_plot(all_df, 'F1-Score')         # Results by Class\n",
    "print('----------------- Overall Results -----------------')\n",
    "print('Accuracy Result: %.2f%%'%(acc*100))                   # Accuracy of the whole Dataset\n",
    "print('Precision Result: %.2f%%'%(all_df.iloc[2,0]*100))     # Precision of the whole Dataset\n",
    "print('Recall Result: %.2f%%'%(all_df.iloc[2,1]*100))        # Recall of the whole Dataset\n",
    "print('F1-Score Result: %.2f%%'%(all_df.iloc[2,2]*100))      # F1-Score of the whole Dataset"
   ]
  },
  {
   "cell_type": "markdown",
   "id": "bebc44d8",
   "metadata": {
    "papermill": {
     "duration": 0.016184,
     "end_time": "2022-11-27T19:41:19.982551",
     "exception": false,
     "start_time": "2022-11-27T19:41:19.966367",
     "status": "completed"
    },
    "tags": []
   },
   "source": [
    "**NaiveBayes**"
   ]
  },
  {
   "cell_type": "code",
   "execution_count": 10,
   "id": "276855f3",
   "metadata": {
    "execution": {
     "iopub.execute_input": "2022-11-27T19:41:20.017005Z",
     "iopub.status.busy": "2022-11-27T19:41:20.016357Z",
     "iopub.status.idle": "2022-11-27T19:41:20.487050Z",
     "shell.execute_reply": "2022-11-27T19:41:20.486015Z"
    },
    "papermill": {
     "duration": 0.490819,
     "end_time": "2022-11-27T19:41:20.489378",
     "exception": false,
     "start_time": "2022-11-27T19:41:19.998559",
     "status": "completed"
    },
    "tags": []
   },
   "outputs": [
    {
     "name": "stdout",
     "output_type": "stream",
     "text": [
      "              precision    recall  f1-score   support\n",
      "\n",
      "           0       1.00      0.92      0.96        63\n",
      "           1       0.88      1.00      0.94        37\n",
      "\n",
      "    accuracy                           0.95       100\n",
      "   macro avg       0.94      0.96      0.95       100\n",
      "weighted avg       0.96      0.95      0.95       100\n",
      "\n",
      "----------------- Overall Results -----------------\n",
      "Accuracy Result: 95.00%\n",
      "Precision Result: 94.05%\n",
      "Recall Result: 96.03%\n",
      "F1-Score Result: 94.77%\n"
     ]
    },
    {
     "data": {
      "image/png": "[encoded data removed]",
      "text/plain": [
       "<Figure size 720x360 with 1 Axes>"
      ]
     },
     "metadata": {
      "needs_background": "light"
     },
     "output_type": "display_data"
    },
    {
     "data": {
      "image/png": "[encoded data removed]",
      "text/plain": [
       "<Figure size 720x360 with 1 Axes>"
      ]
     },
     "metadata": {
      "needs_background": "light"
     },
     "output_type": "display_data"
    },
    {
     "data": {
      "image/png": "[encoded data removed]",
      "text/plain": [
       "<Figure size 720x360 with 1 Axes>"
      ]
     },
     "metadata": {
      "needs_background": "light"
     },
     "output_type": "display_data"
    }
   ],
   "source": [
    "# model fit\n",
    "knn = GaussianNB()\n",
    "knn.fit(x_train, y_train)\n",
    "\n",
    "# prediction\n",
    "preds = knn.predict(x_test)\n",
    "print(classification_report(y_test, preds))\n",
    "\n",
    "acc = accuracy_score(y_test, preds)\n",
    "results_all = precision_recall_fscore_support(y_test, preds, average='macro', zero_division=1)\n",
    "results_class = precision_recall_fscore_support(y_test, preds, average=None, zero_division=1)\n",
    "metric_columns = ['Precision','Recall', 'F1-Score','S']\n",
    "all_df = pd.concat([pd.DataFrame(list(results_class)).T,pd.DataFrame(list(results_all)).T])\n",
    "all_df.columns = metric_columns\n",
    "all_df.index = classes+['Total']\n",
    "\n",
    "def metrics_plot(df,metric):\n",
    "    plt.figure(figsize=(10, 5))\n",
    "    ax = sns.barplot(data=df, x=df.index, y=metric, palette = \"Blues_d\")\n",
    "    # Bar Labels\n",
    "    for p in ax.patches:\n",
    "        ax.annotate(\"%.1f%%\" % (100*p.get_height()), (p.get_x() + p.get_width() / 2., abs(p.get_height())),\n",
    "        ha='center', va='bottom', color='black', xytext=(-3, 5),rotation = 'horizontal',textcoords='offset points')\n",
    "    sns.despine(top=True, right=True, left=True, bottom=False)\n",
    "    ax.set_xlabel('Class',fontsize = 14)\n",
    "    ax.set_ylabel(metric,fontsize = 14)\n",
    "    ax.set(yticklabels=[])\n",
    "    ax.axes.get_yaxis().set_visible(False) \n",
    "    plt.title(metric+ ' Results per Class', fontsize = 14);\n",
    "\n",
    "metrics_plot(all_df, 'Precision')       # Results by Class\n",
    "metrics_plot(all_df, 'Recall')          # Results by Class\n",
    "metrics_plot(all_df, 'F1-Score')         # Results by Class\n",
    "print('----------------- Overall Results -----------------')\n",
    "print('Accuracy Result: %.2f%%'%(acc*100))                   # Accuracy of the whole Dataset\n",
    "print('Precision Result: %.2f%%'%(all_df.iloc[2,0]*100))     # Precision of the whole Dataset\n",
    "print('Recall Result: %.2f%%'%(all_df.iloc[2,1]*100))        # Recall of the whole Dataset\n",
    "print('F1-Score Result: %.2f%%'%(all_df.iloc[2,2]*100))      # F1-Score of the whole Dataset"
   ]
  },
  {
   "cell_type": "markdown",
   "id": "6b2d4dfe",
   "metadata": {
    "papermill": {
     "duration": 0.016519,
     "end_time": "2022-11-27T19:41:20.523157",
     "exception": false,
     "start_time": "2022-11-27T19:41:20.506638",
     "status": "completed"
    },
    "tags": []
   },
   "source": [
    "**DecisionTreeClassifier()**"
   ]
  },
  {
   "cell_type": "code",
   "execution_count": 11,
   "id": "bc3beac3",
   "metadata": {
    "execution": {
     "iopub.execute_input": "2022-11-27T19:41:20.559049Z",
     "iopub.status.busy": "2022-11-27T19:41:20.558661Z",
     "iopub.status.idle": "2022-11-27T19:41:21.047071Z",
     "shell.execute_reply": "2022-11-27T19:41:21.045845Z"
    },
    "papermill": {
     "duration": 0.509132,
     "end_time": "2022-11-27T19:41:21.049294",
     "exception": false,
     "start_time": "2022-11-27T19:41:20.540162",
     "status": "completed"
    },
    "tags": []
   },
   "outputs": [
    {
     "name": "stdout",
     "output_type": "stream",
     "text": [
      "              precision    recall  f1-score   support\n",
      "\n",
      "           0       0.97      0.97      0.97        63\n",
      "           1       0.95      0.95      0.95        37\n",
      "\n",
      "    accuracy                           0.96       100\n",
      "   macro avg       0.96      0.96      0.96       100\n",
      "weighted avg       0.96      0.96      0.96       100\n",
      "\n",
      "----------------- Overall Results -----------------\n",
      "Accuracy Result: 96.00%\n",
      "Precision Result: 95.71%\n",
      "Recall Result: 95.71%\n",
      "F1-Score Result: 95.71%\n"
     ]
    },
    {
     "data": {
      "image/png": "[encoded data removed]",
      "text/plain": [
       "<Figure size 720x360 with 1 Axes>"
      ]
     },
     "metadata": {
      "needs_background": "light"
     },
     "output_type": "display_data"
    },
    {
     "data": {
      "image/png": "[encoded data removed]",
      "text/plain": [
       "<Figure size 720x360 with 1 Axes>"
      ]
     },
     "metadata": {
      "needs_background": "light"
     },
     "output_type": "display_data"
    },
    {
     "data": {
      "image/png": "[encoded data removed]",
      "text/plain": [
       "<Figure size 720x360 with 1 Axes>"
      ]
     },
     "metadata": {
      "needs_background": "light"
     },
     "output_type": "display_data"
    }
   ],
   "source": [
    "# model fit\n",
    "knn = DecisionTreeClassifier()\n",
    "knn.fit(x_train, y_train)\n",
    "\n",
    "# prediction\n",
    "preds = knn.predict(x_test)\n",
    "print(classification_report(y_test, preds))\n",
    "\n",
    "acc = accuracy_score(y_test, preds)\n",
    "results_all = precision_recall_fscore_support(y_test, preds, average='macro', zero_division=1)\n",
    "results_class = precision_recall_fscore_support(y_test, preds, average=None, zero_division=1)\n",
    "metric_columns = ['Precision','Recall', 'F1-Score','S']\n",
    "all_df = pd.concat([pd.DataFrame(list(results_class)).T,pd.DataFrame(list(results_all)).T])\n",
    "all_df.columns = metric_columns\n",
    "all_df.index = classes+['Total']\n",
    "\n",
    "def metrics_plot(df,metric):\n",
    "    plt.figure(figsize=(10, 5))\n",
    "    ax = sns.barplot(data=df, x=df.index, y=metric, palette = \"Blues_d\")\n",
    "    # Bar Labels\n",
    "    for p in ax.patches:\n",
    "        ax.annotate(\"%.1f%%\" % (100*p.get_height()), (p.get_x() + p.get_width() / 2., abs(p.get_height())),\n",
    "        ha='center', va='bottom', color='black', xytext=(-3, 5),rotation = 'horizontal',textcoords='offset points')\n",
    "    sns.despine(top=True, right=True, left=True, bottom=False)\n",
    "    ax.set_xlabel('Class',fontsize = 14)\n",
    "    ax.set_ylabel(metric,fontsize = 14)\n",
    "    ax.set(yticklabels=[])\n",
    "    ax.axes.get_yaxis().set_visible(False) \n",
    "    plt.title(metric+ ' Results per Class', fontsize = 14);\n",
    "\n",
    "metrics_plot(all_df, 'Precision')       # Results by Class\n",
    "metrics_plot(all_df, 'Recall')          # Results by Class\n",
    "metrics_plot(all_df, 'F1-Score')         # Results by Class\n",
    "print('----------------- Overall Results -----------------')\n",
    "print('Accuracy Result: %.2f%%'%(acc*100))                   # Accuracy of the whole Dataset\n",
    "print('Precision Result: %.2f%%'%(all_df.iloc[2,0]*100))     # Precision of the whole Dataset\n",
    "print('Recall Result: %.2f%%'%(all_df.iloc[2,1]*100))        # Recall of the whole Dataset\n",
    "print('F1-Score Result: %.2f%%'%(all_df.iloc[2,2]*100))      # F1-Score of the whole Dataset"
   ]
  },
  {
   "cell_type": "markdown",
   "id": "99872e2a",
   "metadata": {
    "papermill": {
     "duration": 0.018542,
     "end_time": "2022-11-27T19:41:21.085617",
     "exception": false,
     "start_time": "2022-11-27T19:41:21.067075",
     "status": "completed"
    },
    "tags": []
   },
   "source": [
    "**RandomForestClassifier**"
   ]
  },
  {
   "cell_type": "code",
   "execution_count": 12,
   "id": "0ae73e06",
   "metadata": {
    "execution": {
     "iopub.execute_input": "2022-11-27T19:41:21.123221Z",
     "iopub.status.busy": "2022-11-27T19:41:21.122514Z",
     "iopub.status.idle": "2022-11-27T19:41:21.763818Z",
     "shell.execute_reply": "2022-11-27T19:41:21.762439Z"
    },
    "papermill": {
     "duration": 0.662905,
     "end_time": "2022-11-27T19:41:21.766323",
     "exception": false,
     "start_time": "2022-11-27T19:41:21.103418",
     "status": "completed"
    },
    "tags": []
   },
   "outputs": [
    {
     "name": "stdout",
     "output_type": "stream",
     "text": [
      "              precision    recall  f1-score   support\n",
      "\n",
      "           0       0.98      1.00      0.99        63\n",
      "           1       1.00      0.97      0.99        37\n",
      "\n",
      "    accuracy                           0.99       100\n",
      "   macro avg       0.99      0.99      0.99       100\n",
      "weighted avg       0.99      0.99      0.99       100\n",
      "\n",
      "----------------- Overall Results -----------------\n",
      "Accuracy Result: 99.00%\n",
      "Precision Result: 99.22%\n",
      "Recall Result: 98.65%\n",
      "F1-Score Result: 98.92%\n"
     ]
    },
    {
     "data": {
      "image/png": "[encoded data removed]",
      "text/plain": [
       "<Figure size 720x360 with 1 Axes>"
      ]
     },
     "metadata": {
      "needs_background": "light"
     },
     "output_type": "display_data"
    },
    {
     "data": {
      "image/png": "[encoded data removed]",
      "text/plain": [
       "<Figure size 720x360 with 1 Axes>"
      ]
     },
     "metadata": {
      "needs_background": "light"
     },
     "output_type": "display_data"
    },
    {
     "data": {
      "image/png": "[encoded data removed]",
      "text/plain": [
       "<Figure size 720x360 with 1 Axes>"
      ]
     },
     "metadata": {
      "needs_background": "light"
     },
     "output_type": "display_data"
    }
   ],
   "source": [
    "# model fit\n",
    "knn = RandomForestClassifier()\n",
    "knn.fit(x_train, y_train)\n",
    "\n",
    "# prediction\n",
    "preds = knn.predict(x_test)\n",
    "print(classification_report(y_test, preds))\n",
    "\n",
    "acc = accuracy_score(y_test, preds)\n",
    "results_all = precision_recall_fscore_support(y_test, preds, average='macro', zero_division=1)\n",
    "results_class = precision_recall_fscore_support(y_test, preds, average=None, zero_division=1)\n",
    "metric_columns = ['Precision','Recall', 'F1-Score','S']\n",
    "all_df = pd.concat([pd.DataFrame(list(results_class)).T,pd.DataFrame(list(results_all)).T])\n",
    "all_df.columns = metric_columns\n",
    "all_df.index = classes+['Total']\n",
    "\n",
    "def metrics_plot(df,metric):\n",
    "    plt.figure(figsize=(10, 5))\n",
    "    ax = sns.barplot(data=df, x=df.index, y=metric, palette = \"Blues_d\")\n",
    "    # Bar Labels\n",
    "    for p in ax.patches:\n",
    "        ax.annotate(\"%.1f%%\" % (100*p.get_height()), (p.get_x() + p.get_width() / 2., abs(p.get_height())),\n",
    "        ha='center', va='bottom', color='black', xytext=(-3, 5),rotation = 'horizontal',textcoords='offset points')\n",
    "    sns.despine(top=True, right=True, left=True, bottom=False)\n",
    "    ax.set_xlabel('Class',fontsize = 14)\n",
    "    ax.set_ylabel(metric,fontsize = 14)\n",
    "    ax.set(yticklabels=[])\n",
    "    ax.axes.get_yaxis().set_visible(False) \n",
    "    plt.title(metric+ ' Results per Class', fontsize = 14);\n",
    "\n",
    "metrics_plot(all_df, 'Precision')       # Results by Class\n",
    "metrics_plot(all_df, 'Recall')          # Results by Class\n",
    "metrics_plot(all_df, 'F1-Score')         # Results by Class\n",
    "print('----------------- Overall Results -----------------')\n",
    "print('Accuracy Result: %.2f%%'%(acc*100))                   # Accuracy of the whole Dataset\n",
    "print('Precision Result: %.2f%%'%(all_df.iloc[2,0]*100))     # Precision of the whole Dataset\n",
    "print('Recall Result: %.2f%%'%(all_df.iloc[2,1]*100))        # Recall of the whole Dataset\n",
    "print('F1-Score Result: %.2f%%'%(all_df.iloc[2,2]*100))      # F1-Score of the whole Dataset"
   ]
  },
  {
   "cell_type": "markdown",
   "id": "1d7a4e35",
   "metadata": {
    "papermill": {
     "duration": 0.019078,
     "end_time": "2022-11-27T19:41:21.805321",
     "exception": false,
     "start_time": "2022-11-27T19:41:21.786243",
     "status": "completed"
    },
    "tags": []
   },
   "source": [
    "**AdaBoostClassifier**"
   ]
  },
  {
   "cell_type": "code",
   "execution_count": 13,
   "id": "8a7d4dbf",
   "metadata": {
    "execution": {
     "iopub.execute_input": "2022-11-27T19:41:21.845745Z",
     "iopub.status.busy": "2022-11-27T19:41:21.844927Z",
     "iopub.status.idle": "2022-11-27T19:41:22.431273Z",
     "shell.execute_reply": "2022-11-27T19:41:22.430256Z"
    },
    "papermill": {
     "duration": 0.60905,
     "end_time": "2022-11-27T19:41:22.433483",
     "exception": false,
     "start_time": "2022-11-27T19:41:21.824433",
     "status": "completed"
    },
    "tags": []
   },
   "outputs": [
    {
     "name": "stdout",
     "output_type": "stream",
     "text": [
      "              precision    recall  f1-score   support\n",
      "\n",
      "           0       0.98      0.97      0.98        63\n",
      "           1       0.95      0.97      0.96        37\n",
      "\n",
      "    accuracy                           0.97       100\n",
      "   macro avg       0.97      0.97      0.97       100\n",
      "weighted avg       0.97      0.97      0.97       100\n",
      "\n",
      "----------------- Overall Results -----------------\n",
      "Accuracy Result: 97.00%\n",
      "Precision Result: 96.56%\n",
      "Recall Result: 97.06%\n",
      "F1-Score Result: 96.80%\n"
     ]
    },
    {
     "data": {
      "image/png": "[encoded data removed]",
      "text/plain": [
       "<Figure size 720x360 with 1 Axes>"
      ]
     },
     "metadata": {
      "needs_background": "light"
     },
     "output_type": "display_data"
    },
    {
     "data": {
      "image/png": "[encoded data removed]",
      "text/plain": [
       "<Figure size 720x360 with 1 Axes>"
      ]
     },
     "metadata": {
      "needs_background": "light"
     },
     "output_type": "display_data"
    },
    {
     "data": {
      "image/png": "[encoded data removed]",
      "text/plain": [
       "<Figure size 720x360 with 1 Axes>"
      ]
     },
     "metadata": {
      "needs_background": "light"
     },
     "output_type": "display_data"
    }
   ],
   "source": [
    "# model fit\n",
    "knn = AdaBoostClassifier()\n",
    "knn.fit(x_train, y_train)\n",
    "\n",
    "# prediction\n",
    "preds = knn.predict(x_test)\n",
    "print(classification_report(y_test, preds))\n",
    "\n",
    "acc = accuracy_score(y_test, preds)\n",
    "results_all = precision_recall_fscore_support(y_test, preds, average='macro', zero_division=1)\n",
    "results_class = precision_recall_fscore_support(y_test, preds, average=None, zero_division=1)\n",
    "metric_columns = ['Precision','Recall', 'F1-Score','S']\n",
    "all_df = pd.concat([pd.DataFrame(list(results_class)).T,pd.DataFrame(list(results_all)).T])\n",
    "all_df.columns = metric_columns\n",
    "all_df.index = classes+['Total']\n",
    "\n",
    "def metrics_plot(df,metric):\n",
    "    plt.figure(figsize=(10, 5))\n",
    "    ax = sns.barplot(data=df, x=df.index, y=metric, palette = \"Blues_d\")\n",
    "    # Bar Labels\n",
    "    for p in ax.patches:\n",
    "        ax.annotate(\"%.1f%%\" % (100*p.get_height()), (p.get_x() + p.get_width() / 2., abs(p.get_height())),\n",
    "        ha='center', va='bottom', color='black', xytext=(-3, 5),rotation = 'horizontal',textcoords='offset points')\n",
    "    sns.despine(top=True, right=True, left=True, bottom=False)\n",
    "    ax.set_xlabel('Class',fontsize = 14)\n",
    "    ax.set_ylabel(metric,fontsize = 14)\n",
    "    ax.set(yticklabels=[])\n",
    "    ax.axes.get_yaxis().set_visible(False) \n",
    "    plt.title(metric+ ' Results per Class', fontsize = 14);\n",
    "\n",
    "metrics_plot(all_df, 'Precision')       # Results by Class\n",
    "metrics_plot(all_df, 'Recall')          # Results by Class\n",
    "metrics_plot(all_df, 'F1-Score')         # Results by Class\n",
    "print('----------------- Overall Results -----------------')\n",
    "print('Accuracy Result: %.2f%%'%(acc*100))                   # Accuracy of the whole Dataset\n",
    "print('Precision Result: %.2f%%'%(all_df.iloc[2,0]*100))     # Precision of the whole Dataset\n",
    "print('Recall Result: %.2f%%'%(all_df.iloc[2,1]*100))        # Recall of the whole Dataset\n",
    "print('F1-Score Result: %.2f%%'%(all_df.iloc[2,2]*100))      # F1-Score of the whole Dataset"
   ]
  },
  {
   "cell_type": "markdown",
   "id": "019b2b00",
   "metadata": {
    "papermill": {
     "duration": 0.018794,
     "end_time": "2022-11-27T19:41:22.471900",
     "exception": false,
     "start_time": "2022-11-27T19:41:22.453106",
     "status": "completed"
    },
    "tags": []
   },
   "source": [
    "# Kfold CrossValidation V1.0 (No Smote):\n"
   ]
  },
  {
   "cell_type": "code",
   "execution_count": 14,
   "id": "55a506ee",
   "metadata": {
    "execution": {
     "iopub.execute_input": "2022-11-27T19:41:22.511852Z",
     "iopub.status.busy": "2022-11-27T19:41:22.511311Z",
     "iopub.status.idle": "2022-11-27T19:41:22.518510Z",
     "shell.execute_reply": "2022-11-27T19:41:22.517615Z"
    },
    "papermill": {
     "duration": 0.029696,
     "end_time": "2022-11-27T19:41:22.520871",
     "exception": false,
     "start_time": "2022-11-27T19:41:22.491175",
     "status": "completed"
    },
    "tags": []
   },
   "outputs": [],
   "source": [
    "# Cross validate model with Kfold stratified cross val\n",
    "kfold = StratifiedKFold(n_splits=10)\n",
    "\n",
    "# Modeling step Test differents algorithms \n",
    "random_state = 0\n",
    "classifiers = []\n",
    "\n",
    "\n",
    "classifiers.append(KNeighborsClassifier())\n",
    "classifiers.append(SVC())\n",
    "classifiers.append(DecisionTreeClassifier())\n",
    "classifiers.append(GaussianNB())\n",
    "classifiers.append(AdaBoostClassifier(DecisionTreeClassifier()))\n",
    "classifiers.append(RandomForestClassifier())\n"
   ]
  },
  {
   "cell_type": "code",
   "execution_count": 15,
   "id": "de6bb9ee",
   "metadata": {
    "execution": {
     "iopub.execute_input": "2022-11-27T19:41:22.561105Z",
     "iopub.status.busy": "2022-11-27T19:41:22.560726Z",
     "iopub.status.idle": "2022-11-27T19:41:24.602889Z",
     "shell.execute_reply": "2022-11-27T19:41:24.601726Z"
    },
    "papermill": {
     "duration": 2.06546,
     "end_time": "2022-11-27T19:41:24.605532",
     "exception": false,
     "start_time": "2022-11-27T19:41:22.540072",
     "status": "completed"
    },
    "tags": []
   },
   "outputs": [],
   "source": [
    "cv_results = []\n",
    "for classifier in classifiers :\n",
    "    cv_results.append(cross_val_score(classifier, x_train, y = y_train, scoring = \"accuracy\", cv = kfold, n_jobs=-1))\n",
    "\n",
    "cv_means = []\n",
    "cv_std = []\n",
    "for cv_result in cv_results:\n",
    "    cv_means.append(cv_result.mean())\n",
    "    cv_std.append(cv_result.std())\n",
    "\n",
    "cv_res_1 = pd.DataFrame({\"CrossValMeans\":cv_means,\"CrossValerrors\": cv_std,\"Algorithm\":[\"KNN\",\"SVC\",\"DecisionTree\",\"GNB\",\"AdaBoost\",\n",
    "\"RandomForest\"]})"
   ]
  },
  {
   "cell_type": "code",
   "execution_count": 16,
   "id": "e3bd57e1",
   "metadata": {
    "execution": {
     "iopub.execute_input": "2022-11-27T19:41:24.645360Z",
     "iopub.status.busy": "2022-11-27T19:41:24.644951Z",
     "iopub.status.idle": "2022-11-27T19:41:24.880904Z",
     "shell.execute_reply": "2022-11-27T19:41:24.879796Z"
    },
    "papermill": {
     "duration": 0.2588,
     "end_time": "2022-11-27T19:41:24.883478",
     "exception": false,
     "start_time": "2022-11-27T19:41:24.624678",
     "status": "completed"
    },
    "tags": []
   },
   "outputs": [
    {
     "data": {
      "image/png": "[encoded data removed]",
      "text/plain": [
       "<Figure size 576x360 with 1 Axes>"
      ]
     },
     "metadata": {
      "needs_background": "light"
     },
     "output_type": "display_data"
    }
   ],
   "source": [
    "plt.figure(figsize = (8,5))\n",
    "g = sns.barplot(\"CrossValMeans\",\"Algorithm\",data = cv_res_1, palette=\"Set3\",orient = \"h\",**{'xerr':cv_std})\n",
    "g.set_ylabel(\"Algorithm\", fontsize = 12)\n",
    "g.set_xlabel(\"Mean Accuracy\", fontsize = 12)\n",
    "g = g.set_title(\"Cross Validation Scores (k=10)\", fontsize=15)\n",
    "plt.show()"
   ]
  },
  {
   "cell_type": "code",
   "execution_count": 17,
   "id": "8c9ef6bd",
   "metadata": {
    "execution": {
     "iopub.execute_input": "2022-11-27T19:41:24.923870Z",
     "iopub.status.busy": "2022-11-27T19:41:24.923455Z",
     "iopub.status.idle": "2022-11-27T19:41:24.934916Z",
     "shell.execute_reply": "2022-11-27T19:41:24.933902Z"
    },
    "papermill": {
     "duration": 0.034414,
     "end_time": "2022-11-27T19:41:24.937434",
     "exception": false,
     "start_time": "2022-11-27T19:41:24.903020",
     "status": "completed"
    },
    "tags": []
   },
   "outputs": [
    {
     "data": {
      "text/html": [
       "<div>\n",
       "<style scoped>\n",
       "    .dataframe tbody tr th:only-of-type {\n",
       "        vertical-align: middle;\n",
       "    }\n",
       "\n",
       "    .dataframe tbody tr th {\n",
       "        vertical-align: top;\n",
       "    }\n",
       "\n",
       "    .dataframe thead th {\n",
       "        text-align: right;\n",
       "    }\n",
       "</style>\n",
       "<table border=\"1\" class=\"dataframe\">\n",
       "  <thead>\n",
       "    <tr style=\"text-align: right;\">\n",
       "      <th></th>\n",
       "      <th>CrossValMeans</th>\n",
       "      <th>CrossValerrors</th>\n",
       "      <th>Algorithm</th>\n",
       "    </tr>\n",
       "  </thead>\n",
       "  <tbody>\n",
       "    <tr>\n",
       "      <th>0</th>\n",
       "      <td>0.980000</td>\n",
       "      <td>0.030551</td>\n",
       "      <td>KNN</td>\n",
       "    </tr>\n",
       "    <tr>\n",
       "      <th>1</th>\n",
       "      <td>0.983333</td>\n",
       "      <td>0.022361</td>\n",
       "      <td>SVC</td>\n",
       "    </tr>\n",
       "    <tr>\n",
       "      <th>2</th>\n",
       "      <td>0.983333</td>\n",
       "      <td>0.022361</td>\n",
       "      <td>DecisionTree</td>\n",
       "    </tr>\n",
       "    <tr>\n",
       "      <th>3</th>\n",
       "      <td>0.970000</td>\n",
       "      <td>0.023333</td>\n",
       "      <td>GNB</td>\n",
       "    </tr>\n",
       "    <tr>\n",
       "      <th>4</th>\n",
       "      <td>0.973333</td>\n",
       "      <td>0.038873</td>\n",
       "      <td>AdaBoost</td>\n",
       "    </tr>\n",
       "    <tr>\n",
       "      <th>5</th>\n",
       "      <td>0.993333</td>\n",
       "      <td>0.013333</td>\n",
       "      <td>RandomForest</td>\n",
       "    </tr>\n",
       "  </tbody>\n",
       "</table>\n",
       "</div>"
      ],
      "text/plain": [
       "   CrossValMeans  CrossValerrors     Algorithm\n",
       "0       0.980000        0.030551           KNN\n",
       "1       0.983333        0.022361           SVC\n",
       "2       0.983333        0.022361  DecisionTree\n",
       "3       0.970000        0.023333           GNB\n",
       "4       0.973333        0.038873      AdaBoost\n",
       "5       0.993333        0.013333  RandomForest"
      ]
     },
     "execution_count": 17,
     "metadata": {},
     "output_type": "execute_result"
    }
   ],
   "source": [
    "cv_res_1"
   ]
  },
  {
   "cell_type": "markdown",
   "id": "3718df00",
   "metadata": {
    "papermill": {
     "duration": 0.019276,
     "end_time": "2022-11-27T19:41:24.976433",
     "exception": false,
     "start_time": "2022-11-27T19:41:24.957157",
     "status": "completed"
    },
    "tags": []
   },
   "source": [
    "All models tested performed well, even without oversampling, Notably the RandomForest outperformed everyone."
   ]
  },
  {
   "cell_type": "markdown",
   "id": "5076d8fd",
   "metadata": {
    "papermill": {
     "duration": 0.019979,
     "end_time": "2022-11-27T19:41:25.016046",
     "exception": false,
     "start_time": "2022-11-27T19:41:24.996067",
     "status": "completed"
    },
    "tags": []
   },
   "source": [
    "Let's see if that's the case with the f1_score"
   ]
  },
  {
   "cell_type": "code",
   "execution_count": 18,
   "id": "26830859",
   "metadata": {
    "execution": {
     "iopub.execute_input": "2022-11-27T19:41:25.057302Z",
     "iopub.status.busy": "2022-11-27T19:41:25.056697Z",
     "iopub.status.idle": "2022-11-27T19:41:25.974015Z",
     "shell.execute_reply": "2022-11-27T19:41:25.973048Z"
    },
    "papermill": {
     "duration": 0.940675,
     "end_time": "2022-11-27T19:41:25.976628",
     "exception": false,
     "start_time": "2022-11-27T19:41:25.035953",
     "status": "completed"
    },
    "tags": []
   },
   "outputs": [],
   "source": [
    "cv_results = []\n",
    "for classifier in classifiers :\n",
    "    cv_results.append(cross_val_score(classifier, x_train, y = y_train, scoring = \"f1\", cv = kfold, n_jobs=-1))\n",
    "\n",
    "cv_means = []\n",
    "cv_std = []\n",
    "for cv_result in cv_results:\n",
    "    cv_means.append(cv_result.mean())\n",
    "    cv_std.append(cv_result.std())\n",
    "\n",
    "cv_res = pd.DataFrame({\"CrossValMeans\":cv_means,\"CrossValerrors\": cv_std,\"Algorithm\":[\"KNN\",\"SVC\",\"DecisionTree\",\"GNB\",\"AdaBoost\",\n",
    "\"RandomForest\"]})"
   ]
  },
  {
   "cell_type": "code",
   "execution_count": 19,
   "id": "4f8c1fe7",
   "metadata": {
    "execution": {
     "iopub.execute_input": "2022-11-27T19:41:26.017922Z",
     "iopub.status.busy": "2022-11-27T19:41:26.016912Z",
     "iopub.status.idle": "2022-11-27T19:41:26.230375Z",
     "shell.execute_reply": "2022-11-27T19:41:26.229363Z"
    },
    "papermill": {
     "duration": 0.236487,
     "end_time": "2022-11-27T19:41:26.232737",
     "exception": false,
     "start_time": "2022-11-27T19:41:25.996250",
     "status": "completed"
    },
    "tags": []
   },
   "outputs": [
    {
     "data": {
      "image/png": "[encoded data removed]",
      "text/plain": [
       "<Figure size 576x360 with 1 Axes>"
      ]
     },
     "metadata": {
      "needs_background": "light"
     },
     "output_type": "display_data"
    }
   ],
   "source": [
    "plt.figure(figsize = (8,5))\n",
    "g = sns.barplot(\"CrossValMeans\",\"Algorithm\",data = cv_res, palette=\"Set3\",orient = \"h\",**{'xerr':cv_std})\n",
    "g.set_ylabel(\"Algorithm\", fontsize = 12)\n",
    "g.set_xlabel(\"Mean F1-Score\", fontsize = 12)\n",
    "g = g.set_title(\"Cross Validation Scores (k=10)\", fontsize=15)\n",
    "plt.show()"
   ]
  },
  {
   "cell_type": "code",
   "execution_count": 20,
   "id": "5d7c1dbf",
   "metadata": {
    "execution": {
     "iopub.execute_input": "2022-11-27T19:41:26.277465Z",
     "iopub.status.busy": "2022-11-27T19:41:26.276364Z",
     "iopub.status.idle": "2022-11-27T19:41:26.286886Z",
     "shell.execute_reply": "2022-11-27T19:41:26.285950Z"
    },
    "papermill": {
     "duration": 0.03562,
     "end_time": "2022-11-27T19:41:26.289005",
     "exception": false,
     "start_time": "2022-11-27T19:41:26.253385",
     "status": "completed"
    },
    "tags": []
   },
   "outputs": [
    {
     "data": {
      "text/html": [
       "<div>\n",
       "<style scoped>\n",
       "    .dataframe tbody tr th:only-of-type {\n",
       "        vertical-align: middle;\n",
       "    }\n",
       "\n",
       "    .dataframe tbody tr th {\n",
       "        vertical-align: top;\n",
       "    }\n",
       "\n",
       "    .dataframe thead th {\n",
       "        text-align: right;\n",
       "    }\n",
       "</style>\n",
       "<table border=\"1\" class=\"dataframe\">\n",
       "  <thead>\n",
       "    <tr style=\"text-align: right;\">\n",
       "      <th></th>\n",
       "      <th>CrossValMeans</th>\n",
       "      <th>CrossValerrors</th>\n",
       "      <th>Algorithm</th>\n",
       "    </tr>\n",
       "  </thead>\n",
       "  <tbody>\n",
       "    <tr>\n",
       "      <th>0</th>\n",
       "      <td>0.975304</td>\n",
       "      <td>0.036989</td>\n",
       "      <td>KNN</td>\n",
       "    </tr>\n",
       "    <tr>\n",
       "      <th>1</th>\n",
       "      <td>0.978971</td>\n",
       "      <td>0.028112</td>\n",
       "      <td>SVC</td>\n",
       "    </tr>\n",
       "    <tr>\n",
       "      <th>2</th>\n",
       "      <td>0.986542</td>\n",
       "      <td>0.020585</td>\n",
       "      <td>DecisionTree</td>\n",
       "    </tr>\n",
       "    <tr>\n",
       "      <th>3</th>\n",
       "      <td>0.961942</td>\n",
       "      <td>0.029268</td>\n",
       "      <td>GNB</td>\n",
       "    </tr>\n",
       "    <tr>\n",
       "      <th>4</th>\n",
       "      <td>0.973123</td>\n",
       "      <td>0.036174</td>\n",
       "      <td>AdaBoost</td>\n",
       "    </tr>\n",
       "    <tr>\n",
       "      <th>5</th>\n",
       "      <td>0.995238</td>\n",
       "      <td>0.014286</td>\n",
       "      <td>RandomForest</td>\n",
       "    </tr>\n",
       "  </tbody>\n",
       "</table>\n",
       "</div>"
      ],
      "text/plain": [
       "   CrossValMeans  CrossValerrors     Algorithm\n",
       "0       0.975304        0.036989           KNN\n",
       "1       0.978971        0.028112           SVC\n",
       "2       0.986542        0.020585  DecisionTree\n",
       "3       0.961942        0.029268           GNB\n",
       "4       0.973123        0.036174      AdaBoost\n",
       "5       0.995238        0.014286  RandomForest"
      ]
     },
     "execution_count": 20,
     "metadata": {},
     "output_type": "execute_result"
    }
   ],
   "source": [
    "cv_res"
   ]
  },
  {
   "cell_type": "markdown",
   "id": "9c4da433",
   "metadata": {
    "papermill": {
     "duration": 0.019565,
     "end_time": "2022-11-27T19:41:26.328551",
     "exception": false,
     "start_time": "2022-11-27T19:41:26.308986",
     "status": "completed"
    },
    "tags": []
   },
   "source": [
    "As expected, the RandomForest's performance is still the highest here."
   ]
  },
  {
   "cell_type": "markdown",
   "id": "0e97cd1a",
   "metadata": {
    "papermill": {
     "duration": 0.019524,
     "end_time": "2022-11-27T19:41:26.367886",
     "exception": false,
     "start_time": "2022-11-27T19:41:26.348362",
     "status": "completed"
    },
    "tags": []
   },
   "source": [
    "# Using Smote!"
   ]
  },
  {
   "cell_type": "code",
   "execution_count": 21,
   "id": "e2115c83",
   "metadata": {
    "execution": {
     "iopub.execute_input": "2022-11-27T19:41:26.410234Z",
     "iopub.status.busy": "2022-11-27T19:41:26.409190Z",
     "iopub.status.idle": "2022-11-27T19:41:26.416767Z",
     "shell.execute_reply": "2022-11-27T19:41:26.415679Z"
    },
    "papermill": {
     "duration": 0.031681,
     "end_time": "2022-11-27T19:41:26.419613",
     "exception": false,
     "start_time": "2022-11-27T19:41:26.387932",
     "status": "completed"
    },
    "tags": []
   },
   "outputs": [
    {
     "name": "stdout",
     "output_type": "stream",
     "text": [
      "Before OverSampling, counts of label '1': 113\n",
      "Before OverSampling, counts of label '0': 187 \n",
      "\n"
     ]
    }
   ],
   "source": [
    "print(\"Before OverSampling, counts of label '1': {}\".format(sum(y_train == 1)))\n",
    "print(\"Before OverSampling, counts of label '0': {} \\n\".format(sum(y_train == 0)))"
   ]
  },
  {
   "cell_type": "code",
   "execution_count": 22,
   "id": "2cf0fa87",
   "metadata": {
    "execution": {
     "iopub.execute_input": "2022-11-27T19:41:26.462460Z",
     "iopub.status.busy": "2022-11-27T19:41:26.461443Z",
     "iopub.status.idle": "2022-11-27T19:41:26.589219Z",
     "shell.execute_reply": "2022-11-27T19:41:26.587669Z"
    },
    "papermill": {
     "duration": 0.153323,
     "end_time": "2022-11-27T19:41:26.593442",
     "exception": false,
     "start_time": "2022-11-27T19:41:26.440119",
     "status": "completed"
    },
    "tags": []
   },
   "outputs": [],
   "source": [
    "from imblearn.over_sampling import SMOTE\n",
    "oversample = SMOTE()\n",
    "x_train_res, y_train_res = oversample.fit_resample(x_train, y_train)"
   ]
  },
  {
   "cell_type": "code",
   "execution_count": 23,
   "id": "b771c8e0",
   "metadata": {
    "execution": {
     "iopub.execute_input": "2022-11-27T19:41:26.716112Z",
     "iopub.status.busy": "2022-11-27T19:41:26.715682Z",
     "iopub.status.idle": "2022-11-27T19:41:26.723969Z",
     "shell.execute_reply": "2022-11-27T19:41:26.722933Z"
    },
    "papermill": {
     "duration": 0.077122,
     "end_time": "2022-11-27T19:41:26.728964",
     "exception": false,
     "start_time": "2022-11-27T19:41:26.651842",
     "status": "completed"
    },
    "tags": []
   },
   "outputs": [
    {
     "name": "stdout",
     "output_type": "stream",
     "text": [
      "After OverSampling, the shape of train_X: (374, 24)\n",
      "After OverSampling, the shape of train_y: (374,) \n",
      "\n",
      "After OverSampling, counts of label '1': 187\n",
      "After OverSampling, counts of label '0': 187\n"
     ]
    }
   ],
   "source": [
    "print('After OverSampling, the shape of train_X: {}'.format(x_train_res.shape))\n",
    "print('After OverSampling, the shape of train_y: {} \\n'.format(y_train_res.shape))\n",
    "  \n",
    "print(\"After OverSampling, counts of label '1': {}\".format(sum(y_train_res == 1)))\n",
    "print(\"After OverSampling, counts of label '0': {}\".format(sum(y_train_res == 0)))"
   ]
  },
  {
   "cell_type": "code",
   "execution_count": 24,
   "id": "641af2a9",
   "metadata": {
    "execution": {
     "iopub.execute_input": "2022-11-27T19:41:26.782944Z",
     "iopub.status.busy": "2022-11-27T19:41:26.782518Z",
     "iopub.status.idle": "2022-11-27T19:41:26.883507Z",
     "shell.execute_reply": "2022-11-27T19:41:26.882305Z"
    },
    "papermill": {
     "duration": 0.127355,
     "end_time": "2022-11-27T19:41:26.887413",
     "exception": false,
     "start_time": "2022-11-27T19:41:26.760058",
     "status": "completed"
    },
    "tags": []
   },
   "outputs": [
    {
     "data": {
      "image/png": "[encoded data removed]",
      "text/plain": [
       "<Figure size 360x360 with 1 Axes>"
      ]
     },
     "metadata": {
      "needs_background": "light"
     },
     "output_type": "display_data"
    }
   ],
   "source": [
    "plt.figure(figsize=(5, 5))\n",
    "\n",
    "sns.countplot(x = y_train_res)\n",
    "sns.despine(top=True, right=True, left=True, bottom=False)\n",
    "\n",
    "plt.xticks(ticks= [0,1], labels=['CKD', 'NOT CKD'], fontsize=12)\n",
    "plt.yticks([])\n",
    "plt.title('Number of Samples per Class' , fontsize=15 , pad=20 , fontstyle='italic' , fontweight = 800)\n",
    "plt.xlabel('Type of Diagnosis' , fontsize=14 , fontweight=400, labelpad=16)\n",
    "plt.ylabel('')\n",
    "ax = plt.gca()\n",
    "\n",
    "for p in ax.patches:\n",
    "    ax.annotate(\"%.1f%%\" % (100*float(p.get_height()/data.shape[0])), (p.get_x() + p.get_width() / 2., abs(p.get_height())), ha='center', \n",
    "                va='bottom', color='black', xytext=(0,2), rotation='horizontal', textcoords='offset points', fontsize = 12, fontstyle = 'italic')\n",
    "\n",
    "# plt.savefig(\"samples.png\")\n",
    "plt.tight_layout()"
   ]
  },
  {
   "cell_type": "markdown",
   "id": "5d286894",
   "metadata": {
    "papermill": {
     "duration": 0.04338,
     "end_time": "2022-11-27T19:41:26.985033",
     "exception": false,
     "start_time": "2022-11-27T19:41:26.941653",
     "status": "completed"
    },
    "tags": []
   },
   "source": [
    "Okay let's go and refit the models, see if this upgraded the model's performance."
   ]
  },
  {
   "cell_type": "code",
   "execution_count": 25,
   "id": "bcfe61f1",
   "metadata": {
    "execution": {
     "iopub.execute_input": "2022-11-27T19:41:27.030081Z",
     "iopub.status.busy": "2022-11-27T19:41:27.029698Z",
     "iopub.status.idle": "2022-11-27T19:41:27.586826Z",
     "shell.execute_reply": "2022-11-27T19:41:27.585651Z"
    },
    "papermill": {
     "duration": 0.584068,
     "end_time": "2022-11-27T19:41:27.589731",
     "exception": false,
     "start_time": "2022-11-27T19:41:27.005663",
     "status": "completed"
    },
    "tags": []
   },
   "outputs": [
    {
     "name": "stdout",
     "output_type": "stream",
     "text": [
      "              precision    recall  f1-score   support\n",
      "\n",
      "           0       1.00      0.94      0.97        63\n",
      "           1       0.90      1.00      0.95        37\n",
      "\n",
      "    accuracy                           0.96       100\n",
      "   macro avg       0.95      0.97      0.96       100\n",
      "weighted avg       0.96      0.96      0.96       100\n",
      "\n",
      "----------------- Overall Results -----------------\n",
      "Accuracy Result: 96.00%\n",
      "Precision Result: 95.12%\n",
      "Recall Result: 96.83%\n",
      "F1-Score Result: 95.80%\n"
     ]
    },
    {
     "data": {
      "image/png": "[encoded data removed]",
      "text/plain": [
       "<Figure size 720x360 with 1 Axes>"
      ]
     },
     "metadata": {
      "needs_background": "light"
     },
     "output_type": "display_data"
    },
    {
     "data": {
      "image/png": "[encoded data removed]",
      "text/plain": [
       "<Figure size 720x360 with 1 Axes>"
      ]
     },
     "metadata": {
      "needs_background": "light"
     },
     "output_type": "display_data"
    },
    {
     "data": {
      "image/png": "[encoded data removed]",
      "text/plain": [
       "<Figure size 720x360 with 1 Axes>"
      ]
     },
     "metadata": {
      "needs_background": "light"
     },
     "output_type": "display_data"
    }
   ],
   "source": [
    "# model fit\n",
    "knn = KNeighborsClassifier()\n",
    "knn.fit(x_train_res, y_train_res)\n",
    "\n",
    "# prediction\n",
    "preds = knn.predict(x_test)\n",
    "print(classification_report(y_test, preds))\n",
    "\n",
    "acc = accuracy_score(y_test, preds)\n",
    "results_all = precision_recall_fscore_support(y_test, preds, average='macro', zero_division=1)\n",
    "results_class = precision_recall_fscore_support(y_test, preds, average=None, zero_division=1)\n",
    "metric_columns = ['Precision','Recall', 'F1-Score','S']\n",
    "all_df = pd.concat([pd.DataFrame(list(results_class)).T,pd.DataFrame(list(results_all)).T])\n",
    "all_df.columns = metric_columns\n",
    "all_df.index = classes+['Total']\n",
    "\n",
    "def metrics_plot(df,metric):\n",
    "    plt.figure(figsize=(10, 5))\n",
    "    ax = sns.barplot(data=df, x=df.index, y=metric, palette = \"Blues_d\")\n",
    "    # Bar Labels\n",
    "    for p in ax.patches:\n",
    "        ax.annotate(\"%.1f%%\" % (100*p.get_height()), (p.get_x() + p.get_width() / 2., abs(p.get_height())),\n",
    "        ha='center', va='bottom', color='black', xytext=(-3, 5),rotation = 'horizontal',textcoords='offset points')\n",
    "    sns.despine(top=True, right=True, left=True, bottom=False)\n",
    "    ax.set_xlabel('Class',fontsize = 14)\n",
    "    ax.set_ylabel(metric,fontsize = 14)\n",
    "    ax.set(yticklabels=[])\n",
    "    ax.axes.get_yaxis().set_visible(False) \n",
    "    plt.title(metric+ ' Results per Class', fontsize = 14);\n",
    "\n",
    "metrics_plot(all_df, 'Precision')       # Results by Class\n",
    "metrics_plot(all_df, 'Recall')          # Results by Class\n",
    "metrics_plot(all_df, 'F1-Score')         # Results by Class\n",
    "print('----------------- Overall Results -----------------')\n",
    "print('Accuracy Result: %.2f%%'%(acc*100))                   # Accuracy of the whole Dataset\n",
    "print('Precision Result: %.2f%%'%(all_df.iloc[2,0]*100))     # Precision of the whole Dataset\n",
    "print('Recall Result: %.2f%%'%(all_df.iloc[2,1]*100))        # Recall of the whole Dataset\n",
    "print('F1-Score Result: %.2f%%'%(all_df.iloc[2,2]*100))      # F1-Score of the whole Dataset"
   ]
  },
  {
   "cell_type": "code",
   "execution_count": 26,
   "id": "5a34384c",
   "metadata": {
    "execution": {
     "iopub.execute_input": "2022-11-27T19:41:27.639424Z",
     "iopub.status.busy": "2022-11-27T19:41:27.638732Z",
     "iopub.status.idle": "2022-11-27T19:41:28.126441Z",
     "shell.execute_reply": "2022-11-27T19:41:28.125421Z"
    },
    "papermill": {
     "duration": 0.513479,
     "end_time": "2022-11-27T19:41:28.128836",
     "exception": false,
     "start_time": "2022-11-27T19:41:27.615357",
     "status": "completed"
    },
    "tags": []
   },
   "outputs": [
    {
     "name": "stdout",
     "output_type": "stream",
     "text": [
      "              precision    recall  f1-score   support\n",
      "\n",
      "           0       1.00      0.98      0.99        63\n",
      "           1       0.97      1.00      0.99        37\n",
      "\n",
      "    accuracy                           0.99       100\n",
      "   macro avg       0.99      0.99      0.99       100\n",
      "weighted avg       0.99      0.99      0.99       100\n",
      "\n",
      "----------------- Overall Results -----------------\n",
      "Accuracy Result: 99.00%\n",
      "Precision Result: 98.68%\n",
      "Recall Result: 99.21%\n",
      "F1-Score Result: 98.93%\n"
     ]
    },
    {
     "data": {
      "image/png": "[encoded data removed]",
      "text/plain": [
       "<Figure size 720x360 with 1 Axes>"
      ]
     },
     "metadata": {
      "needs_background": "light"
     },
     "output_type": "display_data"
    },
    {
     "data": {
      "image/png": "[encoded data removed]",
      "text/plain": [
       "<Figure size 720x360 with 1 Axes>"
      ]
     },
     "metadata": {
      "needs_background": "light"
     },
     "output_type": "display_data"
    },
    {
     "data": {
      "image/png": "[encoded data removed]",
      "text/plain": [
       "<Figure size 720x360 with 1 Axes>"
      ]
     },
     "metadata": {
      "needs_background": "light"
     },
     "output_type": "display_data"
    }
   ],
   "source": [
    "# model fit\n",
    "knn = SVC(gamma=0.1, C=1000)\n",
    "knn.fit(x_train_res, y_train_res)\n",
    "\n",
    "# prediction\n",
    "preds = knn.predict(x_test)\n",
    "print(classification_report(y_test, preds))\n",
    "\n",
    "acc = accuracy_score(y_test, preds)\n",
    "results_all = precision_recall_fscore_support(y_test, preds, average='macro', zero_division=1)\n",
    "results_class = precision_recall_fscore_support(y_test, preds, average=None, zero_division=1)\n",
    "metric_columns = ['Precision','Recall', 'F1-Score','S']\n",
    "all_df = pd.concat([pd.DataFrame(list(results_class)).T,pd.DataFrame(list(results_all)).T])\n",
    "all_df.columns = metric_columns\n",
    "all_df.index = classes+['Total']\n",
    "\n",
    "def metrics_plot(df,metric):\n",
    "    plt.figure(figsize=(10, 5))\n",
    "    ax = sns.barplot(data=df, x=df.index, y=metric, palette = \"Blues_d\")\n",
    "    # Bar Labels\n",
    "    for p in ax.patches:\n",
    "        ax.annotate(\"%.1f%%\" % (100*p.get_height()), (p.get_x() + p.get_width() / 2., abs(p.get_height())),\n",
    "        ha='center', va='bottom', color='black', xytext=(-3, 5),rotation = 'horizontal',textcoords='offset points')\n",
    "    sns.despine(top=True, right=True, left=True, bottom=False)\n",
    "    ax.set_xlabel('Class',fontsize = 14)\n",
    "    ax.set_ylabel(metric,fontsize = 14)\n",
    "    ax.set(yticklabels=[])\n",
    "    ax.axes.get_yaxis().set_visible(False) \n",
    "    plt.title(metric+ ' Results per Class', fontsize = 14);\n",
    "\n",
    "metrics_plot(all_df, 'Precision')       # Results by Class\n",
    "metrics_plot(all_df, 'Recall')          # Results by Class\n",
    "metrics_plot(all_df, 'F1-Score')         # Results by Class\n",
    "print('----------------- Overall Results -----------------')\n",
    "print('Accuracy Result: %.2f%%'%(acc*100))                   # Accuracy of the whole Dataset\n",
    "print('Precision Result: %.2f%%'%(all_df.iloc[2,0]*100))     # Precision of the whole Dataset\n",
    "print('Recall Result: %.2f%%'%(all_df.iloc[2,1]*100))        # Recall of the whole Dataset\n",
    "print('F1-Score Result: %.2f%%'%(all_df.iloc[2,2]*100))      # F1-Score of the whole Dataset"
   ]
  },
  {
   "cell_type": "code",
   "execution_count": 27,
   "id": "3ca21741",
   "metadata": {
    "execution": {
     "iopub.execute_input": "2022-11-27T19:41:28.175162Z",
     "iopub.status.busy": "2022-11-27T19:41:28.174697Z",
     "iopub.status.idle": "2022-11-27T19:41:28.884877Z",
     "shell.execute_reply": "2022-11-27T19:41:28.883854Z"
    },
    "papermill": {
     "duration": 0.73608,
     "end_time": "2022-11-27T19:41:28.887293",
     "exception": false,
     "start_time": "2022-11-27T19:41:28.151213",
     "status": "completed"
    },
    "tags": []
   },
   "outputs": [
    {
     "name": "stdout",
     "output_type": "stream",
     "text": [
      "              precision    recall  f1-score   support\n",
      "\n",
      "           0       1.00      0.90      0.95        63\n",
      "           1       0.86      1.00      0.92        37\n",
      "\n",
      "    accuracy                           0.94       100\n",
      "   macro avg       0.93      0.95      0.94       100\n",
      "weighted avg       0.95      0.94      0.94       100\n",
      "\n",
      "----------------- Overall Results -----------------\n",
      "Accuracy Result: 94.00%\n",
      "Precision Result: 93.02%\n",
      "Recall Result: 95.24%\n",
      "F1-Score Result: 93.75%\n"
     ]
    },
    {
     "data": {
      "image/png": "[encoded data removed]",
      "text/plain": [
       "<Figure size 720x360 with 1 Axes>"
      ]
     },
     "metadata": {
      "needs_background": "light"
     },
     "output_type": "display_data"
    },
    {
     "data": {
      "image/png": "[encoded data removed]",
      "text/plain": [
       "<Figure size 720x360 with 1 Axes>"
      ]
     },
     "metadata": {
      "needs_background": "light"
     },
     "output_type": "display_data"
    },
    {
     "data": {
      "image/png": "[encoded data removed]",
      "text/plain": [
       "<Figure size 720x360 with 1 Axes>"
      ]
     },
     "metadata": {
      "needs_background": "light"
     },
     "output_type": "display_data"
    }
   ],
   "source": [
    "# model fit\n",
    "knn = GaussianNB(var_smoothing=0.02)\n",
    "knn.fit(x_train_res, y_train_res)\n",
    "\n",
    "# prediction\n",
    "preds = knn.predict(x_test)\n",
    "print(classification_report(y_test, preds))\n",
    "\n",
    "acc = accuracy_score(y_test, preds)\n",
    "results_all = precision_recall_fscore_support(y_test, preds, average='macro', zero_division=1)\n",
    "results_class = precision_recall_fscore_support(y_test, preds, average=None, zero_division=1)\n",
    "metric_columns = ['Precision','Recall', 'F1-Score','S']\n",
    "all_df = pd.concat([pd.DataFrame(list(results_class)).T,pd.DataFrame(list(results_all)).T])\n",
    "all_df.columns = metric_columns\n",
    "all_df.index = classes+['Total']\n",
    "\n",
    "def metrics_plot(df,metric):\n",
    "    plt.figure(figsize=(10, 5))\n",
    "    ax = sns.barplot(data=df, x=df.index, y=metric, palette = \"Blues_d\")\n",
    "    # Bar Labels\n",
    "    for p in ax.patches:\n",
    "        ax.annotate(\"%.1f%%\" % (100*p.get_height()), (p.get_x() + p.get_width() / 2., abs(p.get_height())),\n",
    "        ha='center', va='bottom', color='black', xytext=(-3, 5),rotation = 'horizontal',textcoords='offset points')\n",
    "    sns.despine(top=True, right=True, left=True, bottom=False)\n",
    "    ax.set_xlabel('Class',fontsize = 14)\n",
    "    ax.set_ylabel(metric,fontsize = 14)\n",
    "    ax.set(yticklabels=[])\n",
    "    ax.axes.get_yaxis().set_visible(False) \n",
    "    plt.title(metric+ ' Results per Class', fontsize = 14);\n",
    "\n",
    "metrics_plot(all_df, 'Precision')       # Results by Class\n",
    "metrics_plot(all_df, 'Recall')          # Results by Class\n",
    "metrics_plot(all_df, 'F1-Score')         # Results by Class\n",
    "print('----------------- Overall Results -----------------')\n",
    "print('Accuracy Result: %.2f%%'%(acc*100))                   # Accuracy of the whole Dataset\n",
    "print('Precision Result: %.2f%%'%(all_df.iloc[2,0]*100))     # Precision of the whole Dataset\n",
    "print('Recall Result: %.2f%%'%(all_df.iloc[2,1]*100))        # Recall of the whole Dataset\n",
    "print('F1-Score Result: %.2f%%'%(all_df.iloc[2,2]*100))      # F1-Score of the whole Dataset"
   ]
  },
  {
   "cell_type": "code",
   "execution_count": 28,
   "id": "2d85c5da",
   "metadata": {
    "execution": {
     "iopub.execute_input": "2022-11-27T19:41:28.936166Z",
     "iopub.status.busy": "2022-11-27T19:41:28.935780Z",
     "iopub.status.idle": "2022-11-27T19:41:29.406408Z",
     "shell.execute_reply": "2022-11-27T19:41:29.405336Z"
    },
    "papermill": {
     "duration": 0.497639,
     "end_time": "2022-11-27T19:41:29.408811",
     "exception": false,
     "start_time": "2022-11-27T19:41:28.911172",
     "status": "completed"
    },
    "tags": []
   },
   "outputs": [
    {
     "name": "stdout",
     "output_type": "stream",
     "text": [
      "              precision    recall  f1-score   support\n",
      "\n",
      "           0       0.97      0.98      0.98        63\n",
      "           1       0.97      0.95      0.96        37\n",
      "\n",
      "    accuracy                           0.97       100\n",
      "   macro avg       0.97      0.97      0.97       100\n",
      "weighted avg       0.97      0.97      0.97       100\n",
      "\n",
      "----------------- Overall Results -----------------\n",
      "Accuracy Result: 97.00%\n",
      "Precision Result: 97.05%\n",
      "Recall Result: 96.50%\n",
      "F1-Score Result: 96.76%\n"
     ]
    },
    {
     "data": {
      "image/png": "[encoded data removed]",
      "text/plain": [
       "<Figure size 720x360 with 1 Axes>"
      ]
     },
     "metadata": {
      "needs_background": "light"
     },
     "output_type": "display_data"
    },
    {
     "data": {
      "image/png": "[encoded data removed]",
      "text/plain": [
       "<Figure size 720x360 with 1 Axes>"
      ]
     },
     "metadata": {
      "needs_background": "light"
     },
     "output_type": "display_data"
    },
    {
     "data": {
      "image/png": "[encoded data removed]",
      "text/plain": [
       "<Figure size 720x360 with 1 Axes>"
      ]
     },
     "metadata": {
      "needs_background": "light"
     },
     "output_type": "display_data"
    }
   ],
   "source": [
    "# model fit\n",
    "knn = DecisionTreeClassifier(criterion='entropy')\n",
    "knn.fit(x_train_res, y_train_res)\n",
    "\n",
    "# prediction\n",
    "preds = knn.predict(x_test)\n",
    "print(classification_report(y_test, preds))\n",
    "\n",
    "acc = accuracy_score(y_test, preds)\n",
    "results_all = precision_recall_fscore_support(y_test, preds, average='macro', zero_division=1)\n",
    "results_class = precision_recall_fscore_support(y_test, preds, average=None, zero_division=1)\n",
    "metric_columns = ['Precision','Recall', 'F1-Score','S']\n",
    "all_df = pd.concat([pd.DataFrame(list(results_class)).T,pd.DataFrame(list(results_all)).T])\n",
    "all_df.columns = metric_columns\n",
    "all_df.index = classes+['Total']\n",
    "\n",
    "def metrics_plot(df,metric):\n",
    "    plt.figure(figsize=(10, 5))\n",
    "    ax = sns.barplot(data=df, x=df.index, y=metric, palette = \"Blues_d\")\n",
    "    # Bar Labels\n",
    "    for p in ax.patches:\n",
    "        ax.annotate(\"%.1f%%\" % (100*p.get_height()), (p.get_x() + p.get_width() / 2., abs(p.get_height())),\n",
    "        ha='center', va='bottom', color='black', xytext=(-3, 5),rotation = 'horizontal',textcoords='offset points')\n",
    "    sns.despine(top=True, right=True, left=True, bottom=False)\n",
    "    ax.set_xlabel('Class',fontsize = 14)\n",
    "    ax.set_ylabel(metric,fontsize = 14)\n",
    "    ax.set(yticklabels=[])\n",
    "    ax.axes.get_yaxis().set_visible(False) \n",
    "    plt.title(metric+ ' Results per Class', fontsize = 14);\n",
    "\n",
    "metrics_plot(all_df, 'Precision')       # Results by Class\n",
    "metrics_plot(all_df, 'Recall')          # Results by Class\n",
    "metrics_plot(all_df, 'F1-Score')         # Results by Class\n",
    "print('----------------- Overall Results -----------------')\n",
    "print('Accuracy Result: %.2f%%'%(acc*100))                   # Accuracy of the whole Dataset\n",
    "print('Precision Result: %.2f%%'%(all_df.iloc[2,0]*100))     # Precision of the whole Dataset\n",
    "print('Recall Result: %.2f%%'%(all_df.iloc[2,1]*100))        # Recall of the whole Dataset\n",
    "print('F1-Score Result: %.2f%%'%(all_df.iloc[2,2]*100))      # F1-Score of the whole Dataset"
   ]
  },
  {
   "cell_type": "code",
   "execution_count": 29,
   "id": "64db358f",
   "metadata": {
    "execution": {
     "iopub.execute_input": "2022-11-27T19:41:29.458109Z",
     "iopub.status.busy": "2022-11-27T19:41:29.457280Z",
     "iopub.status.idle": "2022-11-27T19:41:30.008426Z",
     "shell.execute_reply": "2022-11-27T19:41:30.007523Z"
    },
    "papermill": {
     "duration": 0.578265,
     "end_time": "2022-11-27T19:41:30.010639",
     "exception": false,
     "start_time": "2022-11-27T19:41:29.432374",
     "status": "completed"
    },
    "tags": []
   },
   "outputs": [
    {
     "name": "stdout",
     "output_type": "stream",
     "text": [
      "              precision    recall  f1-score   support\n",
      "\n",
      "           0       0.98      1.00      0.99        63\n",
      "           1       1.00      0.97      0.99        37\n",
      "\n",
      "    accuracy                           0.99       100\n",
      "   macro avg       0.99      0.99      0.99       100\n",
      "weighted avg       0.99      0.99      0.99       100\n",
      "\n",
      "----------------- Overall Results -----------------\n",
      "Accuracy Result: 99.00%\n",
      "Precision Result: 99.22%\n",
      "Recall Result: 98.65%\n",
      "F1-Score Result: 98.92%\n"
     ]
    },
    {
     "data": {
      "image/png": "[encoded data removed]",
      "text/plain": [
       "<Figure size 720x360 with 1 Axes>"
      ]
     },
     "metadata": {
      "needs_background": "light"
     },
     "output_type": "display_data"
    },
    {
     "data": {
      "image/png": "[encoded data removed]",
      "text/plain": [
       "<Figure size 720x360 with 1 Axes>"
      ]
     },
     "metadata": {
      "needs_background": "light"
     },
     "output_type": "display_data"
    },
    {
     "data": {
      "image/png": "[encoded data removed]",
      "text/plain": [
       "<Figure size 720x360 with 1 Axes>"
      ]
     },
     "metadata": {
      "needs_background": "light"
     },
     "output_type": "display_data"
    }
   ],
   "source": [
    "# model fit\n",
    "knn = RandomForestClassifier()\n",
    "knn.fit(x_train_res, y_train_res)\n",
    "\n",
    "# prediction\n",
    "preds = knn.predict(x_test)\n",
    "print(classification_report(y_test, preds))\n",
    "\n",
    "acc = accuracy_score(y_test, preds)\n",
    "results_all = precision_recall_fscore_support(y_test, preds, average='macro', zero_division=1)\n",
    "results_class = precision_recall_fscore_support(y_test, preds, average=None, zero_division=1)\n",
    "metric_columns = ['Precision','Recall', 'F1-Score','S']\n",
    "all_df = pd.concat([pd.DataFrame(list(results_class)).T,pd.DataFrame(list(results_all)).T])\n",
    "all_df.columns = metric_columns\n",
    "all_df.index = classes+['Total']\n",
    "\n",
    "def metrics_plot(df,metric):\n",
    "    plt.figure(figsize=(10, 5))\n",
    "    ax = sns.barplot(data=df, x=df.index, y=metric, palette = \"Blues_d\")\n",
    "    # Bar Labels\n",
    "    for p in ax.patches:\n",
    "        ax.annotate(\"%.1f%%\" % (100*p.get_height()), (p.get_x() + p.get_width() / 2., abs(p.get_height())),\n",
    "        ha='center', va='bottom', color='black', xytext=(-3, 5),rotation = 'horizontal',textcoords='offset points')\n",
    "    sns.despine(top=True, right=True, left=True, bottom=False)\n",
    "    ax.set_xlabel('Class',fontsize = 14)\n",
    "    ax.set_ylabel(metric,fontsize = 14)\n",
    "    ax.set(yticklabels=[])\n",
    "    ax.axes.get_yaxis().set_visible(False) \n",
    "    plt.title(metric+ ' Results per Class', fontsize = 14);\n",
    "\n",
    "metrics_plot(all_df, 'Precision')       # Results by Class\n",
    "metrics_plot(all_df, 'Recall')          # Results by Class\n",
    "metrics_plot(all_df, 'F1-Score')         # Results by Class\n",
    "print('----------------- Overall Results -----------------')\n",
    "print('Accuracy Result: %.2f%%'%(acc*100))                   # Accuracy of the whole Dataset\n",
    "print('Precision Result: %.2f%%'%(all_df.iloc[2,0]*100))     # Precision of the whole Dataset\n",
    "print('Recall Result: %.2f%%'%(all_df.iloc[2,1]*100))        # Recall of the whole Dataset\n",
    "print('F1-Score Result: %.2f%%'%(all_df.iloc[2,2]*100))      # F1-Score of the whole Dataset"
   ]
  },
  {
   "cell_type": "code",
   "execution_count": 30,
   "id": "2d47bc85",
   "metadata": {
    "execution": {
     "iopub.execute_input": "2022-11-27T19:41:30.061319Z",
     "iopub.status.busy": "2022-11-27T19:41:30.060301Z",
     "iopub.status.idle": "2022-11-27T19:41:30.649807Z",
     "shell.execute_reply": "2022-11-27T19:41:30.648655Z"
    },
    "papermill": {
     "duration": 0.6172,
     "end_time": "2022-11-27T19:41:30.652183",
     "exception": false,
     "start_time": "2022-11-27T19:41:30.034983",
     "status": "completed"
    },
    "tags": []
   },
   "outputs": [
    {
     "name": "stdout",
     "output_type": "stream",
     "text": [
      "              precision    recall  f1-score   support\n",
      "\n",
      "           0       0.98      0.97      0.98        63\n",
      "           1       0.95      0.97      0.96        37\n",
      "\n",
      "    accuracy                           0.97       100\n",
      "   macro avg       0.97      0.97      0.97       100\n",
      "weighted avg       0.97      0.97      0.97       100\n",
      "\n",
      "----------------- Overall Results -----------------\n",
      "Accuracy Result: 97.00%\n",
      "Precision Result: 96.56%\n",
      "Recall Result: 97.06%\n",
      "F1-Score Result: 96.80%\n"
     ]
    },
    {
     "data": {
      "image/png": "[encoded data removed]",
      "text/plain": [
       "<Figure size 720x360 with 1 Axes>"
      ]
     },
     "metadata": {
      "needs_background": "light"
     },
     "output_type": "display_data"
    },
    {
     "data": {
      "image/png": "[encoded data removed]",
      "text/plain": [
       "<Figure size 720x360 with 1 Axes>"
      ]
     },
     "metadata": {
      "needs_background": "light"
     },
     "output_type": "display_data"
    },
    {
     "data": {
      "image/png": "[encoded data removed]",
      "text/plain": [
       "<Figure size 720x360 with 1 Axes>"
      ]
     },
     "metadata": {
      "needs_background": "light"
     },
     "output_type": "display_data"
    }
   ],
   "source": [
    "# model fit\n",
    "knn = AdaBoostClassifier()\n",
    "knn.fit(x_train_res, y_train_res)\n",
    "\n",
    "# prediction\n",
    "preds = knn.predict(x_test)\n",
    "print(classification_report(y_test, preds))\n",
    "\n",
    "acc = accuracy_score(y_test, preds)\n",
    "results_all = precision_recall_fscore_support(y_test, preds, average='macro', zero_division=1)\n",
    "results_class = precision_recall_fscore_support(y_test, preds, average=None, zero_division=1)\n",
    "metric_columns = ['Precision','Recall', 'F1-Score','S']\n",
    "all_df = pd.concat([pd.DataFrame(list(results_class)).T,pd.DataFrame(list(results_all)).T])\n",
    "all_df.columns = metric_columns\n",
    "all_df.index = classes+['Total']\n",
    "\n",
    "def metrics_plot(df,metric):\n",
    "    plt.figure(figsize=(10, 5))\n",
    "    ax = sns.barplot(data=df, x=df.index, y=metric, palette = \"Blues_d\")\n",
    "    # Bar Labels\n",
    "    for p in ax.patches:\n",
    "        ax.annotate(\"%.1f%%\" % (100*p.get_height()), (p.get_x() + p.get_width() / 2., abs(p.get_height())),\n",
    "        ha='center', va='bottom', color='black', xytext=(-3, 5),rotation = 'horizontal',textcoords='offset points')\n",
    "    sns.despine(top=True, right=True, left=True, bottom=False)\n",
    "    ax.set_xlabel('Class',fontsize = 14)\n",
    "    ax.set_ylabel(metric,fontsize = 14)\n",
    "    ax.set(yticklabels=[])\n",
    "    ax.axes.get_yaxis().set_visible(False) \n",
    "    plt.title(metric+ ' Results per Class', fontsize = 14);\n",
    "\n",
    "metrics_plot(all_df, 'Precision')       # Results by Class\n",
    "metrics_plot(all_df, 'Recall')          # Results by Class\n",
    "metrics_plot(all_df, 'F1-Score')         # Results by Class\n",
    "print('----------------- Overall Results -----------------')\n",
    "print('Accuracy Result: %.2f%%'%(acc*100))                   # Accuracy of the whole Dataset\n",
    "print('Precision Result: %.2f%%'%(all_df.iloc[2,0]*100))     # Precision of the whole Dataset\n",
    "print('Recall Result: %.2f%%'%(all_df.iloc[2,1]*100))        # Recall of the whole Dataset\n",
    "print('F1-Score Result: %.2f%%'%(all_df.iloc[2,2]*100))      # F1-Score of the whole Dataset"
   ]
  },
  {
   "cell_type": "code",
   "execution_count": 31,
   "id": "7ca408a8",
   "metadata": {
    "execution": {
     "iopub.execute_input": "2022-11-27T19:41:30.707701Z",
     "iopub.status.busy": "2022-11-27T19:41:30.707265Z",
     "iopub.status.idle": "2022-11-27T19:41:31.836166Z",
     "shell.execute_reply": "2022-11-27T19:41:31.835231Z"
    },
    "papermill": {
     "duration": 1.160121,
     "end_time": "2022-11-27T19:41:31.839029",
     "exception": false,
     "start_time": "2022-11-27T19:41:30.678908",
     "status": "completed"
    },
    "tags": []
   },
   "outputs": [],
   "source": [
    "cv_results = []\n",
    "for classifier in classifiers :\n",
    "    cv_results.append(cross_val_score(classifier, x_train_res, y = y_train_res, scoring = \"accuracy\", cv = kfold, n_jobs=-1))\n",
    "\n",
    "cv_means = []\n",
    "cv_std = []\n",
    "for cv_result in cv_results:\n",
    "    cv_means.append(cv_result.mean())\n",
    "    cv_std.append(cv_result.std())\n",
    "\n",
    "cv_res = pd.DataFrame({\"CrossValMeans\":cv_means,\"CrossValerrors\": cv_std,\"Algorithm\":[\"KNN\",\"SVC\",\"DecisionTree\",\"GNB\",\"AdaBoost\",\n",
    "\"RandomForest\"]})"
   ]
  },
  {
   "cell_type": "code",
   "execution_count": 32,
   "id": "de2a4721",
   "metadata": {
    "execution": {
     "iopub.execute_input": "2022-11-27T19:41:31.894033Z",
     "iopub.status.busy": "2022-11-27T19:41:31.893122Z",
     "iopub.status.idle": "2022-11-27T19:41:32.109419Z",
     "shell.execute_reply": "2022-11-27T19:41:32.108322Z"
    },
    "papermill": {
     "duration": 0.247097,
     "end_time": "2022-11-27T19:41:32.111835",
     "exception": false,
     "start_time": "2022-11-27T19:41:31.864738",
     "status": "completed"
    },
    "tags": []
   },
   "outputs": [
    {
     "data": {
      "image/png": "[encoded data removed]",
      "text/plain": [
       "<Figure size 576x360 with 1 Axes>"
      ]
     },
     "metadata": {
      "needs_background": "light"
     },
     "output_type": "display_data"
    }
   ],
   "source": [
    "plt.figure(figsize = (8,5))\n",
    "g = sns.barplot(\"CrossValMeans\",\"Algorithm\",data = cv_res, palette=\"Set3\",orient = \"h\",**{'xerr':cv_std})\n",
    "g.set_ylabel(\"Algorithm\", fontsize = 12)\n",
    "g.set_xlabel(\"Mean F1-Score\", fontsize = 12)\n",
    "g = g.set_title(\"Cross Validation Scores (k=10)\", fontsize=15)\n",
    "plt.show()"
   ]
  },
  {
   "cell_type": "code",
   "execution_count": 33,
   "id": "883bb33b",
   "metadata": {
    "execution": {
     "iopub.execute_input": "2022-11-27T19:41:32.164680Z",
     "iopub.status.busy": "2022-11-27T19:41:32.164258Z",
     "iopub.status.idle": "2022-11-27T19:41:32.174838Z",
     "shell.execute_reply": "2022-11-27T19:41:32.173822Z"
    },
    "papermill": {
     "duration": 0.040011,
     "end_time": "2022-11-27T19:41:32.177408",
     "exception": false,
     "start_time": "2022-11-27T19:41:32.137397",
     "status": "completed"
    },
    "tags": []
   },
   "outputs": [
    {
     "data": {
      "text/html": [
       "<div>\n",
       "<style scoped>\n",
       "    .dataframe tbody tr th:only-of-type {\n",
       "        vertical-align: middle;\n",
       "    }\n",
       "\n",
       "    .dataframe tbody tr th {\n",
       "        vertical-align: top;\n",
       "    }\n",
       "\n",
       "    .dataframe thead th {\n",
       "        text-align: right;\n",
       "    }\n",
       "</style>\n",
       "<table border=\"1\" class=\"dataframe\">\n",
       "  <thead>\n",
       "    <tr style=\"text-align: right;\">\n",
       "      <th></th>\n",
       "      <th>CrossValMeans</th>\n",
       "      <th>CrossValerrors</th>\n",
       "      <th>Algorithm</th>\n",
       "    </tr>\n",
       "  </thead>\n",
       "  <tbody>\n",
       "    <tr>\n",
       "      <th>0</th>\n",
       "      <td>0.983997</td>\n",
       "      <td>0.024214</td>\n",
       "      <td>KNN</td>\n",
       "    </tr>\n",
       "    <tr>\n",
       "      <th>1</th>\n",
       "      <td>0.986629</td>\n",
       "      <td>0.017814</td>\n",
       "      <td>SVC</td>\n",
       "    </tr>\n",
       "    <tr>\n",
       "      <th>2</th>\n",
       "      <td>0.978734</td>\n",
       "      <td>0.028518</td>\n",
       "      <td>DecisionTree</td>\n",
       "    </tr>\n",
       "    <tr>\n",
       "      <th>3</th>\n",
       "      <td>0.978663</td>\n",
       "      <td>0.015888</td>\n",
       "      <td>GNB</td>\n",
       "    </tr>\n",
       "    <tr>\n",
       "      <th>4</th>\n",
       "      <td>0.981437</td>\n",
       "      <td>0.029118</td>\n",
       "      <td>AdaBoost</td>\n",
       "    </tr>\n",
       "    <tr>\n",
       "      <th>5</th>\n",
       "      <td>0.997297</td>\n",
       "      <td>0.008108</td>\n",
       "      <td>RandomForest</td>\n",
       "    </tr>\n",
       "  </tbody>\n",
       "</table>\n",
       "</div>"
      ],
      "text/plain": [
       "   CrossValMeans  CrossValerrors     Algorithm\n",
       "0       0.983997        0.024214           KNN\n",
       "1       0.986629        0.017814           SVC\n",
       "2       0.978734        0.028518  DecisionTree\n",
       "3       0.978663        0.015888           GNB\n",
       "4       0.981437        0.029118      AdaBoost\n",
       "5       0.997297        0.008108  RandomForest"
      ]
     },
     "execution_count": 33,
     "metadata": {},
     "output_type": "execute_result"
    }
   ],
   "source": [
    "cv_res #After Smote"
   ]
  },
  {
   "cell_type": "code",
   "execution_count": 34,
   "id": "11bb2863",
   "metadata": {
    "execution": {
     "iopub.execute_input": "2022-11-27T19:41:32.229722Z",
     "iopub.status.busy": "2022-11-27T19:41:32.229310Z",
     "iopub.status.idle": "2022-11-27T19:41:32.239397Z",
     "shell.execute_reply": "2022-11-27T19:41:32.238399Z"
    },
    "papermill": {
     "duration": 0.039349,
     "end_time": "2022-11-27T19:41:32.241906",
     "exception": false,
     "start_time": "2022-11-27T19:41:32.202557",
     "status": "completed"
    },
    "tags": []
   },
   "outputs": [
    {
     "data": {
      "text/html": [
       "<div>\n",
       "<style scoped>\n",
       "    .dataframe tbody tr th:only-of-type {\n",
       "        vertical-align: middle;\n",
       "    }\n",
       "\n",
       "    .dataframe tbody tr th {\n",
       "        vertical-align: top;\n",
       "    }\n",
       "\n",
       "    .dataframe thead th {\n",
       "        text-align: right;\n",
       "    }\n",
       "</style>\n",
       "<table border=\"1\" class=\"dataframe\">\n",
       "  <thead>\n",
       "    <tr style=\"text-align: right;\">\n",
       "      <th></th>\n",
       "      <th>CrossValMeans</th>\n",
       "      <th>CrossValerrors</th>\n",
       "      <th>Algorithm</th>\n",
       "    </tr>\n",
       "  </thead>\n",
       "  <tbody>\n",
       "    <tr>\n",
       "      <th>0</th>\n",
       "      <td>0.980000</td>\n",
       "      <td>0.030551</td>\n",
       "      <td>KNN</td>\n",
       "    </tr>\n",
       "    <tr>\n",
       "      <th>1</th>\n",
       "      <td>0.983333</td>\n",
       "      <td>0.022361</td>\n",
       "      <td>SVC</td>\n",
       "    </tr>\n",
       "    <tr>\n",
       "      <th>2</th>\n",
       "      <td>0.983333</td>\n",
       "      <td>0.022361</td>\n",
       "      <td>DecisionTree</td>\n",
       "    </tr>\n",
       "    <tr>\n",
       "      <th>3</th>\n",
       "      <td>0.970000</td>\n",
       "      <td>0.023333</td>\n",
       "      <td>GNB</td>\n",
       "    </tr>\n",
       "    <tr>\n",
       "      <th>4</th>\n",
       "      <td>0.973333</td>\n",
       "      <td>0.038873</td>\n",
       "      <td>AdaBoost</td>\n",
       "    </tr>\n",
       "    <tr>\n",
       "      <th>5</th>\n",
       "      <td>0.993333</td>\n",
       "      <td>0.013333</td>\n",
       "      <td>RandomForest</td>\n",
       "    </tr>\n",
       "  </tbody>\n",
       "</table>\n",
       "</div>"
      ],
      "text/plain": [
       "   CrossValMeans  CrossValerrors     Algorithm\n",
       "0       0.980000        0.030551           KNN\n",
       "1       0.983333        0.022361           SVC\n",
       "2       0.983333        0.022361  DecisionTree\n",
       "3       0.970000        0.023333           GNB\n",
       "4       0.973333        0.038873      AdaBoost\n",
       "5       0.993333        0.013333  RandomForest"
      ]
     },
     "execution_count": 34,
     "metadata": {},
     "output_type": "execute_result"
    }
   ],
   "source": [
    "cv_res_1 #Before Smote"
   ]
  },
  {
   "cell_type": "markdown",
   "id": "416cb969",
   "metadata": {
    "papermill": {
     "duration": 0.02538,
     "end_time": "2022-11-27T19:41:32.292969",
     "exception": false,
     "start_time": "2022-11-27T19:41:32.267589",
     "status": "completed"
    },
    "tags": []
   },
   "source": [
    "# Evaluation:\n",
    "Okay this is interesting, Every model has had a small improvement in accuracy, except for RandomForest. True the variation isn't high but it's still something."
   ]
  },
  {
   "cell_type": "code",
   "execution_count": 35,
   "id": "1f42582d",
   "metadata": {
    "execution": {
     "iopub.execute_input": "2022-11-27T19:41:32.346449Z",
     "iopub.status.busy": "2022-11-27T19:41:32.346073Z",
     "iopub.status.idle": "2022-11-27T19:41:33.262467Z",
     "shell.execute_reply": "2022-11-27T19:41:33.261633Z"
    },
    "papermill": {
     "duration": 0.946049,
     "end_time": "2022-11-27T19:41:33.264937",
     "exception": false,
     "start_time": "2022-11-27T19:41:32.318888",
     "status": "completed"
    },
    "tags": []
   },
   "outputs": [],
   "source": [
    "cv_results = []\n",
    "for classifier in classifiers :\n",
    "    cv_results.append(cross_val_score(classifier, x_train_res, y = y_train_res, scoring = \"f1\", cv = kfold, n_jobs=-1))\n",
    "\n",
    "cv_means = []\n",
    "cv_std = []\n",
    "for cv_result in cv_results:\n",
    "    cv_means.append(cv_result.mean())\n",
    "    cv_std.append(cv_result.std())\n",
    "\n",
    "cv_res = pd.DataFrame({\"CrossValMeans\":cv_means,\"CrossValerrors\": cv_std,\"Algorithm\":[\"KNN\",\"SVC\",\"DecisionTree\",\"GNB\",\"AdaBoost\",\n",
    "\"RandomForest\"]})"
   ]
  },
  {
   "cell_type": "code",
   "execution_count": 36,
   "id": "b5ce2817",
   "metadata": {
    "execution": {
     "iopub.execute_input": "2022-11-27T19:41:33.320239Z",
     "iopub.status.busy": "2022-11-27T19:41:33.319127Z",
     "iopub.status.idle": "2022-11-27T19:41:33.535829Z",
     "shell.execute_reply": "2022-11-27T19:41:33.534748Z"
    },
    "papermill": {
     "duration": 0.246807,
     "end_time": "2022-11-27T19:41:33.538209",
     "exception": false,
     "start_time": "2022-11-27T19:41:33.291402",
     "status": "completed"
    },
    "tags": []
   },
   "outputs": [
    {
     "data": {
      "image/png": "[encoded data removed]",
      "text/plain": [
       "<Figure size 576x360 with 1 Axes>"
      ]
     },
     "metadata": {
      "needs_background": "light"
     },
     "output_type": "display_data"
    }
   ],
   "source": [
    "plt.figure(figsize = (8,5))\n",
    "g = sns.barplot(\"CrossValMeans\",\"Algorithm\",data = cv_res, palette=\"Set3\",orient = \"h\",**{'xerr':cv_std})\n",
    "g.set_ylabel(\"Algorithm\", fontsize = 12)\n",
    "g.set_xlabel(\"Mean F1-Score\", fontsize = 12)\n",
    "g = g.set_title(\"Cross Validation Scores (k=10)\", fontsize=15)\n",
    "plt.show()"
   ]
  },
  {
   "cell_type": "code",
   "execution_count": 37,
   "id": "80f2441e",
   "metadata": {
    "execution": {
     "iopub.execute_input": "2022-11-27T19:41:33.594345Z",
     "iopub.status.busy": "2022-11-27T19:41:33.593909Z",
     "iopub.status.idle": "2022-11-27T19:41:33.605371Z",
     "shell.execute_reply": "2022-11-27T19:41:33.604215Z"
    },
    "papermill": {
     "duration": 0.042598,
     "end_time": "2022-11-27T19:41:33.607790",
     "exception": false,
     "start_time": "2022-11-27T19:41:33.565192",
     "status": "completed"
    },
    "tags": []
   },
   "outputs": [
    {
     "data": {
      "text/html": [
       "<div>\n",
       "<style scoped>\n",
       "    .dataframe tbody tr th:only-of-type {\n",
       "        vertical-align: middle;\n",
       "    }\n",
       "\n",
       "    .dataframe tbody tr th {\n",
       "        vertical-align: top;\n",
       "    }\n",
       "\n",
       "    .dataframe thead th {\n",
       "        text-align: right;\n",
       "    }\n",
       "</style>\n",
       "<table border=\"1\" class=\"dataframe\">\n",
       "  <thead>\n",
       "    <tr style=\"text-align: right;\">\n",
       "      <th></th>\n",
       "      <th>CrossValMeans</th>\n",
       "      <th>CrossValerrors</th>\n",
       "      <th>Algorithm</th>\n",
       "    </tr>\n",
       "  </thead>\n",
       "  <tbody>\n",
       "    <tr>\n",
       "      <th>0</th>\n",
       "      <td>0.984713</td>\n",
       "      <td>0.022662</td>\n",
       "      <td>KNN</td>\n",
       "    </tr>\n",
       "    <tr>\n",
       "      <th>1</th>\n",
       "      <td>0.987030</td>\n",
       "      <td>0.017136</td>\n",
       "      <td>SVC</td>\n",
       "    </tr>\n",
       "    <tr>\n",
       "      <th>2</th>\n",
       "      <td>0.978655</td>\n",
       "      <td>0.035186</td>\n",
       "      <td>DecisionTree</td>\n",
       "    </tr>\n",
       "    <tr>\n",
       "      <th>3</th>\n",
       "      <td>0.979200</td>\n",
       "      <td>0.015288</td>\n",
       "      <td>GNB</td>\n",
       "    </tr>\n",
       "    <tr>\n",
       "      <th>4</th>\n",
       "      <td>0.979657</td>\n",
       "      <td>0.032846</td>\n",
       "      <td>AdaBoost</td>\n",
       "    </tr>\n",
       "    <tr>\n",
       "      <th>5</th>\n",
       "      <td>0.994733</td>\n",
       "      <td>0.010538</td>\n",
       "      <td>RandomForest</td>\n",
       "    </tr>\n",
       "  </tbody>\n",
       "</table>\n",
       "</div>"
      ],
      "text/plain": [
       "   CrossValMeans  CrossValerrors     Algorithm\n",
       "0       0.984713        0.022662           KNN\n",
       "1       0.987030        0.017136           SVC\n",
       "2       0.978655        0.035186  DecisionTree\n",
       "3       0.979200        0.015288           GNB\n",
       "4       0.979657        0.032846      AdaBoost\n",
       "5       0.994733        0.010538  RandomForest"
      ]
     },
     "execution_count": 37,
     "metadata": {},
     "output_type": "execute_result"
    }
   ],
   "source": [
    "cv_res #F1_score after Smote"
   ]
  },
  {
   "cell_type": "markdown",
   "id": "368b2d41",
   "metadata": {
    "papermill": {
     "duration": 0.026392,
     "end_time": "2022-11-27T19:41:33.661890",
     "exception": false,
     "start_time": "2022-11-27T19:41:33.635498",
     "status": "completed"
    },
    "tags": []
   },
   "source": [
    "RandomForest is still outperforming every other model, let's take a look at its classification report."
   ]
  },
  {
   "cell_type": "code",
   "execution_count": 38,
   "id": "68fcf258",
   "metadata": {
    "execution": {
     "iopub.execute_input": "2022-11-27T19:41:33.717917Z",
     "iopub.status.busy": "2022-11-27T19:41:33.717514Z",
     "iopub.status.idle": "2022-11-27T19:41:33.899951Z",
     "shell.execute_reply": "2022-11-27T19:41:33.898590Z"
    },
    "papermill": {
     "duration": 0.21321,
     "end_time": "2022-11-27T19:41:33.902198",
     "exception": false,
     "start_time": "2022-11-27T19:41:33.688988",
     "status": "completed"
    },
    "tags": []
   },
   "outputs": [
    {
     "name": "stdout",
     "output_type": "stream",
     "text": [
      "              precision    recall  f1-score   support\n",
      "\n",
      "           0       0.98      1.00      0.99        63\n",
      "           1       1.00      0.97      0.99        37\n",
      "\n",
      "    accuracy                           0.99       100\n",
      "   macro avg       0.99      0.99      0.99       100\n",
      "weighted avg       0.99      0.99      0.99       100\n",
      "\n"
     ]
    }
   ],
   "source": [
    "# model fit\n",
    "knn = RandomForestClassifier()\n",
    "knn.fit(x_train_res, y_train_res)\n",
    "\n",
    "# prediction\n",
    "preds = knn.predict(x_test)\n",
    "print(classification_report(y_test, preds))"
   ]
  },
  {
   "cell_type": "markdown",
   "id": "52b6bc35",
   "metadata": {
    "papermill": {
     "duration": 0.026342,
     "end_time": "2022-11-27T19:41:33.954894",
     "exception": false,
     "start_time": "2022-11-27T19:41:33.928552",
     "status": "completed"
    },
    "tags": []
   },
   "source": [
    "# Using Stacking Classifier:\n",
    "\n",
    "Stacking Classifier uses estimators, as in models, and stacks each and every output and uses a final estimator to compute the results! \n",
    "Source: https://scikit-learn.org/stable/modules/generated/sklearn.ensemble.StackingClassifier.html"
   ]
  },
  {
   "cell_type": "code",
   "execution_count": 39,
   "id": "fe3cef6e",
   "metadata": {
    "execution": {
     "iopub.execute_input": "2022-11-27T19:41:34.009247Z",
     "iopub.status.busy": "2022-11-27T19:41:34.008443Z",
     "iopub.status.idle": "2022-11-27T19:41:34.014113Z",
     "shell.execute_reply": "2022-11-27T19:41:34.012998Z"
    },
    "papermill": {
     "duration": 0.035343,
     "end_time": "2022-11-27T19:41:34.016396",
     "exception": false,
     "start_time": "2022-11-27T19:41:33.981053",
     "status": "completed"
    },
    "tags": []
   },
   "outputs": [],
   "source": [
    "from sklearn.ensemble import StackingClassifier, VotingClassifier\n",
    "svm = SVC(gamma=1, C=1000)\n",
    "adab = AdaBoostClassifier()\n",
    "rf = RandomForestClassifier()"
   ]
  },
  {
   "cell_type": "code",
   "execution_count": 40,
   "id": "2e8a89fc",
   "metadata": {
    "execution": {
     "iopub.execute_input": "2022-11-27T19:41:34.070081Z",
     "iopub.status.busy": "2022-11-27T19:41:34.069671Z",
     "iopub.status.idle": "2022-11-27T19:41:35.456849Z",
     "shell.execute_reply": "2022-11-27T19:41:35.455804Z"
    },
    "papermill": {
     "duration": 1.41697,
     "end_time": "2022-11-27T19:41:35.459453",
     "exception": false,
     "start_time": "2022-11-27T19:41:34.042483",
     "status": "completed"
    },
    "tags": []
   },
   "outputs": [
    {
     "data": {
      "text/plain": [
       "StackingClassifier(estimators=[('svm', SVC(C=1000, gamma=1)),\n",
       "                               ('rf', RandomForestClassifier()),\n",
       "                               ('adab', AdaBoostClassifier())],\n",
       "                   final_estimator=SVC(), n_jobs=-1, passthrough=True)"
      ]
     },
     "execution_count": 40,
     "metadata": {},
     "output_type": "execute_result"
    }
   ],
   "source": [
    "stackf = StackingClassifier(estimators = [('svm', svm), ('rf', rf), ('adab', adab)], final_estimator=SVC(), n_jobs=-1,\n",
    "                           passthrough=True)\n",
    "stackf.fit(x_train_res, y_train_res)"
   ]
  },
  {
   "cell_type": "code",
   "execution_count": 41,
   "id": "ffbe6775",
   "metadata": {
    "execution": {
     "iopub.execute_input": "2022-11-27T19:41:35.515633Z",
     "iopub.status.busy": "2022-11-27T19:41:35.515248Z",
     "iopub.status.idle": "2022-11-27T19:41:36.011427Z",
     "shell.execute_reply": "2022-11-27T19:41:36.010153Z"
    },
    "papermill": {
     "duration": 0.52744,
     "end_time": "2022-11-27T19:41:36.013953",
     "exception": false,
     "start_time": "2022-11-27T19:41:35.486513",
     "status": "completed"
    },
    "tags": []
   },
   "outputs": [
    {
     "name": "stdout",
     "output_type": "stream",
     "text": [
      "              precision    recall  f1-score   support\n",
      "\n",
      "           0       1.00      1.00      1.00        63\n",
      "           1       1.00      1.00      1.00        37\n",
      "\n",
      "    accuracy                           1.00       100\n",
      "   macro avg       1.00      1.00      1.00       100\n",
      "weighted avg       1.00      1.00      1.00       100\n",
      "\n",
      "----------------- Overall Results -----------------\n",
      "Accuracy Result: 100.00%\n",
      "Precision Result: 100.00%\n",
      "Recall Result: 100.00%\n",
      "F1-Score Result: 100.00%\n"
     ]
    },
    {
     "data": {
      "image/png": "[encoded data removed]",
      "text/plain": [
       "<Figure size 720x360 with 1 Axes>"
      ]
     },
     "metadata": {
      "needs_background": "light"
     },
     "output_type": "display_data"
    },
    {
     "data": {
      "image/png": "[encoded data removed]",
      "text/plain": [
       "<Figure size 720x360 with 1 Axes>"
      ]
     },
     "metadata": {
      "needs_background": "light"
     },
     "output_type": "display_data"
    },
    {
     "data": {
      "image/png": "[encoded data removed]",
      "text/plain": [
       "<Figure size 720x360 with 1 Axes>"
      ]
     },
     "metadata": {
      "needs_background": "light"
     },
     "output_type": "display_data"
    }
   ],
   "source": [
    "preds = stackf.predict(x_test)\n",
    "print(classification_report(y_test, preds))\n",
    "\n",
    "acc = accuracy_score(y_test, preds)\n",
    "results_all = precision_recall_fscore_support(y_test, preds, average='macro', zero_division=1)\n",
    "results_class = precision_recall_fscore_support(y_test, preds, average=None, zero_division=1)\n",
    "metric_columns = ['Precision','Recall', 'F1-Score','S']\n",
    "all_df = pd.concat([pd.DataFrame(list(results_class)).T,pd.DataFrame(list(results_all)).T])\n",
    "all_df.columns = metric_columns\n",
    "all_df.index = classes+['Total']\n",
    "\n",
    "def metrics_plot(df,metric):\n",
    "    plt.figure(figsize=(10, 5))\n",
    "    ax = sns.barplot(data=df, x=df.index, y=metric, palette = \"Blues_d\")\n",
    "    # Bar Labels\n",
    "    for p in ax.patches:\n",
    "        ax.annotate(\"%.1f%%\" % (100*p.get_height()), (p.get_x() + p.get_width() / 2., abs(p.get_height())),\n",
    "        ha='center', va='bottom', color='black', xytext=(-3, 5),rotation = 'horizontal',textcoords='offset points')\n",
    "    sns.despine(top=True, right=True, left=True, bottom=False)\n",
    "    ax.set_xlabel('Class',fontsize = 14)\n",
    "    ax.set_ylabel(metric,fontsize = 14)\n",
    "    ax.set(yticklabels=[])\n",
    "    ax.axes.get_yaxis().set_visible(False) \n",
    "    plt.title(metric+ ' Results per Class', fontsize = 14);\n",
    "\n",
    "metrics_plot(all_df, 'Precision')       # Results by Class\n",
    "metrics_plot(all_df, 'Recall')          # Results by Class\n",
    "metrics_plot(all_df, 'F1-Score')         # Results by Class\n",
    "print('----------------- Overall Results -----------------')\n",
    "print('Accuracy Result: %.2f%%'%(acc*100))                   # Accuracy of the whole Dataset\n",
    "print('Precision Result: %.2f%%'%(all_df.iloc[2,0]*100))     # Precision of the whole Dataset\n",
    "print('Recall Result: %.2f%%'%(all_df.iloc[2,1]*100))        # Recall of the whole Dataset\n",
    "print('F1-Score Result: %.2f%%'%(all_df.iloc[2,2]*100))      # F1-Score of the whole Dataset"
   ]
  },
  {
   "cell_type": "code",
   "execution_count": 42,
   "id": "b4ab6bcc",
   "metadata": {
    "execution": {
     "iopub.execute_input": "2022-11-27T19:41:36.070409Z",
     "iopub.status.busy": "2022-11-27T19:41:36.069998Z",
     "iopub.status.idle": "2022-11-27T19:41:36.397729Z",
     "shell.execute_reply": "2022-11-27T19:41:36.396633Z"
    },
    "papermill": {
     "duration": 0.358742,
     "end_time": "2022-11-27T19:41:36.400119",
     "exception": false,
     "start_time": "2022-11-27T19:41:36.041377",
     "status": "completed"
    },
    "tags": []
   },
   "outputs": [
    {
     "data": {
      "image/png": "[encoded data removed]",
      "text/plain": [
       "<Figure size 720x432 with 2 Axes>"
      ]
     },
     "metadata": {
      "needs_background": "light"
     },
     "output_type": "display_data"
    }
   ],
   "source": [
    "from sklearn.metrics import confusion_matrix\n",
    "\n",
    "CMatrix = pd.DataFrame(confusion_matrix(y_test, preds), columns = classes, index = classes)\n",
    "\n",
    "plt.figure(figsize=(10, 6))\n",
    "ax = sns.heatmap(CMatrix, annot = True, fmt = 'g' ,vmin = 0, vmax = 250,cmap = 'Blues', annot_kws={\"size\": 14})\n",
    "ax.set_xlabel('Predicted',fontsize = 16,weight = 'bold')\n",
    "ax.set_xticklabels(ax.get_xticklabels(),rotation = 0, fontsize=14);\n",
    "ax.set_ylabel('Actual',fontsize = 16,weight = 'bold') \n",
    "ax.set_yticklabels(ax.get_yticklabels(),rotation = 0, fontsize=14);\n",
    "ax.set_title('Confusion Matrix - Test Set', fontsize = 20, weight = 'bold', pad=16);\n",
    "plt.savefig(\"confusion_matrix.png\")"
   ]
  },
  {
   "cell_type": "markdown",
   "id": "407cb87f",
   "metadata": {
    "papermill": {
     "duration": 0.027564,
     "end_time": "2022-11-27T19:41:36.455574",
     "exception": false,
     "start_time": "2022-11-27T19:41:36.428010",
     "status": "completed"
    },
    "tags": []
   },
   "source": [
    "# This is interesting and borderline scary to be honest\n",
    "\n",
    "I've checked out so many notebooks and it's quite simple to get 100% on a lot of models. I don't know if the dataset was made to be this accurate or if it's a case of overfitting"
   ]
  }
 ],
 "metadata": {
  "kernelspec": {
   "display_name": "Python 3",
   "language": "python",
   "name": "python3"
  },
  "language_info": {
   "codemirror_mode": {
    "name": "ipython",
    "version": 3
   },
   "file_extension": ".py",
   "mimetype": "text/x-python",
   "name": "python",
   "nbconvert_exporter": "python",
   "pygments_lexer": "ipython3",
   "version": "3.7.12"
  },
  "papermill": {
   "default_parameters": {},
   "duration": 31.591554,
   "end_time": "2022-11-27T19:41:39.103878",
   "environment_variables": {},
   "exception": null,
   "input_path": "__notebook__.ipynb",
   "output_path": "__notebook__.ipynb",
   "parameters": {},
   "start_time": "2022-11-27T19:41:07.512324",
   "version": "2.3.4"
  }
 },
 "nbformat": 4,
 "nbformat_minor": 5
}
